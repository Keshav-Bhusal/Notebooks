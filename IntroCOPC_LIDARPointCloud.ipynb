{
  "nbformat": 4,
  "nbformat_minor": 0,
  "metadata": {
    "colab": {
      "name": "IntroCOPC_LIDARPointCloud.ipynb",
      "provenance": [],
      "collapsed_sections": [],
      "authorship_tag": "ABX9TyO5Ac1LYZEhVCsrbwGhf0Pt",
      "include_colab_link": true
    },
    "kernelspec": {
      "name": "python3",
      "display_name": "Python 3"
    },
    "language_info": {
      "name": "python"
    }
  },
  "cells": [
    {
      "cell_type": "markdown",
      "metadata": {
        "id": "view-in-github",
        "colab_type": "text"
      },
      "source": [
        "<a href=\"https://colab.research.google.com/github/clizarraga-UAD7/Notebooks/blob/main/IntroCOPC_LIDARPointCloud.ipynb\" target=\"_parent\"><img src=\"https://colab.research.google.com/assets/colab-badge.svg\" alt=\"Open In Colab\"/></a>"
      ]
    },
    {
      "cell_type": "markdown",
      "source": [
        "## Introduction to COPC Data \n",
        "\n",
        "The [USGS](https://www.usgs.gov/products/data) is now offering a [3DEP](https://www.usgs.gov/3d-elevation-program) (3D Elevation Program) [Lidar Point Cloud COPC](https://planetarycomputer.microsoft.com/dataset/3dep-lidar-copc#overview) Data ([Cloud Optimized Point Cloud](https://lidarmag.com/2021/12/27/cloud-native-geospatial-lidar-with-the-cloud-optimized-point-cloud/)).\n",
        "\n",
        "COPC - Cloud Optimized Point Cloud data files allow applications to select data for a window or a resolution, and allow them to limit how much data they must fetch, decompress, and process.\n",
        "\n",
        "[COPC](https://copc.io/) files are compressed with the [LASzip algorithm](https://rapidlasso.de/laszip/) and stored as a [clustered octree](https://en.wikipedia.org/wiki/Octree) data sctructure.\n",
        "\n",
        "To work with COPC data we need to install the following additional Python Libraries:\n",
        "* [`PDAL`](https://pdal.io/en/latest/about.html),  The _Point Data Abstraction Library_ allows to translating and processing Point Cloud data. PDAL is not limited to [LIDAR](https://en.wikipedia.org/wiki/Lidar) Data. PDAL supports reading and writing COPC with [`readers.copc`](https://pdal.io/stages/readers.copc.html) and [`writers.copc`](https://pdal.io/en/latest/stages/writers.copc.html).\n",
        "* [`PDAL-Python`](https://github.com/PDAL/python/). PDAL Python will help construct [PDAL pipelines](https://pdal.io/en/latest/pipeline.html).\n",
        "* [`pystac_client`](https://pystac-client.readthedocs.io/en/stable/). Python package for working with [STAC Catalogs](https://www.stacindex.org/catalogs)\n",
        "* [`planetary_computer`](https://planetarycomputer.microsoft.com). The Microsoft Planetary Computer Library API. \n",
        "* [`PIL`](https://pypi.org/project/Pillow/). Python Image Libary (Pillow).\n",
        "* [`pyproj`](https://pypi.org/project/pyproj/). Python interface to [`PROJ`](https://proj.org/) (cartographic projections and coordinate transformations library).\n",
        "* [shapely](https://pypi.org/project/shapely/). Manipulation and analysis of geometrical objects in the cartesian plane.\n",
        "* [geopandas](https://pypi.org/project/geopandas/). Adds geographical data support to the [Pandas](https://pandas.pydata.org) data analysis library.\n",
        "* [mapclassify](https://pypi.org/project/mapclassify/). Maps classification support. \n"
      ],
      "metadata": {
        "id": "2e_ddLbFoMax"
      }
    },
    {
      "cell_type": "markdown",
      "source": [
        "We install all the required libraries not included in Google Colab base libraries.\n"
      ],
      "metadata": {
        "id": "j51eVG-6Tf7H"
      }
    },
    {
      "cell_type": "code",
      "source": [
        ""
      ],
      "metadata": {
        "id": "4euRvofpEC4A"
      },
      "execution_count": null,
      "outputs": []
    },
    {
      "cell_type": "code",
      "source": [
        "# Install pystac_client\n",
        "!pip install pystac_client --quiet"
      ],
      "metadata": {
        "colab": {
          "base_uri": "https://localhost:8080/"
        },
        "id": "rdZVi0tE__eE",
        "outputId": "c27f680f-fac7-4a42-9c68-461693a226a6"
      },
      "execution_count": null,
      "outputs": [
        {
          "output_type": "stream",
          "name": "stdout",
          "text": [
            "\u001b[K     |████████████████████████████████| 146 kB 6.9 MB/s \n",
            "\u001b[K     |████████████████████████████████| 62 kB 558 kB/s \n",
            "\u001b[?25h"
          ]
        }
      ]
    },
    {
      "cell_type": "code",
      "source": [
        "# Install planetary_computer\n",
        "!pip install planetary_computer --quiet\n"
      ],
      "metadata": {
        "id": "QDHm-VmYVKtV"
      },
      "execution_count": null,
      "outputs": []
    },
    {
      "cell_type": "code",
      "source": [
        "# Install Python Image Library manipulation\n",
        "!pip install pillow --quiet\n"
      ],
      "metadata": {
        "id": "4EvkcGlQVKzP"
      },
      "execution_count": null,
      "outputs": []
    },
    {
      "cell_type": "code",
      "source": [
        "# Install pyproj\n",
        "!pip install pyproj --quiet\n"
      ],
      "metadata": {
        "colab": {
          "base_uri": "https://localhost:8080/"
        },
        "id": "VoritOg0VK4c",
        "outputId": "2ad09a33-2b92-459f-b870-b573db916bd6"
      },
      "execution_count": null,
      "outputs": [
        {
          "output_type": "stream",
          "name": "stdout",
          "text": [
            "\u001b[K     |████████████████████████████████| 6.3 MB 5.1 MB/s \n",
            "\u001b[?25h"
          ]
        }
      ]
    },
    {
      "cell_type": "code",
      "source": [
        "# Install Shapely\n",
        "!pip install shapely --quiet\n"
      ],
      "metadata": {
        "id": "yRpp3yUY__n5"
      },
      "execution_count": null,
      "outputs": []
    },
    {
      "cell_type": "code",
      "source": [
        "# Install Geopandas\n",
        "!pip install geopandas --quiet\n"
      ],
      "metadata": {
        "colab": {
          "base_uri": "https://localhost:8080/"
        },
        "id": "e9ypj7NqV8oB",
        "outputId": "24f6804a-c8b2-4bf8-8764-bda5f709a53a"
      },
      "execution_count": null,
      "outputs": [
        {
          "output_type": "stream",
          "name": "stdout",
          "text": [
            "\u001b[K     |████████████████████████████████| 1.0 MB 5.2 MB/s \n",
            "\u001b[K     |████████████████████████████████| 16.7 MB 333 kB/s \n",
            "\u001b[?25h"
          ]
        }
      ]
    },
    {
      "cell_type": "code",
      "source": [
        "# Installl mapclassify\n",
        "!pip install mapclassify --quiet\n"
      ],
      "metadata": {
        "id": "Nt9snVrvJJ88"
      },
      "execution_count": null,
      "outputs": []
    },
    {
      "cell_type": "code",
      "source": [
        "# Import the required libraries\n",
        "#import pdal\n",
        "import pystac_client\n",
        "import planetary_computer\n",
        "import PIL\n",
        "import pyproj\n",
        "\n",
        "import folium\n",
        "import matplotlib\n",
        "import mapclassify \n"
      ],
      "metadata": {
        "id": "SnKdhisIVe0V"
      },
      "execution_count": null,
      "outputs": []
    },
    {
      "cell_type": "markdown",
      "source": [
        "Next function estimates the UTM zone of a point using PyPROJ methods."
      ],
      "metadata": {
        "id": "hgG2mJ-YG_N4"
      }
    },
    {
      "cell_type": "code",
      "source": [
        "# Estimate our UTM zone\n",
        "from pyproj import CRS\n",
        "from pyproj.aoi import AreaOfInterest\n",
        "from pyproj.database import query_utm_crs_info\n",
        "\n",
        "\n",
        "def get_utm(point):\n",
        "    longitude, latitude = point.x, point.y\n",
        "    buffer = 0.001\n",
        "    utm_crs_list = query_utm_crs_info(\n",
        "        datum_name=\"WGS 84\",\n",
        "        area_of_interest=AreaOfInterest(\n",
        "            west_lon_degree=longitude - buffer,\n",
        "            south_lat_degree=latitude - buffer,\n",
        "            east_lon_degree=longitude + buffer,\n",
        "            north_lat_degree=latitude + buffer,\n",
        "        ),\n",
        "    )\n",
        "    utm_crs = CRS.from_epsg(utm_crs_list[0].code)\n",
        "    return utm_crs\n"
      ],
      "metadata": {
        "id": "i2maRinvbe3t"
      },
      "execution_count": null,
      "outputs": []
    },
    {
      "cell_type": "markdown",
      "source": [
        "Next, select a point in a map where to query. A GeoJSON point geometry is is defined by the `bean` variable, with a 400 m buffer. After this, we need to reproject back to EPSG:4326 coordinates so we can query the STAC API and finally plot to see what we will do."
      ],
      "metadata": {
        "id": "Kk1YRpDqSvkd"
      }
    },
    {
      "cell_type": "code",
      "source": [
        "# Prescott AZ map (Select other LONG,LAT coordinates)\n",
        "bean = {\"type\": \"Point\", \"coordinates\": [-112.468611, 34.54]}\n",
        "\n",
        "from shapely.geometry import shape\n",
        "from shapely.ops import transform\n",
        "\n",
        "geom = shape(bean)\n",
        "\n",
        "utm = get_utm(geom)\n",
        "\n",
        "wgs84 = pyproj.CRS(\"EPSG:4326\") # World Geodetic System 84, same as used by the GPS. \n",
        "\n",
        "project_dd_to_utm = pyproj.Transformer.from_crs(wgs84, utm, always_xy=True).transform\n",
        "project_utm_to_dd = pyproj.Transformer.from_crs(utm, wgs84, always_xy=True).transform\n",
        "\n",
        "utm_point = transform(project_dd_to_utm, geom)\n",
        "window = utm_point.buffer(400)\n",
        "\n",
        "window_dd = transform(project_utm_to_dd, window)\n",
        "\n",
        "import geopandas\n",
        "\n",
        "df = geopandas.GeoDataFrame(geometry=[window_dd], crs=\"EPSG:4326\")\n",
        "\n",
        "df.explore()\n"
      ],
      "metadata": {
        "colab": {
          "base_uri": "https://localhost:8080/",
          "height": 784
        },
        "id": "15N0GGbGHIJg",
        "outputId": "41f104f3-c636-4699-e396-74cbe771f367"
      },
      "execution_count": null,
      "outputs": [
        {
          "output_type": "execute_result",
          "data": {
            "text/plain": [
              "<folium.folium.Map at 0x7f2e8d114ad0>"
            ],
            "text/html": [
              "<div style=\"width:100%;\"><div style=\"position:relative;width:100%;height:0;padding-bottom:60%;\"><span style=\"color:#565656\">Make this Notebook Trusted to load map: File -> Trust Notebook</span><iframe srcdoc=\"&lt;!DOCTYPE html&gt;\n",
              "&lt;head&gt;    \n",
              "    &lt;meta http-equiv=&quot;content-type&quot; content=&quot;text/html; charset=UTF-8&quot; /&gt;\n",
              "    \n",
              "        &lt;script&gt;\n",
              "            L_NO_TOUCH = false;\n",
              "            L_DISABLE_3D = false;\n",
              "        &lt;/script&gt;\n",
              "    \n",
              "    &lt;style&gt;html, body {width: 100%;height: 100%;margin: 0;padding: 0;}&lt;/style&gt;\n",
              "    &lt;style&gt;#map {position:absolute;top:0;bottom:0;right:0;left:0;}&lt;/style&gt;\n",
              "    &lt;script src=&quot;https://cdn.jsdelivr.net/npm/leaflet@1.6.0/dist/leaflet.js&quot;&gt;&lt;/script&gt;\n",
              "    &lt;script src=&quot;https://code.jquery.com/jquery-1.12.4.min.js&quot;&gt;&lt;/script&gt;\n",
              "    &lt;script src=&quot;https://maxcdn.bootstrapcdn.com/bootstrap/3.2.0/js/bootstrap.min.js&quot;&gt;&lt;/script&gt;\n",
              "    &lt;script src=&quot;https://cdnjs.cloudflare.com/ajax/libs/Leaflet.awesome-markers/2.0.2/leaflet.awesome-markers.js&quot;&gt;&lt;/script&gt;\n",
              "    &lt;link rel=&quot;stylesheet&quot; href=&quot;https://cdn.jsdelivr.net/npm/leaflet@1.6.0/dist/leaflet.css&quot;/&gt;\n",
              "    &lt;link rel=&quot;stylesheet&quot; href=&quot;https://maxcdn.bootstrapcdn.com/bootstrap/3.2.0/css/bootstrap.min.css&quot;/&gt;\n",
              "    &lt;link rel=&quot;stylesheet&quot; href=&quot;https://maxcdn.bootstrapcdn.com/bootstrap/3.2.0/css/bootstrap-theme.min.css&quot;/&gt;\n",
              "    &lt;link rel=&quot;stylesheet&quot; href=&quot;https://maxcdn.bootstrapcdn.com/font-awesome/4.6.3/css/font-awesome.min.css&quot;/&gt;\n",
              "    &lt;link rel=&quot;stylesheet&quot; href=&quot;https://cdnjs.cloudflare.com/ajax/libs/Leaflet.awesome-markers/2.0.2/leaflet.awesome-markers.css&quot;/&gt;\n",
              "    &lt;link rel=&quot;stylesheet&quot; href=&quot;https://cdn.jsdelivr.net/gh/python-visualization/folium/folium/templates/leaflet.awesome.rotate.min.css&quot;/&gt;\n",
              "    \n",
              "            &lt;meta name=&quot;viewport&quot; content=&quot;width=device-width,\n",
              "                initial-scale=1.0, maximum-scale=1.0, user-scalable=no&quot; /&gt;\n",
              "            &lt;style&gt;\n",
              "                #map_55b0ea09619b6e364ff7c9960ad45038 {\n",
              "                    position: relative;\n",
              "                    width: 100.0%;\n",
              "                    height: 100.0%;\n",
              "                    left: 0.0%;\n",
              "                    top: 0.0%;\n",
              "                }\n",
              "            &lt;/style&gt;\n",
              "        \n",
              "    \n",
              "                    &lt;style&gt;\n",
              "                        .foliumtooltip {\n",
              "                            \n",
              "                        }\n",
              "                       .foliumtooltip table{\n",
              "                            margin: auto;\n",
              "                        }\n",
              "                        .foliumtooltip tr{\n",
              "                            text-align: left;\n",
              "                        }\n",
              "                        .foliumtooltip th{\n",
              "                            padding: 2px; padding-right: 8px;\n",
              "                        }\n",
              "                    &lt;/style&gt;\n",
              "            \n",
              "&lt;/head&gt;\n",
              "&lt;body&gt;    \n",
              "    \n",
              "            &lt;div class=&quot;folium-map&quot; id=&quot;map_55b0ea09619b6e364ff7c9960ad45038&quot; &gt;&lt;/div&gt;\n",
              "        \n",
              "&lt;/body&gt;\n",
              "&lt;script&gt;    \n",
              "    \n",
              "            var map_55b0ea09619b6e364ff7c9960ad45038 = L.map(\n",
              "                &quot;map_55b0ea09619b6e364ff7c9960ad45038&quot;,\n",
              "                {\n",
              "                    center: [34.53999999888238, -112.46861099437223],\n",
              "                    crs: L.CRS.EPSG3857,\n",
              "                    zoom: 10,\n",
              "                    zoomControl: true,\n",
              "                    preferCanvas: false,\n",
              "                }\n",
              "            );\n",
              "            L.control.scale().addTo(map_55b0ea09619b6e364ff7c9960ad45038);\n",
              "\n",
              "            \n",
              "\n",
              "        \n",
              "    \n",
              "            var tile_layer_bf903e854f4c08c1252e85940632ff29 = L.tileLayer(\n",
              "                &quot;https://{s}.tile.openstreetmap.org/{z}/{x}/{y}.png&quot;,\n",
              "                {&quot;attribution&quot;: &quot;Data by \\u0026copy; \\u003ca href=\\&quot;http://openstreetmap.org\\&quot;\\u003eOpenStreetMap\\u003c/a\\u003e, under \\u003ca href=\\&quot;http://www.openstreetmap.org/copyright\\&quot;\\u003eODbL\\u003c/a\\u003e.&quot;, &quot;detectRetina&quot;: false, &quot;maxNativeZoom&quot;: 18, &quot;maxZoom&quot;: 18, &quot;minZoom&quot;: 0, &quot;noWrap&quot;: false, &quot;opacity&quot;: 1, &quot;subdomains&quot;: &quot;abc&quot;, &quot;tms&quot;: false}\n",
              "            ).addTo(map_55b0ea09619b6e364ff7c9960ad45038);\n",
              "        \n",
              "    \n",
              "            map_55b0ea09619b6e364ff7c9960ad45038.fitBounds(\n",
              "                [[34.53639393776506, -112.47296878556895], [34.54360605999969, -112.46425320317552]],\n",
              "                {}\n",
              "            );\n",
              "        \n",
              "    \n",
              "        function geo_json_a013df46136a5240d17c0f1eb49eebe6_styler(feature) {\n",
              "            switch(feature.id) {\n",
              "                default:\n",
              "                    return {&quot;fillOpacity&quot;: 0.5, &quot;weight&quot;: 2};\n",
              "            }\n",
              "        }\n",
              "        function geo_json_a013df46136a5240d17c0f1eb49eebe6_highlighter(feature) {\n",
              "            switch(feature.id) {\n",
              "                default:\n",
              "                    return {&quot;fillOpacity&quot;: 0.75};\n",
              "            }\n",
              "        }\n",
              "        function geo_json_a013df46136a5240d17c0f1eb49eebe6_pointToLayer(feature, latlng) {\n",
              "            var opts = {&quot;bubblingMouseEvents&quot;: true, &quot;color&quot;: &quot;#3388ff&quot;, &quot;dashArray&quot;: null, &quot;dashOffset&quot;: null, &quot;fill&quot;: true, &quot;fillColor&quot;: &quot;#3388ff&quot;, &quot;fillOpacity&quot;: 0.2, &quot;fillRule&quot;: &quot;evenodd&quot;, &quot;lineCap&quot;: &quot;round&quot;, &quot;lineJoin&quot;: &quot;round&quot;, &quot;opacity&quot;: 1.0, &quot;radius&quot;: 2, &quot;stroke&quot;: true, &quot;weight&quot;: 3};\n",
              "            \n",
              "            let style = geo_json_a013df46136a5240d17c0f1eb49eebe6_styler(feature)\n",
              "            Object.assign(opts, style)\n",
              "            \n",
              "            return new L.CircleMarker(latlng, opts)\n",
              "        }\n",
              "\n",
              "        function geo_json_a013df46136a5240d17c0f1eb49eebe6_onEachFeature(feature, layer) {\n",
              "            layer.on({\n",
              "                mouseout: function(e) {\n",
              "                    if(typeof e.target.setStyle === &quot;function&quot;){\n",
              "                        geo_json_a013df46136a5240d17c0f1eb49eebe6.resetStyle(e.target);\n",
              "                    }\n",
              "                },\n",
              "                mouseover: function(e) {\n",
              "                    if(typeof e.target.setStyle === &quot;function&quot;){\n",
              "                        const highlightStyle = geo_json_a013df46136a5240d17c0f1eb49eebe6_highlighter(e.target.feature)\n",
              "                        e.target.setStyle(highlightStyle);\n",
              "                    }\n",
              "                },\n",
              "            });\n",
              "        };\n",
              "        var geo_json_a013df46136a5240d17c0f1eb49eebe6 = L.geoJson(null, {\n",
              "                onEachFeature: geo_json_a013df46136a5240d17c0f1eb49eebe6_onEachFeature,\n",
              "            \n",
              "                style: geo_json_a013df46136a5240d17c0f1eb49eebe6_styler,\n",
              "                pointToLayer: geo_json_a013df46136a5240d17c0f1eb49eebe6_pointToLayer\n",
              "        });\n",
              "\n",
              "        function geo_json_a013df46136a5240d17c0f1eb49eebe6_add (data) {\n",
              "            geo_json_a013df46136a5240d17c0f1eb49eebe6\n",
              "                .addData(data)\n",
              "                .addTo(map_55b0ea09619b6e364ff7c9960ad45038);\n",
              "        }\n",
              "            geo_json_a013df46136a5240d17c0f1eb49eebe6_add({&quot;bbox&quot;: [-112.47296878556895, 34.53639393776506, -112.46425320317552, 34.54360605999969], &quot;features&quot;: [{&quot;bbox&quot;: [-112.47296878556895, 34.53639393776506, -112.46425320317552, 34.54360605999969], &quot;geometry&quot;: {&quot;coordinates&quot;: [[[-112.46425320317552, 34.54005234047966], [-112.46426799661835, 34.53969863232508], [-112.46432461518883, 34.53934782722782], [-112.46442251310275, 34.539003303588906], [-112.46456074706724, 34.53866837927481], [-112.4647379853838, 34.538346279667884], [-112.46495252078985, 34.538040106608825], [-112.46520228691435, 34.53775280853024], [-112.46548487818879, 34.5374871520685], [-112.46579757302126, 34.537245695427366], [-112.46613736001001, 34.5370307637492], [-112.46650096694411, 34.536844426730916], [-112.46688489231192, 34.536688478699894], [-112.46728543901399, 34.536564421341275], [-112.46769874995618, 34.53647344924277], [-112.46812084518066, 34.53641643839607], [-112.4685476601776, 34.53639393776506], [-112.46897508500963, 34.536406164002216], [-112.46939900387247, 34.536452999363654], [-112.46981533471217, 34.53653399284302], [-112.47022006851753, 34.53664836451323], [-112.47060930791065, 34.53679501303441], [-112.47097930466421, 34.53697252625562], [-112.4713264957851, 34.537179194808786], [-112.4716475378174, 34.53741302856391], [-112.47193933903448, 34.53767177578725], [-112.47219908921083, 34.537952944818734], [-112.47242428668692, 34.53825382805952], [-112.47261276246617, 34.53857152803954], [-112.4727627011122, 34.538902985314074], [-112.47287265824436, 34.53924500792089], [-112.4729415744629, 34.53959430211475], [-112.47296878556895, 34.53994750408343], [-112.47295402898027, 34.54030121233987], [-112.47289744628016, 34.54065202047878], [-112.47279958187441, 34.54099654998229], [-112.47266137776818, 34.541331482758515], [-112.4724841645125, 34.54165359309994], [-112.47226964840692, 34.54195977875332], [-112.47201989508076, 34.54224709080208], [-112.47173730961067, 34.54251276207295], [-112.47142461336554, 34.54275423379311], [-112.47108481780138, 34.54296918024069], [-112.47072119545868, 34.54315553115119], [-112.4703372484412, 34.54331149166335], [-112.46993667468043, 34.54343555961243], [-112.46952333231029, 34.543526540003704], [-112.46910120249643, 34.5435835565268], [-112.4686743510779, 34.54360605999969], [-112.46824688939175, 34.54359383366067], [-112.4678229346585, 34.54354699525757], [-112.46740657031064, 34.54346599591362], [-112.467001806647, 34.543351615781255], [-112.466612542193, 34.54320495652561], [-112.46624252613898, 34.54302743071007], [-112.46589532221975, 34.54282074818673], [-112.46557427438309, 34.54258689962247], [-112.4652824745787, 34.5423281373201], [-112.46502273297776, 34.54204695351922], [-112.46479755091028, 34.54174605638621], [-112.46460909678068, 34.54142834392503], [-112.46445918519336, 34.54109687606005], [-112.46434925948913, 34.54075484516048], [-112.46428037785998, 34.54040554529022], [-112.46425320317552, 34.54005234047966]]], &quot;type&quot;: &quot;Polygon&quot;}, &quot;id&quot;: &quot;0&quot;, &quot;properties&quot;: {}, &quot;type&quot;: &quot;Feature&quot;}], &quot;type&quot;: &quot;FeatureCollection&quot;});\n",
              "\n",
              "        \n",
              "    \n",
              "    geo_json_a013df46136a5240d17c0f1eb49eebe6.bindTooltip(\n",
              "    function(layer){\n",
              "    let div = L.DomUtil.create(&#x27;div&#x27;);\n",
              "    \n",
              "    return div\n",
              "    }\n",
              "    ,{&quot;className&quot;: &quot;foliumtooltip&quot;, &quot;sticky&quot;: true});\n",
              "                     \n",
              "&lt;/script&gt;\" style=\"position:absolute;width:100%;height:100%;left:0;top:0;border:none !important;\" allowfullscreen webkitallowfullscreen mozallowfullscreen></iframe></div></div>"
            ]
          },
          "metadata": {},
          "execution_count": 12
        }
      ]
    },
    {
      "cell_type": "markdown",
      "source": [
        "**Query the Planetary Computer STAC API.** \n",
        "\n",
        "Query the STAC API for the `3dep-lidar-copc` collections that intersects with the University of Arizona polygon shown above. "
      ],
      "metadata": {
        "id": "NdIQTCAhJjKF"
      }
    },
    {
      "cell_type": "code",
      "source": [
        "catalog = pystac_client.Client.open(\n",
        "    \"https://planetarycomputer.microsoft.com/api/stac/v1\"\n",
        ")\n",
        "\n",
        "search = catalog.search(collections=[\"3dep-lidar-copc\"], intersects=window_dd)\n",
        "ic = search.get_all_items()\n"
      ],
      "metadata": {
        "id": "yA6tccKmIcen"
      },
      "execution_count": null,
      "outputs": []
    },
    {
      "cell_type": "code",
      "source": [
        "signed = planetary_computer.sign(ic)\n"
      ],
      "metadata": {
        "id": "1h4RdG6TJtM2"
      },
      "execution_count": null,
      "outputs": []
    },
    {
      "cell_type": "markdown",
      "source": [
        "Define some variables used for querying"
      ],
      "metadata": {
        "id": "Wz74UcaWJ-BL"
      }
    },
    {
      "cell_type": "code",
      "source": [
        "OUTPUT_RESOLUTION = 2.0\n",
        "READ_RESOLUTION = 2.0\n",
        "polygon = window.wkt + f\" / EPSG:{utm.to_epsg()}\"\n"
      ],
      "metadata": {
        "id": "xA2l_rgEJ3Io"
      },
      "execution_count": null,
      "outputs": []
    },
    {
      "cell_type": "code",
      "source": [
        "!pip install copclib"
      ],
      "metadata": {
        "colab": {
          "base_uri": "https://localhost:8080/"
        },
        "id": "qSFVlc2pKGJ3",
        "outputId": "84213496-6009-4a9d-a7bd-d9acd14ffc59"
      },
      "execution_count": null,
      "outputs": [
        {
          "output_type": "stream",
          "name": "stdout",
          "text": [
            "Looking in indexes: https://pypi.org/simple, https://us-python.pkg.dev/colab-wheels/public/simple/\n",
            "Collecting copclib\n",
            "  Downloading copclib-2.3.1-cp37-cp37m-manylinux_2_17_x86_64.manylinux2014_x86_64.whl (743 kB)\n",
            "\u001b[K     |████████████████████████████████| 743 kB 5.0 MB/s \n",
            "\u001b[?25hInstalling collected packages: copclib\n",
            "Successfully installed copclib-2.3.1\n"
          ]
        }
      ]
    },
    {
      "cell_type": "code",
      "source": [
        "import copclib as copc\n",
        "\n",
        "# Create a reader object\n",
        "URL=\"https://www.sciencebase.gov/catalog/item/6113c8d3d34ed11898f7e03a.laz\"\n",
        "reader = copc.FileReader(URL)\n",
        "\n",
        "# Get the node metadata from the hierarchy\n",
        "node = reader.FindNode(copc.VoxelKey(0, 0, 0, 0))\n",
        "# Fetch the points of a node\n",
        "points = reader.GetPoints(node)\n",
        "\n",
        "# Iterate through each point\n",
        "for point in points:\n",
        "    print(point.x, point.y, point.z)\n"
      ],
      "metadata": {
        "colab": {
          "base_uri": "https://localhost:8080/",
          "height": 244
        },
        "id": "xV9uJm-0bEog",
        "outputId": "8945a00b-ce57-4e08-f477-4b35ff5b081a"
      },
      "execution_count": null,
      "outputs": [
        {
          "output_type": "error",
          "ename": "RuntimeError",
          "evalue": "ignored",
          "traceback": [
            "\u001b[0;31m---------------------------------------------------------------------------\u001b[0m",
            "\u001b[0;31mRuntimeError\u001b[0m                              Traceback (most recent call last)",
            "\u001b[0;32m<ipython-input-18-fee4a84735e3>\u001b[0m in \u001b[0;36m<module>\u001b[0;34m\u001b[0m\n\u001b[1;32m      3\u001b[0m \u001b[0;31m# Create a reader object\u001b[0m\u001b[0;34m\u001b[0m\u001b[0;34m\u001b[0m\u001b[0;34m\u001b[0m\u001b[0m\n\u001b[1;32m      4\u001b[0m \u001b[0mURL\u001b[0m\u001b[0;34m=\u001b[0m\u001b[0;34m\"https://www.sciencebase.gov/catalog/item/6113c8d3d34ed11898f7e03a.laz\"\u001b[0m\u001b[0;34m\u001b[0m\u001b[0;34m\u001b[0m\u001b[0m\n\u001b[0;32m----> 5\u001b[0;31m \u001b[0mreader\u001b[0m \u001b[0;34m=\u001b[0m \u001b[0mcopc\u001b[0m\u001b[0;34m.\u001b[0m\u001b[0mFileReader\u001b[0m\u001b[0;34m(\u001b[0m\u001b[0mURL\u001b[0m\u001b[0;34m)\u001b[0m\u001b[0;34m\u001b[0m\u001b[0;34m\u001b[0m\u001b[0m\n\u001b[0m\u001b[1;32m      6\u001b[0m \u001b[0;34m\u001b[0m\u001b[0m\n\u001b[1;32m      7\u001b[0m \u001b[0;31m# Get the node metadata from the hierarchy\u001b[0m\u001b[0;34m\u001b[0m\u001b[0;34m\u001b[0m\u001b[0;34m\u001b[0m\u001b[0m\n",
            "\u001b[0;31mRuntimeError\u001b[0m: FileReader: Error while opening file path."
          ]
        }
      ]
    },
    {
      "cell_type": "code",
      "source": [
        ""
      ],
      "metadata": {
        "id": "-La06ZyibEs9"
      },
      "execution_count": null,
      "outputs": []
    },
    {
      "cell_type": "code",
      "source": [
        ""
      ],
      "metadata": {
        "id": "IWhV3KZSbExG"
      },
      "execution_count": null,
      "outputs": []
    },
    {
      "cell_type": "code",
      "source": [
        ""
      ],
      "metadata": {
        "id": "UnUvHpR7bE0s"
      },
      "execution_count": null,
      "outputs": []
    },
    {
      "cell_type": "code",
      "source": [
        ""
      ],
      "metadata": {
        "id": "_GMaII42bE4I"
      },
      "execution_count": null,
      "outputs": []
    },
    {
      "cell_type": "code",
      "source": [
        ""
      ],
      "metadata": {
        "colab": {
          "base_uri": "https://localhost:8080/"
        },
        "id": "vByeSSCxbE7u",
        "outputId": "75c6f50a-b9b9-4373-af6c-fa0f07548950"
      },
      "execution_count": null,
      "outputs": [
        {
          "output_type": "stream",
          "name": "stdout",
          "text": [
            "Looking in indexes: https://pypi.org/simple, https://us-python.pkg.dev/colab-wheels/public/simple/\n",
            "Collecting copclib\n",
            "  Downloading copclib-2.3.1-cp37-cp37m-manylinux_2_17_x86_64.manylinux2014_x86_64.whl (743 kB)\n",
            "\u001b[K     |████████████████████████████████| 743 kB 24.4 MB/s \n",
            "\u001b[?25hInstalling collected packages: copclib\n",
            "Successfully installed copclib-2.3.1\n"
          ]
        }
      ]
    },
    {
      "cell_type": "code",
      "source": [
        ""
      ],
      "metadata": {
        "id": "3SCqq9svbG9T"
      },
      "execution_count": null,
      "outputs": []
    }
  ]
}