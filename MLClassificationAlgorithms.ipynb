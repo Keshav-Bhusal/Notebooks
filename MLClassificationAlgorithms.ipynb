{
  "nbformat": 4,
  "nbformat_minor": 0,
  "metadata": {
    "colab": {
      "provenance": [],
      "authorship_tag": "ABX9TyM1SQBoyZxE/txO3aaC2vnt",
      "include_colab_link": true
    },
    "kernelspec": {
      "name": "python3",
      "display_name": "Python 3"
    },
    "language_info": {
      "name": "python"
    }
  },
  "cells": [
    {
      "cell_type": "markdown",
      "metadata": {
        "id": "view-in-github",
        "colab_type": "text"
      },
      "source": [
        "<a href=\"https://colab.research.google.com/github/clizarraga-UAD7/Notebooks/blob/main/MLClassificationAlgorithms.ipynb\" target=\"_parent\"><img src=\"https://colab.research.google.com/assets/colab-badge.svg\" alt=\"Open In Colab\"/></a>"
      ]
    },
    {
      "cell_type": "markdown",
      "source": [
        "## Supervised Learning Algorithms \n",
        "\n",
        "We will use the [Palmer's Penguins dataset](https://github.com/allisonhorst/palmerpenguins) and create different models for classifying the dataset by species. \n",
        "\n",
        "We will use the [scikit-learn library](https://scikit-learn.org/stable/index.html) functions for [Supervised learning](https://scikit-learn.org/stable/supervised_learning.html#supervised-learning) cases. \n"
      ],
      "metadata": {
        "id": "2kmOmuq0bQg9"
      }
    },
    {
      "cell_type": "code",
      "execution_count": null,
      "metadata": {
        "id": "uHDkvYtTXevL"
      },
      "outputs": [],
      "source": [
        "# Basic libraries\n",
        "import numpy as np\n",
        "import pandas as pd\n",
        "import statsmodels.api as sm \n",
        "\n",
        "# Visualization libraries\n",
        "import matplotlib.pyplot as plt \n",
        "import plotly.express as px  \n",
        "import seaborn as sns \n",
        "\n",
        "# Specific scikit-learn libraries\n",
        "from sklearn.neighbors import KNeighborsClassifier\n",
        "from sklearn.tree import DecisionTreeClassifier\n",
        "from sklearn import svm\n",
        "\n",
        "from sklearn.preprocessing import LabelEncoder\n",
        "from sklearn.preprocessing import Normalizer \n",
        "from sklearn.model_selection import train_test_split \n",
        "from sklearn.preprocessing import StandardScaler\n",
        "from sklearn.preprocessing import label_binarize \n",
        "from sklearn.metrics import confusion_matrix, accuracy_score, roc_curve,roc_auc_score \n",
        "#import sklearn.metrics \n",
        "\n",
        "\n",
        "import warnings \n",
        "warnings.filterwarnings('ignore')\n"
      ]
    },
    {
      "cell_type": "code",
      "source": [
        "# Read the Penguins dataset fom Github\n",
        "filename = \"https://raw.githubusercontent.com/clizarraga-UAD7/Datasets/main/penguins/penguins_size.csv\"\n",
        "df_dist = pd.read_csv(filename)\n",
        "df_dist.head()"
      ],
      "metadata": {
        "colab": {
          "base_uri": "https://localhost:8080/",
          "height": 204
        },
        "id": "-qC30YUCX7z1",
        "outputId": "3e729c50-0385-4059-c9e7-3c076ebf138d"
      },
      "execution_count": null,
      "outputs": [
        {
          "output_type": "execute_result",
          "data": {
            "text/plain": [
              "  species     island  culmen_length_mm  culmen_depth_mm  flipper_length_mm  \\\n",
              "0  Adelie  Torgersen              39.1             18.7              181.0   \n",
              "1  Adelie  Torgersen              39.5             17.4              186.0   \n",
              "2  Adelie  Torgersen              40.3             18.0              195.0   \n",
              "3  Adelie  Torgersen               NaN              NaN                NaN   \n",
              "4  Adelie  Torgersen              36.7             19.3              193.0   \n",
              "\n",
              "   body_mass_g     sex  \n",
              "0       3750.0    MALE  \n",
              "1       3800.0  FEMALE  \n",
              "2       3250.0  FEMALE  \n",
              "3          NaN     NaN  \n",
              "4       3450.0  FEMALE  "
            ],
            "text/html": [
              "\n",
              "  <div id=\"df-2d5ae269-eb8c-4bba-a6d3-1672ab405424\">\n",
              "    <div class=\"colab-df-container\">\n",
              "      <div>\n",
              "<style scoped>\n",
              "    .dataframe tbody tr th:only-of-type {\n",
              "        vertical-align: middle;\n",
              "    }\n",
              "\n",
              "    .dataframe tbody tr th {\n",
              "        vertical-align: top;\n",
              "    }\n",
              "\n",
              "    .dataframe thead th {\n",
              "        text-align: right;\n",
              "    }\n",
              "</style>\n",
              "<table border=\"1\" class=\"dataframe\">\n",
              "  <thead>\n",
              "    <tr style=\"text-align: right;\">\n",
              "      <th></th>\n",
              "      <th>species</th>\n",
              "      <th>island</th>\n",
              "      <th>culmen_length_mm</th>\n",
              "      <th>culmen_depth_mm</th>\n",
              "      <th>flipper_length_mm</th>\n",
              "      <th>body_mass_g</th>\n",
              "      <th>sex</th>\n",
              "    </tr>\n",
              "  </thead>\n",
              "  <tbody>\n",
              "    <tr>\n",
              "      <th>0</th>\n",
              "      <td>Adelie</td>\n",
              "      <td>Torgersen</td>\n",
              "      <td>39.1</td>\n",
              "      <td>18.7</td>\n",
              "      <td>181.0</td>\n",
              "      <td>3750.0</td>\n",
              "      <td>MALE</td>\n",
              "    </tr>\n",
              "    <tr>\n",
              "      <th>1</th>\n",
              "      <td>Adelie</td>\n",
              "      <td>Torgersen</td>\n",
              "      <td>39.5</td>\n",
              "      <td>17.4</td>\n",
              "      <td>186.0</td>\n",
              "      <td>3800.0</td>\n",
              "      <td>FEMALE</td>\n",
              "    </tr>\n",
              "    <tr>\n",
              "      <th>2</th>\n",
              "      <td>Adelie</td>\n",
              "      <td>Torgersen</td>\n",
              "      <td>40.3</td>\n",
              "      <td>18.0</td>\n",
              "      <td>195.0</td>\n",
              "      <td>3250.0</td>\n",
              "      <td>FEMALE</td>\n",
              "    </tr>\n",
              "    <tr>\n",
              "      <th>3</th>\n",
              "      <td>Adelie</td>\n",
              "      <td>Torgersen</td>\n",
              "      <td>NaN</td>\n",
              "      <td>NaN</td>\n",
              "      <td>NaN</td>\n",
              "      <td>NaN</td>\n",
              "      <td>NaN</td>\n",
              "    </tr>\n",
              "    <tr>\n",
              "      <th>4</th>\n",
              "      <td>Adelie</td>\n",
              "      <td>Torgersen</td>\n",
              "      <td>36.7</td>\n",
              "      <td>19.3</td>\n",
              "      <td>193.0</td>\n",
              "      <td>3450.0</td>\n",
              "      <td>FEMALE</td>\n",
              "    </tr>\n",
              "  </tbody>\n",
              "</table>\n",
              "</div>\n",
              "      <button class=\"colab-df-convert\" onclick=\"convertToInteractive('df-2d5ae269-eb8c-4bba-a6d3-1672ab405424')\"\n",
              "              title=\"Convert this dataframe to an interactive table.\"\n",
              "              style=\"display:none;\">\n",
              "        \n",
              "  <svg xmlns=\"http://www.w3.org/2000/svg\" height=\"24px\"viewBox=\"0 0 24 24\"\n",
              "       width=\"24px\">\n",
              "    <path d=\"M0 0h24v24H0V0z\" fill=\"none\"/>\n",
              "    <path d=\"M18.56 5.44l.94 2.06.94-2.06 2.06-.94-2.06-.94-.94-2.06-.94 2.06-2.06.94zm-11 1L8.5 8.5l.94-2.06 2.06-.94-2.06-.94L8.5 2.5l-.94 2.06-2.06.94zm10 10l.94 2.06.94-2.06 2.06-.94-2.06-.94-.94-2.06-.94 2.06-2.06.94z\"/><path d=\"M17.41 7.96l-1.37-1.37c-.4-.4-.92-.59-1.43-.59-.52 0-1.04.2-1.43.59L10.3 9.45l-7.72 7.72c-.78.78-.78 2.05 0 2.83L4 21.41c.39.39.9.59 1.41.59.51 0 1.02-.2 1.41-.59l7.78-7.78 2.81-2.81c.8-.78.8-2.07 0-2.86zM5.41 20L4 18.59l7.72-7.72 1.47 1.35L5.41 20z\"/>\n",
              "  </svg>\n",
              "      </button>\n",
              "      \n",
              "  <style>\n",
              "    .colab-df-container {\n",
              "      display:flex;\n",
              "      flex-wrap:wrap;\n",
              "      gap: 12px;\n",
              "    }\n",
              "\n",
              "    .colab-df-convert {\n",
              "      background-color: #E8F0FE;\n",
              "      border: none;\n",
              "      border-radius: 50%;\n",
              "      cursor: pointer;\n",
              "      display: none;\n",
              "      fill: #1967D2;\n",
              "      height: 32px;\n",
              "      padding: 0 0 0 0;\n",
              "      width: 32px;\n",
              "    }\n",
              "\n",
              "    .colab-df-convert:hover {\n",
              "      background-color: #E2EBFA;\n",
              "      box-shadow: 0px 1px 2px rgba(60, 64, 67, 0.3), 0px 1px 3px 1px rgba(60, 64, 67, 0.15);\n",
              "      fill: #174EA6;\n",
              "    }\n",
              "\n",
              "    [theme=dark] .colab-df-convert {\n",
              "      background-color: #3B4455;\n",
              "      fill: #D2E3FC;\n",
              "    }\n",
              "\n",
              "    [theme=dark] .colab-df-convert:hover {\n",
              "      background-color: #434B5C;\n",
              "      box-shadow: 0px 1px 3px 1px rgba(0, 0, 0, 0.15);\n",
              "      filter: drop-shadow(0px 1px 2px rgba(0, 0, 0, 0.3));\n",
              "      fill: #FFFFFF;\n",
              "    }\n",
              "  </style>\n",
              "\n",
              "      <script>\n",
              "        const buttonEl =\n",
              "          document.querySelector('#df-2d5ae269-eb8c-4bba-a6d3-1672ab405424 button.colab-df-convert');\n",
              "        buttonEl.style.display =\n",
              "          google.colab.kernel.accessAllowed ? 'block' : 'none';\n",
              "\n",
              "        async function convertToInteractive(key) {\n",
              "          const element = document.querySelector('#df-2d5ae269-eb8c-4bba-a6d3-1672ab405424');\n",
              "          const dataTable =\n",
              "            await google.colab.kernel.invokeFunction('convertToInteractive',\n",
              "                                                     [key], {});\n",
              "          if (!dataTable) return;\n",
              "\n",
              "          const docLinkHtml = 'Like what you see? Visit the ' +\n",
              "            '<a target=\"_blank\" href=https://colab.research.google.com/notebooks/data_table.ipynb>data table notebook</a>'\n",
              "            + ' to learn more about interactive tables.';\n",
              "          element.innerHTML = '';\n",
              "          dataTable['output_type'] = 'display_data';\n",
              "          await google.colab.output.renderOutput(dataTable, element);\n",
              "          const docLink = document.createElement('div');\n",
              "          docLink.innerHTML = docLinkHtml;\n",
              "          element.appendChild(docLink);\n",
              "        }\n",
              "      </script>\n",
              "    </div>\n",
              "  </div>\n",
              "  "
            ]
          },
          "metadata": {},
          "execution_count": 2
        }
      ]
    },
    {
      "cell_type": "markdown",
      "source": [
        "### Data cleaning and manipulation\n",
        "Check for missimg values and appropriatedata type of the variables"
      ],
      "metadata": {
        "id": "eKqlrhgvdlcx"
      }
    },
    {
      "cell_type": "code",
      "source": [
        "# Inquiry about the state of the original dataset\n",
        "df_dist.info()"
      ],
      "metadata": {
        "colab": {
          "base_uri": "https://localhost:8080/"
        },
        "id": "l-3mcrVyYOAa",
        "outputId": "b90ff1d3-0aa4-441d-ce03-962ded64e098"
      },
      "execution_count": null,
      "outputs": [
        {
          "output_type": "stream",
          "name": "stdout",
          "text": [
            "<class 'pandas.core.frame.DataFrame'>\n",
            "RangeIndex: 344 entries, 0 to 343\n",
            "Data columns (total 7 columns):\n",
            " #   Column             Non-Null Count  Dtype  \n",
            "---  ------             --------------  -----  \n",
            " 0   species            344 non-null    object \n",
            " 1   island             344 non-null    object \n",
            " 2   culmen_length_mm   342 non-null    float64\n",
            " 3   culmen_depth_mm    342 non-null    float64\n",
            " 4   flipper_length_mm  342 non-null    float64\n",
            " 5   body_mass_g        342 non-null    float64\n",
            " 6   sex                334 non-null    object \n",
            "dtypes: float64(4), object(3)\n",
            "memory usage: 18.9+ KB\n"
          ]
        }
      ]
    },
    {
      "cell_type": "code",
      "source": [
        "# Check if any missing values\n",
        "df_dist.isnull().any()"
      ],
      "metadata": {
        "colab": {
          "base_uri": "https://localhost:8080/"
        },
        "id": "zWtj6z-DZauW",
        "outputId": "04914c6c-e381-47ad-e90b-b151c3a0016c"
      },
      "execution_count": null,
      "outputs": [
        {
          "output_type": "execute_result",
          "data": {
            "text/plain": [
              "species              False\n",
              "island               False\n",
              "culmen_length_mm      True\n",
              "culmen_depth_mm       True\n",
              "flipper_length_mm     True\n",
              "body_mass_g           True\n",
              "sex                   True\n",
              "dtype: bool"
            ]
          },
          "metadata": {},
          "execution_count": 5
        }
      ]
    },
    {
      "cell_type": "code",
      "source": [
        "# Eliminate the rows with mising values, and define a new dataframe df\n",
        "df = df_dist.dropna(axis = 0, how ='any')"
      ],
      "metadata": {
        "id": "fg7pR-y6aks8"
      },
      "execution_count": null,
      "outputs": []
    },
    {
      "cell_type": "code",
      "source": [
        "# Should have a clean dataframe with no missing values\n",
        "df.info()"
      ],
      "metadata": {
        "colab": {
          "base_uri": "https://localhost:8080/"
        },
        "id": "jU9jLV8BawFU",
        "outputId": "c61e9215-c676-4a8b-de89-fcf26e092247"
      },
      "execution_count": null,
      "outputs": [
        {
          "output_type": "stream",
          "name": "stdout",
          "text": [
            "<class 'pandas.core.frame.DataFrame'>\n",
            "Int64Index: 334 entries, 0 to 343\n",
            "Data columns (total 7 columns):\n",
            " #   Column             Non-Null Count  Dtype  \n",
            "---  ------             --------------  -----  \n",
            " 0   species            334 non-null    object \n",
            " 1   island             334 non-null    object \n",
            " 2   culmen_length_mm   334 non-null    float64\n",
            " 3   culmen_depth_mm    334 non-null    float64\n",
            " 4   flipper_length_mm  334 non-null    float64\n",
            " 5   body_mass_g        334 non-null    float64\n",
            " 6   sex                334 non-null    object \n",
            "dtypes: float64(4), object(3)\n",
            "memory usage: 20.9+ KB\n"
          ]
        }
      ]
    },
    {
      "cell_type": "markdown",
      "source": [
        "### Label encoding of categorical variables using the built-in function LabelEncoder()\n",
        "\n",
        "The categorial variables are:\n",
        "- species\n",
        "- island\n",
        "- sex"
      ],
      "metadata": {
        "id": "e783bvXmd4cY"
      }
    },
    {
      "cell_type": "code",
      "source": [
        "# See the different values of the above variables\n",
        "print('Species: \\n', df.species.value_counts())\n",
        "print('Island: \\n', df.island.value_counts())\n",
        "print('Gender: \\n', df.sex.value_counts())\n"
      ],
      "metadata": {
        "colab": {
          "base_uri": "https://localhost:8080/"
        },
        "id": "Fy4M4he2ay_H",
        "outputId": "332f4692-a8fa-4532-d482-373c7f75f7cc"
      },
      "execution_count": null,
      "outputs": [
        {
          "output_type": "stream",
          "name": "stdout",
          "text": [
            "Species: \n",
            "  Adelie       146\n",
            "Gentoo       120\n",
            "Chinstrap     68\n",
            "Name: species, dtype: int64\n",
            "Island: \n",
            " Biscoe       164\n",
            "Dream        123\n",
            "Torgersen     47\n",
            "Name: island, dtype: int64\n",
            "Gender: \n",
            " MALE      168\n",
            "FEMALE    165\n",
            ".           1\n",
            "Name: sex, dtype: int64\n"
          ]
        }
      ]
    },
    {
      "cell_type": "markdown",
      "source": [
        "There is a row hwre the gender of the penguin has value of \".\", then we need to eliminte that row, using a filter condition. "
      ],
      "metadata": {
        "id": "wOieGyDegFuD"
      }
    },
    {
      "cell_type": "code",
      "source": [
        "# Keep or filter out all rows where the sex of the Penguins are not equal to '.'\n",
        "df = df[df.sex != '.'] \n",
        "print('Gender: \\n', df.sex.value_counts())"
      ],
      "metadata": {
        "colab": {
          "base_uri": "https://localhost:8080/"
        },
        "id": "n1tzTglgfqmy",
        "outputId": "40cc7a15-f8b4-4b14-a424-4080b4d0933c"
      },
      "execution_count": null,
      "outputs": [
        {
          "output_type": "stream",
          "name": "stdout",
          "text": [
            "Gender: \n",
            " MALE      168\n",
            "FEMALE    165\n",
            "Name: sex, dtype: int64\n"
          ]
        }
      ]
    },
    {
      "cell_type": "code",
      "source": [
        "df.info()"
      ],
      "metadata": {
        "colab": {
          "base_uri": "https://localhost:8080/"
        },
        "id": "HfHJhpb5hqO-",
        "outputId": "f8a4d78c-8646-4d38-bc25-01ddbd2d81e5"
      },
      "execution_count": null,
      "outputs": [
        {
          "output_type": "stream",
          "name": "stdout",
          "text": [
            "<class 'pandas.core.frame.DataFrame'>\n",
            "Int64Index: 333 entries, 0 to 343\n",
            "Data columns (total 7 columns):\n",
            " #   Column             Non-Null Count  Dtype  \n",
            "---  ------             --------------  -----  \n",
            " 0   species            333 non-null    object \n",
            " 1   island             333 non-null    object \n",
            " 2   culmen_length_mm   333 non-null    float64\n",
            " 3   culmen_depth_mm    333 non-null    float64\n",
            " 4   flipper_length_mm  333 non-null    float64\n",
            " 5   body_mass_g        333 non-null    float64\n",
            " 6   sex                333 non-null    object \n",
            "dtypes: float64(4), object(3)\n",
            "memory usage: 20.8+ KB\n"
          ]
        }
      ]
    },
    {
      "cell_type": "code",
      "source": [
        "# Ready to encode categorical variables (encode names with values)\n",
        "le = LabelEncoder()\n",
        "\n",
        "df['species_encoded']= le.fit_transform(df['species'])\n",
        "df['island_encoded']= le.fit_transform(df['island'])\n",
        "df['sex_encoded']= le.fit_transform(df['sex'])\n",
        "print(df.head())"
      ],
      "metadata": {
        "colab": {
          "base_uri": "https://localhost:8080/"
        },
        "id": "IkVGsnVshtAU",
        "outputId": "3a95c02c-c6f5-4eac-f17c-dc63868edf4a"
      },
      "execution_count": null,
      "outputs": [
        {
          "output_type": "stream",
          "name": "stdout",
          "text": [
            "  species     island  culmen_length_mm  culmen_depth_mm  flipper_length_mm  \\\n",
            "0  Adelie  Torgersen              39.1             18.7              181.0   \n",
            "1  Adelie  Torgersen              39.5             17.4              186.0   \n",
            "2  Adelie  Torgersen              40.3             18.0              195.0   \n",
            "4  Adelie  Torgersen              36.7             19.3              193.0   \n",
            "5  Adelie  Torgersen              39.3             20.6              190.0   \n",
            "\n",
            "   body_mass_g     sex  species_encoded  island_encoded  sex_encoded  \n",
            "0       3750.0    MALE                0               2            1  \n",
            "1       3800.0  FEMALE                0               2            0  \n",
            "2       3250.0  FEMALE                0               2            0  \n",
            "4       3450.0  FEMALE                0               2            0  \n",
            "5       3650.0    MALE                0               2            1  \n"
          ]
        }
      ]
    },
    {
      "cell_type": "markdown",
      "source": [
        "## Check for outliers in dataset\n",
        "\n",
        "Tukey also gives a criteria for defining outlier data. If Q1, and Q3 are the first and third quartile positions, the interquartile range IQR = Q3 - Q1 , then an outlier value will fall below Q1 - 1.5 IQR or above Q3 + 1.5 IQR.\n",
        "\n",
        "We can define an additional Tukey outer fences, lower outer fence Q1 - 3.0 IQR and the upper outer fence above Q3 + 3.0 IQR.\n",
        "\n"
      ],
      "metadata": {
        "id": "xw728FTclBg7"
      }
    },
    {
      "cell_type": "code",
      "source": [
        "#Tukey's method\n",
        "def tukeys_method(df, variable):\n",
        "    #Takes two parameters: dataframe & variable of interest as string\n",
        "    q1 = df[variable].quantile(0.25)\n",
        "    q3 = df[variable].quantile(0.75)\n",
        "    iqr = q3-q1\n",
        "    inner_fence = 1.5*iqr\n",
        "    outer_fence = 3*iqr\n",
        "    \n",
        "    #inner fence lower and upper end\n",
        "    inner_fence_le = q1-inner_fence\n",
        "    inner_fence_ue = q3+inner_fence\n",
        "    ifl, ifu = inner_fence_le, inner_fence_ue\n",
        "    \n",
        "    #outer fence lower and upper end\n",
        "    outer_fence_le = q1-outer_fence\n",
        "    outer_fence_ue = q3+outer_fence\n",
        "    ofl, ofu = outer_fence_le, outer_fence_ue\n",
        "    \n",
        "    \n",
        "    outliers_prob = []\n",
        "    outliers_poss = []\n",
        "    for index, x in enumerate(df[variable]):\n",
        "        if x <= outer_fence_le or x >= outer_fence_ue:\n",
        "            outliers_prob.append(index)\n",
        "    for index, x in enumerate(df[variable]):\n",
        "        if x <= inner_fence_le or x >= inner_fence_ue:\n",
        "            outliers_poss.append(index)\n",
        "    return outliers_prob, outliers_poss, ifl, ifu, ofl, ofu\n",
        " \n",
        "     "
      ],
      "metadata": {
        "id": "N0zX7lY9ltIj"
      },
      "execution_count": null,
      "outputs": []
    },
    {
      "cell_type": "code",
      "source": [
        "# Check for putliers in each numeric variable: culmen length\n",
        "\n",
        "probable_outliers_tm, possible_outliers_tm, ifl, ifu, ofl, ofu = tukeys_method(df, 'culmen_length_mm')\n",
        "print(len(probable_outliers_tm))\n",
        "print(len(possible_outliers_tm))"
      ],
      "metadata": {
        "colab": {
          "base_uri": "https://localhost:8080/"
        },
        "id": "Y3dS2IIGl6-u",
        "outputId": "f7b14584-9fb5-4dd1-fd92-124f488ad2d3"
      },
      "execution_count": null,
      "outputs": [
        {
          "output_type": "stream",
          "name": "stdout",
          "text": [
            "0\n",
            "0\n"
          ]
        }
      ]
    },
    {
      "cell_type": "code",
      "source": [
        "# Check for putliers in each numeric variable: culmen depth\n",
        "\n",
        "probable_outliers_tm, possible_outliers_tm, ifl, ifu, ofl, ofu = tukeys_method(df, 'culmen_depth_mm')\n",
        "print(len(probable_outliers_tm))\n",
        "print(len(possible_outliers_tm))"
      ],
      "metadata": {
        "colab": {
          "base_uri": "https://localhost:8080/"
        },
        "id": "JrLCPgWymRBv",
        "outputId": "5c054054-4de8-46ce-a32e-a7fa2dd89961"
      },
      "execution_count": null,
      "outputs": [
        {
          "output_type": "stream",
          "name": "stdout",
          "text": [
            "0\n",
            "0\n"
          ]
        }
      ]
    },
    {
      "cell_type": "code",
      "source": [
        "# Check for putliers in each numeric variable: flipper length\n",
        "\n",
        "probable_outliers_tm, possible_outliers_tm, ifl, ifu, ofl, ofu = tukeys_method(df, 'flipper_length_mm')\n",
        "print(len(probable_outliers_tm))\n",
        "print(len(possible_outliers_tm))"
      ],
      "metadata": {
        "colab": {
          "base_uri": "https://localhost:8080/"
        },
        "id": "2ulXx7hXmdkU",
        "outputId": "346185a2-d431-4541-b4d8-b161c92c3a81"
      },
      "execution_count": null,
      "outputs": [
        {
          "output_type": "stream",
          "name": "stdout",
          "text": [
            "0\n",
            "0\n"
          ]
        }
      ]
    },
    {
      "cell_type": "code",
      "source": [
        "# Check for putliers in each numeric variable: body mass\n",
        "\n",
        "probable_outliers_tm, possible_outliers_tm, ifl, ifu, ofl, ofu = tukeys_method(df, 'body_mass_g')\n",
        "print(len(probable_outliers_tm))\n",
        "print(len(possible_outliers_tm))"
      ],
      "metadata": {
        "colab": {
          "base_uri": "https://localhost:8080/"
        },
        "id": "hP8_1XI9m5kw",
        "outputId": "2f9141c1-62ea-461b-c23c-97c7363240d1"
      },
      "execution_count": null,
      "outputs": [
        {
          "output_type": "stream",
          "name": "stdout",
          "text": [
            "0\n",
            "0\n"
          ]
        }
      ]
    },
    {
      "cell_type": "markdown",
      "source": [
        "There are no outliers"
      ],
      "metadata": {
        "id": "GYGHhHj7nE9Y"
      }
    },
    {
      "cell_type": "code",
      "source": [
        "# Plot data frequency distribution for first two variables\n",
        "\n",
        "fig, (ax1, ax2) = plt.subplots(nrows=1, ncols=2,figsize=(12, 8))\n",
        "\n",
        "sns.histplot(df['culmen_length_mm'], bins=25, kde=True, ax=ax1);\n",
        "sns.histplot(df['culmen_depth_mm'], bins=25, kde=True, ax=ax2);\n",
        "plt.show()"
      ],
      "metadata": {
        "colab": {
          "base_uri": "https://localhost:8080/",
          "height": 498
        },
        "id": "DxAjSheukE1y",
        "outputId": "2ffc0fe8-ee21-4acf-eba5-78a03b736020"
      },
      "execution_count": null,
      "outputs": [
        {
          "output_type": "display_data",
          "data": {
            "text/plain": [
              "<Figure size 864x576 with 2 Axes>"
            ],
            "image/png": "[encoded data removed]"
          },
          "metadata": {
            "needs_background": "light"
          }
        }
      ]
    },
    {
      "cell_type": "code",
      "source": [
        "fig, (ax1, ax2) = plt.subplots(nrows=1, ncols=2, figsize=(12, 8))\n",
        "\n",
        "sns.barplot(x='species', y='culmen_length_mm', data=df, ax=ax1)\n",
        "sns.barplot(x='species', y='culmen_depth_mm', data=df, ax=ax2)\n",
        "\n",
        "plt.show()\n"
      ],
      "metadata": {
        "colab": {
          "base_uri": "https://localhost:8080/",
          "height": 497
        },
        "id": "1-T80Fv6qLbM",
        "outputId": "e0c8bb10-d1ac-4572-e31c-e844a40f022e"
      },
      "execution_count": null,
      "outputs": [
        {
          "output_type": "display_data",
          "data": {
            "text/plain": [
              "<Figure size 864x576 with 2 Axes>"
            ],
            "image/png": "[encoded data removed]"
          },
          "metadata": {
            "needs_background": "light"
          }
        }
      ]
    },
    {
      "cell_type": "code",
      "source": [
        "# Plot data frequency distribution for last two variables\n",
        "\n",
        "fig, (ax1, ax2) = plt.subplots(nrows=1, ncols=2,figsize=(12, 8))\n",
        "\n",
        "sns.histplot(df['flipper_length_mm'], bins=25, kde=True, ax=ax1);\n",
        "sns.histplot(df['body_mass_g'], bins=25, kde=True, ax=ax2);\n",
        "plt.show()\n"
      ],
      "metadata": {
        "colab": {
          "base_uri": "https://localhost:8080/",
          "height": 498
        },
        "id": "hgZ9-N0mmnZ9",
        "outputId": "b89c43f2-af81-4258-bd9f-c5674706dd61"
      },
      "execution_count": null,
      "outputs": [
        {
          "output_type": "display_data",
          "data": {
            "text/plain": [
              "<Figure size 864x576 with 2 Axes>"
            ],
            "image/png": "[encoded data removed]"
          },
          "metadata": {
            "needs_background": "light"
          }
        }
      ]
    },
    {
      "cell_type": "code",
      "source": [
        "fig, (ax1, ax2) = plt.subplots(nrows=1, ncols=2, figsize=(12, 8))\n",
        "\n",
        "sns.barplot(x='species', y='flipper_length_mm', data=df, ax=ax1)\n",
        "sns.barplot(x='species', y='body_mass_g', data=df, ax=ax2)\n",
        "\n",
        "plt.show()\n"
      ],
      "metadata": {
        "colab": {
          "base_uri": "https://localhost:8080/",
          "height": 497
        },
        "id": "k9SyDOUYpARj",
        "outputId": "c0789f5b-ac17-4640-d636-495cb6c2c3f2"
      },
      "execution_count": null,
      "outputs": [
        {
          "output_type": "display_data",
          "data": {
            "text/plain": [
              "<Figure size 864x576 with 2 Axes>"
            ],
            "image/png": "[encoded data removed]"
          },
          "metadata": {
            "needs_background": "light"
          }
        }
      ]
    },
    {
      "cell_type": "markdown",
      "source": [
        "## Splitting the data into Training & Testing datasets"
      ],
      "metadata": {
        "id": "7fiVeBgqtZlT"
      }
    },
    {
      "cell_type": "code",
      "source": [
        "features=['culmen_length_mm', 'culmen_depth_mm','flipper_length_mm', 'body_mass_g','island_encoded', 'sex_encoded']\n",
        "\n",
        "x=df[features]# since these are the features we take them as x\n",
        "y=df['species_encoded']# since species is the output or label we'll take it as y\n",
        "\n",
        "x_train, x_test, y_train, y_test = train_test_split(x, y, test_size = 0.2,random_state=42)\n",
        "\n",
        "print(\"\\nShape of x_train:\\n{}\".format(x_train.shape))\n",
        "print(\"\\nShape of x_test:\\n{}\".format(x_test.shape))\n",
        "print(\"\\nShape of y_train:\\n{}\".format(y_train.shape))\n",
        "print(\"\\nShape of y_test:\\n{}\".format(y_test.shape))\n"
      ],
      "metadata": {
        "colab": {
          "base_uri": "https://localhost:8080/"
        },
        "id": "OceLb_qMsfE2",
        "outputId": "f01fc110-9d55-43ef-82fe-f4c985b39990"
      },
      "execution_count": null,
      "outputs": [
        {
          "output_type": "stream",
          "name": "stdout",
          "text": [
            "\n",
            "Shape of x_train:\n",
            "(266, 6)\n",
            "\n",
            "Shape of x_test:\n",
            "(67, 6)\n",
            "\n",
            "Shape of y_train:\n",
            "(266,)\n",
            "\n",
            "Shape of y_test:\n",
            "(67,)\n"
          ]
        }
      ]
    },
    {
      "cell_type": "markdown",
      "source": [
        "## Scaling"
      ],
      "metadata": {
        "id": "RF__XqfvuDVn"
      }
    },
    {
      "cell_type": "code",
      "source": [
        "\n",
        "sc = StandardScaler()\n",
        "\n",
        "scaled_x_train = sc.fit_transform(x_train)\n",
        "scaled_x_test = sc.transform(x_test)\n",
        "\n",
        "print(x_train)\n",
        "print(\"____________________________________________________________________________\")\n",
        "print(\"\",scaled_x_train)"
      ],
      "metadata": {
        "colab": {
          "base_uri": "https://localhost:8080/"
        },
        "id": "X7KeIfCbt4K-",
        "outputId": "c05bdaaa-e3d9-4ff3-be07-5987c2d2f73a"
      },
      "execution_count": null,
      "outputs": [
        {
          "output_type": "stream",
          "name": "stdout",
          "text": [
            "     culmen_length_mm  culmen_depth_mm  flipper_length_mm  body_mass_g  \\\n",
            "230              40.9             13.7              214.0       4650.0   \n",
            "84               37.3             17.8              191.0       3350.0   \n",
            "303              50.0             15.9              224.0       5350.0   \n",
            "22               35.9             19.2              189.0       3800.0   \n",
            "29               40.5             18.9              180.0       3950.0   \n",
            "..                ...              ...                ...          ...   \n",
            "194              50.9             19.1              196.0       3550.0   \n",
            "77               37.2             19.4              184.0       3900.0   \n",
            "112              39.7             17.7              193.0       3200.0   \n",
            "277              45.5             15.0              220.0       5000.0   \n",
            "108              38.1             17.0              181.0       3175.0   \n",
            "\n",
            "     island_encoded  sex_encoded  \n",
            "230               0            0  \n",
            "84                1            0  \n",
            "303               0            1  \n",
            "22                0            0  \n",
            "29                0            1  \n",
            "..              ...          ...  \n",
            "194               1            1  \n",
            "77                2            1  \n",
            "112               0            0  \n",
            "277               0            1  \n",
            "108               0            0  \n",
            "\n",
            "[266 rows x 6 columns]\n",
            "____________________________________________________________________________\n",
            " [[-0.59372706 -1.75093934  0.9359428   0.53973681 -0.91721936 -1.03832798]\n",
            " [-1.26104283  0.32310698 -0.719956   -1.07236416  0.52645135 -1.03832798]\n",
            " [ 1.09309891 -0.63803644  1.65589881  1.40779118 -0.91721936  0.96308682]\n",
            " ...\n",
            " [-0.81616565  0.27252048 -0.5759648  -1.25837581 -0.91721936 -1.03832798]\n",
            " [ 0.2589542  -1.0933149   1.36791641  0.97376399 -0.91721936  0.96308682]\n",
            " [-1.11275044 -0.08158499 -1.43991201 -1.28937775 -0.91721936 -1.03832798]]\n"
          ]
        }
      ]
    },
    {
      "cell_type": "markdown",
      "source": [
        "## Train the model"
      ],
      "metadata": {
        "id": "QKFc8lSyu2Ws"
      }
    },
    {
      "cell_type": "code",
      "source": [
        "#KNN model\n",
        "x_train=scaled_x_train\n",
        "x_test=scaled_x_test\n",
        "\n",
        "model1=KNeighborsClassifier(n_neighbors=3)\n",
        "model1.fit(x_train, y_train)\n",
        "y_prediction1= model1.predict(x_test)\n",
        "\n",
        "report=pd.DataFrame()\n",
        "report['Actual values']=y_test\n",
        "report['Predicted values KNN']= y_prediction1\n",
        "print(report)\n",
        "\n",
        "#Decision tree\n",
        "model2= DecisionTreeClassifier()\n",
        "model2 = model2.fit(x_train,y_train)\n",
        "#Predict the response for test dataset\n",
        "y_prediction2 = model2.predict(x_test)\n",
        "report['Predicted values Decision tree']= y_prediction2\n",
        "print(report)\n",
        "\n",
        "#SVM\n",
        "model3= svm.SVC(kernel='linear',probability=True) # Linear Kernel\n",
        "model3.fit(x_train, y_train)\n",
        "#Predict the response for test dataset\n",
        "y_prediction3 = model3.predict(x_test)\n",
        "report['Predicted values SVM']= y_prediction3\n",
        "print(report)\n"
      ],
      "metadata": {
        "colab": {
          "base_uri": "https://localhost:8080/"
        },
        "id": "4DSrLEZsuUql",
        "outputId": "e9a00634-bc43-4801-d25e-0e12b940c3af"
      },
      "execution_count": null,
      "outputs": [
        {
          "output_type": "stream",
          "name": "stdout",
          "text": [
            "     Actual values  Predicted values KNN\n",
            "30               0                     1\n",
            "317              2                     2\n",
            "79               0                     0\n",
            "201              1                     1\n",
            "63               0                     0\n",
            "..             ...                   ...\n",
            "288              2                     2\n",
            "4                0                     0\n",
            "83               0                     0\n",
            "319              2                     2\n",
            "66               0                     0\n",
            "\n",
            "[67 rows x 2 columns]\n",
            "     Actual values  Predicted values KNN  Predicted values Decision tree\n",
            "30               0                     1                               0\n",
            "317              2                     2                               2\n",
            "79               0                     0                               0\n",
            "201              1                     1                               1\n",
            "63               0                     0                               0\n",
            "..             ...                   ...                             ...\n",
            "288              2                     2                               2\n",
            "4                0                     0                               0\n",
            "83               0                     0                               0\n",
            "319              2                     2                               2\n",
            "66               0                     0                               0\n",
            "\n",
            "[67 rows x 3 columns]\n",
            "     Actual values  Predicted values KNN  Predicted values Decision tree  \\\n",
            "30               0                     1                               0   \n",
            "317              2                     2                               2   \n",
            "79               0                     0                               0   \n",
            "201              1                     1                               1   \n",
            "63               0                     0                               0   \n",
            "..             ...                   ...                             ...   \n",
            "288              2                     2                               2   \n",
            "4                0                     0                               0   \n",
            "83               0                     0                               0   \n",
            "319              2                     2                               2   \n",
            "66               0                     0                               0   \n",
            "\n",
            "     Predicted values SVM  \n",
            "30                      0  \n",
            "317                     2  \n",
            "79                      0  \n",
            "201                     1  \n",
            "63                      0  \n",
            "..                    ...  \n",
            "288                     2  \n",
            "4                       0  \n",
            "83                      0  \n",
            "319                     2  \n",
            "66                      0  \n",
            "\n",
            "[67 rows x 4 columns]\n"
          ]
        }
      ]
    },
    {
      "cell_type": "markdown",
      "source": [
        "### Model evaluation"
      ],
      "metadata": {
        "id": "tbX7gXVVvvwn"
      }
    },
    {
      "cell_type": "code",
      "source": [
        "ConfusionMatrix1=confusion_matrix(y_test,y_prediction1)\n",
        "print(ConfusionMatrix1)\n",
        "\n",
        "ConfusionMatrix2=confusion_matrix(y_test,y_prediction2)\n",
        "print(ConfusionMatrix2)\n",
        "\n",
        "ConfusionMatrix3=confusion_matrix(y_test,y_prediction3)\n",
        "print(ConfusionMatrix3)\n"
      ],
      "metadata": {
        "colab": {
          "base_uri": "https://localhost:8080/"
        },
        "id": "b-0-Lh2hvfdS",
        "outputId": "7e3313fd-d5a1-44fe-e1fc-acf0300c39e7"
      },
      "execution_count": null,
      "outputs": [
        {
          "output_type": "stream",
          "name": "stdout",
          "text": [
            "[[30  1  0]\n",
            " [ 0 13  0]\n",
            " [ 0  0 23]]\n",
            "[[30  1  0]\n",
            " [ 0 13  0]\n",
            " [ 0  0 23]]\n",
            "[[31  0  0]\n",
            " [ 0 13  0]\n",
            " [ 0  0 23]]\n"
          ]
        }
      ]
    },
    {
      "cell_type": "code",
      "source": [
        "# Heatmap of First Confusion Matrix\n",
        "ax=sns.heatmap(ConfusionMatrix1,annot=True,cmap=\"YlGnBu\")\n",
        "ax.set_title('Confusion matrix')\n",
        "ax.set_xlabel('Predicted values')\n",
        "ax.set_ylabel('Actual values')\n",
        "#Ticket labels:\n",
        "ax.xaxis.set_ticklabels(['No','Yes'])\n",
        "ax.xaxis.set_ticklabels(['No','Yes'])\n",
        "plt.show()\n"
      ],
      "metadata": {
        "colab": {
          "base_uri": "https://localhost:8080/",
          "height": 295
        },
        "id": "l6h7_kT2v60O",
        "outputId": "02e4a7d3-0cc3-45d5-83f6-83190ac15494"
      },
      "execution_count": null,
      "outputs": [
        {
          "output_type": "display_data",
          "data": {
            "text/plain": [
              "<Figure size 432x288 with 2 Axes>"
            ],
            "image/png": "[encoded data removed]"
          },
          "metadata": {
            "needs_background": "light"
          }
        }
      ]
    },
    {
      "cell_type": "code",
      "source": [
        "# Second Confusion Matrix\n",
        "\n",
        "ax=sns.heatmap(ConfusionMatrix2,annot=True,cmap=\"YlGnBu\")\n",
        "ax.set_title('Confusion matrix')\n",
        "ax.set_xlabel('Predicted values')\n",
        "ax.set_ylabel('Actual values')\n",
        "#Ticket labels:\n",
        "ax.xaxis.set_ticklabels(['No','Yes'])\n",
        "ax.xaxis.set_ticklabels(['No','Yes'])\n",
        "plt.show()"
      ],
      "metadata": {
        "colab": {
          "base_uri": "https://localhost:8080/",
          "height": 295
        },
        "id": "2CWyTqvSwG5M",
        "outputId": "a3a2c8de-bfb8-4815-878b-ddfd96db54a8"
      },
      "execution_count": null,
      "outputs": [
        {
          "output_type": "display_data",
          "data": {
            "text/plain": [
              "<Figure size 432x288 with 2 Axes>"
            ],
            "image/png": "[encoded data removed]"
          },
          "metadata": {
            "needs_background": "light"
          }
        }
      ]
    },
    {
      "cell_type": "code",
      "source": [
        "# Third Confusion Matrix (SVC)\n",
        "\n",
        "ax=sns.heatmap(ConfusionMatrix3,annot=True,cmap=\"YlGnBu\")\n",
        "ax.set_title('Confusion matrix')\n",
        "ax.set_xlabel('Predicted values')\n",
        "ax.set_ylabel('Actual values')\n",
        "#Ticket labels:\n",
        "ax.xaxis.set_ticklabels(['No','Yes'])\n",
        "ax.xaxis.set_ticklabels(['No','Yes'])\n",
        "plt.show()\n"
      ],
      "metadata": {
        "colab": {
          "base_uri": "https://localhost:8080/",
          "height": 295
        },
        "id": "Lcr1nAdCwT49",
        "outputId": "c5676a1e-da92-4c3a-c618-acbe8dac9dfc"
      },
      "execution_count": null,
      "outputs": [
        {
          "output_type": "display_data",
          "data": {
            "text/plain": [
              "<Figure size 432x288 with 2 Axes>"
            ],
            "image/png": "[encoded data removed]"
          },
          "metadata": {
            "needs_background": "light"
          }
        }
      ]
    },
    {
      "cell_type": "markdown",
      "source": [
        "## ROC Scores and Curve "
      ],
      "metadata": {
        "id": "7U93PA3bwojU"
      }
    },
    {
      "cell_type": "code",
      "source": [
        "#roc auc score\n",
        "roc_auc_score(y_test, y_pred_prob1, multi_class='ovo', average='weighted')\n",
        "roc_auc_score(y_test, y_pred_prob2, multi_class='ovo', average='weighted')\n",
        "roc_auc_score(y_test, y_pred_prob3, multi_class='ovo', average='weighted')\n",
        "fpr1, tpr1, thresh1 = roc_curve(y_test, y_pred_prob1[:,1], pos_label=1)\n",
        "fpr2, tpr2, thresh2 = roc_curve(y_test, y_pred_prob2[:,1], pos_label=1)\n",
        "fpr3, tpr3, thresh3 = roc_curve(y_test, y_pred_prob3[:,1], pos_label=1)\n",
        "\n",
        "# roc curve for tpr = fpr\n",
        "random_probs = [0 for i in range(len(y_test))]\n",
        "p_fpr, p_tpr, _ = roc_curve(y_test, random_probs, pos_label=1)\n",
        "plt.plot(fpr1, tpr1, linestyle='--',color='black', label='KNN')\n",
        "plt.plot(fpr2, tpr2, linestyle='--',color='green', label='Descision Tree')\n",
        "plt.plot(fpr3, tpr3, linestyle='--',color='red', label='SVM')\n",
        "plt.plot(p_fpr, p_tpr, linestyle='--', color='blue')\n",
        "\n",
        "# title\n",
        "plt.title('ROC curve')\n",
        "# x label\n",
        "plt.xlabel('False Positive Rate')\n",
        "# y label\n",
        "plt.ylabel('True Positive rate')\n",
        "plt.legend(loc='best')\n",
        "#plt.savefig('ROC',dpi=300)\n",
        "plt.show();\n"
      ],
      "metadata": {
        "colab": {
          "base_uri": "https://localhost:8080/",
          "height": 232
        },
        "id": "vxnXbXGzwfXZ",
        "outputId": "aa3311d9-a52e-460d-dc23-fb303f5b1058"
      },
      "execution_count": null,
      "outputs": [
        {
          "output_type": "error",
          "ename": "NameError",
          "evalue": "ignored",
          "traceback": [
            "\u001b[0;31m---------------------------------------------------------------------------\u001b[0m",
            "\u001b[0;31mNameError\u001b[0m                                 Traceback (most recent call last)",
            "\u001b[0;32m<ipython-input-45-ec0113f15a8c>\u001b[0m in \u001b[0;36m<module>\u001b[0;34m\u001b[0m\n\u001b[1;32m      1\u001b[0m \u001b[0;31m#roc auc score\u001b[0m\u001b[0;34m\u001b[0m\u001b[0;34m\u001b[0m\u001b[0;34m\u001b[0m\u001b[0m\n\u001b[0;32m----> 2\u001b[0;31m \u001b[0mroc_auc_score\u001b[0m\u001b[0;34m(\u001b[0m\u001b[0my_test\u001b[0m\u001b[0;34m,\u001b[0m \u001b[0my_pred_prob1\u001b[0m\u001b[0;34m,\u001b[0m \u001b[0mmulti_class\u001b[0m\u001b[0;34m=\u001b[0m\u001b[0;34m'ovo'\u001b[0m\u001b[0;34m,\u001b[0m \u001b[0maverage\u001b[0m\u001b[0;34m=\u001b[0m\u001b[0;34m'weighted'\u001b[0m\u001b[0;34m)\u001b[0m\u001b[0;34m\u001b[0m\u001b[0;34m\u001b[0m\u001b[0m\n\u001b[0m\u001b[1;32m      3\u001b[0m \u001b[0mroc_auc_score\u001b[0m\u001b[0;34m(\u001b[0m\u001b[0my_test\u001b[0m\u001b[0;34m,\u001b[0m \u001b[0my_pred_prob2\u001b[0m\u001b[0;34m,\u001b[0m \u001b[0mmulti_class\u001b[0m\u001b[0;34m=\u001b[0m\u001b[0;34m'ovo'\u001b[0m\u001b[0;34m,\u001b[0m \u001b[0maverage\u001b[0m\u001b[0;34m=\u001b[0m\u001b[0;34m'weighted'\u001b[0m\u001b[0;34m)\u001b[0m\u001b[0;34m\u001b[0m\u001b[0;34m\u001b[0m\u001b[0m\n\u001b[1;32m      4\u001b[0m \u001b[0mroc_auc_score\u001b[0m\u001b[0;34m(\u001b[0m\u001b[0my_test\u001b[0m\u001b[0;34m,\u001b[0m \u001b[0my_pred_prob3\u001b[0m\u001b[0;34m,\u001b[0m \u001b[0mmulti_class\u001b[0m\u001b[0;34m=\u001b[0m\u001b[0;34m'ovo'\u001b[0m\u001b[0;34m,\u001b[0m \u001b[0maverage\u001b[0m\u001b[0;34m=\u001b[0m\u001b[0;34m'weighted'\u001b[0m\u001b[0;34m)\u001b[0m\u001b[0;34m\u001b[0m\u001b[0;34m\u001b[0m\u001b[0m\n\u001b[1;32m      5\u001b[0m \u001b[0mfpr1\u001b[0m\u001b[0;34m,\u001b[0m \u001b[0mtpr1\u001b[0m\u001b[0;34m,\u001b[0m \u001b[0mthresh1\u001b[0m \u001b[0;34m=\u001b[0m \u001b[0mroc_curve\u001b[0m\u001b[0;34m(\u001b[0m\u001b[0my_test\u001b[0m\u001b[0;34m,\u001b[0m \u001b[0my_pred_prob1\u001b[0m\u001b[0;34m[\u001b[0m\u001b[0;34m:\u001b[0m\u001b[0;34m,\u001b[0m\u001b[0;36m1\u001b[0m\u001b[0;34m]\u001b[0m\u001b[0;34m,\u001b[0m \u001b[0mpos_label\u001b[0m\u001b[0;34m=\u001b[0m\u001b[0;36m1\u001b[0m\u001b[0;34m)\u001b[0m\u001b[0;34m\u001b[0m\u001b[0;34m\u001b[0m\u001b[0m\n",
            "\u001b[0;31mNameError\u001b[0m: name 'y_pred_prob1' is not defined"
          ]
        }
      ]
    },
    {
      "cell_type": "code",
      "source": [],
      "metadata": {
        "id": "H7STPQs1w4_s"
      },
      "execution_count": null,
      "outputs": []
    }
  ]
}