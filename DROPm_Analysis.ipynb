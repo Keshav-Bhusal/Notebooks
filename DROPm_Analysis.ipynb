{
  "cells": [
    {
      "cell_type": "markdown",
      "metadata": {
        "id": "view-in-github",
        "colab_type": "text"
      },
      "source": [
        "<a href=\"https://colab.research.google.com/github/clizarraga-UAD7/Notebooks/blob/main/DROPm_Analysis.ipynb\" target=\"_parent\"><img src=\"https://colab.research.google.com/assets/colab-badge.svg\" alt=\"Open In Colab\"/></a>"
      ]
    },
    {
      "cell_type": "markdown",
      "id": "9d524694",
      "metadata": {
        "id": "9d524694"
      },
      "source": [
        "## Analysis of the DROPm vs. count data\n",
        "\n",
        "C. Lizarraga (04/14/2023)"
      ]
    },
    {
      "cell_type": "code",
      "source": [],
      "metadata": {
        "id": "WJApMywHIsNs"
      },
      "id": "WJApMywHIsNs",
      "execution_count": null,
      "outputs": []
    },
    {
      "cell_type": "code",
      "execution_count": 1,
      "id": "9cf4ab85",
      "metadata": {
        "id": "9cf4ab85"
      },
      "outputs": [],
      "source": [
        "# Load needed libraries\n",
        "\n",
        "import numpy as np\n",
        "import pandas as pd\n",
        "\n",
        "import matplotlib.pyplot as plt\n",
        "import seaborn as sns\n",
        "\n",
        "import statsmodels.api as sm\n",
        "from statsmodels.stats.stattools import medcouple # Skewed datasets\n",
        "from scipy.stats import kstest # Kolmogorov-Smirnov Normality test\n",
        "\n"
      ]
    },
    {
      "cell_type": "markdown",
      "id": "cef343d4",
      "metadata": {
        "id": "cef343d4"
      },
      "source": [
        "### Reading the data and transform"
      ]
    },
    {
      "cell_type": "code",
      "execution_count": null,
      "id": "1665ca29",
      "metadata": {
        "id": "1665ca29",
        "outputId": "b47af346-a596-4216-8a65-08a63238b75a"
      },
      "outputs": [
        {
          "data": {
            "text/html": [
              "<div>\n",
              "<style scoped>\n",
              "    .dataframe tbody tr th:only-of-type {\n",
              "        vertical-align: middle;\n",
              "    }\n",
              "\n",
              "    .dataframe tbody tr th {\n",
              "        vertical-align: top;\n",
              "    }\n",
              "\n",
              "    .dataframe thead th {\n",
              "        text-align: right;\n",
              "    }\n",
              "</style>\n",
              "<table border=\"1\" class=\"dataframe\">\n",
              "  <thead>\n",
              "    <tr style=\"text-align: right;\">\n",
              "      <th></th>\n",
              "      <th>DROP</th>\n",
              "      <th>count</th>\n",
              "    </tr>\n",
              "  </thead>\n",
              "  <tbody>\n",
              "    <tr>\n",
              "      <th>0</th>\n",
              "      <td>-62</td>\n",
              "      <td>1</td>\n",
              "    </tr>\n",
              "    <tr>\n",
              "      <th>1</th>\n",
              "      <td>-55</td>\n",
              "      <td>1</td>\n",
              "    </tr>\n",
              "    <tr>\n",
              "      <th>2</th>\n",
              "      <td>-50</td>\n",
              "      <td>1</td>\n",
              "    </tr>\n",
              "    <tr>\n",
              "      <th>3</th>\n",
              "      <td>-47</td>\n",
              "      <td>1</td>\n",
              "    </tr>\n",
              "    <tr>\n",
              "      <th>4</th>\n",
              "      <td>-43</td>\n",
              "      <td>3</td>\n",
              "    </tr>\n",
              "  </tbody>\n",
              "</table>\n",
              "</div>"
            ],
            "text/plain": [
              "   DROP  count\n",
              "0   -62      1\n",
              "1   -55      1\n",
              "2   -50      1\n",
              "3   -47      1\n",
              "4   -43      3"
            ]
          },
          "execution_count": 145,
          "metadata": {},
          "output_type": "execute_result"
        }
      ],
      "source": [
        "# Read the original data\n",
        "\n",
        "df0 = pd.read_csv('dropm.txt', sep='\\s+', header=0)\n",
        "df0.head()"
      ]
    },
    {
      "cell_type": "code",
      "execution_count": null,
      "id": "4cfa4ac1",
      "metadata": {
        "id": "4cfa4ac1",
        "outputId": "2903c074-2b3f-461c-97d6-c388cdc714e8"
      },
      "outputs": [
        {
          "data": {
            "text/html": [
              "<div>\n",
              "<style scoped>\n",
              "    .dataframe tbody tr th:only-of-type {\n",
              "        vertical-align: middle;\n",
              "    }\n",
              "\n",
              "    .dataframe tbody tr th {\n",
              "        vertical-align: top;\n",
              "    }\n",
              "\n",
              "    .dataframe thead th {\n",
              "        text-align: right;\n",
              "    }\n",
              "</style>\n",
              "<table border=\"1\" class=\"dataframe\">\n",
              "  <thead>\n",
              "    <tr style=\"text-align: right;\">\n",
              "      <th></th>\n",
              "      <th>DROP</th>\n",
              "      <th>count</th>\n",
              "    </tr>\n",
              "  </thead>\n",
              "  <tbody>\n",
              "    <tr>\n",
              "      <th>0</th>\n",
              "      <td>62</td>\n",
              "      <td>1</td>\n",
              "    </tr>\n",
              "    <tr>\n",
              "      <th>1</th>\n",
              "      <td>55</td>\n",
              "      <td>1</td>\n",
              "    </tr>\n",
              "    <tr>\n",
              "      <th>2</th>\n",
              "      <td>50</td>\n",
              "      <td>1</td>\n",
              "    </tr>\n",
              "    <tr>\n",
              "      <th>3</th>\n",
              "      <td>47</td>\n",
              "      <td>1</td>\n",
              "    </tr>\n",
              "    <tr>\n",
              "      <th>4</th>\n",
              "      <td>43</td>\n",
              "      <td>3</td>\n",
              "    </tr>\n",
              "  </tbody>\n",
              "</table>\n",
              "</div>"
            ],
            "text/plain": [
              "   DROP  count\n",
              "0    62      1\n",
              "1    55      1\n",
              "2    50      1\n",
              "3    47      1\n",
              "4    43      3"
            ]
          },
          "execution_count": 146,
          "metadata": {},
          "output_type": "execute_result"
        }
      ],
      "source": [
        "# Reflect to positive values\n",
        "# Possibly it's a decaying exponential (?)\n",
        "\n",
        "df0['DROP'] *= -1\n",
        "df0.head()"
      ]
    },
    {
      "cell_type": "code",
      "execution_count": null,
      "id": "156447d7",
      "metadata": {
        "id": "156447d7",
        "outputId": "eae9d7a3-84bf-4544-936a-7f7aa2df8d40"
      },
      "outputs": [
        {
          "name": "stdout",
          "output_type": "stream",
          "text": [
            "<class 'pandas.core.frame.DataFrame'>\n",
            "RangeIndex: 41 entries, 0 to 40\n",
            "Data columns (total 2 columns):\n",
            " #   Column  Non-Null Count  Dtype\n",
            "---  ------  --------------  -----\n",
            " 0   DROP    41 non-null     int64\n",
            " 1   count   41 non-null     int64\n",
            "dtypes: int64(2)\n",
            "memory usage: 784.0 bytes\n"
          ]
        }
      ],
      "source": [
        "# Check genera information\n",
        "\n",
        "df0.info()"
      ]
    },
    {
      "cell_type": "code",
      "execution_count": null,
      "id": "84673ad8",
      "metadata": {
        "id": "84673ad8",
        "outputId": "edc341ec-507c-4cfb-bbc0-fc4379ea1917"
      },
      "outputs": [
        {
          "data": {
            "text/html": [
              "<div>\n",
              "<style scoped>\n",
              "    .dataframe tbody tr th:only-of-type {\n",
              "        vertical-align: middle;\n",
              "    }\n",
              "\n",
              "    .dataframe tbody tr th {\n",
              "        vertical-align: top;\n",
              "    }\n",
              "\n",
              "    .dataframe thead th {\n",
              "        text-align: right;\n",
              "    }\n",
              "</style>\n",
              "<table border=\"1\" class=\"dataframe\">\n",
              "  <thead>\n",
              "    <tr style=\"text-align: right;\">\n",
              "      <th></th>\n",
              "      <th>DROP</th>\n",
              "    </tr>\n",
              "  </thead>\n",
              "  <tbody>\n",
              "    <tr>\n",
              "      <th>0</th>\n",
              "      <td>0</td>\n",
              "    </tr>\n",
              "    <tr>\n",
              "      <th>1</th>\n",
              "      <td>1</td>\n",
              "    </tr>\n",
              "    <tr>\n",
              "      <th>2</th>\n",
              "      <td>2</td>\n",
              "    </tr>\n",
              "    <tr>\n",
              "      <th>3</th>\n",
              "      <td>3</td>\n",
              "    </tr>\n",
              "    <tr>\n",
              "      <th>4</th>\n",
              "      <td>4</td>\n",
              "    </tr>\n",
              "  </tbody>\n",
              "</table>\n",
              "</div>"
            ],
            "text/plain": [
              "   DROP\n",
              "0     0\n",
              "1     1\n",
              "2     2\n",
              "3     3\n",
              "4     4"
            ]
          },
          "execution_count": 149,
          "metadata": {},
          "output_type": "execute_result"
        }
      ],
      "source": [
        "# Create a sequential data column\n",
        "\n",
        "df1 = pd.DataFrame(np.arange(0,63), columns=['DROP'])\n",
        "df1.head()"
      ]
    },
    {
      "cell_type": "code",
      "execution_count": null,
      "id": "3a90cf7f",
      "metadata": {
        "id": "3a90cf7f",
        "outputId": "ba71704b-f903-44c9-8de6-432af3a95d27"
      },
      "outputs": [
        {
          "data": {
            "text/html": [
              "<div>\n",
              "<style scoped>\n",
              "    .dataframe tbody tr th:only-of-type {\n",
              "        vertical-align: middle;\n",
              "    }\n",
              "\n",
              "    .dataframe tbody tr th {\n",
              "        vertical-align: top;\n",
              "    }\n",
              "\n",
              "    .dataframe thead th {\n",
              "        text-align: right;\n",
              "    }\n",
              "</style>\n",
              "<table border=\"1\" class=\"dataframe\">\n",
              "  <thead>\n",
              "    <tr style=\"text-align: right;\">\n",
              "      <th></th>\n",
              "      <th>DROP</th>\n",
              "    </tr>\n",
              "  </thead>\n",
              "  <tbody>\n",
              "    <tr>\n",
              "      <th>58</th>\n",
              "      <td>58</td>\n",
              "    </tr>\n",
              "    <tr>\n",
              "      <th>59</th>\n",
              "      <td>59</td>\n",
              "    </tr>\n",
              "    <tr>\n",
              "      <th>60</th>\n",
              "      <td>60</td>\n",
              "    </tr>\n",
              "    <tr>\n",
              "      <th>61</th>\n",
              "      <td>61</td>\n",
              "    </tr>\n",
              "    <tr>\n",
              "      <th>62</th>\n",
              "      <td>62</td>\n",
              "    </tr>\n",
              "  </tbody>\n",
              "</table>\n",
              "</div>"
            ],
            "text/plain": [
              "    DROP\n",
              "58    58\n",
              "59    59\n",
              "60    60\n",
              "61    61\n",
              "62    62"
            ]
          },
          "execution_count": 150,
          "metadata": {},
          "output_type": "execute_result"
        }
      ],
      "source": [
        "df1.tail()"
      ]
    },
    {
      "cell_type": "code",
      "execution_count": null,
      "id": "eeb282f4",
      "metadata": {
        "id": "eeb282f4",
        "outputId": "744890d0-a3b6-4734-9172-e3f9a171db45"
      },
      "outputs": [
        {
          "data": {
            "text/html": [
              "<div>\n",
              "<style scoped>\n",
              "    .dataframe tbody tr th:only-of-type {\n",
              "        vertical-align: middle;\n",
              "    }\n",
              "\n",
              "    .dataframe tbody tr th {\n",
              "        vertical-align: top;\n",
              "    }\n",
              "\n",
              "    .dataframe thead th {\n",
              "        text-align: right;\n",
              "    }\n",
              "</style>\n",
              "<table border=\"1\" class=\"dataframe\">\n",
              "  <thead>\n",
              "    <tr style=\"text-align: right;\">\n",
              "      <th></th>\n",
              "      <th>DROP</th>\n",
              "      <th>count</th>\n",
              "    </tr>\n",
              "  </thead>\n",
              "  <tbody>\n",
              "    <tr>\n",
              "      <th>0</th>\n",
              "      <td>0</td>\n",
              "      <td>1361.0</td>\n",
              "    </tr>\n",
              "    <tr>\n",
              "      <th>1</th>\n",
              "      <td>1</td>\n",
              "      <td>89.0</td>\n",
              "    </tr>\n",
              "    <tr>\n",
              "      <th>2</th>\n",
              "      <td>2</td>\n",
              "      <td>114.0</td>\n",
              "    </tr>\n",
              "    <tr>\n",
              "      <th>3</th>\n",
              "      <td>3</td>\n",
              "      <td>111.0</td>\n",
              "    </tr>\n",
              "    <tr>\n",
              "      <th>4</th>\n",
              "      <td>4</td>\n",
              "      <td>69.0</td>\n",
              "    </tr>\n",
              "    <tr>\n",
              "      <th>5</th>\n",
              "      <td>5</td>\n",
              "      <td>130.0</td>\n",
              "    </tr>\n",
              "    <tr>\n",
              "      <th>6</th>\n",
              "      <td>6</td>\n",
              "      <td>80.0</td>\n",
              "    </tr>\n",
              "    <tr>\n",
              "      <th>7</th>\n",
              "      <td>7</td>\n",
              "      <td>58.0</td>\n",
              "    </tr>\n",
              "    <tr>\n",
              "      <th>8</th>\n",
              "      <td>8</td>\n",
              "      <td>71.0</td>\n",
              "    </tr>\n",
              "    <tr>\n",
              "      <th>9</th>\n",
              "      <td>9</td>\n",
              "      <td>8.0</td>\n",
              "    </tr>\n",
              "    <tr>\n",
              "      <th>10</th>\n",
              "      <td>10</td>\n",
              "      <td>58.0</td>\n",
              "    </tr>\n",
              "    <tr>\n",
              "      <th>11</th>\n",
              "      <td>11</td>\n",
              "      <td>28.0</td>\n",
              "    </tr>\n",
              "    <tr>\n",
              "      <th>12</th>\n",
              "      <td>12</td>\n",
              "      <td>27.0</td>\n",
              "    </tr>\n",
              "    <tr>\n",
              "      <th>13</th>\n",
              "      <td>13</td>\n",
              "      <td>18.0</td>\n",
              "    </tr>\n",
              "    <tr>\n",
              "      <th>14</th>\n",
              "      <td>14</td>\n",
              "      <td>10.0</td>\n",
              "    </tr>\n",
              "    <tr>\n",
              "      <th>15</th>\n",
              "      <td>15</td>\n",
              "      <td>11.0</td>\n",
              "    </tr>\n",
              "    <tr>\n",
              "      <th>16</th>\n",
              "      <td>16</td>\n",
              "      <td>14.0</td>\n",
              "    </tr>\n",
              "    <tr>\n",
              "      <th>17</th>\n",
              "      <td>17</td>\n",
              "      <td>5.0</td>\n",
              "    </tr>\n",
              "    <tr>\n",
              "      <th>18</th>\n",
              "      <td>18</td>\n",
              "      <td>5.0</td>\n",
              "    </tr>\n",
              "    <tr>\n",
              "      <th>19</th>\n",
              "      <td>19</td>\n",
              "      <td>5.0</td>\n",
              "    </tr>\n",
              "  </tbody>\n",
              "</table>\n",
              "</div>"
            ],
            "text/plain": [
              "    DROP   count\n",
              "0      0  1361.0\n",
              "1      1    89.0\n",
              "2      2   114.0\n",
              "3      3   111.0\n",
              "4      4    69.0\n",
              "5      5   130.0\n",
              "6      6    80.0\n",
              "7      7    58.0\n",
              "8      8    71.0\n",
              "9      9     8.0\n",
              "10    10    58.0\n",
              "11    11    28.0\n",
              "12    12    27.0\n",
              "13    13    18.0\n",
              "14    14    10.0\n",
              "15    15    11.0\n",
              "16    16    14.0\n",
              "17    17     5.0\n",
              "18    18     5.0\n",
              "19    19     5.0"
            ]
          },
          "execution_count": 257,
          "metadata": {},
          "output_type": "execute_result"
        }
      ],
      "source": [
        "# Merge original data df0 and sequential data df1\n",
        "# Create a new dataframe combining two previous dataframe\n",
        "\n",
        "df_tmp = pd.merge_ordered(df1, df0, fill_method=\"ffill\", left_by=\"DROP\")\n",
        "df_tmp.head(20)\n"
      ]
    },
    {
      "cell_type": "code",
      "execution_count": null,
      "id": "0a23b8b2",
      "metadata": {
        "id": "0a23b8b2",
        "outputId": "3fb45c0b-36a1-439b-83af-3b5e9a39f71e"
      },
      "outputs": [
        {
          "data": {
            "text/html": [
              "<div>\n",
              "<style scoped>\n",
              "    .dataframe tbody tr th:only-of-type {\n",
              "        vertical-align: middle;\n",
              "    }\n",
              "\n",
              "    .dataframe tbody tr th {\n",
              "        vertical-align: top;\n",
              "    }\n",
              "\n",
              "    .dataframe thead th {\n",
              "        text-align: right;\n",
              "    }\n",
              "</style>\n",
              "<table border=\"1\" class=\"dataframe\">\n",
              "  <thead>\n",
              "    <tr style=\"text-align: right;\">\n",
              "      <th></th>\n",
              "      <th>DROP</th>\n",
              "      <th>count</th>\n",
              "    </tr>\n",
              "  </thead>\n",
              "  <tbody>\n",
              "    <tr>\n",
              "      <th>53</th>\n",
              "      <td>53</td>\n",
              "      <td>NaN</td>\n",
              "    </tr>\n",
              "    <tr>\n",
              "      <th>54</th>\n",
              "      <td>54</td>\n",
              "      <td>NaN</td>\n",
              "    </tr>\n",
              "    <tr>\n",
              "      <th>55</th>\n",
              "      <td>55</td>\n",
              "      <td>1.0</td>\n",
              "    </tr>\n",
              "    <tr>\n",
              "      <th>56</th>\n",
              "      <td>56</td>\n",
              "      <td>NaN</td>\n",
              "    </tr>\n",
              "    <tr>\n",
              "      <th>57</th>\n",
              "      <td>57</td>\n",
              "      <td>NaN</td>\n",
              "    </tr>\n",
              "    <tr>\n",
              "      <th>58</th>\n",
              "      <td>58</td>\n",
              "      <td>NaN</td>\n",
              "    </tr>\n",
              "    <tr>\n",
              "      <th>59</th>\n",
              "      <td>59</td>\n",
              "      <td>NaN</td>\n",
              "    </tr>\n",
              "    <tr>\n",
              "      <th>60</th>\n",
              "      <td>60</td>\n",
              "      <td>NaN</td>\n",
              "    </tr>\n",
              "    <tr>\n",
              "      <th>61</th>\n",
              "      <td>61</td>\n",
              "      <td>NaN</td>\n",
              "    </tr>\n",
              "    <tr>\n",
              "      <th>62</th>\n",
              "      <td>62</td>\n",
              "      <td>1.0</td>\n",
              "    </tr>\n",
              "  </tbody>\n",
              "</table>\n",
              "</div>"
            ],
            "text/plain": [
              "    DROP  count\n",
              "53    53    NaN\n",
              "54    54    NaN\n",
              "55    55    1.0\n",
              "56    56    NaN\n",
              "57    57    NaN\n",
              "58    58    NaN\n",
              "59    59    NaN\n",
              "60    60    NaN\n",
              "61    61    NaN\n",
              "62    62    1.0"
            ]
          },
          "execution_count": 258,
          "metadata": {},
          "output_type": "execute_result"
        }
      ],
      "source": [
        "df_tmp.tail(10)"
      ]
    },
    {
      "cell_type": "code",
      "execution_count": null,
      "id": "6507c29a",
      "metadata": {
        "id": "6507c29a",
        "outputId": "b11bfba5-9bba-4718-965a-f39faf611c85"
      },
      "outputs": [
        {
          "name": "stdout",
          "output_type": "stream",
          "text": [
            "<class 'pandas.core.frame.DataFrame'>\n",
            "RangeIndex: 63 entries, 0 to 62\n",
            "Data columns (total 2 columns):\n",
            " #   Column  Non-Null Count  Dtype  \n",
            "---  ------  --------------  -----  \n",
            " 0   DROP    63 non-null     int64  \n",
            " 1   count   41 non-null     float64\n",
            "dtypes: float64(1), int64(1)\n",
            "memory usage: 1.1 KB\n"
          ]
        }
      ],
      "source": [
        "# General dataframe info\n",
        "\n",
        "df_tmp.info()"
      ]
    },
    {
      "cell_type": "code",
      "execution_count": null,
      "id": "a2975609",
      "metadata": {
        "id": "a2975609",
        "outputId": "84d70714-f1aa-4ed4-a529-f30b54f5ce0a"
      },
      "outputs": [
        {
          "name": "stdout",
          "output_type": "stream",
          "text": [
            "<class 'pandas.core.frame.DataFrame'>\n",
            "RangeIndex: 63 entries, 0 to 62\n",
            "Data columns (total 2 columns):\n",
            " #   Column  Non-Null Count  Dtype  \n",
            "---  ------  --------------  -----  \n",
            " 0   DROP    63 non-null     int64  \n",
            " 1   count   63 non-null     float64\n",
            "dtypes: float64(1), int64(1)\n",
            "memory usage: 1.1 KB\n"
          ]
        }
      ],
      "source": [
        "# Replace NaN (missing numbers) with zero\n",
        "\n",
        "df_tmp = df_tmp.fillna(0)\n",
        "df_tmp.info()"
      ]
    },
    {
      "cell_type": "code",
      "execution_count": null,
      "id": "84cbb7f3",
      "metadata": {
        "id": "84cbb7f3",
        "outputId": "67cdd78b-9a99-4c70-a9b2-b9db38e126df"
      },
      "outputs": [
        {
          "data": {
            "text/html": [
              "<div>\n",
              "<style scoped>\n",
              "    .dataframe tbody tr th:only-of-type {\n",
              "        vertical-align: middle;\n",
              "    }\n",
              "\n",
              "    .dataframe tbody tr th {\n",
              "        vertical-align: top;\n",
              "    }\n",
              "\n",
              "    .dataframe thead th {\n",
              "        text-align: right;\n",
              "    }\n",
              "</style>\n",
              "<table border=\"1\" class=\"dataframe\">\n",
              "  <thead>\n",
              "    <tr style=\"text-align: right;\">\n",
              "      <th></th>\n",
              "      <th>DROP</th>\n",
              "      <th>count</th>\n",
              "    </tr>\n",
              "  </thead>\n",
              "  <tbody>\n",
              "    <tr>\n",
              "      <th>58</th>\n",
              "      <td>58</td>\n",
              "      <td>0.0</td>\n",
              "    </tr>\n",
              "    <tr>\n",
              "      <th>59</th>\n",
              "      <td>59</td>\n",
              "      <td>0.0</td>\n",
              "    </tr>\n",
              "    <tr>\n",
              "      <th>60</th>\n",
              "      <td>60</td>\n",
              "      <td>0.0</td>\n",
              "    </tr>\n",
              "    <tr>\n",
              "      <th>61</th>\n",
              "      <td>61</td>\n",
              "      <td>0.0</td>\n",
              "    </tr>\n",
              "    <tr>\n",
              "      <th>62</th>\n",
              "      <td>62</td>\n",
              "      <td>1.0</td>\n",
              "    </tr>\n",
              "  </tbody>\n",
              "</table>\n",
              "</div>"
            ],
            "text/plain": [
              "    DROP  count\n",
              "58    58    0.0\n",
              "59    59    0.0\n",
              "60    60    0.0\n",
              "61    61    0.0\n",
              "62    62    1.0"
            ]
          },
          "execution_count": 260,
          "metadata": {},
          "output_type": "execute_result"
        }
      ],
      "source": [
        "df_tmp.tail()"
      ]
    },
    {
      "cell_type": "code",
      "execution_count": null,
      "id": "65f623ef",
      "metadata": {
        "id": "65f623ef",
        "outputId": "3c2197ea-805c-4908-d4e6-92550f20f3e8"
      },
      "outputs": [
        {
          "data": {
            "text/html": [
              "<div>\n",
              "<style scoped>\n",
              "    .dataframe tbody tr th:only-of-type {\n",
              "        vertical-align: middle;\n",
              "    }\n",
              "\n",
              "    .dataframe tbody tr th {\n",
              "        vertical-align: top;\n",
              "    }\n",
              "\n",
              "    .dataframe thead th {\n",
              "        text-align: right;\n",
              "    }\n",
              "</style>\n",
              "<table border=\"1\" class=\"dataframe\">\n",
              "  <thead>\n",
              "    <tr style=\"text-align: right;\">\n",
              "      <th></th>\n",
              "      <th>DROP</th>\n",
              "      <th>count</th>\n",
              "    </tr>\n",
              "  </thead>\n",
              "  <tbody>\n",
              "    <tr>\n",
              "      <th>count</th>\n",
              "      <td>63.000000</td>\n",
              "      <td>63.000000</td>\n",
              "    </tr>\n",
              "    <tr>\n",
              "      <th>mean</th>\n",
              "      <td>31.000000</td>\n",
              "      <td>36.761905</td>\n",
              "    </tr>\n",
              "    <tr>\n",
              "      <th>std</th>\n",
              "      <td>18.330303</td>\n",
              "      <td>172.401886</td>\n",
              "    </tr>\n",
              "    <tr>\n",
              "      <th>min</th>\n",
              "      <td>0.000000</td>\n",
              "      <td>0.000000</td>\n",
              "    </tr>\n",
              "    <tr>\n",
              "      <th>25%</th>\n",
              "      <td>15.500000</td>\n",
              "      <td>0.000000</td>\n",
              "    </tr>\n",
              "    <tr>\n",
              "      <th>50%</th>\n",
              "      <td>31.000000</td>\n",
              "      <td>1.000000</td>\n",
              "    </tr>\n",
              "    <tr>\n",
              "      <th>75%</th>\n",
              "      <td>46.500000</td>\n",
              "      <td>9.000000</td>\n",
              "    </tr>\n",
              "    <tr>\n",
              "      <th>max</th>\n",
              "      <td>62.000000</td>\n",
              "      <td>1361.000000</td>\n",
              "    </tr>\n",
              "  </tbody>\n",
              "</table>\n",
              "</div>"
            ],
            "text/plain": [
              "            DROP        count\n",
              "count  63.000000    63.000000\n",
              "mean   31.000000    36.761905\n",
              "std    18.330303   172.401886\n",
              "min     0.000000     0.000000\n",
              "25%    15.500000     0.000000\n",
              "50%    31.000000     1.000000\n",
              "75%    46.500000     9.000000\n",
              "max    62.000000  1361.000000"
            ]
          },
          "execution_count": 261,
          "metadata": {},
          "output_type": "execute_result"
        }
      ],
      "source": [
        "# Basic statistics\n",
        "\n",
        "df_tmp.describe()"
      ]
    },
    {
      "cell_type": "code",
      "execution_count": null,
      "id": "fe35adfd",
      "metadata": {
        "id": "fe35adfd",
        "outputId": "cbd45ad0-26a7-430d-d908-fd5f302494e0"
      },
      "outputs": [
        {
          "data": {
            "image/png": "[encoded data removed]",
            "text/plain": [
              "<Figure size 640x480 with 1 Axes>"
            ]
          },
          "metadata": {},
          "output_type": "display_data"
        }
      ],
      "source": [
        "# Scatterplot of original dataset (No transformation)\n",
        "\n",
        "sns.set_theme(style=\"whitegrid\", palette=\"pastel\")\n",
        "sns.scatterplot(data=df_tmp, x=\"DROP\", y=\"count\");"
      ]
    },
    {
      "cell_type": "code",
      "execution_count": null,
      "id": "8c873b96",
      "metadata": {
        "id": "8c873b96",
        "outputId": "9dfe75aa-734d-4a25-be34-06103d3c7e4f"
      },
      "outputs": [
        {
          "name": "stdout",
          "output_type": "stream",
          "text": [
            "Mean= 36.76190476190476\n",
            "StdDev= 172.40188554145467\n",
            "Skewness= 7.548533725204234\n",
            "Kurtosis= 58.70444671174729\n",
            "Lambda= 0.027202072538860107\n"
          ]
        }
      ],
      "source": [
        "# General dataset statistics\n",
        "\n",
        "ave_count = df_tmp['count'].mean()\n",
        "std_count = df_tmp['count'].std()\n",
        "skew_count = df_tmp['count'].skew()\n",
        "kurt_count = df_tmp['count'].kurtosis()\n",
        "\n",
        "print('Mean=', ave_count)\n",
        "print('StdDev=', std_count)\n",
        "print('Skewness=', skew_count)\n",
        "print('Kurtosis=', kurt_count)\n",
        "\n",
        "# lambda = 1/average in exponential distribution\n",
        "lmbd = 1.0/ave_count\n",
        "print('Lambda=', lmbd)"
      ]
    },
    {
      "cell_type": "markdown",
      "id": "03971528",
      "metadata": {
        "id": "03971528"
      },
      "source": [
        "**The data do not a pure exponential probability distribution.**\n",
        "\n",
        "(See: [Exponential Distribution properties](https://en.wikipedia.org/wiki/Exponential_distribution))\n"
      ]
    },
    {
      "cell_type": "code",
      "execution_count": null,
      "id": "941ac064",
      "metadata": {
        "id": "941ac064",
        "outputId": "5336cd87-b768-47f3-fdf2-a6be88052ef4"
      },
      "outputs": [
        {
          "data": {
            "image/png": "[encoded data removed]",
            "text/plain": [
              "<Figure size 640x480 with 1 Axes>"
            ]
          },
          "metadata": {},
          "output_type": "display_data"
        }
      ],
      "source": [
        "# Empirical Cummulative Distribution Function\n",
        "\n",
        "sns.set_theme(style=\"whitegrid\", palette=\"pastel\")\n",
        "sns.ecdfplot(data=df_tmp, x=\"count\");"
      ]
    },
    {
      "cell_type": "markdown",
      "id": "d7292b12",
      "metadata": {
        "id": "d7292b12"
      },
      "source": [
        "### Use a Log transform for the count variable\n",
        "\n",
        "Since count can have zero values will use $\\log (x+1)$ transformation"
      ]
    },
    {
      "cell_type": "code",
      "execution_count": null,
      "id": "103c23df",
      "metadata": {
        "id": "103c23df",
        "outputId": "7cdb840c-df96-427a-eb62-6c19f0a0fc64"
      },
      "outputs": [
        {
          "data": {
            "text/html": [
              "<div>\n",
              "<style scoped>\n",
              "    .dataframe tbody tr th:only-of-type {\n",
              "        vertical-align: middle;\n",
              "    }\n",
              "\n",
              "    .dataframe tbody tr th {\n",
              "        vertical-align: top;\n",
              "    }\n",
              "\n",
              "    .dataframe thead th {\n",
              "        text-align: right;\n",
              "    }\n",
              "</style>\n",
              "<table border=\"1\" class=\"dataframe\">\n",
              "  <thead>\n",
              "    <tr style=\"text-align: right;\">\n",
              "      <th></th>\n",
              "      <th>DROP</th>\n",
              "      <th>count</th>\n",
              "      <th>transf</th>\n",
              "    </tr>\n",
              "  </thead>\n",
              "  <tbody>\n",
              "    <tr>\n",
              "      <th>0</th>\n",
              "      <td>0</td>\n",
              "      <td>1361.0</td>\n",
              "      <td>7.216709</td>\n",
              "    </tr>\n",
              "    <tr>\n",
              "      <th>1</th>\n",
              "      <td>1</td>\n",
              "      <td>89.0</td>\n",
              "      <td>4.499810</td>\n",
              "    </tr>\n",
              "    <tr>\n",
              "      <th>2</th>\n",
              "      <td>2</td>\n",
              "      <td>114.0</td>\n",
              "      <td>4.744932</td>\n",
              "    </tr>\n",
              "    <tr>\n",
              "      <th>3</th>\n",
              "      <td>3</td>\n",
              "      <td>111.0</td>\n",
              "      <td>4.718499</td>\n",
              "    </tr>\n",
              "    <tr>\n",
              "      <th>4</th>\n",
              "      <td>4</td>\n",
              "      <td>69.0</td>\n",
              "      <td>4.248495</td>\n",
              "    </tr>\n",
              "  </tbody>\n",
              "</table>\n",
              "</div>"
            ],
            "text/plain": [
              "   DROP   count    transf\n",
              "0     0  1361.0  7.216709\n",
              "1     1    89.0  4.499810\n",
              "2     2   114.0  4.744932\n",
              "3     3   111.0  4.718499\n",
              "4     4    69.0  4.248495"
            ]
          },
          "execution_count": 296,
          "metadata": {},
          "output_type": "execute_result"
        }
      ],
      "source": [
        "# Make a variable transformation for 'count' using Log(x+1) \n",
        "# Define a new column of the dataframe df_tmp\n",
        "\n",
        "df_tmp['transf'] = np.log(df_tmp['count'] + 1.0)\n",
        "df_tmp.head()"
      ]
    },
    {
      "cell_type": "code",
      "execution_count": null,
      "id": "169a6bcf",
      "metadata": {
        "id": "169a6bcf",
        "outputId": "22b24d97-0d61-49c3-8270-8edd4fec417e"
      },
      "outputs": [
        {
          "name": "stdout",
          "output_type": "stream",
          "text": [
            "<class 'pandas.core.frame.DataFrame'>\n",
            "RangeIndex: 63 entries, 0 to 62\n",
            "Data columns (total 3 columns):\n",
            " #   Column  Non-Null Count  Dtype  \n",
            "---  ------  --------------  -----  \n",
            " 0   DROP    63 non-null     int64  \n",
            " 1   count   63 non-null     float64\n",
            " 2   transf  63 non-null     float64\n",
            "dtypes: float64(2), int64(1)\n",
            "memory usage: 1.6 KB\n"
          ]
        }
      ],
      "source": [
        "df_tmp.info()"
      ]
    },
    {
      "cell_type": "code",
      "execution_count": null,
      "id": "d65a9603",
      "metadata": {
        "id": "d65a9603",
        "outputId": "e1714764-217e-47de-eee0-a5d9bfa8bd68"
      },
      "outputs": [
        {
          "name": "stdout",
          "output_type": "stream",
          "text": [
            "<class 'pandas.core.frame.DataFrame'>\n",
            "RangeIndex: 63 entries, 0 to 62\n",
            "Data columns (total 3 columns):\n",
            " #   Column  Non-Null Count  Dtype  \n",
            "---  ------  --------------  -----  \n",
            " 0   DROP    63 non-null     int64  \n",
            " 1   count   63 non-null     float64\n",
            " 2   transf  63 non-null     float64\n",
            "dtypes: float64(2), int64(1)\n",
            "memory usage: 1.6 KB\n"
          ]
        }
      ],
      "source": [
        "# Replace NaN (missing numbers) with zero\n",
        "df_tmp = df_tmp.fillna(0)\n",
        "df_tmp.info()"
      ]
    },
    {
      "cell_type": "code",
      "execution_count": null,
      "id": "e971b4f8",
      "metadata": {
        "id": "e971b4f8",
        "outputId": "f2a4e0fe-e745-46ec-c875-7af0885fe96b"
      },
      "outputs": [
        {
          "data": {
            "text/html": [
              "<div>\n",
              "<style scoped>\n",
              "    .dataframe tbody tr th:only-of-type {\n",
              "        vertical-align: middle;\n",
              "    }\n",
              "\n",
              "    .dataframe tbody tr th {\n",
              "        vertical-align: top;\n",
              "    }\n",
              "\n",
              "    .dataframe thead th {\n",
              "        text-align: right;\n",
              "    }\n",
              "</style>\n",
              "<table border=\"1\" class=\"dataframe\">\n",
              "  <thead>\n",
              "    <tr style=\"text-align: right;\">\n",
              "      <th></th>\n",
              "      <th>DROP</th>\n",
              "      <th>count</th>\n",
              "      <th>transf</th>\n",
              "    </tr>\n",
              "  </thead>\n",
              "  <tbody>\n",
              "    <tr>\n",
              "      <th>count</th>\n",
              "      <td>63.000000</td>\n",
              "      <td>63.000000</td>\n",
              "      <td>63.000000</td>\n",
              "    </tr>\n",
              "    <tr>\n",
              "      <th>mean</th>\n",
              "      <td>31.000000</td>\n",
              "      <td>36.761905</td>\n",
              "      <td>1.484551</td>\n",
              "    </tr>\n",
              "    <tr>\n",
              "      <th>std</th>\n",
              "      <td>18.330303</td>\n",
              "      <td>172.401886</td>\n",
              "      <td>1.711787</td>\n",
              "    </tr>\n",
              "    <tr>\n",
              "      <th>min</th>\n",
              "      <td>0.000000</td>\n",
              "      <td>0.000000</td>\n",
              "      <td>0.000000</td>\n",
              "    </tr>\n",
              "    <tr>\n",
              "      <th>25%</th>\n",
              "      <td>15.500000</td>\n",
              "      <td>0.000000</td>\n",
              "      <td>0.000000</td>\n",
              "    </tr>\n",
              "    <tr>\n",
              "      <th>50%</th>\n",
              "      <td>31.000000</td>\n",
              "      <td>1.000000</td>\n",
              "      <td>0.693147</td>\n",
              "    </tr>\n",
              "    <tr>\n",
              "      <th>75%</th>\n",
              "      <td>46.500000</td>\n",
              "      <td>9.000000</td>\n",
              "      <td>2.297560</td>\n",
              "    </tr>\n",
              "    <tr>\n",
              "      <th>max</th>\n",
              "      <td>62.000000</td>\n",
              "      <td>1361.000000</td>\n",
              "      <td>7.216709</td>\n",
              "    </tr>\n",
              "  </tbody>\n",
              "</table>\n",
              "</div>"
            ],
            "text/plain": [
              "            DROP        count     transf\n",
              "count  63.000000    63.000000  63.000000\n",
              "mean   31.000000    36.761905   1.484551\n",
              "std    18.330303   172.401886   1.711787\n",
              "min     0.000000     0.000000   0.000000\n",
              "25%    15.500000     0.000000   0.000000\n",
              "50%    31.000000     1.000000   0.693147\n",
              "75%    46.500000     9.000000   2.297560\n",
              "max    62.000000  1361.000000   7.216709"
            ]
          },
          "execution_count": 299,
          "metadata": {},
          "output_type": "execute_result"
        }
      ],
      "source": [
        "# General statistics\n",
        "df_tmp.describe()"
      ]
    },
    {
      "cell_type": "code",
      "execution_count": null,
      "id": "9bbe2133",
      "metadata": {
        "id": "9bbe2133",
        "outputId": "25b5e8d5-cbc6-4986-c8e0-0a33d452f2e6"
      },
      "outputs": [
        {
          "data": {
            "image/png": "[encoded data removed]",
            "text/plain": [
              "<Figure size 640x480 with 1 Axes>"
            ]
          },
          "metadata": {},
          "output_type": "display_data"
        }
      ],
      "source": [
        "# Scatterplot in the transformed Log variable\n",
        "\n",
        "sns.set_theme(style=\"whitegrid\", palette=\"pastel\")\n",
        "sns.scatterplot(data=df_tmp, x=\"DROP\", y=\"transf\");\n"
      ]
    },
    {
      "cell_type": "code",
      "execution_count": null,
      "id": "f005d05b",
      "metadata": {
        "id": "f005d05b",
        "outputId": "a3a0523b-b9a3-4e76-8a7f-875d59d4034c"
      },
      "outputs": [
        {
          "data": {
            "image/png": "[encoded data removed]",
            "text/plain": [
              "<Figure size 640x480 with 1 Axes>"
            ]
          },
          "metadata": {},
          "output_type": "display_data"
        }
      ],
      "source": [
        "# Line plot (not good)\n",
        "\n",
        "sns.set_theme(style=\"whitegrid\", palette=\"pastel\")\n",
        "sns.lineplot(data=df_tmp, x=\"DROP\", y=\"transf\");"
      ]
    },
    {
      "cell_type": "code",
      "execution_count": null,
      "id": "49d7d33c",
      "metadata": {
        "id": "49d7d33c",
        "outputId": "7f7c394d-6185-420b-906f-927ffe1f5d54"
      },
      "outputs": [
        {
          "data": {
            "image/png": "[encoded data removed]",
            "text/plain": [
              "<Figure size 500x500 with 1 Axes>"
            ]
          },
          "metadata": {},
          "output_type": "display_data"
        }
      ],
      "source": [
        "# Fit a linear function \n",
        "\n",
        "sns.set_theme(style=\"whitegrid\", palette=\"pastel\")\n",
        "sns.lmplot(x=\"DROP\", y=\"transf\", data=df_tmp, x_estimator=np.mean);"
      ]
    },
    {
      "cell_type": "code",
      "execution_count": null,
      "id": "fed52d10",
      "metadata": {
        "id": "fed52d10",
        "outputId": "5b583e3e-121e-482e-97f8-2797dbfe9867"
      },
      "outputs": [
        {
          "data": {
            "image/png": "[encoded data removed]",
            "text/plain": [
              "<Figure size 500x500 with 1 Axes>"
            ]
          },
          "metadata": {},
          "output_type": "display_data"
        }
      ],
      "source": [
        "# Fit a second order polynomial\n",
        "\n",
        "sns.set_theme(style=\"whitegrid\", palette=\"pastel\")\n",
        "sns.lmplot(x=\"DROP\", y=\"transf\", data=df_tmp,\n",
        "           order=2,  x_estimator=np.mean);"
      ]
    },
    {
      "cell_type": "markdown",
      "id": "a86949d2",
      "metadata": {
        "id": "a86949d2"
      },
      "source": [
        "Comparison between transformed variable and using simply a log y scale."
      ]
    },
    {
      "cell_type": "code",
      "execution_count": null,
      "id": "a1420b19",
      "metadata": {
        "id": "a1420b19",
        "outputId": "c244144c-6f54-4512-c28c-0a8f26de8b9f"
      },
      "outputs": [
        {
          "data": {
            "image/png": "[encoded data removed]",
            "text/plain": [
              "<Figure size 640x480 with 1 Axes>"
            ]
          },
          "metadata": {},
          "output_type": "display_data"
        }
      ],
      "source": [
        "# Barplot (histogram) of transformed variable\n",
        "\n",
        "sns.set_theme(style=\"whitegrid\", palette=\"pastel\")\n",
        "g=sns.barplot(data=df_tmp, x=\"DROP\", y=\"transf\")\n",
        "\n",
        "# Use Log scale\n",
        "#g.set_yscale(\"log\")\n",
        "\n",
        "plt.locator_params(nbins=12, axis='x')\n",
        "\n",
        "# Rotating X-axis labels\n",
        "plt.xticks(rotation = 30);\n"
      ]
    },
    {
      "cell_type": "code",
      "execution_count": null,
      "id": "2c3c7320",
      "metadata": {
        "id": "2c3c7320",
        "outputId": "63a7b1e0-8e0c-4a85-d24b-7a94f9eb3424"
      },
      "outputs": [
        {
          "data": {
            "image/png": "[encoded data removed]",
            "text/plain": [
              "<Figure size 640x480 with 1 Axes>"
            ]
          },
          "metadata": {},
          "output_type": "display_data"
        }
      ],
      "source": [
        "# For illustration purposes, only used y-log scale in plot\n",
        "# Barplot (histogram)\n",
        "\n",
        "sns.set_theme(style=\"whitegrid\", palette=\"pastel\")\n",
        "g=sns.barplot(data=df_tmp, x=\"DROP\", y=\"count\")\n",
        "\n",
        "# Use Log scale\n",
        "g.set_yscale(\"log\")\n",
        "\n",
        "plt.locator_params(nbins=12, axis='x')\n",
        "\n",
        "# Rotating X-axis labels\n",
        "plt.xticks(rotation = 30);"
      ]
    },
    {
      "cell_type": "code",
      "execution_count": null,
      "id": "83051bd2",
      "metadata": {
        "id": "83051bd2",
        "outputId": "a3909d63-183b-4638-c647-a17468b12753"
      },
      "outputs": [
        {
          "data": {
            "image/png": "[encoded data removed]",
            "text/plain": [
              "<Figure size 640x480 with 1 Axes>"
            ]
          },
          "metadata": {},
          "output_type": "display_data"
        }
      ],
      "source": [
        "# Boxplot of the transformed variable\n",
        "\n",
        "sns.set_theme(style=\"whitegrid\", palette=\"pastel\")\n",
        "sns.boxplot(x=df_tmp['transf']);\n"
      ]
    },
    {
      "cell_type": "code",
      "execution_count": null,
      "id": "37362fcc",
      "metadata": {
        "id": "37362fcc",
        "outputId": "8cb2f361-7dd7-46d6-8a2b-245d7007137a"
      },
      "outputs": [
        {
          "data": {
            "image/png": "[encoded data removed]",
            "text/plain": [
              "<Figure size 1000x600 with 1 Axes>"
            ]
          },
          "metadata": {},
          "output_type": "display_data"
        }
      ],
      "source": [
        "# Boxplot with scatterplot of transformed data\n",
        "\n",
        "sns.set_theme(style=\"whitegrid\", palette=\"pastel\")\n",
        "\n",
        "# Initialize the figure with a logarithmic x axis\n",
        "f, ax = plt.subplots(figsize=(10, 6))\n",
        "#ax.set_xscale(\"log\")\n",
        "\n",
        "# Plot the orbital period with horizontal boxes\n",
        "sns.boxplot(x=\"transf\", data=df_tmp)\n",
        "\n",
        "# Add in points to show each observation\n",
        "sns.stripplot(x='transf', data=df_tmp,\n",
        "              size=4, color=\".3\", linewidth=0)\n",
        "\n",
        "# Tweak the visual presentation\n",
        "ax.xaxis.grid(True)\n",
        "ax.set(ylabel=\" \")\n",
        "sns.despine(trim=True, left=True)"
      ]
    },
    {
      "cell_type": "code",
      "execution_count": null,
      "id": "9112831d",
      "metadata": {
        "id": "9112831d",
        "outputId": "ad543106-b2a2-4994-99f0-5db8c569a312"
      },
      "outputs": [
        {
          "name": "stdout",
          "output_type": "stream",
          "text": [
            "0.48808395038036895\n"
          ]
        }
      ],
      "source": [
        "# Followed paper: An adjusted boxplot for skewed distributions. \n",
        "# M. Hubert, E. Vandervieren / Computational Statistics and Data Analysis 52 (2008) 5186–5201\n",
        "   \n",
        "# Using statsmodels.medcouple() method\n",
        "\n",
        "MC = medcouple(df_tmp['transf'])\n",
        "   \n",
        "print(MC)\n"
      ]
    },
    {
      "cell_type": "code",
      "execution_count": null,
      "id": "35200f77",
      "metadata": {
        "id": "35200f77",
        "outputId": "d370b1fb-ed07-4967-8663-8d230730a78a"
      },
      "outputs": [
        {
          "data": {
            "text/plain": [
              "0.25    0.000000\n",
              "0.50    0.693147\n",
              "0.75    2.297560\n",
              "Name: transf, dtype: float64"
            ]
          },
          "execution_count": 281,
          "metadata": {},
          "output_type": "execute_result"
        }
      ],
      "source": [
        "# Outlier detection method for skewed distributions\n",
        "# For MC > 0\n",
        "# [Q1 − 1.5e(−4 MC) IQR; Q3 + 1.5e(+3 MC) IQR]\n",
        "\n",
        "#calculate quartiles for count column\n",
        "\n",
        "df_tmp['transf'].quantile([0.25, 0.5, 0.75])\n"
      ]
    },
    {
      "cell_type": "code",
      "execution_count": null,
      "id": "1a272c99",
      "metadata": {
        "id": "1a272c99",
        "outputId": "5582e91c-10e2-4e63-97f4-bca34f23390f"
      },
      "outputs": [
        {
          "name": "stdout",
          "output_type": "stream",
          "text": [
            "Q1, Q2, Q3, IQR 0.0 0.6931471805599453 2.2975599250672953 2.2975599250672953\n"
          ]
        }
      ],
      "source": [
        "Q1 = df_tmp['transf'].quantile([0.25]).values[0]  # Q1\n",
        "Q2 = df_tmp['transf'].quantile([0.50]).values[0]  # Q2\n",
        "Q3 = df_tmp['transf'].quantile([0.75]).values[0]  # Q3\n",
        "IQR = Q3 - Q1\n",
        "print('Q1, Q2, Q3, IQR', Q1, Q2, Q3, IQR)"
      ]
    },
    {
      "cell_type": "code",
      "execution_count": null,
      "id": "1b6c8a57",
      "metadata": {
        "id": "1b6c8a57",
        "outputId": "738406a1-a600-4ea7-e935-b3fde29044cc"
      },
      "outputs": [
        {
          "name": "stdout",
          "output_type": "stream",
          "text": [
            "LL, UL: -0.4891808430052974 17.20059095192427\n"
          ]
        }
      ],
      "source": [
        "# Lower and Upper Fences if MC >  0\n",
        "# M. Hubert, E. Vandervieren / Computational Statistics and Data Analysis 52 (2008) 5186–5201\n",
        "\n",
        "LL = Q1 - 1.5 * IQR * np.exp(-4 * MC)\n",
        "UL = Q3 + 1.5 * IQR * np.exp(3 * MC)\n",
        "print('LL, UL:', LL, UL)\n"
      ]
    },
    {
      "cell_type": "code",
      "execution_count": null,
      "id": "41dece89",
      "metadata": {
        "id": "41dece89",
        "outputId": "60df8612-86eb-471f-ac6b-3af56940f5f7"
      },
      "outputs": [
        {
          "data": {
            "text/html": [
              "<div>\n",
              "<style scoped>\n",
              "    .dataframe tbody tr th:only-of-type {\n",
              "        vertical-align: middle;\n",
              "    }\n",
              "\n",
              "    .dataframe tbody tr th {\n",
              "        vertical-align: top;\n",
              "    }\n",
              "\n",
              "    .dataframe thead th {\n",
              "        text-align: right;\n",
              "    }\n",
              "</style>\n",
              "<table border=\"1\" class=\"dataframe\">\n",
              "  <thead>\n",
              "    <tr style=\"text-align: right;\">\n",
              "      <th></th>\n",
              "      <th>DROP</th>\n",
              "      <th>count</th>\n",
              "      <th>transf</th>\n",
              "    </tr>\n",
              "  </thead>\n",
              "  <tbody>\n",
              "  </tbody>\n",
              "</table>\n",
              "</div>"
            ],
            "text/plain": [
              "Empty DataFrame\n",
              "Columns: [DROP, count, transf]\n",
              "Index: []"
            ]
          },
          "execution_count": 284,
          "metadata": {},
          "output_type": "execute_result"
        }
      ],
      "source": [
        "# See if there are outliers (There are no extreme values)\n",
        "df_tmp[df_tmp['transf'] >= UL ]"
      ]
    },
    {
      "cell_type": "code",
      "execution_count": null,
      "id": "412a6820",
      "metadata": {
        "id": "412a6820",
        "outputId": "770b0c0e-2a9f-4847-ab5c-ba5015d08337"
      },
      "outputs": [
        {
          "name": "stdout",
          "output_type": "stream",
          "text": [
            "Quartiles\n",
            "Q1 =  0.0\n",
            "Q2 =  0.6931471805599453\n",
            "Q3 =  2.2975599250672953\n"
          ]
        },
        {
          "data": {
            "image/png": "[encoded data removed]",
            "text/plain": [
              "<Figure size 500x500 with 1 Axes>"
            ]
          },
          "metadata": {},
          "output_type": "display_data"
        }
      ],
      "source": [
        "#plot the distribution of data values\n",
        "\n",
        "sns.set_theme(style=\"whitegrid\", palette=\"pastel\")\n",
        "\n",
        "sns.displot(data=df_tmp, x='transf', kde=True).set(title='DROPm in transformed variable $\\log(count+1)$')\n",
        "plt.axvline(x=Q1, linewidth=2, color='g', label='Q1')\n",
        "plt.axvline(x=Q2, linewidth=2, color='k', label='Q2')\n",
        "plt.axvline(x=Q3, linewidth=2, color='m', label='Q3')\n",
        "\n",
        "#plt.axvline(x=UL, linewidth=2, color='r', label='UL', ls='--')\n",
        "plt.legend();\n",
        "print('Quartiles')\n",
        "print('Q1 = ', Q1)\n",
        "print('Q2 = ', Q2)\n",
        "print('Q3 = ', Q3)\n"
      ]
    },
    {
      "cell_type": "code",
      "execution_count": null,
      "id": "a4a9a50a",
      "metadata": {
        "id": "a4a9a50a",
        "outputId": "53fb494f-6e89-4a73-d2da-56af5fa2c277"
      },
      "outputs": [
        {
          "data": {
            "image/png": "[encoded data removed]",
            "text/plain": [
              "<Figure size 640x480 with 1 Axes>"
            ]
          },
          "metadata": {},
          "output_type": "display_data"
        }
      ],
      "source": [
        "#create Q-Q plot with 45-degree line added to plot\n",
        "\n",
        "sns.set_theme(style=\"whitegrid\", palette=\"pastel\")\n",
        "fig = sm.qqplot(df_tmp['transf'], line='45')\n",
        "plt.show()\n"
      ]
    },
    {
      "cell_type": "code",
      "execution_count": null,
      "id": "9d8e2d16",
      "metadata": {
        "id": "9d8e2d16",
        "outputId": "308b28a6-b5e3-4cb1-a21f-71a019b0d18d"
      },
      "outputs": [
        {
          "data": {
            "text/plain": [
              "KstestResult(statistic=0.5, pvalue=4.339398723240336e-15, statistic_location=0.0, statistic_sign=-1)"
            ]
          },
          "execution_count": 287,
          "metadata": {},
          "output_type": "execute_result"
        }
      ],
      "source": [
        "# Test normality hypothesis\n",
        "# perform Kolmogorov-Smirnov test\n",
        "\n",
        "kstest(df_tmp['transf'], 'norm')\n",
        "\n",
        "# if p-value < 0.5 we can reject the hypothesis that the data follow a normal distribution"
      ]
    },
    {
      "cell_type": "code",
      "execution_count": null,
      "id": "4d45610a",
      "metadata": {
        "id": "4d45610a",
        "outputId": "bdfe98f4-d50f-4966-de89-a68b4cd0b83c"
      },
      "outputs": [
        {
          "data": {
            "text/html": [
              "<div>\n",
              "<style scoped>\n",
              "    .dataframe tbody tr th:only-of-type {\n",
              "        vertical-align: middle;\n",
              "    }\n",
              "\n",
              "    .dataframe tbody tr th {\n",
              "        vertical-align: top;\n",
              "    }\n",
              "\n",
              "    .dataframe thead th {\n",
              "        text-align: right;\n",
              "    }\n",
              "</style>\n",
              "<table border=\"1\" class=\"dataframe\">\n",
              "  <thead>\n",
              "    <tr style=\"text-align: right;\">\n",
              "      <th></th>\n",
              "      <th>DROP</th>\n",
              "      <th>count</th>\n",
              "      <th>transf</th>\n",
              "    </tr>\n",
              "  </thead>\n",
              "  <tbody>\n",
              "    <tr>\n",
              "      <th>0</th>\n",
              "      <td>0</td>\n",
              "      <td>1361.0</td>\n",
              "      <td>7.216709</td>\n",
              "    </tr>\n",
              "    <tr>\n",
              "      <th>1</th>\n",
              "      <td>1</td>\n",
              "      <td>89.0</td>\n",
              "      <td>4.499810</td>\n",
              "    </tr>\n",
              "    <tr>\n",
              "      <th>2</th>\n",
              "      <td>2</td>\n",
              "      <td>114.0</td>\n",
              "      <td>4.744932</td>\n",
              "    </tr>\n",
              "    <tr>\n",
              "      <th>3</th>\n",
              "      <td>3</td>\n",
              "      <td>111.0</td>\n",
              "      <td>4.718499</td>\n",
              "    </tr>\n",
              "    <tr>\n",
              "      <th>4</th>\n",
              "      <td>4</td>\n",
              "      <td>69.0</td>\n",
              "      <td>4.248495</td>\n",
              "    </tr>\n",
              "  </tbody>\n",
              "</table>\n",
              "</div>"
            ],
            "text/plain": [
              "   DROP   count    transf\n",
              "0     0  1361.0  7.216709\n",
              "1     1    89.0  4.499810\n",
              "2     2   114.0  4.744932\n",
              "3     3   111.0  4.718499\n",
              "4     4    69.0  4.248495"
            ]
          },
          "execution_count": 288,
          "metadata": {},
          "output_type": "execute_result"
        }
      ],
      "source": [
        "df_tmp.head()"
      ]
    },
    {
      "cell_type": "code",
      "execution_count": null,
      "id": "9dab1c70",
      "metadata": {
        "id": "9dab1c70",
        "outputId": "01dd34a8-e822-41f0-8f46-0ac2e8f0dc88"
      },
      "outputs": [
        {
          "data": {
            "text/html": [
              "<div>\n",
              "<style scoped>\n",
              "    .dataframe tbody tr th:only-of-type {\n",
              "        vertical-align: middle;\n",
              "    }\n",
              "\n",
              "    .dataframe tbody tr th {\n",
              "        vertical-align: top;\n",
              "    }\n",
              "\n",
              "    .dataframe thead th {\n",
              "        text-align: right;\n",
              "    }\n",
              "</style>\n",
              "<table border=\"1\" class=\"dataframe\">\n",
              "  <thead>\n",
              "    <tr style=\"text-align: right;\">\n",
              "      <th></th>\n",
              "      <th>DROP</th>\n",
              "      <th>count</th>\n",
              "      <th>transf</th>\n",
              "    </tr>\n",
              "  </thead>\n",
              "  <tbody>\n",
              "    <tr>\n",
              "      <th>58</th>\n",
              "      <td>58</td>\n",
              "      <td>0.0</td>\n",
              "      <td>0.000000</td>\n",
              "    </tr>\n",
              "    <tr>\n",
              "      <th>59</th>\n",
              "      <td>59</td>\n",
              "      <td>0.0</td>\n",
              "      <td>0.000000</td>\n",
              "    </tr>\n",
              "    <tr>\n",
              "      <th>60</th>\n",
              "      <td>60</td>\n",
              "      <td>0.0</td>\n",
              "      <td>0.000000</td>\n",
              "    </tr>\n",
              "    <tr>\n",
              "      <th>61</th>\n",
              "      <td>61</td>\n",
              "      <td>0.0</td>\n",
              "      <td>0.000000</td>\n",
              "    </tr>\n",
              "    <tr>\n",
              "      <th>62</th>\n",
              "      <td>62</td>\n",
              "      <td>1.0</td>\n",
              "      <td>0.693147</td>\n",
              "    </tr>\n",
              "  </tbody>\n",
              "</table>\n",
              "</div>"
            ],
            "text/plain": [
              "    DROP  count    transf\n",
              "58    58    0.0  0.000000\n",
              "59    59    0.0  0.000000\n",
              "60    60    0.0  0.000000\n",
              "61    61    0.0  0.000000\n",
              "62    62    1.0  0.693147"
            ]
          },
          "execution_count": 289,
          "metadata": {},
          "output_type": "execute_result"
        }
      ],
      "source": [
        "df_tmp.tail()"
      ]
    },
    {
      "cell_type": "code",
      "execution_count": null,
      "id": "a1f3aea3",
      "metadata": {
        "id": "a1f3aea3",
        "outputId": "48a2d910-6379-4b6a-8f20-7c4661d2a79d"
      },
      "outputs": [
        {
          "data": {
            "text/html": [
              "<div>\n",
              "<style scoped>\n",
              "    .dataframe tbody tr th:only-of-type {\n",
              "        vertical-align: middle;\n",
              "    }\n",
              "\n",
              "    .dataframe tbody tr th {\n",
              "        vertical-align: top;\n",
              "    }\n",
              "\n",
              "    .dataframe thead th {\n",
              "        text-align: right;\n",
              "    }\n",
              "</style>\n",
              "<table border=\"1\" class=\"dataframe\">\n",
              "  <thead>\n",
              "    <tr style=\"text-align: right;\">\n",
              "      <th></th>\n",
              "      <th>DROP</th>\n",
              "      <th>count</th>\n",
              "      <th>transf</th>\n",
              "    </tr>\n",
              "  </thead>\n",
              "  <tbody>\n",
              "    <tr>\n",
              "      <th>0</th>\n",
              "      <td>0</td>\n",
              "      <td>1361.0</td>\n",
              "      <td>7.216709</td>\n",
              "    </tr>\n",
              "    <tr>\n",
              "      <th>1</th>\n",
              "      <td>1</td>\n",
              "      <td>89.0</td>\n",
              "      <td>4.499810</td>\n",
              "    </tr>\n",
              "    <tr>\n",
              "      <th>2</th>\n",
              "      <td>2</td>\n",
              "      <td>114.0</td>\n",
              "      <td>4.744932</td>\n",
              "    </tr>\n",
              "    <tr>\n",
              "      <th>3</th>\n",
              "      <td>3</td>\n",
              "      <td>111.0</td>\n",
              "      <td>4.718499</td>\n",
              "    </tr>\n",
              "    <tr>\n",
              "      <th>4</th>\n",
              "      <td>4</td>\n",
              "      <td>69.0</td>\n",
              "      <td>4.248495</td>\n",
              "    </tr>\n",
              "  </tbody>\n",
              "</table>\n",
              "</div>"
            ],
            "text/plain": [
              "   DROP   count    transf\n",
              "0     0  1361.0  7.216709\n",
              "1     1    89.0  4.499810\n",
              "2     2   114.0  4.744932\n",
              "3     3   111.0  4.718499\n",
              "4     4    69.0  4.248495"
            ]
          },
          "execution_count": 290,
          "metadata": {},
          "output_type": "execute_result"
        }
      ],
      "source": [
        "df_tmp.head()"
      ]
    },
    {
      "cell_type": "markdown",
      "id": "ee1fd016",
      "metadata": {
        "id": "ee1fd016"
      },
      "source": [
        "## Use a z-scale transform\n",
        "\n",
        "Explore if new results have better interpretation "
      ]
    },
    {
      "cell_type": "code",
      "execution_count": null,
      "id": "ad1fd3d4",
      "metadata": {
        "id": "ad1fd3d4",
        "outputId": "9b146905-4ce5-4633-bac6-3a8bd3f82800"
      },
      "outputs": [
        {
          "data": {
            "text/html": [
              "<div>\n",
              "<style scoped>\n",
              "    .dataframe tbody tr th:only-of-type {\n",
              "        vertical-align: middle;\n",
              "    }\n",
              "\n",
              "    .dataframe tbody tr th {\n",
              "        vertical-align: top;\n",
              "    }\n",
              "\n",
              "    .dataframe thead th {\n",
              "        text-align: right;\n",
              "    }\n",
              "</style>\n",
              "<table border=\"1\" class=\"dataframe\">\n",
              "  <thead>\n",
              "    <tr style=\"text-align: right;\">\n",
              "      <th></th>\n",
              "      <th>DROP</th>\n",
              "      <th>count</th>\n",
              "      <th>transf</th>\n",
              "    </tr>\n",
              "  </thead>\n",
              "  <tbody>\n",
              "    <tr>\n",
              "      <th>0</th>\n",
              "      <td>-1.691189</td>\n",
              "      <td>7.681111</td>\n",
              "      <td>3.348639</td>\n",
              "    </tr>\n",
              "    <tr>\n",
              "      <th>1</th>\n",
              "      <td>-1.636634</td>\n",
              "      <td>0.303002</td>\n",
              "      <td>1.761468</td>\n",
              "    </tr>\n",
              "    <tr>\n",
              "      <th>2</th>\n",
              "      <td>-1.582080</td>\n",
              "      <td>0.448012</td>\n",
              "      <td>1.904665</td>\n",
              "    </tr>\n",
              "    <tr>\n",
              "      <th>3</th>\n",
              "      <td>-1.527525</td>\n",
              "      <td>0.430611</td>\n",
              "      <td>1.889223</td>\n",
              "    </tr>\n",
              "    <tr>\n",
              "      <th>4</th>\n",
              "      <td>-1.472971</td>\n",
              "      <td>0.186994</td>\n",
              "      <td>1.614654</td>\n",
              "    </tr>\n",
              "    <tr>\n",
              "      <th>...</th>\n",
              "      <td>...</td>\n",
              "      <td>...</td>\n",
              "      <td>...</td>\n",
              "    </tr>\n",
              "    <tr>\n",
              "      <th>58</th>\n",
              "      <td>1.472971</td>\n",
              "      <td>-0.213234</td>\n",
              "      <td>-0.867252</td>\n",
              "    </tr>\n",
              "    <tr>\n",
              "      <th>59</th>\n",
              "      <td>1.527525</td>\n",
              "      <td>-0.213234</td>\n",
              "      <td>-0.867252</td>\n",
              "    </tr>\n",
              "    <tr>\n",
              "      <th>60</th>\n",
              "      <td>1.582080</td>\n",
              "      <td>-0.213234</td>\n",
              "      <td>-0.867252</td>\n",
              "    </tr>\n",
              "    <tr>\n",
              "      <th>61</th>\n",
              "      <td>1.636634</td>\n",
              "      <td>-0.213234</td>\n",
              "      <td>-0.867252</td>\n",
              "    </tr>\n",
              "    <tr>\n",
              "      <th>62</th>\n",
              "      <td>1.691189</td>\n",
              "      <td>-0.207433</td>\n",
              "      <td>-0.462326</td>\n",
              "    </tr>\n",
              "  </tbody>\n",
              "</table>\n",
              "<p>63 rows × 3 columns</p>\n",
              "</div>"
            ],
            "text/plain": [
              "        DROP     count    transf\n",
              "0  -1.691189  7.681111  3.348639\n",
              "1  -1.636634  0.303002  1.761468\n",
              "2  -1.582080  0.448012  1.904665\n",
              "3  -1.527525  0.430611  1.889223\n",
              "4  -1.472971  0.186994  1.614654\n",
              "..       ...       ...       ...\n",
              "58  1.472971 -0.213234 -0.867252\n",
              "59  1.527525 -0.213234 -0.867252\n",
              "60  1.582080 -0.213234 -0.867252\n",
              "61  1.636634 -0.213234 -0.867252\n",
              "62  1.691189 -0.207433 -0.462326\n",
              "\n",
              "[63 rows x 3 columns]"
            ]
          },
          "metadata": {},
          "output_type": "display_data"
        }
      ],
      "source": [
        "# copy the data\n",
        "df_z_scaled = df_tmp.copy()\n",
        "\n",
        "# apply normalization techniques\n",
        "for column in df_z_scaled.columns:\n",
        "    df_z_scaled[column] = (df_z_scaled[column] -\n",
        "                        df_z_scaled[column].mean()) / df_z_scaled[column].std()\n",
        "\n",
        "# view normalized data\n",
        "display(df_z_scaled)\n"
      ]
    },
    {
      "cell_type": "code",
      "execution_count": null,
      "id": "8cd032ad",
      "metadata": {
        "id": "8cd032ad",
        "outputId": "e9b28508-fa22-4b51-f9c3-dc00097389d7"
      },
      "outputs": [
        {
          "data": {
            "text/html": [
              "<div>\n",
              "<style scoped>\n",
              "    .dataframe tbody tr th:only-of-type {\n",
              "        vertical-align: middle;\n",
              "    }\n",
              "\n",
              "    .dataframe tbody tr th {\n",
              "        vertical-align: top;\n",
              "    }\n",
              "\n",
              "    .dataframe thead th {\n",
              "        text-align: right;\n",
              "    }\n",
              "</style>\n",
              "<table border=\"1\" class=\"dataframe\">\n",
              "  <thead>\n",
              "    <tr style=\"text-align: right;\">\n",
              "      <th></th>\n",
              "      <th>DROP</th>\n",
              "      <th>count</th>\n",
              "      <th>transf</th>\n",
              "      <th>transfz</th>\n",
              "    </tr>\n",
              "  </thead>\n",
              "  <tbody>\n",
              "    <tr>\n",
              "      <th>0</th>\n",
              "      <td>-1.691189</td>\n",
              "      <td>7.681111</td>\n",
              "      <td>3.348639</td>\n",
              "      <td>2.161150</td>\n",
              "    </tr>\n",
              "    <tr>\n",
              "      <th>1</th>\n",
              "      <td>-1.636634</td>\n",
              "      <td>0.303002</td>\n",
              "      <td>1.761468</td>\n",
              "      <td>0.264671</td>\n",
              "    </tr>\n",
              "    <tr>\n",
              "      <th>2</th>\n",
              "      <td>-1.582080</td>\n",
              "      <td>0.448012</td>\n",
              "      <td>1.904665</td>\n",
              "      <td>0.370192</td>\n",
              "    </tr>\n",
              "    <tr>\n",
              "      <th>3</th>\n",
              "      <td>-1.527525</td>\n",
              "      <td>0.430611</td>\n",
              "      <td>1.889223</td>\n",
              "      <td>0.358101</td>\n",
              "    </tr>\n",
              "    <tr>\n",
              "      <th>4</th>\n",
              "      <td>-1.472971</td>\n",
              "      <td>0.186994</td>\n",
              "      <td>1.614654</td>\n",
              "      <td>0.171424</td>\n",
              "    </tr>\n",
              "  </tbody>\n",
              "</table>\n",
              "</div>"
            ],
            "text/plain": [
              "       DROP     count    transf   transfz\n",
              "0 -1.691189  7.681111  3.348639  2.161150\n",
              "1 -1.636634  0.303002  1.761468  0.264671\n",
              "2 -1.582080  0.448012  1.904665  0.370192\n",
              "3 -1.527525  0.430611  1.889223  0.358101\n",
              "4 -1.472971  0.186994  1.614654  0.171424"
            ]
          },
          "execution_count": 292,
          "metadata": {},
          "output_type": "execute_result"
        }
      ],
      "source": [
        "# Make a variable transformation for 'count' using Log(x+1) \n",
        "\n",
        "df_z_scaled['transfz'] = np.log(df_z_scaled['count'] + 1.0)\n",
        "df_z_scaled.head()"
      ]
    },
    {
      "cell_type": "code",
      "execution_count": null,
      "id": "dfcbd098",
      "metadata": {
        "id": "dfcbd098",
        "outputId": "4992c3e8-0a01-4bda-c995-cfccbd99be1b"
      },
      "outputs": [
        {
          "data": {
            "text/html": [
              "<div>\n",
              "<style scoped>\n",
              "    .dataframe tbody tr th:only-of-type {\n",
              "        vertical-align: middle;\n",
              "    }\n",
              "\n",
              "    .dataframe tbody tr th {\n",
              "        vertical-align: top;\n",
              "    }\n",
              "\n",
              "    .dataframe thead th {\n",
              "        text-align: right;\n",
              "    }\n",
              "</style>\n",
              "<table border=\"1\" class=\"dataframe\">\n",
              "  <thead>\n",
              "    <tr style=\"text-align: right;\">\n",
              "      <th></th>\n",
              "      <th>DROP</th>\n",
              "      <th>count</th>\n",
              "      <th>transf</th>\n",
              "      <th>transfz</th>\n",
              "    </tr>\n",
              "  </thead>\n",
              "  <tbody>\n",
              "    <tr>\n",
              "      <th>count</th>\n",
              "      <td>63.000000</td>\n",
              "      <td>6.300000e+01</td>\n",
              "      <td>6.300000e+01</td>\n",
              "      <td>63.000000</td>\n",
              "    </tr>\n",
              "    <tr>\n",
              "      <th>mean</th>\n",
              "      <td>0.000000</td>\n",
              "      <td>4.493760e-17</td>\n",
              "      <td>-2.907727e-17</td>\n",
              "      <td>-0.112509</td>\n",
              "    </tr>\n",
              "    <tr>\n",
              "      <th>std</th>\n",
              "      <td>1.000000</td>\n",
              "      <td>1.000000e+00</td>\n",
              "      <td>1.000000e+00</td>\n",
              "      <td>0.338727</td>\n",
              "    </tr>\n",
              "    <tr>\n",
              "      <th>min</th>\n",
              "      <td>-1.691189</td>\n",
              "      <td>-2.132338e-01</td>\n",
              "      <td>-8.672521e-01</td>\n",
              "      <td>-0.239824</td>\n",
              "    </tr>\n",
              "    <tr>\n",
              "      <th>25%</th>\n",
              "      <td>-0.845594</td>\n",
              "      <td>-2.132338e-01</td>\n",
              "      <td>-8.672521e-01</td>\n",
              "      <td>-0.239824</td>\n",
              "    </tr>\n",
              "    <tr>\n",
              "      <th>50%</th>\n",
              "      <td>0.000000</td>\n",
              "      <td>-2.074334e-01</td>\n",
              "      <td>-4.623261e-01</td>\n",
              "      <td>-0.232479</td>\n",
              "    </tr>\n",
              "    <tr>\n",
              "      <th>75%</th>\n",
              "      <td>0.845594</td>\n",
              "      <td>-1.610302e-01</td>\n",
              "      <td>4.749473e-01</td>\n",
              "      <td>-0.175604</td>\n",
              "    </tr>\n",
              "    <tr>\n",
              "      <th>max</th>\n",
              "      <td>1.691189</td>\n",
              "      <td>7.681111e+00</td>\n",
              "      <td>3.348639e+00</td>\n",
              "      <td>2.161150</td>\n",
              "    </tr>\n",
              "  </tbody>\n",
              "</table>\n",
              "</div>"
            ],
            "text/plain": [
              "            DROP         count        transf    transfz\n",
              "count  63.000000  6.300000e+01  6.300000e+01  63.000000\n",
              "mean    0.000000  4.493760e-17 -2.907727e-17  -0.112509\n",
              "std     1.000000  1.000000e+00  1.000000e+00   0.338727\n",
              "min    -1.691189 -2.132338e-01 -8.672521e-01  -0.239824\n",
              "25%    -0.845594 -2.132338e-01 -8.672521e-01  -0.239824\n",
              "50%     0.000000 -2.074334e-01 -4.623261e-01  -0.232479\n",
              "75%     0.845594 -1.610302e-01  4.749473e-01  -0.175604\n",
              "max     1.691189  7.681111e+00  3.348639e+00   2.161150"
            ]
          },
          "execution_count": 293,
          "metadata": {},
          "output_type": "execute_result"
        }
      ],
      "source": [
        "# General statistics\n",
        "df_z_scaled.describe()"
      ]
    },
    {
      "cell_type": "code",
      "execution_count": null,
      "id": "3e4e19b6",
      "metadata": {
        "id": "3e4e19b6",
        "outputId": "1e233252-eb0d-49b1-83a9-1ef32140c01a"
      },
      "outputs": [
        {
          "name": "stdout",
          "output_type": "stream",
          "text": [
            "Mean= -0.11250864470864669\n",
            "StdDev= 0.3387269225823324\n",
            "Skewness= 5.2366568151876365\n",
            "Kurtosis= 33.261537655850695\n",
            "Lambda= -8.88820590266293\n"
          ]
        }
      ],
      "source": [
        "# General dataset statistics\n",
        "\n",
        "ave_count_z = df_z_scaled['transfz'].mean()\n",
        "std_count_z = df_z_scaled['transfz'].std()\n",
        "skew_count_z = df_z_scaled['transfz'].skew()\n",
        "kurt_count_z = df_z_scaled['transfz'].kurtosis()\n",
        "\n",
        "print('Mean=', ave_count_z)\n",
        "print('StdDev=', std_count_z)\n",
        "print('Skewness=', skew_count_z)\n",
        "print('Kurtosis=', kurt_count_z)\n",
        "\n",
        "# lambda = 1/average in exponential distribution\n",
        "lmbd_z = 1.0/ave_count_z\n",
        "print('Lambda=', lmbd_z)"
      ]
    },
    {
      "cell_type": "code",
      "execution_count": null,
      "id": "d006a16b",
      "metadata": {
        "id": "d006a16b",
        "outputId": "5e52a023-0b36-44f5-e982-f8edaceab064"
      },
      "outputs": [
        {
          "data": {
            "image/png": "[encoded data removed]",
            "text/plain": [
              "<Figure size 640x480 with 1 Axes>"
            ]
          },
          "metadata": {},
          "output_type": "display_data"
        }
      ],
      "source": [
        "# Barplot (histogram)\n",
        "sns.set_theme(style=\"whitegrid\", palette=\"pastel\")\n",
        "\n",
        "g=sns.barplot(data=df_z_scaled, x=\"DROP\", y=\"transfz\")\n",
        "\n",
        "# Use Log scale\n",
        "#g.set_yscale(\"log\")\n",
        "\n",
        "plt.locator_params(nbins=8, axis='x')\n",
        "\n",
        "# Rotating X-axis labels\n",
        "plt.xticks(rotation = 30);\n"
      ]
    },
    {
      "cell_type": "code",
      "execution_count": null,
      "id": "68d5e7c7",
      "metadata": {
        "id": "68d5e7c7",
        "outputId": "9d1b3e81-3b83-4404-de5d-4d59d25ed90d"
      },
      "outputs": [
        {
          "data": {
            "image/png": "[encoded data removed]",
            "text/plain": [
              "<Figure size 640x480 with 1 Axes>"
            ]
          },
          "metadata": {},
          "output_type": "display_data"
        }
      ],
      "source": [
        "sns.set_theme(style=\"whitegrid\", palette=\"pastel\")\n",
        "sns.boxplot(x=df_z_scaled['transfz']);"
      ]
    },
    {
      "cell_type": "code",
      "execution_count": null,
      "id": "69f6308e",
      "metadata": {
        "id": "69f6308e",
        "outputId": "59c5cabd-801e-4c17-871b-1ce4dc598e96"
      },
      "outputs": [
        {
          "data": {
            "text/plain": [
              "[Text(0, 0.5, ' ')]"
            ]
          },
          "execution_count": 254,
          "metadata": {},
          "output_type": "execute_result"
        },
        {
          "data": {
            "image/png": "[encoded data removed]",
            "text/plain": [
              "<Figure size 1000x600 with 1 Axes>"
            ]
          },
          "metadata": {},
          "output_type": "display_data"
        }
      ],
      "source": [
        "sns.set_theme(style=\"whitegrid\", palette=\"pastel\")\n",
        "\n",
        "# Initialize the figure with a logarithmic x axis\n",
        "f, ax = plt.subplots(figsize=(10, 6))\n",
        "#ax.set_xscale(\"log\")\n",
        "\n",
        "# Plot the orbital period with horizontal boxes\n",
        "sns.boxplot(x=\"transfz\", data=df_z_scaled)\n",
        "\n",
        "# Add in points to show each observation\n",
        "sns.stripplot(x='transfz', data=df_z_scaled,\n",
        "              size=4, color=\".3\", linewidth=0)\n",
        "\n",
        "# Tweak the visual presentation\n",
        "ax.xaxis.grid(True)\n",
        "ax.set(ylabel=\" \")\n",
        "#sns.despine(trim=True, left=True)\n"
      ]
    },
    {
      "cell_type": "code",
      "execution_count": null,
      "id": "1f2d3764",
      "metadata": {
        "id": "1f2d3764",
        "outputId": "73caa7f6-9418-4f55-9c27-249b01159789"
      },
      "outputs": [
        {
          "name": "stdout",
          "output_type": "stream",
          "text": [
            "0.8504417084298692\n"
          ]
        }
      ],
      "source": [
        "# Using statsmodels.medcouple() method\n",
        "\n",
        "MCzt = medcouple(df_z_scaled['transfz'])\n",
        "   \n",
        "print(MCzt)"
      ]
    },
    {
      "cell_type": "code",
      "execution_count": null,
      "id": "c7aa3eae",
      "metadata": {
        "id": "c7aa3eae",
        "outputId": "17faf3ad-4bb9-4def-e9a7-3b3c06e45938"
      },
      "outputs": [
        {
          "name": "stdout",
          "output_type": "stream",
          "text": [
            "Q1zt, Q2zt, Q3zt, IQRzt -0.2398241196296867 -0.23247870580981891 -0.1756044317437348 0.06421968788595189\n"
          ]
        }
      ],
      "source": [
        "Q1zt = df_z_scaled['transfz'].quantile([0.25]).values[0]  # Q1\n",
        "Q2zt = df_z_scaled['transfz'].quantile([0.50]).values[0]  # Q2\n",
        "Q3zt = df_z_scaled['transfz'].quantile([0.75]).values[0]  # Q3\n",
        "IQRzt = Q3zt - Q1zt\n",
        "print('Q1zt, Q2zt, Q3zt, IQRzt', Q1zt, Q2zt, Q3zt, IQRzt)"
      ]
    },
    {
      "cell_type": "code",
      "execution_count": null,
      "id": "f41bb3c4",
      "metadata": {
        "id": "f41bb3c4",
        "outputId": "182df834-87b6-4999-e725-75280731b852"
      },
      "outputs": [
        {
          "name": "stdout",
          "output_type": "stream",
          "text": [
            "LLzt, ULzt: -0.24303327604283814 1.0597337735001864\n"
          ]
        }
      ],
      "source": [
        "# Lower and Upper Fences if MC >  0\n",
        "# M. Hubert, E. Vandervieren / Computational Statistics and Data Analysis 52 (2008) 5186–5201\n",
        "LLzt = Q1zt - 1.5 * IQRzt * np.exp(-4 * MCzt)\n",
        "ULzt = Q3zt + 1.5 * IQRzt * np.exp(3 * MCzt)\n",
        "print('LLzt, ULzt:', LLzt, ULzt)\n"
      ]
    },
    {
      "cell_type": "code",
      "execution_count": null,
      "id": "394e7cdd",
      "metadata": {
        "id": "394e7cdd",
        "outputId": "1ac00635-3325-467a-b303-d957b42aaf4e"
      },
      "outputs": [
        {
          "name": "stdout",
          "output_type": "stream",
          "text": [
            "Quartiles (z-scale)\n",
            "Q1zt =  -0.2398241196296867\n",
            "Q2zt =  -0.23247870580981891\n",
            "Q3zt =  -0.1756044317437348\n"
          ]
        },
        {
          "data": {
            "image/png": "[encoded data removed]",
            "text/plain": [
              "<Figure size 500x500 with 1 Axes>"
            ]
          },
          "metadata": {},
          "output_type": "display_data"
        }
      ],
      "source": [
        "#plot the distribution of data values\n",
        "\n",
        "sns.displot(data=df_z_scaled, x='transfz', kde=True).set(title='DROPm in log transformed z-scale')\n",
        "plt.axvline(x=Q1zt, linewidth=2, color='g', label='Q1zt', alpha=0.3)\n",
        "plt.axvline(x=Q2zt, linewidth=2, color='k', label='Q2zt', alpha=0.3)\n",
        "plt.axvline(x=Q3zt, linewidth=2, color='m', label='Q3zt', alpha=0.3)\n",
        "\n",
        "#plt.axvline(x=UL, linewidth=2, color='r', label='ULzt', ls='--')\n",
        "plt.legend();\n",
        "print('Quartiles (z-scale)')\n",
        "print('Q1zt = ', Q1zt)\n",
        "print('Q2zt = ', Q2zt)\n",
        "print('Q3zt = ', Q3zt)\n"
      ]
    },
    {
      "cell_type": "code",
      "execution_count": null,
      "id": "986c77c8",
      "metadata": {
        "id": "986c77c8"
      },
      "outputs": [],
      "source": []
    }
  ],
  "metadata": {
    "kernelspec": {
      "display_name": "Python 3 (ipykernel)",
      "language": "python",
      "name": "python3"
    },
    "language_info": {
      "codemirror_mode": {
        "name": "ipython",
        "version": 3
      },
      "file_extension": ".py",
      "mimetype": "text/x-python",
      "name": "python",
      "nbconvert_exporter": "python",
      "pygments_lexer": "ipython3",
      "version": "3.10.9"
    },
    "colab": {
      "provenance": [],
      "include_colab_link": true
    }
  },
  "nbformat": 4,
  "nbformat_minor": 5
}