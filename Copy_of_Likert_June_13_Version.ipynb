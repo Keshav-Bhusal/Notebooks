{
  "cells": [
    {
      "cell_type": "markdown",
      "metadata": {
        "id": "view-in-github",
        "colab_type": "text"
      },
      "source": [
        "<a href=\"https://colab.research.google.com/github/clizarraga-UAD7/Notebooks/blob/main/Copy_of_Likert_June_13_Version.ipynb\" target=\"_parent\"><img src=\"https://colab.research.google.com/assets/colab-badge.svg\" alt=\"Open In Colab\"/></a>"
      ]
    },
    {
      "cell_type": "markdown",
      "source": [
        "## Online version using Google Colab\n",
        "\n",
        "Needs to upload the Excel data file (FemData_Exp2.xlsx), everytime the session is re-started."
      ],
      "metadata": {
        "id": "NxxzxB-ofVN6"
      },
      "id": "NxxzxB-ofVN6"
    },
    {
      "cell_type": "code",
      "execution_count": null,
      "id": "ac3b2e7e-95f2-4da0-b69a-2880ad26fa72",
      "metadata": {
        "id": "ac3b2e7e-95f2-4da0-b69a-2880ad26fa72"
      },
      "outputs": [],
      "source": [
        "#How to get rid of ONLY the rows with more than 5 missing values?"
      ]
    },
    {
      "cell_type": "code",
      "source": [
        "# Install necessary libraries (quietly)\n",
        "!pip install --quiet xlrd"
      ],
      "metadata": {
        "id": "-iedrGCDgAfx"
      },
      "id": "-iedrGCDgAfx",
      "execution_count": null,
      "outputs": []
    },
    {
      "cell_type": "code",
      "source": [
        "# Install Likert library plot-likert\n",
        "!pip install --quiet plot-likert"
      ],
      "metadata": {
        "id": "4I23zLdwwGjg"
      },
      "id": "4I23zLdwwGjg",
      "execution_count": null,
      "outputs": []
    },
    {
      "cell_type": "code",
      "execution_count": null,
      "id": "54e7c672-7b41-49e0-b05f-4648aa1dee6f",
      "metadata": {
        "id": "54e7c672-7b41-49e0-b05f-4648aa1dee6f"
      },
      "outputs": [],
      "source": [
        "import pandas as pd\n",
        "import numpy as np\n",
        "import xlrd\n",
        "from pandas.api.types import CategoricalDtype\n",
        "\n",
        "import matplotlib.pyplot as plt\n",
        "import seaborn as sns\n",
        "import plot_likert\n",
        "\n",
        "import warnings\n",
        "warnings.simplefilter(action='ignore', category=FutureWarning)"
      ]
    },
    {
      "cell_type": "code",
      "execution_count": null,
      "id": "90c00afa-4a14-4f12-a869-ed6d350fc488",
      "metadata": {
        "id": "90c00afa-4a14-4f12-a869-ed6d350fc488"
      },
      "outputs": [],
      "source": [
        "# Not needed here\n",
        "# import os\n",
        "# os.getcwd()"
      ]
    },
    {
      "cell_type": "code",
      "execution_count": null,
      "id": "7592248e-90a2-4981-819f-31c933c99230",
      "metadata": {
        "id": "7592248e-90a2-4981-819f-31c933c99230"
      },
      "outputs": [],
      "source": [
        "# No longer needed, using xlrd instead.\n",
        "#pip install openpyxl"
      ]
    },
    {
      "cell_type": "code",
      "execution_count": null,
      "id": "61f71107-74ef-453f-83fa-f652e38e39e2",
      "metadata": {
        "id": "61f71107-74ef-453f-83fa-f652e38e39e2"
      },
      "outputs": [],
      "source": [
        "# Read the Excel data file\n",
        "#fem_df = pd.read_excel(\"C:\\\\Users\\\\maisu\\\\OneDrive\\\\Desktop\\\\SES Qual Data\\\\CGT\\\\Exp\\\\Data4Exp\\\\More\\\\Exp\\\\FemData_Exp2.xlsx\")\n",
        "fem_df = pd.read_excel('FemData_Exp2.xlsx')\n",
        "\n"
      ]
    },
    {
      "cell_type": "code",
      "execution_count": null,
      "id": "6b6e97ad-260d-4c52-9df4-3c47a4c29d95",
      "metadata": {
        "id": "6b6e97ad-260d-4c52-9df4-3c47a4c29d95",
        "outputId": "b5782fc6-1955-4e32-ac8d-ecb919674e1e"
      },
      "outputs": [
        {
          "name": "stdout",
          "output_type": "stream",
          "text": [
            "<class 'pandas.core.frame.DataFrame'>\n",
            "RangeIndex: 1354 entries, 0 to 1353\n",
            "Data columns (total 26 columns):\n",
            " #   Column    Non-Null Count  Dtype \n",
            "---  ------    --------------  ----- \n",
            " 0   CaseNum   1348 non-null   object\n",
            " 1   Age       1348 non-null   object\n",
            " 2   SchoolYr  1348 non-null   object\n",
            " 3   Race      1348 non-null   object\n",
            " 4   GCQ3A     1348 non-null   object\n",
            " 5   GCQ3B     1348 non-null   object\n",
            " 6   GCQ3C     1348 non-null   object\n",
            " 7   GCQ3D     1348 non-null   object\n",
            " 8   GCQ3E     1348 non-null   object\n",
            " 9   GCQ3F     1348 non-null   object\n",
            " 10  GCQ3G     1348 non-null   object\n",
            " 11  GCQ3H     1348 non-null   object\n",
            " 12  GCQ3I     1348 non-null   object\n",
            " 13  GCQ3J     1348 non-null   object\n",
            " 14  GCQ3K     1348 non-null   object\n",
            " 15  GCQ3L     1348 non-null   object\n",
            " 16  ESECONVA  1338 non-null   object\n",
            " 17  ESECONVB  1338 non-null   object\n",
            " 18  ESECONVC  1338 non-null   object\n",
            " 19  ESECONVD  1338 non-null   object\n",
            " 20  ESECONVE  1338 non-null   object\n",
            " 21  ESECONVF  1338 non-null   object\n",
            " 22  ESECONVG  1338 non-null   object\n",
            " 23  ESECONVH  1338 non-null   object\n",
            " 24  ESECONVI  1338 non-null   object\n",
            " 25  ESECONVJ  1338 non-null   object\n",
            "dtypes: object(26)\n",
            "memory usage: 275.2+ KB\n"
          ]
        }
      ],
      "source": [
        "fem_df.info()"
      ]
    },
    {
      "cell_type": "markdown",
      "source": [
        "## Note:\n",
        "The function `df.info()`, gives a general overview of the dataset.\n",
        "\n",
        "The dataset has 1354 rows of data and 26 columns. Some columns have 1348 rows and other 1338 rows.\n",
        "\n",
        "We can next find out which columns have missing data and how many.\n",
        "\n",
        "Apply: `df.isnull().sum()`"
      ],
      "metadata": {
        "id": "wSJ6-nZDiMyY"
      },
      "id": "wSJ6-nZDiMyY"
    },
    {
      "cell_type": "code",
      "execution_count": null,
      "id": "83360f71-6690-4961-8c7b-1661c5b76793",
      "metadata": {
        "id": "83360f71-6690-4961-8c7b-1661c5b76793",
        "outputId": "010fd19c-57a9-463f-f3fc-e7a6147b38fe",
        "colab": {
          "base_uri": "https://localhost:8080/"
        }
      },
      "outputs": [
        {
          "output_type": "execute_result",
          "data": {
            "text/plain": [
              "CaseNum      6\n",
              "Age          6\n",
              "SchoolYr     6\n",
              "Race         6\n",
              "GCQ3A        6\n",
              "GCQ3B        6\n",
              "GCQ3C        6\n",
              "GCQ3D        6\n",
              "GCQ3E        6\n",
              "GCQ3F        6\n",
              "GCQ3G        6\n",
              "GCQ3H        6\n",
              "GCQ3I        6\n",
              "GCQ3J        6\n",
              "GCQ3K        6\n",
              "GCQ3L        6\n",
              "ESECONVA    16\n",
              "ESECONVB    16\n",
              "ESECONVC    16\n",
              "ESECONVD    16\n",
              "ESECONVE    16\n",
              "ESECONVF    16\n",
              "ESECONVG    16\n",
              "ESECONVH    16\n",
              "ESECONVI    16\n",
              "ESECONVJ    16\n",
              "dtype: int64"
            ]
          },
          "metadata": {},
          "execution_count": 7
        }
      ],
      "source": [
        "fem_df.isnull().sum()"
      ]
    },
    {
      "cell_type": "markdown",
      "source": [
        "## Note:\n",
        "Need to decide if we eliminate rows of incomplete data and also `age` must be a numeric variable."
      ],
      "metadata": {
        "id": "dobgbqH9kbpK"
      },
      "id": "dobgbqH9kbpK"
    },
    {
      "cell_type": "code",
      "source": [
        "# Preserve original data frame: fem_df.\n",
        "# Create a new clean dataframe by dropping rows with missing data: fem_dfC\n",
        "fem_df_temp = fem_df.copy()\n",
        "fem_dfC = fem_df_temp.dropna()\n",
        "fem_dfC.info()"
      ],
      "metadata": {
        "colab": {
          "base_uri": "https://localhost:8080/"
        },
        "id": "awpWiaPjkYi_",
        "outputId": "51400bb0-b35a-4006-df8c-d3b7246dabb1"
      },
      "id": "awpWiaPjkYi_",
      "execution_count": null,
      "outputs": [
        {
          "output_type": "stream",
          "name": "stdout",
          "text": [
            "<class 'pandas.core.frame.DataFrame'>\n",
            "Int64Index: 1338 entries, 0 to 1353\n",
            "Data columns (total 26 columns):\n",
            " #   Column    Non-Null Count  Dtype \n",
            "---  ------    --------------  ----- \n",
            " 0   CaseNum   1338 non-null   object\n",
            " 1   Age       1338 non-null   object\n",
            " 2   SchoolYr  1338 non-null   object\n",
            " 3   Race      1338 non-null   object\n",
            " 4   GCQ3A     1338 non-null   object\n",
            " 5   GCQ3B     1338 non-null   object\n",
            " 6   GCQ3C     1338 non-null   object\n",
            " 7   GCQ3D     1338 non-null   object\n",
            " 8   GCQ3E     1338 non-null   object\n",
            " 9   GCQ3F     1338 non-null   object\n",
            " 10  GCQ3G     1338 non-null   object\n",
            " 11  GCQ3H     1338 non-null   object\n",
            " 12  GCQ3I     1338 non-null   object\n",
            " 13  GCQ3J     1338 non-null   object\n",
            " 14  GCQ3K     1338 non-null   object\n",
            " 15  GCQ3L     1338 non-null   object\n",
            " 16  ESECONVA  1338 non-null   object\n",
            " 17  ESECONVB  1338 non-null   object\n",
            " 18  ESECONVC  1338 non-null   object\n",
            " 19  ESECONVD  1338 non-null   object\n",
            " 20  ESECONVE  1338 non-null   object\n",
            " 21  ESECONVF  1338 non-null   object\n",
            " 22  ESECONVG  1338 non-null   object\n",
            " 23  ESECONVH  1338 non-null   object\n",
            " 24  ESECONVI  1338 non-null   object\n",
            " 25  ESECONVJ  1338 non-null   object\n",
            "dtypes: object(26)\n",
            "memory usage: 282.2+ KB\n"
          ]
        }
      ]
    },
    {
      "cell_type": "code",
      "source": [
        "# Investigate further\n",
        "fem_dfC['Age'].value_counts()"
      ],
      "metadata": {
        "colab": {
          "base_uri": "https://localhost:8080/"
        },
        "id": "zzjCaf9mqakJ",
        "outputId": "e99abca4-ddf5-435d-e95c-23b4a98b46ba"
      },
      "id": "zzjCaf9mqakJ",
      "execution_count": null,
      "outputs": [
        {
          "output_type": "execute_result",
          "data": {
            "text/plain": [
              "18    376\n",
              "19    297\n",
              "20    261\n",
              "21    228\n",
              "22     92\n",
              "23     25\n",
              "24     18\n",
              "26     12\n",
              "25     10\n",
              "27      9\n",
              "17      9\n",
              "        1\n",
              "Name: Age, dtype: int64"
            ]
          },
          "metadata": {},
          "execution_count": 23
        }
      ]
    },
    {
      "cell_type": "code",
      "source": [
        "# There is still one row wit no Age information\n",
        "fem_dfC[fem_dfC['Age'] == ' ']"
      ],
      "metadata": {
        "colab": {
          "base_uri": "https://localhost:8080/",
          "height": 175
        },
        "id": "dxEJgOnyqhCM",
        "outputId": "29920047-5987-43d5-da9c-226c6d3e2db2"
      },
      "id": "dxEJgOnyqhCM",
      "execution_count": null,
      "outputs": [
        {
          "output_type": "execute_result",
          "data": {
            "text/plain": [
              "      CaseNum Age SchoolYr Race GCQ3A GCQ3B GCQ3C GCQ3D GCQ3E GCQ3F  ...  \\\n",
              "881  21200108            2          2     3     2     2     1     1  ...   \n",
              "\n",
              "    ESECONVA ESECONVB ESECONVC ESECONVD ESECONVE ESECONVF ESECONVG ESECONVH  \\\n",
              "881        2        1        1        1        1        1        1        1   \n",
              "\n",
              "    ESECONVI ESECONVJ  \n",
              "881        1        1  \n",
              "\n",
              "[1 rows x 26 columns]"
            ],
            "text/html": [
              "\n",
              "  <div id=\"df-50d1137c-49c1-47f4-b6ec-af494c3b9906\">\n",
              "    <div class=\"colab-df-container\">\n",
              "      <div>\n",
              "<style scoped>\n",
              "    .dataframe tbody tr th:only-of-type {\n",
              "        vertical-align: middle;\n",
              "    }\n",
              "\n",
              "    .dataframe tbody tr th {\n",
              "        vertical-align: top;\n",
              "    }\n",
              "\n",
              "    .dataframe thead th {\n",
              "        text-align: right;\n",
              "    }\n",
              "</style>\n",
              "<table border=\"1\" class=\"dataframe\">\n",
              "  <thead>\n",
              "    <tr style=\"text-align: right;\">\n",
              "      <th></th>\n",
              "      <th>CaseNum</th>\n",
              "      <th>Age</th>\n",
              "      <th>SchoolYr</th>\n",
              "      <th>Race</th>\n",
              "      <th>GCQ3A</th>\n",
              "      <th>GCQ3B</th>\n",
              "      <th>GCQ3C</th>\n",
              "      <th>GCQ3D</th>\n",
              "      <th>GCQ3E</th>\n",
              "      <th>GCQ3F</th>\n",
              "      <th>...</th>\n",
              "      <th>ESECONVA</th>\n",
              "      <th>ESECONVB</th>\n",
              "      <th>ESECONVC</th>\n",
              "      <th>ESECONVD</th>\n",
              "      <th>ESECONVE</th>\n",
              "      <th>ESECONVF</th>\n",
              "      <th>ESECONVG</th>\n",
              "      <th>ESECONVH</th>\n",
              "      <th>ESECONVI</th>\n",
              "      <th>ESECONVJ</th>\n",
              "    </tr>\n",
              "  </thead>\n",
              "  <tbody>\n",
              "    <tr>\n",
              "      <th>881</th>\n",
              "      <td>21200108</td>\n",
              "      <td></td>\n",
              "      <td>2</td>\n",
              "      <td></td>\n",
              "      <td>2</td>\n",
              "      <td>3</td>\n",
              "      <td>2</td>\n",
              "      <td>2</td>\n",
              "      <td>1</td>\n",
              "      <td>1</td>\n",
              "      <td>...</td>\n",
              "      <td>2</td>\n",
              "      <td>1</td>\n",
              "      <td>1</td>\n",
              "      <td>1</td>\n",
              "      <td>1</td>\n",
              "      <td>1</td>\n",
              "      <td>1</td>\n",
              "      <td>1</td>\n",
              "      <td>1</td>\n",
              "      <td>1</td>\n",
              "    </tr>\n",
              "  </tbody>\n",
              "</table>\n",
              "<p>1 rows × 26 columns</p>\n",
              "</div>\n",
              "      <button class=\"colab-df-convert\" onclick=\"convertToInteractive('df-50d1137c-49c1-47f4-b6ec-af494c3b9906')\"\n",
              "              title=\"Convert this dataframe to an interactive table.\"\n",
              "              style=\"display:none;\">\n",
              "        \n",
              "  <svg xmlns=\"http://www.w3.org/2000/svg\" height=\"24px\"viewBox=\"0 0 24 24\"\n",
              "       width=\"24px\">\n",
              "    <path d=\"M0 0h24v24H0V0z\" fill=\"none\"/>\n",
              "    <path d=\"M18.56 5.44l.94 2.06.94-2.06 2.06-.94-2.06-.94-.94-2.06-.94 2.06-2.06.94zm-11 1L8.5 8.5l.94-2.06 2.06-.94-2.06-.94L8.5 2.5l-.94 2.06-2.06.94zm10 10l.94 2.06.94-2.06 2.06-.94-2.06-.94-.94-2.06-.94 2.06-2.06.94z\"/><path d=\"M17.41 7.96l-1.37-1.37c-.4-.4-.92-.59-1.43-.59-.52 0-1.04.2-1.43.59L10.3 9.45l-7.72 7.72c-.78.78-.78 2.05 0 2.83L4 21.41c.39.39.9.59 1.41.59.51 0 1.02-.2 1.41-.59l7.78-7.78 2.81-2.81c.8-.78.8-2.07 0-2.86zM5.41 20L4 18.59l7.72-7.72 1.47 1.35L5.41 20z\"/>\n",
              "  </svg>\n",
              "      </button>\n",
              "      \n",
              "  <style>\n",
              "    .colab-df-container {\n",
              "      display:flex;\n",
              "      flex-wrap:wrap;\n",
              "      gap: 12px;\n",
              "    }\n",
              "\n",
              "    .colab-df-convert {\n",
              "      background-color: #E8F0FE;\n",
              "      border: none;\n",
              "      border-radius: 50%;\n",
              "      cursor: pointer;\n",
              "      display: none;\n",
              "      fill: #1967D2;\n",
              "      height: 32px;\n",
              "      padding: 0 0 0 0;\n",
              "      width: 32px;\n",
              "    }\n",
              "\n",
              "    .colab-df-convert:hover {\n",
              "      background-color: #E2EBFA;\n",
              "      box-shadow: 0px 1px 2px rgba(60, 64, 67, 0.3), 0px 1px 3px 1px rgba(60, 64, 67, 0.15);\n",
              "      fill: #174EA6;\n",
              "    }\n",
              "\n",
              "    [theme=dark] .colab-df-convert {\n",
              "      background-color: #3B4455;\n",
              "      fill: #D2E3FC;\n",
              "    }\n",
              "\n",
              "    [theme=dark] .colab-df-convert:hover {\n",
              "      background-color: #434B5C;\n",
              "      box-shadow: 0px 1px 3px 1px rgba(0, 0, 0, 0.15);\n",
              "      filter: drop-shadow(0px 1px 2px rgba(0, 0, 0, 0.3));\n",
              "      fill: #FFFFFF;\n",
              "    }\n",
              "  </style>\n",
              "\n",
              "      <script>\n",
              "        const buttonEl =\n",
              "          document.querySelector('#df-50d1137c-49c1-47f4-b6ec-af494c3b9906 button.colab-df-convert');\n",
              "        buttonEl.style.display =\n",
              "          google.colab.kernel.accessAllowed ? 'block' : 'none';\n",
              "\n",
              "        async function convertToInteractive(key) {\n",
              "          const element = document.querySelector('#df-50d1137c-49c1-47f4-b6ec-af494c3b9906');\n",
              "          const dataTable =\n",
              "            await google.colab.kernel.invokeFunction('convertToInteractive',\n",
              "                                                     [key], {});\n",
              "          if (!dataTable) return;\n",
              "\n",
              "          const docLinkHtml = 'Like what you see? Visit the ' +\n",
              "            '<a target=\"_blank\" href=https://colab.research.google.com/notebooks/data_table.ipynb>data table notebook</a>'\n",
              "            + ' to learn more about interactive tables.';\n",
              "          element.innerHTML = '';\n",
              "          dataTable['output_type'] = 'display_data';\n",
              "          await google.colab.output.renderOutput(dataTable, element);\n",
              "          const docLink = document.createElement('div');\n",
              "          docLink.innerHTML = docLinkHtml;\n",
              "          element.appendChild(docLink);\n",
              "        }\n",
              "      </script>\n",
              "    </div>\n",
              "  </div>\n",
              "  "
            ]
          },
          "metadata": {},
          "execution_count": 24
        }
      ]
    },
    {
      "cell_type": "code",
      "source": [
        "# Drop the row with no Age information, or keep everything else\n",
        "fem_dfC = fem_dfC[fem_dfC['Age'] != ' ']\n",
        "fem_dfC['Age'].value_counts()"
      ],
      "metadata": {
        "colab": {
          "base_uri": "https://localhost:8080/"
        },
        "id": "np8XAbC0ql5F",
        "outputId": "e8be8b48-410b-4783-d9de-ff4f2f236f50"
      },
      "id": "np8XAbC0ql5F",
      "execution_count": null,
      "outputs": [
        {
          "output_type": "execute_result",
          "data": {
            "text/plain": [
              "18    376\n",
              "19    297\n",
              "20    261\n",
              "21    228\n",
              "22     92\n",
              "23     25\n",
              "24     18\n",
              "26     12\n",
              "25     10\n",
              "27      9\n",
              "17      9\n",
              "Name: Age, dtype: int64"
            ]
          },
          "metadata": {},
          "execution_count": 26
        }
      ]
    },
    {
      "cell_type": "code",
      "source": [
        "# Convert the age variable to numeric and check\n",
        "fem_dfC['Age'] = pd.to_numeric(fem_dfC['Age'])\n",
        "fem_dfC.info()"
      ],
      "metadata": {
        "colab": {
          "base_uri": "https://localhost:8080/"
        },
        "id": "R91CX_6dmkwh",
        "outputId": "b2abf489-e709-428a-8364-7ea8f711dba4"
      },
      "id": "R91CX_6dmkwh",
      "execution_count": null,
      "outputs": [
        {
          "output_type": "stream",
          "name": "stdout",
          "text": [
            "<class 'pandas.core.frame.DataFrame'>\n",
            "Int64Index: 1337 entries, 0 to 1353\n",
            "Data columns (total 26 columns):\n",
            " #   Column    Non-Null Count  Dtype \n",
            "---  ------    --------------  ----- \n",
            " 0   CaseNum   1337 non-null   object\n",
            " 1   Age       1337 non-null   int64 \n",
            " 2   SchoolYr  1337 non-null   object\n",
            " 3   Race      1337 non-null   object\n",
            " 4   GCQ3A     1337 non-null   object\n",
            " 5   GCQ3B     1337 non-null   object\n",
            " 6   GCQ3C     1337 non-null   object\n",
            " 7   GCQ3D     1337 non-null   object\n",
            " 8   GCQ3E     1337 non-null   object\n",
            " 9   GCQ3F     1337 non-null   object\n",
            " 10  GCQ3G     1337 non-null   object\n",
            " 11  GCQ3H     1337 non-null   object\n",
            " 12  GCQ3I     1337 non-null   object\n",
            " 13  GCQ3J     1337 non-null   object\n",
            " 14  GCQ3K     1337 non-null   object\n",
            " 15  GCQ3L     1337 non-null   object\n",
            " 16  ESECONVA  1337 non-null   object\n",
            " 17  ESECONVB  1337 non-null   object\n",
            " 18  ESECONVC  1337 non-null   object\n",
            " 19  ESECONVD  1337 non-null   object\n",
            " 20  ESECONVE  1337 non-null   object\n",
            " 21  ESECONVF  1337 non-null   object\n",
            " 22  ESECONVG  1337 non-null   object\n",
            " 23  ESECONVH  1337 non-null   object\n",
            " 24  ESECONVI  1337 non-null   object\n",
            " 25  ESECONVJ  1337 non-null   object\n",
            "dtypes: int64(1), object(25)\n",
            "memory usage: 282.0+ KB\n"
          ]
        },
        {
          "output_type": "stream",
          "name": "stderr",
          "text": [
            "<ipython-input-29-55fbce1ab24e>:2: SettingWithCopyWarning: \n",
            "A value is trying to be set on a copy of a slice from a DataFrame.\n",
            "Try using .loc[row_indexer,col_indexer] = value instead\n",
            "\n",
            "See the caveats in the documentation: https://pandas.pydata.org/pandas-docs/stable/user_guide/indexing.html#returning-a-view-versus-a-copy\n",
            "  fem_dfC['Age'] = pd.to_numeric(fem_dfC['Age'])\n"
          ]
        }
      ]
    },
    {
      "cell_type": "code",
      "source": [
        "# Do basic statistics of the Age distribution\n",
        "fem_dfC['Age'].describe()"
      ],
      "metadata": {
        "colab": {
          "base_uri": "https://localhost:8080/"
        },
        "id": "DpVaIF8jnsN_",
        "outputId": "1a43ac21-76d3-4c05-ba09-7a212fb85279"
      },
      "id": "DpVaIF8jnsN_",
      "execution_count": null,
      "outputs": [
        {
          "output_type": "execute_result",
          "data": {
            "text/plain": [
              "count    1337.000000\n",
              "mean       19.751683\n",
              "std         1.737134\n",
              "min        17.000000\n",
              "25%        18.000000\n",
              "50%        19.000000\n",
              "75%        21.000000\n",
              "max        27.000000\n",
              "Name: Age, dtype: float64"
            ]
          },
          "metadata": {},
          "execution_count": 30
        }
      ]
    },
    {
      "cell_type": "code",
      "source": [
        "# Explore different values for SchoolYr\n",
        "fem_dfC['SchoolYr'].value_counts()"
      ],
      "metadata": {
        "colab": {
          "base_uri": "https://localhost:8080/"
        },
        "id": "C8euSvl1y4lA",
        "outputId": "57b0d683-89d2-4047-a706-877cefc23539"
      },
      "id": "C8euSvl1y4lA",
      "execution_count": null,
      "outputs": [
        {
          "output_type": "execute_result",
          "data": {
            "text/plain": [
              "1    470\n",
              "3    318\n",
              "2    295\n",
              "4    247\n",
              "5      4\n",
              "       3\n",
              "Name: SchoolYr, dtype: int64"
            ]
          },
          "metadata": {},
          "execution_count": 43
        }
      ]
    },
    {
      "cell_type": "code",
      "source": [
        "# There is still one row wit noSchoolYr information\n",
        "fem_dfC[fem_dfC['SchoolYr'] == ' ']"
      ],
      "metadata": {
        "colab": {
          "base_uri": "https://localhost:8080/",
          "height": 238
        },
        "id": "4Sipp4DjzGiJ",
        "outputId": "d4afe28a-4a0b-45c6-872c-6f74fdf9ef6c"
      },
      "id": "4Sipp4DjzGiJ",
      "execution_count": null,
      "outputs": [
        {
          "output_type": "execute_result",
          "data": {
            "text/plain": [
              "       CaseNum  Age SchoolYr Race GCQ3A GCQ3B GCQ3C GCQ3D GCQ3E GCQ3F  ...  \\\n",
              "898   21200125   20             4     3     3     3     3     3     3  ...   \n",
              "1075   2130077   22             3     2     2     2     2     2     2  ...   \n",
              "1265   2150089   21             8     3     3     3     3     2     3  ...   \n",
              "\n",
              "     ESECONVA ESECONVB ESECONVC ESECONVD ESECONVE ESECONVF ESECONVG ESECONVH  \\\n",
              "898         1        1        1        1        1        1        1        1   \n",
              "1075        3        4        3        3        3        4        2        3   \n",
              "1265        4        2        2        1        2        1        3        2   \n",
              "\n",
              "     ESECONVI ESECONVJ  \n",
              "898         1        1  \n",
              "1075        4        3  \n",
              "1265        1        1  \n",
              "\n",
              "[3 rows x 26 columns]"
            ],
            "text/html": [
              "\n",
              "  <div id=\"df-c87848da-a64e-4f6a-9bed-f0d9b43ba36e\">\n",
              "    <div class=\"colab-df-container\">\n",
              "      <div>\n",
              "<style scoped>\n",
              "    .dataframe tbody tr th:only-of-type {\n",
              "        vertical-align: middle;\n",
              "    }\n",
              "\n",
              "    .dataframe tbody tr th {\n",
              "        vertical-align: top;\n",
              "    }\n",
              "\n",
              "    .dataframe thead th {\n",
              "        text-align: right;\n",
              "    }\n",
              "</style>\n",
              "<table border=\"1\" class=\"dataframe\">\n",
              "  <thead>\n",
              "    <tr style=\"text-align: right;\">\n",
              "      <th></th>\n",
              "      <th>CaseNum</th>\n",
              "      <th>Age</th>\n",
              "      <th>SchoolYr</th>\n",
              "      <th>Race</th>\n",
              "      <th>GCQ3A</th>\n",
              "      <th>GCQ3B</th>\n",
              "      <th>GCQ3C</th>\n",
              "      <th>GCQ3D</th>\n",
              "      <th>GCQ3E</th>\n",
              "      <th>GCQ3F</th>\n",
              "      <th>...</th>\n",
              "      <th>ESECONVA</th>\n",
              "      <th>ESECONVB</th>\n",
              "      <th>ESECONVC</th>\n",
              "      <th>ESECONVD</th>\n",
              "      <th>ESECONVE</th>\n",
              "      <th>ESECONVF</th>\n",
              "      <th>ESECONVG</th>\n",
              "      <th>ESECONVH</th>\n",
              "      <th>ESECONVI</th>\n",
              "      <th>ESECONVJ</th>\n",
              "    </tr>\n",
              "  </thead>\n",
              "  <tbody>\n",
              "    <tr>\n",
              "      <th>898</th>\n",
              "      <td>21200125</td>\n",
              "      <td>20</td>\n",
              "      <td></td>\n",
              "      <td>4</td>\n",
              "      <td>3</td>\n",
              "      <td>3</td>\n",
              "      <td>3</td>\n",
              "      <td>3</td>\n",
              "      <td>3</td>\n",
              "      <td>3</td>\n",
              "      <td>...</td>\n",
              "      <td>1</td>\n",
              "      <td>1</td>\n",
              "      <td>1</td>\n",
              "      <td>1</td>\n",
              "      <td>1</td>\n",
              "      <td>1</td>\n",
              "      <td>1</td>\n",
              "      <td>1</td>\n",
              "      <td>1</td>\n",
              "      <td>1</td>\n",
              "    </tr>\n",
              "    <tr>\n",
              "      <th>1075</th>\n",
              "      <td>2130077</td>\n",
              "      <td>22</td>\n",
              "      <td></td>\n",
              "      <td>3</td>\n",
              "      <td>2</td>\n",
              "      <td>2</td>\n",
              "      <td>2</td>\n",
              "      <td>2</td>\n",
              "      <td>2</td>\n",
              "      <td>2</td>\n",
              "      <td>...</td>\n",
              "      <td>3</td>\n",
              "      <td>4</td>\n",
              "      <td>3</td>\n",
              "      <td>3</td>\n",
              "      <td>3</td>\n",
              "      <td>4</td>\n",
              "      <td>2</td>\n",
              "      <td>3</td>\n",
              "      <td>4</td>\n",
              "      <td>3</td>\n",
              "    </tr>\n",
              "    <tr>\n",
              "      <th>1265</th>\n",
              "      <td>2150089</td>\n",
              "      <td>21</td>\n",
              "      <td></td>\n",
              "      <td>8</td>\n",
              "      <td>3</td>\n",
              "      <td>3</td>\n",
              "      <td>3</td>\n",
              "      <td>3</td>\n",
              "      <td>2</td>\n",
              "      <td>3</td>\n",
              "      <td>...</td>\n",
              "      <td>4</td>\n",
              "      <td>2</td>\n",
              "      <td>2</td>\n",
              "      <td>1</td>\n",
              "      <td>2</td>\n",
              "      <td>1</td>\n",
              "      <td>3</td>\n",
              "      <td>2</td>\n",
              "      <td>1</td>\n",
              "      <td>1</td>\n",
              "    </tr>\n",
              "  </tbody>\n",
              "</table>\n",
              "<p>3 rows × 26 columns</p>\n",
              "</div>\n",
              "      <button class=\"colab-df-convert\" onclick=\"convertToInteractive('df-c87848da-a64e-4f6a-9bed-f0d9b43ba36e')\"\n",
              "              title=\"Convert this dataframe to an interactive table.\"\n",
              "              style=\"display:none;\">\n",
              "        \n",
              "  <svg xmlns=\"http://www.w3.org/2000/svg\" height=\"24px\"viewBox=\"0 0 24 24\"\n",
              "       width=\"24px\">\n",
              "    <path d=\"M0 0h24v24H0V0z\" fill=\"none\"/>\n",
              "    <path d=\"M18.56 5.44l.94 2.06.94-2.06 2.06-.94-2.06-.94-.94-2.06-.94 2.06-2.06.94zm-11 1L8.5 8.5l.94-2.06 2.06-.94-2.06-.94L8.5 2.5l-.94 2.06-2.06.94zm10 10l.94 2.06.94-2.06 2.06-.94-2.06-.94-.94-2.06-.94 2.06-2.06.94z\"/><path d=\"M17.41 7.96l-1.37-1.37c-.4-.4-.92-.59-1.43-.59-.52 0-1.04.2-1.43.59L10.3 9.45l-7.72 7.72c-.78.78-.78 2.05 0 2.83L4 21.41c.39.39.9.59 1.41.59.51 0 1.02-.2 1.41-.59l7.78-7.78 2.81-2.81c.8-.78.8-2.07 0-2.86zM5.41 20L4 18.59l7.72-7.72 1.47 1.35L5.41 20z\"/>\n",
              "  </svg>\n",
              "      </button>\n",
              "      \n",
              "  <style>\n",
              "    .colab-df-container {\n",
              "      display:flex;\n",
              "      flex-wrap:wrap;\n",
              "      gap: 12px;\n",
              "    }\n",
              "\n",
              "    .colab-df-convert {\n",
              "      background-color: #E8F0FE;\n",
              "      border: none;\n",
              "      border-radius: 50%;\n",
              "      cursor: pointer;\n",
              "      display: none;\n",
              "      fill: #1967D2;\n",
              "      height: 32px;\n",
              "      padding: 0 0 0 0;\n",
              "      width: 32px;\n",
              "    }\n",
              "\n",
              "    .colab-df-convert:hover {\n",
              "      background-color: #E2EBFA;\n",
              "      box-shadow: 0px 1px 2px rgba(60, 64, 67, 0.3), 0px 1px 3px 1px rgba(60, 64, 67, 0.15);\n",
              "      fill: #174EA6;\n",
              "    }\n",
              "\n",
              "    [theme=dark] .colab-df-convert {\n",
              "      background-color: #3B4455;\n",
              "      fill: #D2E3FC;\n",
              "    }\n",
              "\n",
              "    [theme=dark] .colab-df-convert:hover {\n",
              "      background-color: #434B5C;\n",
              "      box-shadow: 0px 1px 3px 1px rgba(0, 0, 0, 0.15);\n",
              "      filter: drop-shadow(0px 1px 2px rgba(0, 0, 0, 0.3));\n",
              "      fill: #FFFFFF;\n",
              "    }\n",
              "  </style>\n",
              "\n",
              "      <script>\n",
              "        const buttonEl =\n",
              "          document.querySelector('#df-c87848da-a64e-4f6a-9bed-f0d9b43ba36e button.colab-df-convert');\n",
              "        buttonEl.style.display =\n",
              "          google.colab.kernel.accessAllowed ? 'block' : 'none';\n",
              "\n",
              "        async function convertToInteractive(key) {\n",
              "          const element = document.querySelector('#df-c87848da-a64e-4f6a-9bed-f0d9b43ba36e');\n",
              "          const dataTable =\n",
              "            await google.colab.kernel.invokeFunction('convertToInteractive',\n",
              "                                                     [key], {});\n",
              "          if (!dataTable) return;\n",
              "\n",
              "          const docLinkHtml = 'Like what you see? Visit the ' +\n",
              "            '<a target=\"_blank\" href=https://colab.research.google.com/notebooks/data_table.ipynb>data table notebook</a>'\n",
              "            + ' to learn more about interactive tables.';\n",
              "          element.innerHTML = '';\n",
              "          dataTable['output_type'] = 'display_data';\n",
              "          await google.colab.output.renderOutput(dataTable, element);\n",
              "          const docLink = document.createElement('div');\n",
              "          docLink.innerHTML = docLinkHtml;\n",
              "          element.appendChild(docLink);\n",
              "        }\n",
              "      </script>\n",
              "    </div>\n",
              "  </div>\n",
              "  "
            ]
          },
          "metadata": {},
          "execution_count": 44
        }
      ]
    },
    {
      "cell_type": "code",
      "source": [
        "# Drop the row with no SchoolYr information, or keep everything else\n",
        "fem_dfC = fem_dfC[fem_dfC['SchoolYr'] != ' ']\n",
        "fem_dfC['SchoolYr'].value_counts()"
      ],
      "metadata": {
        "colab": {
          "base_uri": "https://localhost:8080/"
        },
        "id": "8w2ve7LUzggn",
        "outputId": "334588e7-73bc-4c30-84d9-f640d64ffdce"
      },
      "id": "8w2ve7LUzggn",
      "execution_count": null,
      "outputs": [
        {
          "output_type": "execute_result",
          "data": {
            "text/plain": [
              "1    470\n",
              "3    318\n",
              "2    295\n",
              "4    247\n",
              "5      4\n",
              "Name: SchoolYr, dtype: int64"
            ]
          },
          "metadata": {},
          "execution_count": 45
        }
      ]
    },
    {
      "cell_type": "code",
      "source": [
        "fem_df['Race'].value_counts()"
      ],
      "metadata": {
        "colab": {
          "base_uri": "https://localhost:8080/"
        },
        "id": "EORNrRQUzhTH",
        "outputId": "2fbc3c84-d3eb-473c-c712-443d8d244493"
      },
      "id": "EORNrRQUzhTH",
      "execution_count": null,
      "outputs": [
        {
          "output_type": "execute_result",
          "data": {
            "text/plain": [
              "1    549\n",
              "3    242\n",
              "4    210\n",
              "2    160\n",
              "8    141\n",
              "7     29\n",
              "5      9\n",
              "0      3\n",
              "       3\n",
              "6      2\n",
              "Name: Race, dtype: int64"
            ]
          },
          "metadata": {},
          "execution_count": 47
        }
      ]
    },
    {
      "cell_type": "code",
      "source": [
        "# Drop the row with no Race information, or keep everything else\n",
        "fem_dfC = fem_dfC[fem_dfC['Race'] != ' ']\n",
        "fem_dfC['Race'].value_counts()"
      ],
      "metadata": {
        "colab": {
          "base_uri": "https://localhost:8080/"
        },
        "id": "KYmAD5cu0Kp-",
        "outputId": "93a35898-a398-46b7-9178-65424d462872"
      },
      "id": "KYmAD5cu0Kp-",
      "execution_count": null,
      "outputs": [
        {
          "output_type": "execute_result",
          "data": {
            "text/plain": [
              "1    544\n",
              "3    240\n",
              "4    209\n",
              "2    160\n",
              "8    140\n",
              "7     29\n",
              "5      9\n",
              "6      2\n",
              "Name: Race, dtype: int64"
            ]
          },
          "metadata": {},
          "execution_count": 48
        }
      ]
    },
    {
      "cell_type": "code",
      "source": [
        "# See if missing values in CaseNum variable\n",
        "fem_dfC[fem_dfC['CaseNum'] == ' ']"
      ],
      "metadata": {
        "colab": {
          "base_uri": "https://localhost:8080/",
          "height": 143
        },
        "id": "oiBcotlx0K2h",
        "outputId": "8fd40fb9-4b16-48fc-91ba-fbf72fb93036"
      },
      "id": "oiBcotlx0K2h",
      "execution_count": null,
      "outputs": [
        {
          "output_type": "execute_result",
          "data": {
            "text/plain": [
              "Empty DataFrame\n",
              "Columns: [CaseNum, Age, SchoolYr, Race, GCQ3A, GCQ3B, GCQ3C, GCQ3D, GCQ3E, GCQ3F, GCQ3G, GCQ3H, GCQ3I, GCQ3J, GCQ3K, GCQ3L, ESECONVA, ESECONVB, ESECONVC, ESECONVD, ESECONVE, ESECONVF, ESECONVG, ESECONVH, ESECONVI, ESECONVJ]\n",
              "Index: []\n",
              "\n",
              "[0 rows x 26 columns]"
            ],
            "text/html": [
              "\n",
              "  <div id=\"df-63e9b033-4085-4143-bd13-e2a0f24716df\">\n",
              "    <div class=\"colab-df-container\">\n",
              "      <div>\n",
              "<style scoped>\n",
              "    .dataframe tbody tr th:only-of-type {\n",
              "        vertical-align: middle;\n",
              "    }\n",
              "\n",
              "    .dataframe tbody tr th {\n",
              "        vertical-align: top;\n",
              "    }\n",
              "\n",
              "    .dataframe thead th {\n",
              "        text-align: right;\n",
              "    }\n",
              "</style>\n",
              "<table border=\"1\" class=\"dataframe\">\n",
              "  <thead>\n",
              "    <tr style=\"text-align: right;\">\n",
              "      <th></th>\n",
              "      <th>CaseNum</th>\n",
              "      <th>Age</th>\n",
              "      <th>SchoolYr</th>\n",
              "      <th>Race</th>\n",
              "      <th>GCQ3A</th>\n",
              "      <th>GCQ3B</th>\n",
              "      <th>GCQ3C</th>\n",
              "      <th>GCQ3D</th>\n",
              "      <th>GCQ3E</th>\n",
              "      <th>GCQ3F</th>\n",
              "      <th>...</th>\n",
              "      <th>ESECONVA</th>\n",
              "      <th>ESECONVB</th>\n",
              "      <th>ESECONVC</th>\n",
              "      <th>ESECONVD</th>\n",
              "      <th>ESECONVE</th>\n",
              "      <th>ESECONVF</th>\n",
              "      <th>ESECONVG</th>\n",
              "      <th>ESECONVH</th>\n",
              "      <th>ESECONVI</th>\n",
              "      <th>ESECONVJ</th>\n",
              "    </tr>\n",
              "  </thead>\n",
              "  <tbody>\n",
              "  </tbody>\n",
              "</table>\n",
              "<p>0 rows × 26 columns</p>\n",
              "</div>\n",
              "      <button class=\"colab-df-convert\" onclick=\"convertToInteractive('df-63e9b033-4085-4143-bd13-e2a0f24716df')\"\n",
              "              title=\"Convert this dataframe to an interactive table.\"\n",
              "              style=\"display:none;\">\n",
              "        \n",
              "  <svg xmlns=\"http://www.w3.org/2000/svg\" height=\"24px\"viewBox=\"0 0 24 24\"\n",
              "       width=\"24px\">\n",
              "    <path d=\"M0 0h24v24H0V0z\" fill=\"none\"/>\n",
              "    <path d=\"M18.56 5.44l.94 2.06.94-2.06 2.06-.94-2.06-.94-.94-2.06-.94 2.06-2.06.94zm-11 1L8.5 8.5l.94-2.06 2.06-.94-2.06-.94L8.5 2.5l-.94 2.06-2.06.94zm10 10l.94 2.06.94-2.06 2.06-.94-2.06-.94-.94-2.06-.94 2.06-2.06.94z\"/><path d=\"M17.41 7.96l-1.37-1.37c-.4-.4-.92-.59-1.43-.59-.52 0-1.04.2-1.43.59L10.3 9.45l-7.72 7.72c-.78.78-.78 2.05 0 2.83L4 21.41c.39.39.9.59 1.41.59.51 0 1.02-.2 1.41-.59l7.78-7.78 2.81-2.81c.8-.78.8-2.07 0-2.86zM5.41 20L4 18.59l7.72-7.72 1.47 1.35L5.41 20z\"/>\n",
              "  </svg>\n",
              "      </button>\n",
              "      \n",
              "  <style>\n",
              "    .colab-df-container {\n",
              "      display:flex;\n",
              "      flex-wrap:wrap;\n",
              "      gap: 12px;\n",
              "    }\n",
              "\n",
              "    .colab-df-convert {\n",
              "      background-color: #E8F0FE;\n",
              "      border: none;\n",
              "      border-radius: 50%;\n",
              "      cursor: pointer;\n",
              "      display: none;\n",
              "      fill: #1967D2;\n",
              "      height: 32px;\n",
              "      padding: 0 0 0 0;\n",
              "      width: 32px;\n",
              "    }\n",
              "\n",
              "    .colab-df-convert:hover {\n",
              "      background-color: #E2EBFA;\n",
              "      box-shadow: 0px 1px 2px rgba(60, 64, 67, 0.3), 0px 1px 3px 1px rgba(60, 64, 67, 0.15);\n",
              "      fill: #174EA6;\n",
              "    }\n",
              "\n",
              "    [theme=dark] .colab-df-convert {\n",
              "      background-color: #3B4455;\n",
              "      fill: #D2E3FC;\n",
              "    }\n",
              "\n",
              "    [theme=dark] .colab-df-convert:hover {\n",
              "      background-color: #434B5C;\n",
              "      box-shadow: 0px 1px 3px 1px rgba(0, 0, 0, 0.15);\n",
              "      filter: drop-shadow(0px 1px 2px rgba(0, 0, 0, 0.3));\n",
              "      fill: #FFFFFF;\n",
              "    }\n",
              "  </style>\n",
              "\n",
              "      <script>\n",
              "        const buttonEl =\n",
              "          document.querySelector('#df-63e9b033-4085-4143-bd13-e2a0f24716df button.colab-df-convert');\n",
              "        buttonEl.style.display =\n",
              "          google.colab.kernel.accessAllowed ? 'block' : 'none';\n",
              "\n",
              "        async function convertToInteractive(key) {\n",
              "          const element = document.querySelector('#df-63e9b033-4085-4143-bd13-e2a0f24716df');\n",
              "          const dataTable =\n",
              "            await google.colab.kernel.invokeFunction('convertToInteractive',\n",
              "                                                     [key], {});\n",
              "          if (!dataTable) return;\n",
              "\n",
              "          const docLinkHtml = 'Like what you see? Visit the ' +\n",
              "            '<a target=\"_blank\" href=https://colab.research.google.com/notebooks/data_table.ipynb>data table notebook</a>'\n",
              "            + ' to learn more about interactive tables.';\n",
              "          element.innerHTML = '';\n",
              "          dataTable['output_type'] = 'display_data';\n",
              "          await google.colab.output.renderOutput(dataTable, element);\n",
              "          const docLink = document.createElement('div');\n",
              "          docLink.innerHTML = docLinkHtml;\n",
              "          element.appendChild(docLink);\n",
              "        }\n",
              "      </script>\n",
              "    </div>\n",
              "  </div>\n",
              "  "
            ]
          },
          "metadata": {},
          "execution_count": 52
        }
      ]
    },
    {
      "cell_type": "markdown",
      "source": [
        "## Data Visualizations\n",
        "\n",
        "Next we can explore the distribution of the first 3 variables: `Age`, `SchoolYr` and `Race`"
      ],
      "metadata": {
        "id": "sjSqL43O1gcM"
      },
      "id": "sjSqL43O1gcM"
    },
    {
      "cell_type": "code",
      "source": [
        "# Make a histogram of Age distribution\n",
        "sns.set_style(\"whitegrid\")\n",
        "ax = sns.histplot(data=fem_dfC, x=\"Age\")\n",
        "ax.set(xlabel='Age',\n",
        "       ylabel='Frequency',\n",
        "       title='Age Distribution')\n",
        "plt.show();"
      ],
      "metadata": {
        "colab": {
          "base_uri": "https://localhost:8080/",
          "height": 492
        },
        "id": "tfk0wm3an5Tf",
        "outputId": "bc60e595-83de-43d7-e779-aa5564197cbd"
      },
      "id": "tfk0wm3an5Tf",
      "execution_count": null,
      "outputs": [
        {
          "output_type": "display_data",
          "data": {
            "text/plain": [
              "<Figure size 640x480 with 1 Axes>"
            ],
            "image/png": "[encoded data removed]"
          },
          "metadata": {}
        }
      ]
    },
    {
      "cell_type": "code",
      "source": [
        "# Show SchoolYr distribution\n",
        "ax = sns.histplot(data=fem_dfC, x=\"SchoolYr\")\n",
        "ax.set(xlabel='School Year',\n",
        "       ylabel='Frequency',\n",
        "       title='School Year Distribution')\n",
        "plt.show();"
      ],
      "metadata": {
        "colab": {
          "base_uri": "https://localhost:8080/",
          "height": 492
        },
        "id": "5TYShraZymWy",
        "outputId": "949a4c55-daa5-4eb6-c110-544b08c6c9de"
      },
      "id": "5TYShraZymWy",
      "execution_count": null,
      "outputs": [
        {
          "output_type": "display_data",
          "data": {
            "text/plain": [
              "<Figure size 640x480 with 1 Axes>"
            ],
            "image/png": "[encoded data removed]"
          },
          "metadata": {}
        }
      ]
    },
    {
      "cell_type": "code",
      "source": [
        "# Make a histogram of Race distribution\n",
        "sns.set_style(\"whitegrid\")\n",
        "ax = sns.histplot(data=fem_dfC, x=\"Race\")\n",
        "ax.set(xlabel='Race',\n",
        "       ylabel='Frequency',\n",
        "       title='Race Distribution')\n",
        "plt.show();"
      ],
      "metadata": {
        "colab": {
          "base_uri": "https://localhost:8080/",
          "height": 492
        },
        "id": "AxwzWpLCz4k8",
        "outputId": "ecb758d3-4482-40aa-b110-75af35aae7e4"
      },
      "id": "AxwzWpLCz4k8",
      "execution_count": null,
      "outputs": [
        {
          "output_type": "display_data",
          "data": {
            "text/plain": [
              "<Figure size 640x480 with 1 Axes>"
            ],
            "image/png": "[encoded data removed]"
          },
          "metadata": {}
        }
      ]
    },
    {
      "cell_type": "markdown",
      "source": [
        "## Likert Scale plots\n",
        "\n",
        "Will prepare new dataframe for produce Likert plots."
      ],
      "metadata": {
        "id": "H-97mzxe4ndD"
      },
      "id": "H-97mzxe4ndD"
    },
    {
      "cell_type": "code",
      "source": [],
      "metadata": {
        "id": "NzsNkbRC0eYw"
      },
      "id": "NzsNkbRC0eYw",
      "execution_count": null,
      "outputs": []
    },
    {
      "cell_type": "code",
      "source": [
        "# Drop column of index using DataFrame.iloc[] and drop() methods.\n",
        "df_answers0 = fem_dfC.drop(fem_dfC.iloc[:, 0:4],axis = 1)\n",
        "df_answers0.head()\n"
      ],
      "metadata": {
        "colab": {
          "base_uri": "https://localhost:8080/",
          "height": 301
        },
        "id": "eJUVxeRF0eef",
        "outputId": "d5f8c516-7908-4cc3-b224-86f516b4fe25"
      },
      "id": "eJUVxeRF0eef",
      "execution_count": null,
      "outputs": [
        {
          "output_type": "execute_result",
          "data": {
            "text/plain": [
              "  GCQ3A GCQ3B GCQ3C GCQ3D GCQ3E GCQ3F GCQ3G GCQ3H GCQ3I GCQ3J  ... ESECONVA  \\\n",
              "0     3     3     3     3     3     3     3     3     0     3  ...        2   \n",
              "1     2     1     1     1     2     3     2     2     0     3  ...        2   \n",
              "2     2     2     1     2     2     2     2     2     1     2  ...        2   \n",
              "3     3     3     2     3     3     3     3     3     1     2  ...        2   \n",
              "4     3     3     1     2     3     2     3     2     0     3  ...        2   \n",
              "\n",
              "  ESECONVB ESECONVC ESECONVD ESECONVE ESECONVF ESECONVG ESECONVH ESECONVI  \\\n",
              "0        1        1        1        1        1        2        1        1   \n",
              "1        2        1        1        1        1        2        2        1   \n",
              "2        1        1        1        1        1        2        2        2   \n",
              "3        2        1        1        1        1        3        2        2   \n",
              "4        2        2        1        1        1        2        2        1   \n",
              "\n",
              "  ESECONVJ  \n",
              "0        1  \n",
              "1        2  \n",
              "2        1  \n",
              "3        2  \n",
              "4        1  \n",
              "\n",
              "[5 rows x 22 columns]"
            ],
            "text/html": [
              "\n",
              "  <div id=\"df-2dfd581a-6fc8-4b51-a4aa-2070f569e375\">\n",
              "    <div class=\"colab-df-container\">\n",
              "      <div>\n",
              "<style scoped>\n",
              "    .dataframe tbody tr th:only-of-type {\n",
              "        vertical-align: middle;\n",
              "    }\n",
              "\n",
              "    .dataframe tbody tr th {\n",
              "        vertical-align: top;\n",
              "    }\n",
              "\n",
              "    .dataframe thead th {\n",
              "        text-align: right;\n",
              "    }\n",
              "</style>\n",
              "<table border=\"1\" class=\"dataframe\">\n",
              "  <thead>\n",
              "    <tr style=\"text-align: right;\">\n",
              "      <th></th>\n",
              "      <th>GCQ3A</th>\n",
              "      <th>GCQ3B</th>\n",
              "      <th>GCQ3C</th>\n",
              "      <th>GCQ3D</th>\n",
              "      <th>GCQ3E</th>\n",
              "      <th>GCQ3F</th>\n",
              "      <th>GCQ3G</th>\n",
              "      <th>GCQ3H</th>\n",
              "      <th>GCQ3I</th>\n",
              "      <th>GCQ3J</th>\n",
              "      <th>...</th>\n",
              "      <th>ESECONVA</th>\n",
              "      <th>ESECONVB</th>\n",
              "      <th>ESECONVC</th>\n",
              "      <th>ESECONVD</th>\n",
              "      <th>ESECONVE</th>\n",
              "      <th>ESECONVF</th>\n",
              "      <th>ESECONVG</th>\n",
              "      <th>ESECONVH</th>\n",
              "      <th>ESECONVI</th>\n",
              "      <th>ESECONVJ</th>\n",
              "    </tr>\n",
              "  </thead>\n",
              "  <tbody>\n",
              "    <tr>\n",
              "      <th>0</th>\n",
              "      <td>3</td>\n",
              "      <td>3</td>\n",
              "      <td>3</td>\n",
              "      <td>3</td>\n",
              "      <td>3</td>\n",
              "      <td>3</td>\n",
              "      <td>3</td>\n",
              "      <td>3</td>\n",
              "      <td>0</td>\n",
              "      <td>3</td>\n",
              "      <td>...</td>\n",
              "      <td>2</td>\n",
              "      <td>1</td>\n",
              "      <td>1</td>\n",
              "      <td>1</td>\n",
              "      <td>1</td>\n",
              "      <td>1</td>\n",
              "      <td>2</td>\n",
              "      <td>1</td>\n",
              "      <td>1</td>\n",
              "      <td>1</td>\n",
              "    </tr>\n",
              "    <tr>\n",
              "      <th>1</th>\n",
              "      <td>2</td>\n",
              "      <td>1</td>\n",
              "      <td>1</td>\n",
              "      <td>1</td>\n",
              "      <td>2</td>\n",
              "      <td>3</td>\n",
              "      <td>2</td>\n",
              "      <td>2</td>\n",
              "      <td>0</td>\n",
              "      <td>3</td>\n",
              "      <td>...</td>\n",
              "      <td>2</td>\n",
              "      <td>2</td>\n",
              "      <td>1</td>\n",
              "      <td>1</td>\n",
              "      <td>1</td>\n",
              "      <td>1</td>\n",
              "      <td>2</td>\n",
              "      <td>2</td>\n",
              "      <td>1</td>\n",
              "      <td>2</td>\n",
              "    </tr>\n",
              "    <tr>\n",
              "      <th>2</th>\n",
              "      <td>2</td>\n",
              "      <td>2</td>\n",
              "      <td>1</td>\n",
              "      <td>2</td>\n",
              "      <td>2</td>\n",
              "      <td>2</td>\n",
              "      <td>2</td>\n",
              "      <td>2</td>\n",
              "      <td>1</td>\n",
              "      <td>2</td>\n",
              "      <td>...</td>\n",
              "      <td>2</td>\n",
              "      <td>1</td>\n",
              "      <td>1</td>\n",
              "      <td>1</td>\n",
              "      <td>1</td>\n",
              "      <td>1</td>\n",
              "      <td>2</td>\n",
              "      <td>2</td>\n",
              "      <td>2</td>\n",
              "      <td>1</td>\n",
              "    </tr>\n",
              "    <tr>\n",
              "      <th>3</th>\n",
              "      <td>3</td>\n",
              "      <td>3</td>\n",
              "      <td>2</td>\n",
              "      <td>3</td>\n",
              "      <td>3</td>\n",
              "      <td>3</td>\n",
              "      <td>3</td>\n",
              "      <td>3</td>\n",
              "      <td>1</td>\n",
              "      <td>2</td>\n",
              "      <td>...</td>\n",
              "      <td>2</td>\n",
              "      <td>2</td>\n",
              "      <td>1</td>\n",
              "      <td>1</td>\n",
              "      <td>1</td>\n",
              "      <td>1</td>\n",
              "      <td>3</td>\n",
              "      <td>2</td>\n",
              "      <td>2</td>\n",
              "      <td>2</td>\n",
              "    </tr>\n",
              "    <tr>\n",
              "      <th>4</th>\n",
              "      <td>3</td>\n",
              "      <td>3</td>\n",
              "      <td>1</td>\n",
              "      <td>2</td>\n",
              "      <td>3</td>\n",
              "      <td>2</td>\n",
              "      <td>3</td>\n",
              "      <td>2</td>\n",
              "      <td>0</td>\n",
              "      <td>3</td>\n",
              "      <td>...</td>\n",
              "      <td>2</td>\n",
              "      <td>2</td>\n",
              "      <td>2</td>\n",
              "      <td>1</td>\n",
              "      <td>1</td>\n",
              "      <td>1</td>\n",
              "      <td>2</td>\n",
              "      <td>2</td>\n",
              "      <td>1</td>\n",
              "      <td>1</td>\n",
              "    </tr>\n",
              "  </tbody>\n",
              "</table>\n",
              "<p>5 rows × 22 columns</p>\n",
              "</div>\n",
              "      <button class=\"colab-df-convert\" onclick=\"convertToInteractive('df-2dfd581a-6fc8-4b51-a4aa-2070f569e375')\"\n",
              "              title=\"Convert this dataframe to an interactive table.\"\n",
              "              style=\"display:none;\">\n",
              "        \n",
              "  <svg xmlns=\"http://www.w3.org/2000/svg\" height=\"24px\"viewBox=\"0 0 24 24\"\n",
              "       width=\"24px\">\n",
              "    <path d=\"M0 0h24v24H0V0z\" fill=\"none\"/>\n",
              "    <path d=\"M18.56 5.44l.94 2.06.94-2.06 2.06-.94-2.06-.94-.94-2.06-.94 2.06-2.06.94zm-11 1L8.5 8.5l.94-2.06 2.06-.94-2.06-.94L8.5 2.5l-.94 2.06-2.06.94zm10 10l.94 2.06.94-2.06 2.06-.94-2.06-.94-.94-2.06-.94 2.06-2.06.94z\"/><path d=\"M17.41 7.96l-1.37-1.37c-.4-.4-.92-.59-1.43-.59-.52 0-1.04.2-1.43.59L10.3 9.45l-7.72 7.72c-.78.78-.78 2.05 0 2.83L4 21.41c.39.39.9.59 1.41.59.51 0 1.02-.2 1.41-.59l7.78-7.78 2.81-2.81c.8-.78.8-2.07 0-2.86zM5.41 20L4 18.59l7.72-7.72 1.47 1.35L5.41 20z\"/>\n",
              "  </svg>\n",
              "      </button>\n",
              "      \n",
              "  <style>\n",
              "    .colab-df-container {\n",
              "      display:flex;\n",
              "      flex-wrap:wrap;\n",
              "      gap: 12px;\n",
              "    }\n",
              "\n",
              "    .colab-df-convert {\n",
              "      background-color: #E8F0FE;\n",
              "      border: none;\n",
              "      border-radius: 50%;\n",
              "      cursor: pointer;\n",
              "      display: none;\n",
              "      fill: #1967D2;\n",
              "      height: 32px;\n",
              "      padding: 0 0 0 0;\n",
              "      width: 32px;\n",
              "    }\n",
              "\n",
              "    .colab-df-convert:hover {\n",
              "      background-color: #E2EBFA;\n",
              "      box-shadow: 0px 1px 2px rgba(60, 64, 67, 0.3), 0px 1px 3px 1px rgba(60, 64, 67, 0.15);\n",
              "      fill: #174EA6;\n",
              "    }\n",
              "\n",
              "    [theme=dark] .colab-df-convert {\n",
              "      background-color: #3B4455;\n",
              "      fill: #D2E3FC;\n",
              "    }\n",
              "\n",
              "    [theme=dark] .colab-df-convert:hover {\n",
              "      background-color: #434B5C;\n",
              "      box-shadow: 0px 1px 3px 1px rgba(0, 0, 0, 0.15);\n",
              "      filter: drop-shadow(0px 1px 2px rgba(0, 0, 0, 0.3));\n",
              "      fill: #FFFFFF;\n",
              "    }\n",
              "  </style>\n",
              "\n",
              "      <script>\n",
              "        const buttonEl =\n",
              "          document.querySelector('#df-2dfd581a-6fc8-4b51-a4aa-2070f569e375 button.colab-df-convert');\n",
              "        buttonEl.style.display =\n",
              "          google.colab.kernel.accessAllowed ? 'block' : 'none';\n",
              "\n",
              "        async function convertToInteractive(key) {\n",
              "          const element = document.querySelector('#df-2dfd581a-6fc8-4b51-a4aa-2070f569e375');\n",
              "          const dataTable =\n",
              "            await google.colab.kernel.invokeFunction('convertToInteractive',\n",
              "                                                     [key], {});\n",
              "          if (!dataTable) return;\n",
              "\n",
              "          const docLinkHtml = 'Like what you see? Visit the ' +\n",
              "            '<a target=\"_blank\" href=https://colab.research.google.com/notebooks/data_table.ipynb>data table notebook</a>'\n",
              "            + ' to learn more about interactive tables.';\n",
              "          element.innerHTML = '';\n",
              "          dataTable['output_type'] = 'display_data';\n",
              "          await google.colab.output.renderOutput(dataTable, element);\n",
              "          const docLink = document.createElement('div');\n",
              "          docLink.innerHTML = docLinkHtml;\n",
              "          element.appendChild(docLink);\n",
              "        }\n",
              "      </script>\n",
              "    </div>\n",
              "  </div>\n",
              "  "
            ]
          },
          "metadata": {},
          "execution_count": 145
        }
      ]
    },
    {
      "cell_type": "code",
      "source": [
        "df_answers0.info()"
      ],
      "metadata": {
        "colab": {
          "base_uri": "https://localhost:8080/"
        },
        "id": "9KhAp0J98PHc",
        "outputId": "ac02efae-45c4-4644-c9cc-ef001912b8ca"
      },
      "id": "9KhAp0J98PHc",
      "execution_count": null,
      "outputs": [
        {
          "output_type": "stream",
          "name": "stdout",
          "text": [
            "<class 'pandas.core.frame.DataFrame'>\n",
            "Int64Index: 1333 entries, 0 to 1353\n",
            "Data columns (total 22 columns):\n",
            " #   Column    Non-Null Count  Dtype \n",
            "---  ------    --------------  ----- \n",
            " 0   GCQ3A     1333 non-null   object\n",
            " 1   GCQ3B     1333 non-null   object\n",
            " 2   GCQ3C     1333 non-null   object\n",
            " 3   GCQ3D     1333 non-null   object\n",
            " 4   GCQ3E     1333 non-null   object\n",
            " 5   GCQ3F     1333 non-null   object\n",
            " 6   GCQ3G     1333 non-null   object\n",
            " 7   GCQ3H     1333 non-null   object\n",
            " 8   GCQ3I     1333 non-null   object\n",
            " 9   GCQ3J     1333 non-null   object\n",
            " 10  GCQ3K     1333 non-null   object\n",
            " 11  GCQ3L     1333 non-null   object\n",
            " 12  ESECONVA  1333 non-null   object\n",
            " 13  ESECONVB  1333 non-null   object\n",
            " 14  ESECONVC  1333 non-null   object\n",
            " 15  ESECONVD  1333 non-null   object\n",
            " 16  ESECONVE  1333 non-null   object\n",
            " 17  ESECONVF  1333 non-null   object\n",
            " 18  ESECONVG  1333 non-null   object\n",
            " 19  ESECONVH  1333 non-null   object\n",
            " 20  ESECONVI  1333 non-null   object\n",
            " 21  ESECONVJ  1333 non-null   object\n",
            "dtypes: object(22)\n",
            "memory usage: 239.5+ KB\n"
          ]
        }
      ]
    },
    {
      "cell_type": "code",
      "source": [
        "df_answers0.iloc[:,3].value_counts()"
      ],
      "metadata": {
        "colab": {
          "base_uri": "https://localhost:8080/"
        },
        "id": "eFpsT91B8f9o",
        "outputId": "34e550d1-9b4b-458f-e9c6-8ab861822420"
      },
      "id": "eFpsT91B8f9o",
      "execution_count": null,
      "outputs": [
        {
          "output_type": "execute_result",
          "data": {
            "text/plain": [
              "3    719\n",
              "2    419\n",
              "1    172\n",
              "0     19\n",
              "       4\n",
              "Name: GCQ3D, dtype: int64"
            ]
          },
          "metadata": {},
          "execution_count": 148
        }
      ]
    },
    {
      "cell_type": "code",
      "source": [
        "df_answers0.iloc[:,20].value_counts()"
      ],
      "metadata": {
        "colab": {
          "base_uri": "https://localhost:8080/"
        },
        "id": "0jQ1R7DI887Q",
        "outputId": "3733b013-4679-44cb-b59e-5b35cb63bc0f"
      },
      "id": "0jQ1R7DI887Q",
      "execution_count": null,
      "outputs": [
        {
          "output_type": "execute_result",
          "data": {
            "text/plain": [
              "1    831\n",
              "2    268\n",
              "3    121\n",
              "5     57\n",
              "4     46\n",
              "      10\n",
              "Name: ESECONVI, dtype: int64"
            ]
          },
          "metadata": {},
          "execution_count": 149
        }
      ]
    },
    {
      "cell_type": "code",
      "source": [
        "# Create additional No Answer (NA)\n",
        "df_answers01 = df_answers0.copy()\n",
        "df_answers01 = df_answers01.replace(' ', 'NA')"
      ],
      "metadata": {
        "id": "zhoOTrPM78T_"
      },
      "id": "zhoOTrPM78T_",
      "execution_count": null,
      "outputs": []
    },
    {
      "cell_type": "code",
      "source": [
        "df_answers01.iloc[:,1].value_counts()"
      ],
      "metadata": {
        "colab": {
          "base_uri": "https://localhost:8080/"
        },
        "id": "na054etbHBYW",
        "outputId": "f3d27a2b-f7a2-4afa-ccf5-2ecafa4b7466"
      },
      "id": "na054etbHBYW",
      "execution_count": null,
      "outputs": [
        {
          "output_type": "execute_result",
          "data": {
            "text/plain": [
              "3     651\n",
              "2     506\n",
              "1     143\n",
              "0      25\n",
              "NA      8\n",
              "Name: GCQ3B, dtype: int64"
            ]
          },
          "metadata": {},
          "execution_count": 117
        }
      ]
    },
    {
      "cell_type": "code",
      "source": [
        "df_answers01.head(10)"
      ],
      "metadata": {
        "colab": {
          "base_uri": "https://localhost:8080/",
          "height": 460
        },
        "id": "BO_tEM4gqOdZ",
        "outputId": "60829b35-0065-49ff-c684-3e8cf0c599ed"
      },
      "id": "BO_tEM4gqOdZ",
      "execution_count": null,
      "outputs": [
        {
          "output_type": "execute_result",
          "data": {
            "text/plain": [
              "  GCQ3A GCQ3B GCQ3C GCQ3D GCQ3E GCQ3F GCQ3G GCQ3H GCQ3I GCQ3J  ... ESECONVA  \\\n",
              "0     3     3     3     3     3     3     3     3     0     3  ...        2   \n",
              "1     2     1     1     1     2     3     2     2     0     3  ...        2   \n",
              "2     2     2     1     2     2     2     2     2     1     2  ...        2   \n",
              "3     3     3     2     3     3     3     3     3     1     2  ...        2   \n",
              "4     3     3     1     2     3     2     3     2     0     3  ...        2   \n",
              "5     2     3     0     2     2     2     2     2     1     2  ...        2   \n",
              "6     3     3     3     3     3     3     3     3     1     3  ...        2   \n",
              "7     3     3     3     3     3     3     3     3     3     3  ...        1   \n",
              "8     3     3     3     3     2     3     3     3     1     2  ...        3   \n",
              "9     2     2     1     2     1     1     2     1     3     1  ...        5   \n",
              "\n",
              "  ESECONVB ESECONVC ESECONVD ESECONVE ESECONVF ESECONVG ESECONVH ESECONVI  \\\n",
              "0        1        1        1        1        1        2        1        1   \n",
              "1        2        1        1        1        1        2        2        1   \n",
              "2        1        1        1        1        1        2        2        2   \n",
              "3        2        1        1        1        1        3        2        2   \n",
              "4        2        2        1        1        1        2        2        1   \n",
              "5        1        1        1        1        1        1        1        1   \n",
              "6        1        1        2        1        1        2        1        1   \n",
              "7        1        2        5        1        1        5        1        3   \n",
              "8        3        1        1        1        2        3        1        3   \n",
              "9        4        4        3        5        1        3        1        4   \n",
              "\n",
              "  ESECONVJ  \n",
              "0        1  \n",
              "1        2  \n",
              "2        1  \n",
              "3        2  \n",
              "4        1  \n",
              "5        1  \n",
              "6        1  \n",
              "7        1  \n",
              "8        1  \n",
              "9        1  \n",
              "\n",
              "[10 rows x 22 columns]"
            ],
            "text/html": [
              "\n",
              "  <div id=\"df-4d336e07-5fd5-45c1-bf2d-db2355ec55f6\">\n",
              "    <div class=\"colab-df-container\">\n",
              "      <div>\n",
              "<style scoped>\n",
              "    .dataframe tbody tr th:only-of-type {\n",
              "        vertical-align: middle;\n",
              "    }\n",
              "\n",
              "    .dataframe tbody tr th {\n",
              "        vertical-align: top;\n",
              "    }\n",
              "\n",
              "    .dataframe thead th {\n",
              "        text-align: right;\n",
              "    }\n",
              "</style>\n",
              "<table border=\"1\" class=\"dataframe\">\n",
              "  <thead>\n",
              "    <tr style=\"text-align: right;\">\n",
              "      <th></th>\n",
              "      <th>GCQ3A</th>\n",
              "      <th>GCQ3B</th>\n",
              "      <th>GCQ3C</th>\n",
              "      <th>GCQ3D</th>\n",
              "      <th>GCQ3E</th>\n",
              "      <th>GCQ3F</th>\n",
              "      <th>GCQ3G</th>\n",
              "      <th>GCQ3H</th>\n",
              "      <th>GCQ3I</th>\n",
              "      <th>GCQ3J</th>\n",
              "      <th>...</th>\n",
              "      <th>ESECONVA</th>\n",
              "      <th>ESECONVB</th>\n",
              "      <th>ESECONVC</th>\n",
              "      <th>ESECONVD</th>\n",
              "      <th>ESECONVE</th>\n",
              "      <th>ESECONVF</th>\n",
              "      <th>ESECONVG</th>\n",
              "      <th>ESECONVH</th>\n",
              "      <th>ESECONVI</th>\n",
              "      <th>ESECONVJ</th>\n",
              "    </tr>\n",
              "  </thead>\n",
              "  <tbody>\n",
              "    <tr>\n",
              "      <th>0</th>\n",
              "      <td>3</td>\n",
              "      <td>3</td>\n",
              "      <td>3</td>\n",
              "      <td>3</td>\n",
              "      <td>3</td>\n",
              "      <td>3</td>\n",
              "      <td>3</td>\n",
              "      <td>3</td>\n",
              "      <td>0</td>\n",
              "      <td>3</td>\n",
              "      <td>...</td>\n",
              "      <td>2</td>\n",
              "      <td>1</td>\n",
              "      <td>1</td>\n",
              "      <td>1</td>\n",
              "      <td>1</td>\n",
              "      <td>1</td>\n",
              "      <td>2</td>\n",
              "      <td>1</td>\n",
              "      <td>1</td>\n",
              "      <td>1</td>\n",
              "    </tr>\n",
              "    <tr>\n",
              "      <th>1</th>\n",
              "      <td>2</td>\n",
              "      <td>1</td>\n",
              "      <td>1</td>\n",
              "      <td>1</td>\n",
              "      <td>2</td>\n",
              "      <td>3</td>\n",
              "      <td>2</td>\n",
              "      <td>2</td>\n",
              "      <td>0</td>\n",
              "      <td>3</td>\n",
              "      <td>...</td>\n",
              "      <td>2</td>\n",
              "      <td>2</td>\n",
              "      <td>1</td>\n",
              "      <td>1</td>\n",
              "      <td>1</td>\n",
              "      <td>1</td>\n",
              "      <td>2</td>\n",
              "      <td>2</td>\n",
              "      <td>1</td>\n",
              "      <td>2</td>\n",
              "    </tr>\n",
              "    <tr>\n",
              "      <th>2</th>\n",
              "      <td>2</td>\n",
              "      <td>2</td>\n",
              "      <td>1</td>\n",
              "      <td>2</td>\n",
              "      <td>2</td>\n",
              "      <td>2</td>\n",
              "      <td>2</td>\n",
              "      <td>2</td>\n",
              "      <td>1</td>\n",
              "      <td>2</td>\n",
              "      <td>...</td>\n",
              "      <td>2</td>\n",
              "      <td>1</td>\n",
              "      <td>1</td>\n",
              "      <td>1</td>\n",
              "      <td>1</td>\n",
              "      <td>1</td>\n",
              "      <td>2</td>\n",
              "      <td>2</td>\n",
              "      <td>2</td>\n",
              "      <td>1</td>\n",
              "    </tr>\n",
              "    <tr>\n",
              "      <th>3</th>\n",
              "      <td>3</td>\n",
              "      <td>3</td>\n",
              "      <td>2</td>\n",
              "      <td>3</td>\n",
              "      <td>3</td>\n",
              "      <td>3</td>\n",
              "      <td>3</td>\n",
              "      <td>3</td>\n",
              "      <td>1</td>\n",
              "      <td>2</td>\n",
              "      <td>...</td>\n",
              "      <td>2</td>\n",
              "      <td>2</td>\n",
              "      <td>1</td>\n",
              "      <td>1</td>\n",
              "      <td>1</td>\n",
              "      <td>1</td>\n",
              "      <td>3</td>\n",
              "      <td>2</td>\n",
              "      <td>2</td>\n",
              "      <td>2</td>\n",
              "    </tr>\n",
              "    <tr>\n",
              "      <th>4</th>\n",
              "      <td>3</td>\n",
              "      <td>3</td>\n",
              "      <td>1</td>\n",
              "      <td>2</td>\n",
              "      <td>3</td>\n",
              "      <td>2</td>\n",
              "      <td>3</td>\n",
              "      <td>2</td>\n",
              "      <td>0</td>\n",
              "      <td>3</td>\n",
              "      <td>...</td>\n",
              "      <td>2</td>\n",
              "      <td>2</td>\n",
              "      <td>2</td>\n",
              "      <td>1</td>\n",
              "      <td>1</td>\n",
              "      <td>1</td>\n",
              "      <td>2</td>\n",
              "      <td>2</td>\n",
              "      <td>1</td>\n",
              "      <td>1</td>\n",
              "    </tr>\n",
              "    <tr>\n",
              "      <th>5</th>\n",
              "      <td>2</td>\n",
              "      <td>3</td>\n",
              "      <td>0</td>\n",
              "      <td>2</td>\n",
              "      <td>2</td>\n",
              "      <td>2</td>\n",
              "      <td>2</td>\n",
              "      <td>2</td>\n",
              "      <td>1</td>\n",
              "      <td>2</td>\n",
              "      <td>...</td>\n",
              "      <td>2</td>\n",
              "      <td>1</td>\n",
              "      <td>1</td>\n",
              "      <td>1</td>\n",
              "      <td>1</td>\n",
              "      <td>1</td>\n",
              "      <td>1</td>\n",
              "      <td>1</td>\n",
              "      <td>1</td>\n",
              "      <td>1</td>\n",
              "    </tr>\n",
              "    <tr>\n",
              "      <th>6</th>\n",
              "      <td>3</td>\n",
              "      <td>3</td>\n",
              "      <td>3</td>\n",
              "      <td>3</td>\n",
              "      <td>3</td>\n",
              "      <td>3</td>\n",
              "      <td>3</td>\n",
              "      <td>3</td>\n",
              "      <td>1</td>\n",
              "      <td>3</td>\n",
              "      <td>...</td>\n",
              "      <td>2</td>\n",
              "      <td>1</td>\n",
              "      <td>1</td>\n",
              "      <td>2</td>\n",
              "      <td>1</td>\n",
              "      <td>1</td>\n",
              "      <td>2</td>\n",
              "      <td>1</td>\n",
              "      <td>1</td>\n",
              "      <td>1</td>\n",
              "    </tr>\n",
              "    <tr>\n",
              "      <th>7</th>\n",
              "      <td>3</td>\n",
              "      <td>3</td>\n",
              "      <td>3</td>\n",
              "      <td>3</td>\n",
              "      <td>3</td>\n",
              "      <td>3</td>\n",
              "      <td>3</td>\n",
              "      <td>3</td>\n",
              "      <td>3</td>\n",
              "      <td>3</td>\n",
              "      <td>...</td>\n",
              "      <td>1</td>\n",
              "      <td>1</td>\n",
              "      <td>2</td>\n",
              "      <td>5</td>\n",
              "      <td>1</td>\n",
              "      <td>1</td>\n",
              "      <td>5</td>\n",
              "      <td>1</td>\n",
              "      <td>3</td>\n",
              "      <td>1</td>\n",
              "    </tr>\n",
              "    <tr>\n",
              "      <th>8</th>\n",
              "      <td>3</td>\n",
              "      <td>3</td>\n",
              "      <td>3</td>\n",
              "      <td>3</td>\n",
              "      <td>2</td>\n",
              "      <td>3</td>\n",
              "      <td>3</td>\n",
              "      <td>3</td>\n",
              "      <td>1</td>\n",
              "      <td>2</td>\n",
              "      <td>...</td>\n",
              "      <td>3</td>\n",
              "      <td>3</td>\n",
              "      <td>1</td>\n",
              "      <td>1</td>\n",
              "      <td>1</td>\n",
              "      <td>2</td>\n",
              "      <td>3</td>\n",
              "      <td>1</td>\n",
              "      <td>3</td>\n",
              "      <td>1</td>\n",
              "    </tr>\n",
              "    <tr>\n",
              "      <th>9</th>\n",
              "      <td>2</td>\n",
              "      <td>2</td>\n",
              "      <td>1</td>\n",
              "      <td>2</td>\n",
              "      <td>1</td>\n",
              "      <td>1</td>\n",
              "      <td>2</td>\n",
              "      <td>1</td>\n",
              "      <td>3</td>\n",
              "      <td>1</td>\n",
              "      <td>...</td>\n",
              "      <td>5</td>\n",
              "      <td>4</td>\n",
              "      <td>4</td>\n",
              "      <td>3</td>\n",
              "      <td>5</td>\n",
              "      <td>1</td>\n",
              "      <td>3</td>\n",
              "      <td>1</td>\n",
              "      <td>4</td>\n",
              "      <td>1</td>\n",
              "    </tr>\n",
              "  </tbody>\n",
              "</table>\n",
              "<p>10 rows × 22 columns</p>\n",
              "</div>\n",
              "      <button class=\"colab-df-convert\" onclick=\"convertToInteractive('df-4d336e07-5fd5-45c1-bf2d-db2355ec55f6')\"\n",
              "              title=\"Convert this dataframe to an interactive table.\"\n",
              "              style=\"display:none;\">\n",
              "        \n",
              "  <svg xmlns=\"http://www.w3.org/2000/svg\" height=\"24px\"viewBox=\"0 0 24 24\"\n",
              "       width=\"24px\">\n",
              "    <path d=\"M0 0h24v24H0V0z\" fill=\"none\"/>\n",
              "    <path d=\"M18.56 5.44l.94 2.06.94-2.06 2.06-.94-2.06-.94-.94-2.06-.94 2.06-2.06.94zm-11 1L8.5 8.5l.94-2.06 2.06-.94-2.06-.94L8.5 2.5l-.94 2.06-2.06.94zm10 10l.94 2.06.94-2.06 2.06-.94-2.06-.94-.94-2.06-.94 2.06-2.06.94z\"/><path d=\"M17.41 7.96l-1.37-1.37c-.4-.4-.92-.59-1.43-.59-.52 0-1.04.2-1.43.59L10.3 9.45l-7.72 7.72c-.78.78-.78 2.05 0 2.83L4 21.41c.39.39.9.59 1.41.59.51 0 1.02-.2 1.41-.59l7.78-7.78 2.81-2.81c.8-.78.8-2.07 0-2.86zM5.41 20L4 18.59l7.72-7.72 1.47 1.35L5.41 20z\"/>\n",
              "  </svg>\n",
              "      </button>\n",
              "      \n",
              "  <style>\n",
              "    .colab-df-container {\n",
              "      display:flex;\n",
              "      flex-wrap:wrap;\n",
              "      gap: 12px;\n",
              "    }\n",
              "\n",
              "    .colab-df-convert {\n",
              "      background-color: #E8F0FE;\n",
              "      border: none;\n",
              "      border-radius: 50%;\n",
              "      cursor: pointer;\n",
              "      display: none;\n",
              "      fill: #1967D2;\n",
              "      height: 32px;\n",
              "      padding: 0 0 0 0;\n",
              "      width: 32px;\n",
              "    }\n",
              "\n",
              "    .colab-df-convert:hover {\n",
              "      background-color: #E2EBFA;\n",
              "      box-shadow: 0px 1px 2px rgba(60, 64, 67, 0.3), 0px 1px 3px 1px rgba(60, 64, 67, 0.15);\n",
              "      fill: #174EA6;\n",
              "    }\n",
              "\n",
              "    [theme=dark] .colab-df-convert {\n",
              "      background-color: #3B4455;\n",
              "      fill: #D2E3FC;\n",
              "    }\n",
              "\n",
              "    [theme=dark] .colab-df-convert:hover {\n",
              "      background-color: #434B5C;\n",
              "      box-shadow: 0px 1px 3px 1px rgba(0, 0, 0, 0.15);\n",
              "      filter: drop-shadow(0px 1px 2px rgba(0, 0, 0, 0.3));\n",
              "      fill: #FFFFFF;\n",
              "    }\n",
              "  </style>\n",
              "\n",
              "      <script>\n",
              "        const buttonEl =\n",
              "          document.querySelector('#df-4d336e07-5fd5-45c1-bf2d-db2355ec55f6 button.colab-df-convert');\n",
              "        buttonEl.style.display =\n",
              "          google.colab.kernel.accessAllowed ? 'block' : 'none';\n",
              "\n",
              "        async function convertToInteractive(key) {\n",
              "          const element = document.querySelector('#df-4d336e07-5fd5-45c1-bf2d-db2355ec55f6');\n",
              "          const dataTable =\n",
              "            await google.colab.kernel.invokeFunction('convertToInteractive',\n",
              "                                                     [key], {});\n",
              "          if (!dataTable) return;\n",
              "\n",
              "          const docLinkHtml = 'Like what you see? Visit the ' +\n",
              "            '<a target=\"_blank\" href=https://colab.research.google.com/notebooks/data_table.ipynb>data table notebook</a>'\n",
              "            + ' to learn more about interactive tables.';\n",
              "          element.innerHTML = '';\n",
              "          dataTable['output_type'] = 'display_data';\n",
              "          await google.colab.output.renderOutput(dataTable, element);\n",
              "          const docLink = document.createElement('div');\n",
              "          docLink.innerHTML = docLinkHtml;\n",
              "          element.appendChild(docLink);\n",
              "        }\n",
              "      </script>\n",
              "    </div>\n",
              "  </div>\n",
              "  "
            ]
          },
          "metadata": {},
          "execution_count": 118
        }
      ]
    },
    {
      "cell_type": "code",
      "source": [
        "df_answers01[df_answers01 == 5]"
      ],
      "metadata": {
        "colab": {
          "base_uri": "https://localhost:8080/",
          "height": 491
        },
        "id": "i00b7yZkXwng",
        "outputId": "30a82c6b-fb72-4201-bcaf-2bfbb86ff365"
      },
      "id": "i00b7yZkXwng",
      "execution_count": null,
      "outputs": [
        {
          "output_type": "execute_result",
          "data": {
            "text/plain": [
              "     GCQ3A GCQ3B GCQ3C GCQ3D GCQ3E GCQ3F GCQ3G GCQ3H GCQ3I GCQ3J  ...  \\\n",
              "0      NaN   NaN   NaN   NaN   NaN   NaN   NaN   NaN   NaN   NaN  ...   \n",
              "1      NaN   NaN   NaN   NaN   NaN   NaN   NaN   NaN   NaN   NaN  ...   \n",
              "2      NaN   NaN   NaN   NaN   NaN   NaN   NaN   NaN   NaN   NaN  ...   \n",
              "3      NaN   NaN   NaN   NaN   NaN   NaN   NaN   NaN   NaN   NaN  ...   \n",
              "4      NaN   NaN   NaN   NaN   NaN   NaN   NaN   NaN   NaN   NaN  ...   \n",
              "...    ...   ...   ...   ...   ...   ...   ...   ...   ...   ...  ...   \n",
              "1349   NaN   NaN   NaN   NaN   NaN   NaN   NaN   NaN   NaN   NaN  ...   \n",
              "1350   NaN   NaN   NaN   NaN   NaN   NaN   NaN   NaN   NaN   NaN  ...   \n",
              "1351   NaN   NaN   NaN   NaN   NaN   NaN   NaN   NaN   NaN   NaN  ...   \n",
              "1352   NaN   NaN   NaN   NaN   NaN   NaN   NaN   NaN   NaN   NaN  ...   \n",
              "1353   NaN   NaN   NaN   NaN   NaN   NaN   NaN   NaN   NaN   NaN  ...   \n",
              "\n",
              "     ESECONVA ESECONVB ESECONVC ESECONVD ESECONVE ESECONVF ESECONVG ESECONVH  \\\n",
              "0         NaN      NaN      NaN      NaN      NaN      NaN      NaN      NaN   \n",
              "1         NaN      NaN      NaN      NaN      NaN      NaN      NaN      NaN   \n",
              "2         NaN      NaN      NaN      NaN      NaN      NaN      NaN      NaN   \n",
              "3         NaN      NaN      NaN      NaN      NaN      NaN      NaN      NaN   \n",
              "4         NaN      NaN      NaN      NaN      NaN      NaN      NaN      NaN   \n",
              "...       ...      ...      ...      ...      ...      ...      ...      ...   \n",
              "1349      NaN      NaN      NaN      NaN      NaN      NaN      NaN      NaN   \n",
              "1350      NaN      NaN      NaN      NaN      NaN      NaN      NaN      NaN   \n",
              "1351      NaN      NaN      NaN      NaN      NaN      NaN      NaN      NaN   \n",
              "1352      NaN      NaN      NaN      NaN      NaN      NaN      NaN      NaN   \n",
              "1353        5      NaN      NaN      NaN      NaN      NaN      NaN      NaN   \n",
              "\n",
              "     ESECONVI ESECONVJ  \n",
              "0         NaN      NaN  \n",
              "1         NaN      NaN  \n",
              "2         NaN      NaN  \n",
              "3         NaN      NaN  \n",
              "4         NaN      NaN  \n",
              "...       ...      ...  \n",
              "1349      NaN      NaN  \n",
              "1350      NaN      NaN  \n",
              "1351      NaN      NaN  \n",
              "1352      NaN      NaN  \n",
              "1353      NaN      NaN  \n",
              "\n",
              "[1333 rows x 22 columns]"
            ],
            "text/html": [
              "\n",
              "  <div id=\"df-4fe5c9ef-3759-4057-a81f-369c4fee2e86\">\n",
              "    <div class=\"colab-df-container\">\n",
              "      <div>\n",
              "<style scoped>\n",
              "    .dataframe tbody tr th:only-of-type {\n",
              "        vertical-align: middle;\n",
              "    }\n",
              "\n",
              "    .dataframe tbody tr th {\n",
              "        vertical-align: top;\n",
              "    }\n",
              "\n",
              "    .dataframe thead th {\n",
              "        text-align: right;\n",
              "    }\n",
              "</style>\n",
              "<table border=\"1\" class=\"dataframe\">\n",
              "  <thead>\n",
              "    <tr style=\"text-align: right;\">\n",
              "      <th></th>\n",
              "      <th>GCQ3A</th>\n",
              "      <th>GCQ3B</th>\n",
              "      <th>GCQ3C</th>\n",
              "      <th>GCQ3D</th>\n",
              "      <th>GCQ3E</th>\n",
              "      <th>GCQ3F</th>\n",
              "      <th>GCQ3G</th>\n",
              "      <th>GCQ3H</th>\n",
              "      <th>GCQ3I</th>\n",
              "      <th>GCQ3J</th>\n",
              "      <th>...</th>\n",
              "      <th>ESECONVA</th>\n",
              "      <th>ESECONVB</th>\n",
              "      <th>ESECONVC</th>\n",
              "      <th>ESECONVD</th>\n",
              "      <th>ESECONVE</th>\n",
              "      <th>ESECONVF</th>\n",
              "      <th>ESECONVG</th>\n",
              "      <th>ESECONVH</th>\n",
              "      <th>ESECONVI</th>\n",
              "      <th>ESECONVJ</th>\n",
              "    </tr>\n",
              "  </thead>\n",
              "  <tbody>\n",
              "    <tr>\n",
              "      <th>0</th>\n",
              "      <td>NaN</td>\n",
              "      <td>NaN</td>\n",
              "      <td>NaN</td>\n",
              "      <td>NaN</td>\n",
              "      <td>NaN</td>\n",
              "      <td>NaN</td>\n",
              "      <td>NaN</td>\n",
              "      <td>NaN</td>\n",
              "      <td>NaN</td>\n",
              "      <td>NaN</td>\n",
              "      <td>...</td>\n",
              "      <td>NaN</td>\n",
              "      <td>NaN</td>\n",
              "      <td>NaN</td>\n",
              "      <td>NaN</td>\n",
              "      <td>NaN</td>\n",
              "      <td>NaN</td>\n",
              "      <td>NaN</td>\n",
              "      <td>NaN</td>\n",
              "      <td>NaN</td>\n",
              "      <td>NaN</td>\n",
              "    </tr>\n",
              "    <tr>\n",
              "      <th>1</th>\n",
              "      <td>NaN</td>\n",
              "      <td>NaN</td>\n",
              "      <td>NaN</td>\n",
              "      <td>NaN</td>\n",
              "      <td>NaN</td>\n",
              "      <td>NaN</td>\n",
              "      <td>NaN</td>\n",
              "      <td>NaN</td>\n",
              "      <td>NaN</td>\n",
              "      <td>NaN</td>\n",
              "      <td>...</td>\n",
              "      <td>NaN</td>\n",
              "      <td>NaN</td>\n",
              "      <td>NaN</td>\n",
              "      <td>NaN</td>\n",
              "      <td>NaN</td>\n",
              "      <td>NaN</td>\n",
              "      <td>NaN</td>\n",
              "      <td>NaN</td>\n",
              "      <td>NaN</td>\n",
              "      <td>NaN</td>\n",
              "    </tr>\n",
              "    <tr>\n",
              "      <th>2</th>\n",
              "      <td>NaN</td>\n",
              "      <td>NaN</td>\n",
              "      <td>NaN</td>\n",
              "      <td>NaN</td>\n",
              "      <td>NaN</td>\n",
              "      <td>NaN</td>\n",
              "      <td>NaN</td>\n",
              "      <td>NaN</td>\n",
              "      <td>NaN</td>\n",
              "      <td>NaN</td>\n",
              "      <td>...</td>\n",
              "      <td>NaN</td>\n",
              "      <td>NaN</td>\n",
              "      <td>NaN</td>\n",
              "      <td>NaN</td>\n",
              "      <td>NaN</td>\n",
              "      <td>NaN</td>\n",
              "      <td>NaN</td>\n",
              "      <td>NaN</td>\n",
              "      <td>NaN</td>\n",
              "      <td>NaN</td>\n",
              "    </tr>\n",
              "    <tr>\n",
              "      <th>3</th>\n",
              "      <td>NaN</td>\n",
              "      <td>NaN</td>\n",
              "      <td>NaN</td>\n",
              "      <td>NaN</td>\n",
              "      <td>NaN</td>\n",
              "      <td>NaN</td>\n",
              "      <td>NaN</td>\n",
              "      <td>NaN</td>\n",
              "      <td>NaN</td>\n",
              "      <td>NaN</td>\n",
              "      <td>...</td>\n",
              "      <td>NaN</td>\n",
              "      <td>NaN</td>\n",
              "      <td>NaN</td>\n",
              "      <td>NaN</td>\n",
              "      <td>NaN</td>\n",
              "      <td>NaN</td>\n",
              "      <td>NaN</td>\n",
              "      <td>NaN</td>\n",
              "      <td>NaN</td>\n",
              "      <td>NaN</td>\n",
              "    </tr>\n",
              "    <tr>\n",
              "      <th>4</th>\n",
              "      <td>NaN</td>\n",
              "      <td>NaN</td>\n",
              "      <td>NaN</td>\n",
              "      <td>NaN</td>\n",
              "      <td>NaN</td>\n",
              "      <td>NaN</td>\n",
              "      <td>NaN</td>\n",
              "      <td>NaN</td>\n",
              "      <td>NaN</td>\n",
              "      <td>NaN</td>\n",
              "      <td>...</td>\n",
              "      <td>NaN</td>\n",
              "      <td>NaN</td>\n",
              "      <td>NaN</td>\n",
              "      <td>NaN</td>\n",
              "      <td>NaN</td>\n",
              "      <td>NaN</td>\n",
              "      <td>NaN</td>\n",
              "      <td>NaN</td>\n",
              "      <td>NaN</td>\n",
              "      <td>NaN</td>\n",
              "    </tr>\n",
              "    <tr>\n",
              "      <th>...</th>\n",
              "      <td>...</td>\n",
              "      <td>...</td>\n",
              "      <td>...</td>\n",
              "      <td>...</td>\n",
              "      <td>...</td>\n",
              "      <td>...</td>\n",
              "      <td>...</td>\n",
              "      <td>...</td>\n",
              "      <td>...</td>\n",
              "      <td>...</td>\n",
              "      <td>...</td>\n",
              "      <td>...</td>\n",
              "      <td>...</td>\n",
              "      <td>...</td>\n",
              "      <td>...</td>\n",
              "      <td>...</td>\n",
              "      <td>...</td>\n",
              "      <td>...</td>\n",
              "      <td>...</td>\n",
              "      <td>...</td>\n",
              "      <td>...</td>\n",
              "    </tr>\n",
              "    <tr>\n",
              "      <th>1349</th>\n",
              "      <td>NaN</td>\n",
              "      <td>NaN</td>\n",
              "      <td>NaN</td>\n",
              "      <td>NaN</td>\n",
              "      <td>NaN</td>\n",
              "      <td>NaN</td>\n",
              "      <td>NaN</td>\n",
              "      <td>NaN</td>\n",
              "      <td>NaN</td>\n",
              "      <td>NaN</td>\n",
              "      <td>...</td>\n",
              "      <td>NaN</td>\n",
              "      <td>NaN</td>\n",
              "      <td>NaN</td>\n",
              "      <td>NaN</td>\n",
              "      <td>NaN</td>\n",
              "      <td>NaN</td>\n",
              "      <td>NaN</td>\n",
              "      <td>NaN</td>\n",
              "      <td>NaN</td>\n",
              "      <td>NaN</td>\n",
              "    </tr>\n",
              "    <tr>\n",
              "      <th>1350</th>\n",
              "      <td>NaN</td>\n",
              "      <td>NaN</td>\n",
              "      <td>NaN</td>\n",
              "      <td>NaN</td>\n",
              "      <td>NaN</td>\n",
              "      <td>NaN</td>\n",
              "      <td>NaN</td>\n",
              "      <td>NaN</td>\n",
              "      <td>NaN</td>\n",
              "      <td>NaN</td>\n",
              "      <td>...</td>\n",
              "      <td>NaN</td>\n",
              "      <td>NaN</td>\n",
              "      <td>NaN</td>\n",
              "      <td>NaN</td>\n",
              "      <td>NaN</td>\n",
              "      <td>NaN</td>\n",
              "      <td>NaN</td>\n",
              "      <td>NaN</td>\n",
              "      <td>NaN</td>\n",
              "      <td>NaN</td>\n",
              "    </tr>\n",
              "    <tr>\n",
              "      <th>1351</th>\n",
              "      <td>NaN</td>\n",
              "      <td>NaN</td>\n",
              "      <td>NaN</td>\n",
              "      <td>NaN</td>\n",
              "      <td>NaN</td>\n",
              "      <td>NaN</td>\n",
              "      <td>NaN</td>\n",
              "      <td>NaN</td>\n",
              "      <td>NaN</td>\n",
              "      <td>NaN</td>\n",
              "      <td>...</td>\n",
              "      <td>NaN</td>\n",
              "      <td>NaN</td>\n",
              "      <td>NaN</td>\n",
              "      <td>NaN</td>\n",
              "      <td>NaN</td>\n",
              "      <td>NaN</td>\n",
              "      <td>NaN</td>\n",
              "      <td>NaN</td>\n",
              "      <td>NaN</td>\n",
              "      <td>NaN</td>\n",
              "    </tr>\n",
              "    <tr>\n",
              "      <th>1352</th>\n",
              "      <td>NaN</td>\n",
              "      <td>NaN</td>\n",
              "      <td>NaN</td>\n",
              "      <td>NaN</td>\n",
              "      <td>NaN</td>\n",
              "      <td>NaN</td>\n",
              "      <td>NaN</td>\n",
              "      <td>NaN</td>\n",
              "      <td>NaN</td>\n",
              "      <td>NaN</td>\n",
              "      <td>...</td>\n",
              "      <td>NaN</td>\n",
              "      <td>NaN</td>\n",
              "      <td>NaN</td>\n",
              "      <td>NaN</td>\n",
              "      <td>NaN</td>\n",
              "      <td>NaN</td>\n",
              "      <td>NaN</td>\n",
              "      <td>NaN</td>\n",
              "      <td>NaN</td>\n",
              "      <td>NaN</td>\n",
              "    </tr>\n",
              "    <tr>\n",
              "      <th>1353</th>\n",
              "      <td>NaN</td>\n",
              "      <td>NaN</td>\n",
              "      <td>NaN</td>\n",
              "      <td>NaN</td>\n",
              "      <td>NaN</td>\n",
              "      <td>NaN</td>\n",
              "      <td>NaN</td>\n",
              "      <td>NaN</td>\n",
              "      <td>NaN</td>\n",
              "      <td>NaN</td>\n",
              "      <td>...</td>\n",
              "      <td>5</td>\n",
              "      <td>NaN</td>\n",
              "      <td>NaN</td>\n",
              "      <td>NaN</td>\n",
              "      <td>NaN</td>\n",
              "      <td>NaN</td>\n",
              "      <td>NaN</td>\n",
              "      <td>NaN</td>\n",
              "      <td>NaN</td>\n",
              "      <td>NaN</td>\n",
              "    </tr>\n",
              "  </tbody>\n",
              "</table>\n",
              "<p>1333 rows × 22 columns</p>\n",
              "</div>\n",
              "      <button class=\"colab-df-convert\" onclick=\"convertToInteractive('df-4fe5c9ef-3759-4057-a81f-369c4fee2e86')\"\n",
              "              title=\"Convert this dataframe to an interactive table.\"\n",
              "              style=\"display:none;\">\n",
              "        \n",
              "  <svg xmlns=\"http://www.w3.org/2000/svg\" height=\"24px\"viewBox=\"0 0 24 24\"\n",
              "       width=\"24px\">\n",
              "    <path d=\"M0 0h24v24H0V0z\" fill=\"none\"/>\n",
              "    <path d=\"M18.56 5.44l.94 2.06.94-2.06 2.06-.94-2.06-.94-.94-2.06-.94 2.06-2.06.94zm-11 1L8.5 8.5l.94-2.06 2.06-.94-2.06-.94L8.5 2.5l-.94 2.06-2.06.94zm10 10l.94 2.06.94-2.06 2.06-.94-2.06-.94-.94-2.06-.94 2.06-2.06.94z\"/><path d=\"M17.41 7.96l-1.37-1.37c-.4-.4-.92-.59-1.43-.59-.52 0-1.04.2-1.43.59L10.3 9.45l-7.72 7.72c-.78.78-.78 2.05 0 2.83L4 21.41c.39.39.9.59 1.41.59.51 0 1.02-.2 1.41-.59l7.78-7.78 2.81-2.81c.8-.78.8-2.07 0-2.86zM5.41 20L4 18.59l7.72-7.72 1.47 1.35L5.41 20z\"/>\n",
              "  </svg>\n",
              "      </button>\n",
              "      \n",
              "  <style>\n",
              "    .colab-df-container {\n",
              "      display:flex;\n",
              "      flex-wrap:wrap;\n",
              "      gap: 12px;\n",
              "    }\n",
              "\n",
              "    .colab-df-convert {\n",
              "      background-color: #E8F0FE;\n",
              "      border: none;\n",
              "      border-radius: 50%;\n",
              "      cursor: pointer;\n",
              "      display: none;\n",
              "      fill: #1967D2;\n",
              "      height: 32px;\n",
              "      padding: 0 0 0 0;\n",
              "      width: 32px;\n",
              "    }\n",
              "\n",
              "    .colab-df-convert:hover {\n",
              "      background-color: #E2EBFA;\n",
              "      box-shadow: 0px 1px 2px rgba(60, 64, 67, 0.3), 0px 1px 3px 1px rgba(60, 64, 67, 0.15);\n",
              "      fill: #174EA6;\n",
              "    }\n",
              "\n",
              "    [theme=dark] .colab-df-convert {\n",
              "      background-color: #3B4455;\n",
              "      fill: #D2E3FC;\n",
              "    }\n",
              "\n",
              "    [theme=dark] .colab-df-convert:hover {\n",
              "      background-color: #434B5C;\n",
              "      box-shadow: 0px 1px 3px 1px rgba(0, 0, 0, 0.15);\n",
              "      filter: drop-shadow(0px 1px 2px rgba(0, 0, 0, 0.3));\n",
              "      fill: #FFFFFF;\n",
              "    }\n",
              "  </style>\n",
              "\n",
              "      <script>\n",
              "        const buttonEl =\n",
              "          document.querySelector('#df-4fe5c9ef-3759-4057-a81f-369c4fee2e86 button.colab-df-convert');\n",
              "        buttonEl.style.display =\n",
              "          google.colab.kernel.accessAllowed ? 'block' : 'none';\n",
              "\n",
              "        async function convertToInteractive(key) {\n",
              "          const element = document.querySelector('#df-4fe5c9ef-3759-4057-a81f-369c4fee2e86');\n",
              "          const dataTable =\n",
              "            await google.colab.kernel.invokeFunction('convertToInteractive',\n",
              "                                                     [key], {});\n",
              "          if (!dataTable) return;\n",
              "\n",
              "          const docLinkHtml = 'Like what you see? Visit the ' +\n",
              "            '<a target=\"_blank\" href=https://colab.research.google.com/notebooks/data_table.ipynb>data table notebook</a>'\n",
              "            + ' to learn more about interactive tables.';\n",
              "          element.innerHTML = '';\n",
              "          dataTable['output_type'] = 'display_data';\n",
              "          await google.colab.output.renderOutput(dataTable, element);\n",
              "          const docLink = document.createElement('div');\n",
              "          docLink.innerHTML = docLinkHtml;\n",
              "          element.appendChild(docLink);\n",
              "        }\n",
              "      </script>\n",
              "    </div>\n",
              "  </div>\n",
              "  "
            ]
          },
          "metadata": {},
          "execution_count": 137
        }
      ]
    },
    {
      "cell_type": "markdown",
      "source": [
        "## Convert answers to ordered categorical data\n",
        "\n",
        "**Need table equivalence**"
      ],
      "metadata": {
        "id": "-lFSdtHbK3WW"
      },
      "id": "-lFSdtHbK3WW"
    },
    {
      "cell_type": "code",
      "source": [
        "# Scale: 'Strongly disagree', 'Disagree', 'Neither agree nor disagree', 'Agree', 'Strongly agree'\n",
        "# Another scale ['NA', 0, 1, 2, 3, 4, 5]\n",
        "my_scale=['NA', 0, 1, 2, 3, 4, 5]\n",
        "#df_answers01 = df_answers01.replace(0, 'Strongly disagree')\n",
        "#df_answers01 = df_answers01.replace(1, 'Disagree')\n",
        "#df_answers01 = df_answers01.replace('NA', 'Neither agree nor disagree')\n",
        "#df_answers01 = df_answers01.replace(2, 'Agree')\n",
        "#df_answers01 = df_answers01.replace(3, 'Strongly agree')\n",
        "\n",
        "df_answers01.head()\n"
      ],
      "metadata": {
        "id": "HC0WwGpyLPai",
        "colab": {
          "base_uri": "https://localhost:8080/",
          "height": 301
        },
        "outputId": "c1400d26-baa1-4bd7-8daa-d1b7890a898c"
      },
      "id": "HC0WwGpyLPai",
      "execution_count": null,
      "outputs": [
        {
          "output_type": "execute_result",
          "data": {
            "text/plain": [
              "  GCQ3A GCQ3B GCQ3C GCQ3D GCQ3E GCQ3F GCQ3G GCQ3H GCQ3I GCQ3J  ... ESECONVA  \\\n",
              "0     3     3     3     3     3     3     3     3     0     3  ...        2   \n",
              "1     2     1     1     1     2     3     2     2     0     3  ...        2   \n",
              "2     2     2     1     2     2     2     2     2     1     2  ...        2   \n",
              "3     3     3     2     3     3     3     3     3     1     2  ...        2   \n",
              "4     3     3     1     2     3     2     3     2     0     3  ...        2   \n",
              "\n",
              "  ESECONVB ESECONVC ESECONVD ESECONVE ESECONVF ESECONVG ESECONVH ESECONVI  \\\n",
              "0        1        1        1        1        1        2        1        1   \n",
              "1        2        1        1        1        1        2        2        1   \n",
              "2        1        1        1        1        1        2        2        2   \n",
              "3        2        1        1        1        1        3        2        2   \n",
              "4        2        2        1        1        1        2        2        1   \n",
              "\n",
              "  ESECONVJ  \n",
              "0        1  \n",
              "1        2  \n",
              "2        1  \n",
              "3        2  \n",
              "4        1  \n",
              "\n",
              "[5 rows x 22 columns]"
            ],
            "text/html": [
              "\n",
              "  <div id=\"df-e11c589b-8d1e-4db0-998b-f5917f01b329\">\n",
              "    <div class=\"colab-df-container\">\n",
              "      <div>\n",
              "<style scoped>\n",
              "    .dataframe tbody tr th:only-of-type {\n",
              "        vertical-align: middle;\n",
              "    }\n",
              "\n",
              "    .dataframe tbody tr th {\n",
              "        vertical-align: top;\n",
              "    }\n",
              "\n",
              "    .dataframe thead th {\n",
              "        text-align: right;\n",
              "    }\n",
              "</style>\n",
              "<table border=\"1\" class=\"dataframe\">\n",
              "  <thead>\n",
              "    <tr style=\"text-align: right;\">\n",
              "      <th></th>\n",
              "      <th>GCQ3A</th>\n",
              "      <th>GCQ3B</th>\n",
              "      <th>GCQ3C</th>\n",
              "      <th>GCQ3D</th>\n",
              "      <th>GCQ3E</th>\n",
              "      <th>GCQ3F</th>\n",
              "      <th>GCQ3G</th>\n",
              "      <th>GCQ3H</th>\n",
              "      <th>GCQ3I</th>\n",
              "      <th>GCQ3J</th>\n",
              "      <th>...</th>\n",
              "      <th>ESECONVA</th>\n",
              "      <th>ESECONVB</th>\n",
              "      <th>ESECONVC</th>\n",
              "      <th>ESECONVD</th>\n",
              "      <th>ESECONVE</th>\n",
              "      <th>ESECONVF</th>\n",
              "      <th>ESECONVG</th>\n",
              "      <th>ESECONVH</th>\n",
              "      <th>ESECONVI</th>\n",
              "      <th>ESECONVJ</th>\n",
              "    </tr>\n",
              "  </thead>\n",
              "  <tbody>\n",
              "    <tr>\n",
              "      <th>0</th>\n",
              "      <td>3</td>\n",
              "      <td>3</td>\n",
              "      <td>3</td>\n",
              "      <td>3</td>\n",
              "      <td>3</td>\n",
              "      <td>3</td>\n",
              "      <td>3</td>\n",
              "      <td>3</td>\n",
              "      <td>0</td>\n",
              "      <td>3</td>\n",
              "      <td>...</td>\n",
              "      <td>2</td>\n",
              "      <td>1</td>\n",
              "      <td>1</td>\n",
              "      <td>1</td>\n",
              "      <td>1</td>\n",
              "      <td>1</td>\n",
              "      <td>2</td>\n",
              "      <td>1</td>\n",
              "      <td>1</td>\n",
              "      <td>1</td>\n",
              "    </tr>\n",
              "    <tr>\n",
              "      <th>1</th>\n",
              "      <td>2</td>\n",
              "      <td>1</td>\n",
              "      <td>1</td>\n",
              "      <td>1</td>\n",
              "      <td>2</td>\n",
              "      <td>3</td>\n",
              "      <td>2</td>\n",
              "      <td>2</td>\n",
              "      <td>0</td>\n",
              "      <td>3</td>\n",
              "      <td>...</td>\n",
              "      <td>2</td>\n",
              "      <td>2</td>\n",
              "      <td>1</td>\n",
              "      <td>1</td>\n",
              "      <td>1</td>\n",
              "      <td>1</td>\n",
              "      <td>2</td>\n",
              "      <td>2</td>\n",
              "      <td>1</td>\n",
              "      <td>2</td>\n",
              "    </tr>\n",
              "    <tr>\n",
              "      <th>2</th>\n",
              "      <td>2</td>\n",
              "      <td>2</td>\n",
              "      <td>1</td>\n",
              "      <td>2</td>\n",
              "      <td>2</td>\n",
              "      <td>2</td>\n",
              "      <td>2</td>\n",
              "      <td>2</td>\n",
              "      <td>1</td>\n",
              "      <td>2</td>\n",
              "      <td>...</td>\n",
              "      <td>2</td>\n",
              "      <td>1</td>\n",
              "      <td>1</td>\n",
              "      <td>1</td>\n",
              "      <td>1</td>\n",
              "      <td>1</td>\n",
              "      <td>2</td>\n",
              "      <td>2</td>\n",
              "      <td>2</td>\n",
              "      <td>1</td>\n",
              "    </tr>\n",
              "    <tr>\n",
              "      <th>3</th>\n",
              "      <td>3</td>\n",
              "      <td>3</td>\n",
              "      <td>2</td>\n",
              "      <td>3</td>\n",
              "      <td>3</td>\n",
              "      <td>3</td>\n",
              "      <td>3</td>\n",
              "      <td>3</td>\n",
              "      <td>1</td>\n",
              "      <td>2</td>\n",
              "      <td>...</td>\n",
              "      <td>2</td>\n",
              "      <td>2</td>\n",
              "      <td>1</td>\n",
              "      <td>1</td>\n",
              "      <td>1</td>\n",
              "      <td>1</td>\n",
              "      <td>3</td>\n",
              "      <td>2</td>\n",
              "      <td>2</td>\n",
              "      <td>2</td>\n",
              "    </tr>\n",
              "    <tr>\n",
              "      <th>4</th>\n",
              "      <td>3</td>\n",
              "      <td>3</td>\n",
              "      <td>1</td>\n",
              "      <td>2</td>\n",
              "      <td>3</td>\n",
              "      <td>2</td>\n",
              "      <td>3</td>\n",
              "      <td>2</td>\n",
              "      <td>0</td>\n",
              "      <td>3</td>\n",
              "      <td>...</td>\n",
              "      <td>2</td>\n",
              "      <td>2</td>\n",
              "      <td>2</td>\n",
              "      <td>1</td>\n",
              "      <td>1</td>\n",
              "      <td>1</td>\n",
              "      <td>2</td>\n",
              "      <td>2</td>\n",
              "      <td>1</td>\n",
              "      <td>1</td>\n",
              "    </tr>\n",
              "  </tbody>\n",
              "</table>\n",
              "<p>5 rows × 22 columns</p>\n",
              "</div>\n",
              "      <button class=\"colab-df-convert\" onclick=\"convertToInteractive('df-e11c589b-8d1e-4db0-998b-f5917f01b329')\"\n",
              "              title=\"Convert this dataframe to an interactive table.\"\n",
              "              style=\"display:none;\">\n",
              "        \n",
              "  <svg xmlns=\"http://www.w3.org/2000/svg\" height=\"24px\"viewBox=\"0 0 24 24\"\n",
              "       width=\"24px\">\n",
              "    <path d=\"M0 0h24v24H0V0z\" fill=\"none\"/>\n",
              "    <path d=\"M18.56 5.44l.94 2.06.94-2.06 2.06-.94-2.06-.94-.94-2.06-.94 2.06-2.06.94zm-11 1L8.5 8.5l.94-2.06 2.06-.94-2.06-.94L8.5 2.5l-.94 2.06-2.06.94zm10 10l.94 2.06.94-2.06 2.06-.94-2.06-.94-.94-2.06-.94 2.06-2.06.94z\"/><path d=\"M17.41 7.96l-1.37-1.37c-.4-.4-.92-.59-1.43-.59-.52 0-1.04.2-1.43.59L10.3 9.45l-7.72 7.72c-.78.78-.78 2.05 0 2.83L4 21.41c.39.39.9.59 1.41.59.51 0 1.02-.2 1.41-.59l7.78-7.78 2.81-2.81c.8-.78.8-2.07 0-2.86zM5.41 20L4 18.59l7.72-7.72 1.47 1.35L5.41 20z\"/>\n",
              "  </svg>\n",
              "      </button>\n",
              "      \n",
              "  <style>\n",
              "    .colab-df-container {\n",
              "      display:flex;\n",
              "      flex-wrap:wrap;\n",
              "      gap: 12px;\n",
              "    }\n",
              "\n",
              "    .colab-df-convert {\n",
              "      background-color: #E8F0FE;\n",
              "      border: none;\n",
              "      border-radius: 50%;\n",
              "      cursor: pointer;\n",
              "      display: none;\n",
              "      fill: #1967D2;\n",
              "      height: 32px;\n",
              "      padding: 0 0 0 0;\n",
              "      width: 32px;\n",
              "    }\n",
              "\n",
              "    .colab-df-convert:hover {\n",
              "      background-color: #E2EBFA;\n",
              "      box-shadow: 0px 1px 2px rgba(60, 64, 67, 0.3), 0px 1px 3px 1px rgba(60, 64, 67, 0.15);\n",
              "      fill: #174EA6;\n",
              "    }\n",
              "\n",
              "    [theme=dark] .colab-df-convert {\n",
              "      background-color: #3B4455;\n",
              "      fill: #D2E3FC;\n",
              "    }\n",
              "\n",
              "    [theme=dark] .colab-df-convert:hover {\n",
              "      background-color: #434B5C;\n",
              "      box-shadow: 0px 1px 3px 1px rgba(0, 0, 0, 0.15);\n",
              "      filter: drop-shadow(0px 1px 2px rgba(0, 0, 0, 0.3));\n",
              "      fill: #FFFFFF;\n",
              "    }\n",
              "  </style>\n",
              "\n",
              "      <script>\n",
              "        const buttonEl =\n",
              "          document.querySelector('#df-e11c589b-8d1e-4db0-998b-f5917f01b329 button.colab-df-convert');\n",
              "        buttonEl.style.display =\n",
              "          google.colab.kernel.accessAllowed ? 'block' : 'none';\n",
              "\n",
              "        async function convertToInteractive(key) {\n",
              "          const element = document.querySelector('#df-e11c589b-8d1e-4db0-998b-f5917f01b329');\n",
              "          const dataTable =\n",
              "            await google.colab.kernel.invokeFunction('convertToInteractive',\n",
              "                                                     [key], {});\n",
              "          if (!dataTable) return;\n",
              "\n",
              "          const docLinkHtml = 'Like what you see? Visit the ' +\n",
              "            '<a target=\"_blank\" href=https://colab.research.google.com/notebooks/data_table.ipynb>data table notebook</a>'\n",
              "            + ' to learn more about interactive tables.';\n",
              "          element.innerHTML = '';\n",
              "          dataTable['output_type'] = 'display_data';\n",
              "          await google.colab.output.renderOutput(dataTable, element);\n",
              "          const docLink = document.createElement('div');\n",
              "          docLink.innerHTML = docLinkHtml;\n",
              "          element.appendChild(docLink);\n",
              "        }\n",
              "      </script>\n",
              "    </div>\n",
              "  </div>\n",
              "  "
            ]
          },
          "metadata": {},
          "execution_count": 138
        }
      ]
    },
    {
      "cell_type": "code",
      "source": [
        "CategoricalDtype(['NA', 0, 1, 2, 3, 4, 5], ordered=True)\n",
        "\n",
        "df_cat01 = df_answers01.copy().astype(\"category\")\n",
        "df_cat01.dtypes\n"
      ],
      "metadata": {
        "colab": {
          "base_uri": "https://localhost:8080/"
        },
        "id": "ddUNlqmBK0rt",
        "outputId": "69080e28-ce01-4990-a7e8-52c6d2ace401"
      },
      "id": "ddUNlqmBK0rt",
      "execution_count": null,
      "outputs": [
        {
          "output_type": "execute_result",
          "data": {
            "text/plain": [
              "GCQ3A       category\n",
              "GCQ3B       category\n",
              "GCQ3C       category\n",
              "GCQ3D       category\n",
              "GCQ3E       category\n",
              "GCQ3F       category\n",
              "GCQ3G       category\n",
              "GCQ3H       category\n",
              "GCQ3I       category\n",
              "GCQ3J       category\n",
              "GCQ3K       category\n",
              "GCQ3L       category\n",
              "ESECONVA    category\n",
              "ESECONVB    category\n",
              "ESECONVC    category\n",
              "ESECONVD    category\n",
              "ESECONVE    category\n",
              "ESECONVF    category\n",
              "ESECONVG    category\n",
              "ESECONVH    category\n",
              "ESECONVI    category\n",
              "ESECONVJ    category\n",
              "dtype: object"
            ]
          },
          "metadata": {},
          "execution_count": 150
        }
      ]
    },
    {
      "cell_type": "code",
      "source": [
        "df_cat01['ESECONVC']"
      ],
      "metadata": {
        "colab": {
          "base_uri": "https://localhost:8080/"
        },
        "id": "U7sgv-oeK0zV",
        "outputId": "8e00dce4-f983-4fa9-8dd9-043a3907a5d9"
      },
      "id": "U7sgv-oeK0zV",
      "execution_count": null,
      "outputs": [
        {
          "output_type": "execute_result",
          "data": {
            "text/plain": [
              "0       1\n",
              "1       1\n",
              "2       1\n",
              "3       1\n",
              "4       2\n",
              "       ..\n",
              "1349    2\n",
              "1350    4\n",
              "1351    1\n",
              "1352    1\n",
              "1353    1\n",
              "Name: ESECONVC, Length: 1333, dtype: category\n",
              "Categories (6, object): [1, 2, 3, 4, 5, 'NA']"
            ]
          },
          "metadata": {},
          "execution_count": 151
        }
      ]
    },
    {
      "cell_type": "code",
      "source": [
        "df_cat01['ESECONVC'].value_counts()"
      ],
      "metadata": {
        "colab": {
          "base_uri": "https://localhost:8080/"
        },
        "id": "-aM2ofEdOgjG",
        "outputId": "9fa795f7-5fdb-4daa-a137-fa0296d75366"
      },
      "id": "-aM2ofEdOgjG",
      "execution_count": null,
      "outputs": [
        {
          "output_type": "execute_result",
          "data": {
            "text/plain": [
              "1     759\n",
              "2     312\n",
              "3     125\n",
              "4      68\n",
              "5      61\n",
              "NA      8\n",
              "Name: ESECONVC, dtype: int64"
            ]
          },
          "metadata": {},
          "execution_count": 152
        }
      ]
    },
    {
      "cell_type": "markdown",
      "source": [
        "## Likert plots\n",
        "\n",
        "Using [plot_likert library](https://github.com/nmalkin/plot-likert) to visualize results"
      ],
      "metadata": {
        "id": "-xHni49jiuZ8"
      },
      "id": "-xHni49jiuZ8"
    },
    {
      "cell_type": "code",
      "source": [
        "plot_likert.plot_likert(df_cat01, my_scale, colors=plot_likert.colors.likert7, figsize=(10,10));"
      ],
      "metadata": {
        "colab": {
          "base_uri": "https://localhost:8080/",
          "height": 848
        },
        "id": "GFvASWXYVSGj",
        "outputId": "a8c30fae-ad65-479b-f422-1cc9e8c47970"
      },
      "id": "GFvASWXYVSGj",
      "execution_count": null,
      "outputs": [
        {
          "output_type": "display_data",
          "data": {
            "text/plain": [
              "<Figure size 1000x1000 with 1 Axes>"
            ],
            "image/png": "[encoded data removed]"
          },
          "metadata": {}
        }
      ]
    },
    {
      "cell_type": "code",
      "source": [
        "# Create our own color table\n",
        "\n",
        "my_color_scheme =[\n",
        "    plot_likert.colors.TRANSPARENT,\n",
        "    \"brown\",\n",
        "    \"red\",\n",
        "    \"orange\",\n",
        "    \"green\",\n",
        "    \"blue\",\n",
        "    \"violet\",\n",
        "    \"purple\",\n",
        "]"
      ],
      "metadata": {
        "id": "GydAFq6TecKj"
      },
      "id": "GydAFq6TecKj",
      "execution_count": null,
      "outputs": []
    },
    {
      "cell_type": "code",
      "source": [
        "plot_likert.plot_likert(df_cat01, my_scale, colors=my_color_scheme, figsize=(10,10));"
      ],
      "metadata": {
        "colab": {
          "base_uri": "https://localhost:8080/",
          "height": 848
        },
        "id": "Qe5mLDTRVSLD",
        "outputId": "48ce5b8b-92bc-400d-f609-d01fccb7d739"
      },
      "id": "Qe5mLDTRVSLD",
      "execution_count": null,
      "outputs": [
        {
          "output_type": "display_data",
          "data": {
            "text/plain": [
              "<Figure size 1000x1000 with 1 Axes>"
            ],
            "image/png": "[encoded data removed]"
          },
          "metadata": {}
        }
      ]
    },
    {
      "cell_type": "code",
      "source": [
        "plot_likert.plot_likert(df_cat01, my_scale, colors=my_color_scheme, figsize=(10,10), plot_percentage=True);"
      ],
      "metadata": {
        "colab": {
          "base_uri": "https://localhost:8080/",
          "height": 848
        },
        "id": "HUZsA5csVSPK",
        "outputId": "48c89e3a-6a7a-4859-ec58-1d6b3966afe9"
      },
      "id": "HUZsA5csVSPK",
      "execution_count": null,
      "outputs": [
        {
          "output_type": "display_data",
          "data": {
            "text/plain": [
              "<Figure size 1000x1000 with 1 Axes>"
            ],
            "image/png": "[encoded data removed]"
          },
          "metadata": {}
        }
      ]
    },
    {
      "cell_type": "code",
      "source": [
        "plot_likert.plot_likert(df_cat01, my_scale, colors=my_color_scheme, figsize=(12,12),\n",
        "                        bar_labels=True, bar_labels_color=\"snow\", plot_percentage=True);"
      ],
      "metadata": {
        "colab": {
          "base_uri": "https://localhost:8080/",
          "height": 864
        },
        "id": "f4eSwHNOSrWg",
        "outputId": "97941af1-124b-4627-aec3-9e5045983f8b"
      },
      "id": "f4eSwHNOSrWg",
      "execution_count": null,
      "outputs": [
        {
          "output_type": "display_data",
          "data": {
            "text/plain": [
              "<Figure size 1200x1200 with 1 Axes>"
            ],
            "image/png": "[encoded data removed]"
          },
          "metadata": {}
        }
      ]
    },
    {
      "cell_type": "code",
      "source": [],
      "metadata": {
        "id": "WDidjZORSrby"
      },
      "id": "WDidjZORSrby",
      "execution_count": null,
      "outputs": []
    },
    {
      "cell_type": "markdown",
      "source": [
        "## Previous work"
      ],
      "metadata": {
        "id": "nTol-asljqym"
      },
      "id": "nTol-asljqym"
    },
    {
      "cell_type": "code",
      "execution_count": null,
      "id": "702930aa-eed8-4170-9589-2e070454ed30",
      "metadata": {
        "id": "702930aa-eed8-4170-9589-2e070454ed30",
        "outputId": "29d16701-e33e-4fa7-e04e-ab77bc94507c"
      },
      "outputs": [
        {
          "name": "stderr",
          "output_type": "stream",
          "text": [
            "C:\\Users\\maisu\\AppData\\Local\\Temp\\ipykernel_8388\\887244914.py:1: FutureWarning: The default value of numeric_only in DataFrame.corr is deprecated. In a future version, it will default to False. Select only valid columns or specify the value of numeric_only to silence this warning.\n",
            "  fem_df.corr()\n"
          ]
        },
        {
          "data": {
            "text/html": [
              "<div>\n",
              "<style scoped>\n",
              "    .dataframe tbody tr th:only-of-type {\n",
              "        vertical-align: middle;\n",
              "    }\n",
              "\n",
              "    .dataframe tbody tr th {\n",
              "        vertical-align: top;\n",
              "    }\n",
              "\n",
              "    .dataframe thead th {\n",
              "        text-align: right;\n",
              "    }\n",
              "</style>\n",
              "<table border=\"1\" class=\"dataframe\">\n",
              "  <thead>\n",
              "    <tr style=\"text-align: right;\">\n",
              "      <th></th>\n",
              "    </tr>\n",
              "  </thead>\n",
              "  <tbody>\n",
              "  </tbody>\n",
              "</table>\n",
              "</div>"
            ],
            "text/plain": [
              "Empty DataFrame\n",
              "Columns: []\n",
              "Index: []"
            ]
          },
          "execution_count": 8,
          "metadata": {},
          "output_type": "execute_result"
        }
      ],
      "source": [
        "fem_df.corr()"
      ]
    },
    {
      "cell_type": "code",
      "execution_count": null,
      "id": "7e3a5b56-6ff5-432d-88fa-449fb09c79c5",
      "metadata": {
        "id": "7e3a5b56-6ff5-432d-88fa-449fb09c79c5"
      },
      "outputs": [],
      "source": [
        "df_nomiss = fem_df.dropna()"
      ]
    },
    {
      "cell_type": "code",
      "execution_count": null,
      "id": "cf66a8e5-8b3a-42e5-88a1-fdad9752edcf",
      "metadata": {
        "id": "cf66a8e5-8b3a-42e5-88a1-fdad9752edcf"
      },
      "outputs": [],
      "source": [
        "x_nomiss = df_nomiss[['GCQ3A', 'GCQ3B', 'GCQ3C', 'GCQ3D', 'GCQ3E', 'GCQ3F', 'GCQ3G', 'GCQ3H', 'GCQ3I', 'GCQ3J', 'GCQ3K', 'GCQ3L']]"
      ]
    },
    {
      "cell_type": "code",
      "execution_count": null,
      "id": "7e0c691e-fa6b-487d-97e9-4b40c0bc3d25",
      "metadata": {
        "id": "7e0c691e-fa6b-487d-97e9-4b40c0bc3d25"
      },
      "outputs": [],
      "source": [
        "y_nomiss = df_nomiss[['ESECONVA', 'ESECONVB', 'ESECONVC', 'ESECONVD', 'ESECONVE', 'ESECONVF', 'ESECONVG', 'ESECONVH', 'ESECONVI', 'ESECONVJ']]"
      ]
    },
    {
      "cell_type": "code",
      "execution_count": null,
      "id": "123d5e45-8ee0-49a3-9e67-b7a49f3e6a2b",
      "metadata": {
        "id": "123d5e45-8ee0-49a3-9e67-b7a49f3e6a2b"
      },
      "outputs": [],
      "source": [
        "x_nomiss_train, x_nomiss_test, y_nomiss_train, y_nomiss_test = train_test_split(x_nomiss, y_nomiss, test_size=0.2, random_state=42)"
      ]
    },
    {
      "cell_type": "code",
      "execution_count": null,
      "id": "e28c26a5-3d37-4ee8-af3e-1cdbaceaff88",
      "metadata": {
        "id": "e28c26a5-3d37-4ee8-af3e-1cdbaceaff88",
        "outputId": "e31386fa-1f5d-4e77-cc41-208dbf10cf6e"
      },
      "outputs": [
        {
          "ename": "ValueError",
          "evalue": "could not convert string to float: ''",
          "output_type": "error",
          "traceback": [
            "\u001b[1;31m---------------------------------------------------------------------------\u001b[0m",
            "\u001b[1;31mValueError\u001b[0m                                Traceback (most recent call last)",
            "Cell \u001b[1;32mIn[16], line 1\u001b[0m\n\u001b[1;32m----> 1\u001b[0m \u001b[43mmodel\u001b[49m\u001b[38;5;241;43m.\u001b[39;49m\u001b[43mfit\u001b[49m\u001b[43m(\u001b[49m\u001b[43mx_nomiss_train\u001b[49m\u001b[43m,\u001b[49m\u001b[43m \u001b[49m\u001b[43my_nomiss_train\u001b[49m\u001b[43m)\u001b[49m\n",
            "File \u001b[1;32m~\\AppData\\Roaming\\Python\\Python38\\site-packages\\sklearn\\tree\\_classes.py:889\u001b[0m, in \u001b[0;36mDecisionTreeClassifier.fit\u001b[1;34m(self, X, y, sample_weight, check_input)\u001b[0m\n\u001b[0;32m    859\u001b[0m \u001b[38;5;28;01mdef\u001b[39;00m \u001b[38;5;21mfit\u001b[39m(\u001b[38;5;28mself\u001b[39m, X, y, sample_weight\u001b[38;5;241m=\u001b[39m\u001b[38;5;28;01mNone\u001b[39;00m, check_input\u001b[38;5;241m=\u001b[39m\u001b[38;5;28;01mTrue\u001b[39;00m):\n\u001b[0;32m    860\u001b[0m \u001b[38;5;250m    \u001b[39m\u001b[38;5;124;03m\"\"\"Build a decision tree classifier from the training set (X, y).\u001b[39;00m\n\u001b[0;32m    861\u001b[0m \n\u001b[0;32m    862\u001b[0m \u001b[38;5;124;03m    Parameters\u001b[39;00m\n\u001b[1;32m   (...)\u001b[0m\n\u001b[0;32m    886\u001b[0m \u001b[38;5;124;03m        Fitted estimator.\u001b[39;00m\n\u001b[0;32m    887\u001b[0m \u001b[38;5;124;03m    \"\"\"\u001b[39;00m\n\u001b[1;32m--> 889\u001b[0m     \u001b[38;5;28;43msuper\u001b[39;49m\u001b[43m(\u001b[49m\u001b[43m)\u001b[49m\u001b[38;5;241;43m.\u001b[39;49m\u001b[43mfit\u001b[49m\u001b[43m(\u001b[49m\n\u001b[0;32m    890\u001b[0m \u001b[43m        \u001b[49m\u001b[43mX\u001b[49m\u001b[43m,\u001b[49m\n\u001b[0;32m    891\u001b[0m \u001b[43m        \u001b[49m\u001b[43my\u001b[49m\u001b[43m,\u001b[49m\n\u001b[0;32m    892\u001b[0m \u001b[43m        \u001b[49m\u001b[43msample_weight\u001b[49m\u001b[38;5;241;43m=\u001b[39;49m\u001b[43msample_weight\u001b[49m\u001b[43m,\u001b[49m\n\u001b[0;32m    893\u001b[0m \u001b[43m        \u001b[49m\u001b[43mcheck_input\u001b[49m\u001b[38;5;241;43m=\u001b[39;49m\u001b[43mcheck_input\u001b[49m\u001b[43m,\u001b[49m\n\u001b[0;32m    894\u001b[0m \u001b[43m    \u001b[49m\u001b[43m)\u001b[49m\n\u001b[0;32m    895\u001b[0m     \u001b[38;5;28;01mreturn\u001b[39;00m \u001b[38;5;28mself\u001b[39m\n",
            "File \u001b[1;32m~\\AppData\\Roaming\\Python\\Python38\\site-packages\\sklearn\\tree\\_classes.py:186\u001b[0m, in \u001b[0;36mBaseDecisionTree.fit\u001b[1;34m(self, X, y, sample_weight, check_input)\u001b[0m\n\u001b[0;32m    184\u001b[0m check_X_params \u001b[38;5;241m=\u001b[39m \u001b[38;5;28mdict\u001b[39m(dtype\u001b[38;5;241m=\u001b[39mDTYPE, accept_sparse\u001b[38;5;241m=\u001b[39m\u001b[38;5;124m\"\u001b[39m\u001b[38;5;124mcsc\u001b[39m\u001b[38;5;124m\"\u001b[39m)\n\u001b[0;32m    185\u001b[0m check_y_params \u001b[38;5;241m=\u001b[39m \u001b[38;5;28mdict\u001b[39m(ensure_2d\u001b[38;5;241m=\u001b[39m\u001b[38;5;28;01mFalse\u001b[39;00m, dtype\u001b[38;5;241m=\u001b[39m\u001b[38;5;28;01mNone\u001b[39;00m)\n\u001b[1;32m--> 186\u001b[0m X, y \u001b[38;5;241m=\u001b[39m \u001b[38;5;28;43mself\u001b[39;49m\u001b[38;5;241;43m.\u001b[39;49m\u001b[43m_validate_data\u001b[49m\u001b[43m(\u001b[49m\n\u001b[0;32m    187\u001b[0m \u001b[43m    \u001b[49m\u001b[43mX\u001b[49m\u001b[43m,\u001b[49m\u001b[43m \u001b[49m\u001b[43my\u001b[49m\u001b[43m,\u001b[49m\u001b[43m \u001b[49m\u001b[43mvalidate_separately\u001b[49m\u001b[38;5;241;43m=\u001b[39;49m\u001b[43m(\u001b[49m\u001b[43mcheck_X_params\u001b[49m\u001b[43m,\u001b[49m\u001b[43m \u001b[49m\u001b[43mcheck_y_params\u001b[49m\u001b[43m)\u001b[49m\n\u001b[0;32m    188\u001b[0m \u001b[43m\u001b[49m\u001b[43m)\u001b[49m\n\u001b[0;32m    189\u001b[0m \u001b[38;5;28;01mif\u001b[39;00m issparse(X):\n\u001b[0;32m    190\u001b[0m     X\u001b[38;5;241m.\u001b[39msort_indices()\n",
            "File \u001b[1;32m~\\AppData\\Roaming\\Python\\Python38\\site-packages\\sklearn\\base.py:560\u001b[0m, in \u001b[0;36mBaseEstimator._validate_data\u001b[1;34m(self, X, y, reset, validate_separately, **check_params)\u001b[0m\n\u001b[0;32m    558\u001b[0m \u001b[38;5;28;01mif\u001b[39;00m \u001b[38;5;124m\"\u001b[39m\u001b[38;5;124mestimator\u001b[39m\u001b[38;5;124m\"\u001b[39m \u001b[38;5;129;01mnot\u001b[39;00m \u001b[38;5;129;01min\u001b[39;00m check_X_params:\n\u001b[0;32m    559\u001b[0m     check_X_params \u001b[38;5;241m=\u001b[39m {\u001b[38;5;241m*\u001b[39m\u001b[38;5;241m*\u001b[39mdefault_check_params, \u001b[38;5;241m*\u001b[39m\u001b[38;5;241m*\u001b[39mcheck_X_params}\n\u001b[1;32m--> 560\u001b[0m X \u001b[38;5;241m=\u001b[39m \u001b[43mcheck_array\u001b[49m\u001b[43m(\u001b[49m\u001b[43mX\u001b[49m\u001b[43m,\u001b[49m\u001b[43m \u001b[49m\u001b[43minput_name\u001b[49m\u001b[38;5;241;43m=\u001b[39;49m\u001b[38;5;124;43m\"\u001b[39;49m\u001b[38;5;124;43mX\u001b[39;49m\u001b[38;5;124;43m\"\u001b[39;49m\u001b[43m,\u001b[49m\u001b[43m \u001b[49m\u001b[38;5;241;43m*\u001b[39;49m\u001b[38;5;241;43m*\u001b[39;49m\u001b[43mcheck_X_params\u001b[49m\u001b[43m)\u001b[49m\n\u001b[0;32m    561\u001b[0m \u001b[38;5;28;01mif\u001b[39;00m \u001b[38;5;124m\"\u001b[39m\u001b[38;5;124mestimator\u001b[39m\u001b[38;5;124m\"\u001b[39m \u001b[38;5;129;01mnot\u001b[39;00m \u001b[38;5;129;01min\u001b[39;00m check_y_params:\n\u001b[0;32m    562\u001b[0m     check_y_params \u001b[38;5;241m=\u001b[39m {\u001b[38;5;241m*\u001b[39m\u001b[38;5;241m*\u001b[39mdefault_check_params, \u001b[38;5;241m*\u001b[39m\u001b[38;5;241m*\u001b[39mcheck_y_params}\n",
            "File \u001b[1;32m~\\AppData\\Roaming\\Python\\Python38\\site-packages\\sklearn\\utils\\validation.py:879\u001b[0m, in \u001b[0;36mcheck_array\u001b[1;34m(array, accept_sparse, accept_large_sparse, dtype, order, copy, force_all_finite, ensure_2d, allow_nd, ensure_min_samples, ensure_min_features, estimator, input_name)\u001b[0m\n\u001b[0;32m    877\u001b[0m         array \u001b[38;5;241m=\u001b[39m xp\u001b[38;5;241m.\u001b[39mastype(array, dtype, copy\u001b[38;5;241m=\u001b[39m\u001b[38;5;28;01mFalse\u001b[39;00m)\n\u001b[0;32m    878\u001b[0m     \u001b[38;5;28;01melse\u001b[39;00m:\n\u001b[1;32m--> 879\u001b[0m         array \u001b[38;5;241m=\u001b[39m \u001b[43m_asarray_with_order\u001b[49m\u001b[43m(\u001b[49m\u001b[43marray\u001b[49m\u001b[43m,\u001b[49m\u001b[43m \u001b[49m\u001b[43morder\u001b[49m\u001b[38;5;241;43m=\u001b[39;49m\u001b[43morder\u001b[49m\u001b[43m,\u001b[49m\u001b[43m \u001b[49m\u001b[43mdtype\u001b[49m\u001b[38;5;241;43m=\u001b[39;49m\u001b[43mdtype\u001b[49m\u001b[43m,\u001b[49m\u001b[43m \u001b[49m\u001b[43mxp\u001b[49m\u001b[38;5;241;43m=\u001b[39;49m\u001b[43mxp\u001b[49m\u001b[43m)\u001b[49m\n\u001b[0;32m    880\u001b[0m \u001b[38;5;28;01mexcept\u001b[39;00m ComplexWarning \u001b[38;5;28;01mas\u001b[39;00m complex_warning:\n\u001b[0;32m    881\u001b[0m     \u001b[38;5;28;01mraise\u001b[39;00m \u001b[38;5;167;01mValueError\u001b[39;00m(\n\u001b[0;32m    882\u001b[0m         \u001b[38;5;124m\"\u001b[39m\u001b[38;5;124mComplex data not supported\u001b[39m\u001b[38;5;130;01m\\n\u001b[39;00m\u001b[38;5;132;01m{}\u001b[39;00m\u001b[38;5;130;01m\\n\u001b[39;00m\u001b[38;5;124m\"\u001b[39m\u001b[38;5;241m.\u001b[39mformat(array)\n\u001b[0;32m    883\u001b[0m     ) \u001b[38;5;28;01mfrom\u001b[39;00m \u001b[38;5;21;01mcomplex_warning\u001b[39;00m\n",
            "File \u001b[1;32m~\\AppData\\Roaming\\Python\\Python38\\site-packages\\sklearn\\utils\\_array_api.py:185\u001b[0m, in \u001b[0;36m_asarray_with_order\u001b[1;34m(array, dtype, order, copy, xp)\u001b[0m\n\u001b[0;32m    182\u001b[0m     xp, _ \u001b[38;5;241m=\u001b[39m get_namespace(array)\n\u001b[0;32m    183\u001b[0m \u001b[38;5;28;01mif\u001b[39;00m xp\u001b[38;5;241m.\u001b[39m\u001b[38;5;18m__name__\u001b[39m \u001b[38;5;129;01min\u001b[39;00m {\u001b[38;5;124m\"\u001b[39m\u001b[38;5;124mnumpy\u001b[39m\u001b[38;5;124m\"\u001b[39m, \u001b[38;5;124m\"\u001b[39m\u001b[38;5;124mnumpy.array_api\u001b[39m\u001b[38;5;124m\"\u001b[39m}:\n\u001b[0;32m    184\u001b[0m     \u001b[38;5;66;03m# Use NumPy API to support order\u001b[39;00m\n\u001b[1;32m--> 185\u001b[0m     array \u001b[38;5;241m=\u001b[39m \u001b[43mnumpy\u001b[49m\u001b[38;5;241;43m.\u001b[39;49m\u001b[43masarray\u001b[49m\u001b[43m(\u001b[49m\u001b[43marray\u001b[49m\u001b[43m,\u001b[49m\u001b[43m \u001b[49m\u001b[43morder\u001b[49m\u001b[38;5;241;43m=\u001b[39;49m\u001b[43morder\u001b[49m\u001b[43m,\u001b[49m\u001b[43m \u001b[49m\u001b[43mdtype\u001b[49m\u001b[38;5;241;43m=\u001b[39;49m\u001b[43mdtype\u001b[49m\u001b[43m)\u001b[49m\n\u001b[0;32m    186\u001b[0m     \u001b[38;5;28;01mreturn\u001b[39;00m xp\u001b[38;5;241m.\u001b[39masarray(array, copy\u001b[38;5;241m=\u001b[39mcopy)\n\u001b[0;32m    187\u001b[0m \u001b[38;5;28;01melse\u001b[39;00m:\n",
            "File \u001b[1;32m~\\AppData\\Roaming\\jupyterlab-desktop\\jlab_server\\lib\\site-packages\\pandas\\core\\generic.py:2070\u001b[0m, in \u001b[0;36mNDFrame.__array__\u001b[1;34m(self, dtype)\u001b[0m\n\u001b[0;32m   2069\u001b[0m \u001b[38;5;28;01mdef\u001b[39;00m \u001b[38;5;21m__array__\u001b[39m(\u001b[38;5;28mself\u001b[39m, dtype: npt\u001b[38;5;241m.\u001b[39mDTypeLike \u001b[38;5;241m|\u001b[39m \u001b[38;5;28;01mNone\u001b[39;00m \u001b[38;5;241m=\u001b[39m \u001b[38;5;28;01mNone\u001b[39;00m) \u001b[38;5;241m-\u001b[39m\u001b[38;5;241m>\u001b[39m np\u001b[38;5;241m.\u001b[39mndarray:\n\u001b[1;32m-> 2070\u001b[0m     \u001b[38;5;28;01mreturn\u001b[39;00m \u001b[43mnp\u001b[49m\u001b[38;5;241;43m.\u001b[39;49m\u001b[43masarray\u001b[49m\u001b[43m(\u001b[49m\u001b[38;5;28;43mself\u001b[39;49m\u001b[38;5;241;43m.\u001b[39;49m\u001b[43m_values\u001b[49m\u001b[43m,\u001b[49m\u001b[43m \u001b[49m\u001b[43mdtype\u001b[49m\u001b[38;5;241;43m=\u001b[39;49m\u001b[43mdtype\u001b[49m\u001b[43m)\u001b[49m\n",
            "\u001b[1;31mValueError\u001b[0m: could not convert string to float: ''"
          ]
        }
      ],
      "source": [
        "model.fit(x_nomiss_train, y_nomiss_train)"
      ]
    },
    {
      "cell_type": "code",
      "execution_count": null,
      "id": "ea041be3-0f21-497b-922e-f11aa19b440a",
      "metadata": {
        "id": "ea041be3-0f21-497b-922e-f11aa19b440a"
      },
      "outputs": [],
      "source": [
        "# Step 1: Identify the rows with missing values\n",
        "missing_values = fem_df.isnull()"
      ]
    },
    {
      "cell_type": "code",
      "execution_count": null,
      "id": "38fdfa5a-aa1f-4722-bbec-5d8f788290c1",
      "metadata": {
        "id": "38fdfa5a-aa1f-4722-bbec-5d8f788290c1"
      },
      "outputs": [],
      "source": [
        "# Step 2: Count the number of missing values in each row\n",
        "missing_counts = missing_values.sum(axis=1)"
      ]
    },
    {
      "cell_type": "code",
      "execution_count": null,
      "id": "0c0e1f56-258e-45c9-aabd-4b42aa27e2ef",
      "metadata": {
        "id": "0c0e1f56-258e-45c9-aabd-4b42aa27e2ef"
      },
      "outputs": [],
      "source": [
        "# Step 3: Filter the rows\n",
        "condition = missing_counts <= 5"
      ]
    },
    {
      "cell_type": "code",
      "execution_count": null,
      "id": "ddee96e9-ad2c-4a7e-9143-fccacc7a1edc",
      "metadata": {
        "id": "ddee96e9-ad2c-4a7e-9143-fccacc7a1edc"
      },
      "outputs": [],
      "source": [
        "# Step 4: Remove the filtered rows\n",
        "filt_df = fem_df[condition]"
      ]
    },
    {
      "cell_type": "code",
      "execution_count": null,
      "id": "9f7e6002-6eed-41bc-8f8f-403fb4031f91",
      "metadata": {
        "id": "9f7e6002-6eed-41bc-8f8f-403fb4031f91",
        "outputId": "dbc80ac3-0981-4e8a-f643-c69fa6369677"
      },
      "outputs": [
        {
          "name": "stdout",
          "output_type": "stream",
          "text": [
            "Rows with more than 5 missing values were removed.\n"
          ]
        }
      ],
      "source": [
        "# Check\n",
        "if len(filt_df) < len(fem_df):\n",
        "    print(\"Rows with more than 5 missing values were removed.\")\n",
        "else:\n",
        "    print(\"No rows were removed.\")"
      ]
    },
    {
      "cell_type": "code",
      "execution_count": null,
      "id": "38c130cf-a232-40dc-8035-209b7ff87261",
      "metadata": {
        "id": "38c130cf-a232-40dc-8035-209b7ff87261"
      },
      "outputs": [],
      "source": [
        "# Would using a placeholder for the other missing values interfere with data analysis?"
      ]
    },
    {
      "cell_type": "code",
      "execution_count": null,
      "id": "c31c10d5-9fce-4f50-8a39-4877843a2636",
      "metadata": {
        "id": "c31c10d5-9fce-4f50-8a39-4877843a2636"
      },
      "outputs": [],
      "source": [
        "# How do I deal with the other missing values without imputing or removing the rows?"
      ]
    },
    {
      "cell_type": "code",
      "execution_count": null,
      "id": "47bc6962-ce3c-4917-ab30-4fe0c4485e53",
      "metadata": {
        "id": "47bc6962-ce3c-4917-ab30-4fe0c4485e53"
      },
      "outputs": [],
      "source": [
        "# About 1350 participant responses recorded in the dataset with over 70 of them having one or more missing values."
      ]
    },
    {
      "cell_type": "code",
      "execution_count": null,
      "id": "e5c10dfb-fcb5-4bb9-bf35-15c0b1571187",
      "metadata": {
        "id": "e5c10dfb-fcb5-4bb9-bf35-15c0b1571187",
        "outputId": "f136eb20-a818-42c6-ac4f-9bae4c4c1d3c"
      },
      "outputs": [
        {
          "name": "stdout",
          "output_type": "stream",
          "text": [
            "<class 'pandas.core.frame.DataFrame'>\n",
            "Int64Index: 1338 entries, 0 to 1353\n",
            "Data columns (total 26 columns):\n",
            " #   Column    Non-Null Count  Dtype \n",
            "---  ------    --------------  ----- \n",
            " 0   CaseNum   1338 non-null   object\n",
            " 1   Age       1338 non-null   object\n",
            " 2   SchoolYr  1338 non-null   object\n",
            " 3   Race      1338 non-null   object\n",
            " 4   GCQ3A     1338 non-null   object\n",
            " 5   GCQ3B     1338 non-null   object\n",
            " 6   GCQ3C     1338 non-null   object\n",
            " 7   GCQ3D     1338 non-null   object\n",
            " 8   GCQ3E     1338 non-null   object\n",
            " 9   GCQ3F     1338 non-null   object\n",
            " 10  GCQ3G     1338 non-null   object\n",
            " 11  GCQ3H     1338 non-null   object\n",
            " 12  GCQ3I     1338 non-null   object\n",
            " 13  GCQ3J     1338 non-null   object\n",
            " 14  GCQ3K     1338 non-null   object\n",
            " 15  GCQ3L     1338 non-null   object\n",
            " 16  ESECONVA  1338 non-null   object\n",
            " 17  ESECONVB  1338 non-null   object\n",
            " 18  ESECONVC  1338 non-null   object\n",
            " 19  ESECONVD  1338 non-null   object\n",
            " 20  ESECONVE  1338 non-null   object\n",
            " 21  ESECONVF  1338 non-null   object\n",
            " 22  ESECONVG  1338 non-null   object\n",
            " 23  ESECONVH  1338 non-null   object\n",
            " 24  ESECONVI  1338 non-null   object\n",
            " 25  ESECONVJ  1338 non-null   object\n",
            "dtypes: object(26)\n",
            "memory usage: 282.2+ KB\n"
          ]
        }
      ],
      "source": [
        "filt_df.info()"
      ]
    },
    {
      "cell_type": "code",
      "execution_count": null,
      "id": "893747dc-fadf-48d3-b7ca-34c5d025c809",
      "metadata": {
        "id": "893747dc-fadf-48d3-b7ca-34c5d025c809"
      },
      "outputs": [],
      "source": [
        "from sklearn.model_selection import train_test_split"
      ]
    },
    {
      "cell_type": "code",
      "execution_count": null,
      "id": "a292009b-cdbd-4e8e-86a6-d484875d6d82",
      "metadata": {
        "id": "a292009b-cdbd-4e8e-86a6-d484875d6d82"
      },
      "outputs": [],
      "source": [
        "x = filt_df[['GCQ3A', 'GCQ3B', 'GCQ3C', 'GCQ3D', 'GCQ3E', 'GCQ3F', 'GCQ3G', 'GCQ3H', 'GCQ3I', 'GCQ3J', 'GCQ3K', 'GCQ3L']]"
      ]
    },
    {
      "cell_type": "code",
      "execution_count": null,
      "id": "ad01c20e-87d0-49a4-b17f-b0eafed9bf6f",
      "metadata": {
        "id": "ad01c20e-87d0-49a4-b17f-b0eafed9bf6f"
      },
      "outputs": [],
      "source": [
        "y = filt_df[['ESECONVA', 'ESECONVB', 'ESECONVC', 'ESECONVD', 'ESECONVE', 'ESECONVF', 'ESECONVG', 'ESECONVH', 'ESECONVI', 'ESECONVJ']]"
      ]
    },
    {
      "cell_type": "code",
      "execution_count": null,
      "id": "cdfd1224-540a-4abe-ba1a-05d6ddea56ac",
      "metadata": {
        "id": "cdfd1224-540a-4abe-ba1a-05d6ddea56ac"
      },
      "outputs": [],
      "source": [
        "x_train, x_test, y_train, y_test = train_test_split(x, y, test_size=0.2, random_state=42)"
      ]
    },
    {
      "cell_type": "code",
      "execution_count": null,
      "id": "e7970b81-7bde-43a6-b25f-a8d24159f3a0",
      "metadata": {
        "id": "e7970b81-7bde-43a6-b25f-a8d24159f3a0",
        "outputId": "8b4db9d4-7119-47ae-e1c1-20fd4a675490"
      },
      "outputs": [
        {
          "data": {
            "text/html": [
              "<div>\n",
              "<style scoped>\n",
              "    .dataframe tbody tr th:only-of-type {\n",
              "        vertical-align: middle;\n",
              "    }\n",
              "\n",
              "    .dataframe tbody tr th {\n",
              "        vertical-align: top;\n",
              "    }\n",
              "\n",
              "    .dataframe thead th {\n",
              "        text-align: right;\n",
              "    }\n",
              "</style>\n",
              "<table border=\"1\" class=\"dataframe\">\n",
              "  <thead>\n",
              "    <tr style=\"text-align: right;\">\n",
              "      <th></th>\n",
              "      <th>ESECONVA</th>\n",
              "      <th>ESECONVB</th>\n",
              "      <th>ESECONVC</th>\n",
              "      <th>ESECONVD</th>\n",
              "      <th>ESECONVE</th>\n",
              "      <th>ESECONVF</th>\n",
              "      <th>ESECONVG</th>\n",
              "      <th>ESECONVH</th>\n",
              "      <th>ESECONVI</th>\n",
              "      <th>ESECONVJ</th>\n",
              "    </tr>\n",
              "  </thead>\n",
              "  <tbody>\n",
              "    <tr>\n",
              "      <th>571</th>\n",
              "      <td>2</td>\n",
              "      <td>1</td>\n",
              "      <td>1</td>\n",
              "      <td>1</td>\n",
              "      <td>1</td>\n",
              "      <td>1</td>\n",
              "      <td>1</td>\n",
              "      <td>2</td>\n",
              "      <td>1</td>\n",
              "      <td>1</td>\n",
              "    </tr>\n",
              "    <tr>\n",
              "      <th>1301</th>\n",
              "      <td>1</td>\n",
              "      <td>1</td>\n",
              "      <td>1</td>\n",
              "      <td>1</td>\n",
              "      <td>1</td>\n",
              "      <td>1</td>\n",
              "      <td>1</td>\n",
              "      <td>1</td>\n",
              "      <td>1</td>\n",
              "      <td>1</td>\n",
              "    </tr>\n",
              "    <tr>\n",
              "      <th>1155</th>\n",
              "      <td>3</td>\n",
              "      <td>3</td>\n",
              "      <td>2</td>\n",
              "      <td>1</td>\n",
              "      <td>2</td>\n",
              "      <td>1</td>\n",
              "      <td>2</td>\n",
              "      <td>1</td>\n",
              "      <td>2</td>\n",
              "      <td>2</td>\n",
              "    </tr>\n",
              "    <tr>\n",
              "      <th>982</th>\n",
              "      <td>3</td>\n",
              "      <td>3</td>\n",
              "      <td>3</td>\n",
              "      <td>3</td>\n",
              "      <td>4</td>\n",
              "      <td>3</td>\n",
              "      <td>3</td>\n",
              "      <td>5</td>\n",
              "      <td>4</td>\n",
              "      <td>2</td>\n",
              "    </tr>\n",
              "    <tr>\n",
              "      <th>495</th>\n",
              "      <td>1</td>\n",
              "      <td>1</td>\n",
              "      <td>1</td>\n",
              "      <td>2</td>\n",
              "      <td>1</td>\n",
              "      <td>1</td>\n",
              "      <td>1</td>\n",
              "      <td>1</td>\n",
              "      <td>1</td>\n",
              "      <td>1</td>\n",
              "    </tr>\n",
              "  </tbody>\n",
              "</table>\n",
              "</div>"
            ],
            "text/plain": [
              "     ESECONVA ESECONVB ESECONVC ESECONVD ESECONVE ESECONVF ESECONVG ESECONVH  \\\n",
              "571         2        1        1        1        1        1        1        2   \n",
              "1301        1        1        1        1        1        1        1        1   \n",
              "1155        3        3        2        1        2        1        2        1   \n",
              "982         3        3        3        3        4        3        3        5   \n",
              "495         1        1        1        2        1        1        1        1   \n",
              "\n",
              "     ESECONVI ESECONVJ  \n",
              "571         1        1  \n",
              "1301        1        1  \n",
              "1155        2        2  \n",
              "982         4        2  \n",
              "495         1        1  "
            ]
          },
          "execution_count": 27,
          "metadata": {},
          "output_type": "execute_result"
        }
      ],
      "source": [
        "y_train.head()"
      ]
    },
    {
      "cell_type": "code",
      "execution_count": null,
      "id": "df6b3c97-d469-4463-8db5-c51ab9b8b0d9",
      "metadata": {
        "id": "df6b3c97-d469-4463-8db5-c51ab9b8b0d9",
        "outputId": "7f47afbe-ad44-4866-9f2a-14455ecff34b"
      },
      "outputs": [
        {
          "name": "stdout",
          "output_type": "stream",
          "text": [
            "Training set size: 1070\n",
            "Test set size: 268\n"
          ]
        }
      ],
      "source": [
        "print(\"Training set size:\", x_train.shape[0])\n",
        "print(\"Test set size:\", x_test.shape[0])"
      ]
    },
    {
      "cell_type": "code",
      "execution_count": null,
      "id": "9d98d0fd-4ab7-4a37-8300-41eaea093480",
      "metadata": {
        "id": "9d98d0fd-4ab7-4a37-8300-41eaea093480",
        "outputId": "fabb3e0c-be1b-4b18-f587-0c4806da4445"
      },
      "outputs": [
        {
          "name": "stdout",
          "output_type": "stream",
          "text": [
            "Training set size: 1070\n",
            "Test set size: 268\n"
          ]
        }
      ],
      "source": [
        "print(\"Training set size:\", y_train.shape[0])\n",
        "print(\"Test set size:\", y_test.shape[0])"
      ]
    },
    {
      "cell_type": "code",
      "execution_count": null,
      "id": "64f6cf08-755f-4c57-a2d3-046eb5fe2bc3",
      "metadata": {
        "id": "64f6cf08-755f-4c57-a2d3-046eb5fe2bc3"
      },
      "outputs": [],
      "source": [
        "from sklearn.tree import DecisionTreeClassifier\n",
        "from sklearn.metrics import accuracy_score"
      ]
    },
    {
      "cell_type": "code",
      "execution_count": null,
      "id": "abc45b78-9f15-4ac0-820d-49743ef591e5",
      "metadata": {
        "id": "abc45b78-9f15-4ac0-820d-49743ef591e5"
      },
      "outputs": [],
      "source": [
        "model = DecisionTreeClassifier()"
      ]
    },
    {
      "cell_type": "code",
      "execution_count": null,
      "id": "5031d7de-ed4d-484b-a496-3ce23a2c94c3",
      "metadata": {
        "id": "5031d7de-ed4d-484b-a496-3ce23a2c94c3",
        "outputId": "cb754de1-89cd-4613-d55a-5b7b04926dc3"
      },
      "outputs": [
        {
          "ename": "ValueError",
          "evalue": "could not convert string to float: ''",
          "output_type": "error",
          "traceback": [
            "\u001b[1;31m---------------------------------------------------------------------------\u001b[0m",
            "\u001b[1;31mValueError\u001b[0m                                Traceback (most recent call last)",
            "Cell \u001b[1;32mIn[24], line 1\u001b[0m\n\u001b[1;32m----> 1\u001b[0m \u001b[43mmodel\u001b[49m\u001b[38;5;241;43m.\u001b[39;49m\u001b[43mfit\u001b[49m\u001b[43m(\u001b[49m\u001b[43mx_train\u001b[49m\u001b[43m,\u001b[49m\u001b[43m \u001b[49m\u001b[43my_train\u001b[49m\u001b[43m)\u001b[49m\n",
            "File \u001b[1;32m~\\AppData\\Roaming\\Python\\Python38\\site-packages\\sklearn\\tree\\_classes.py:889\u001b[0m, in \u001b[0;36mDecisionTreeClassifier.fit\u001b[1;34m(self, X, y, sample_weight, check_input)\u001b[0m\n\u001b[0;32m    859\u001b[0m \u001b[38;5;28;01mdef\u001b[39;00m \u001b[38;5;21mfit\u001b[39m(\u001b[38;5;28mself\u001b[39m, X, y, sample_weight\u001b[38;5;241m=\u001b[39m\u001b[38;5;28;01mNone\u001b[39;00m, check_input\u001b[38;5;241m=\u001b[39m\u001b[38;5;28;01mTrue\u001b[39;00m):\n\u001b[0;32m    860\u001b[0m \u001b[38;5;250m    \u001b[39m\u001b[38;5;124;03m\"\"\"Build a decision tree classifier from the training set (X, y).\u001b[39;00m\n\u001b[0;32m    861\u001b[0m \n\u001b[0;32m    862\u001b[0m \u001b[38;5;124;03m    Parameters\u001b[39;00m\n\u001b[1;32m   (...)\u001b[0m\n\u001b[0;32m    886\u001b[0m \u001b[38;5;124;03m        Fitted estimator.\u001b[39;00m\n\u001b[0;32m    887\u001b[0m \u001b[38;5;124;03m    \"\"\"\u001b[39;00m\n\u001b[1;32m--> 889\u001b[0m     \u001b[38;5;28;43msuper\u001b[39;49m\u001b[43m(\u001b[49m\u001b[43m)\u001b[49m\u001b[38;5;241;43m.\u001b[39;49m\u001b[43mfit\u001b[49m\u001b[43m(\u001b[49m\n\u001b[0;32m    890\u001b[0m \u001b[43m        \u001b[49m\u001b[43mX\u001b[49m\u001b[43m,\u001b[49m\n\u001b[0;32m    891\u001b[0m \u001b[43m        \u001b[49m\u001b[43my\u001b[49m\u001b[43m,\u001b[49m\n\u001b[0;32m    892\u001b[0m \u001b[43m        \u001b[49m\u001b[43msample_weight\u001b[49m\u001b[38;5;241;43m=\u001b[39;49m\u001b[43msample_weight\u001b[49m\u001b[43m,\u001b[49m\n\u001b[0;32m    893\u001b[0m \u001b[43m        \u001b[49m\u001b[43mcheck_input\u001b[49m\u001b[38;5;241;43m=\u001b[39;49m\u001b[43mcheck_input\u001b[49m\u001b[43m,\u001b[49m\n\u001b[0;32m    894\u001b[0m \u001b[43m    \u001b[49m\u001b[43m)\u001b[49m\n\u001b[0;32m    895\u001b[0m     \u001b[38;5;28;01mreturn\u001b[39;00m \u001b[38;5;28mself\u001b[39m\n",
            "File \u001b[1;32m~\\AppData\\Roaming\\Python\\Python38\\site-packages\\sklearn\\tree\\_classes.py:186\u001b[0m, in \u001b[0;36mBaseDecisionTree.fit\u001b[1;34m(self, X, y, sample_weight, check_input)\u001b[0m\n\u001b[0;32m    184\u001b[0m check_X_params \u001b[38;5;241m=\u001b[39m \u001b[38;5;28mdict\u001b[39m(dtype\u001b[38;5;241m=\u001b[39mDTYPE, accept_sparse\u001b[38;5;241m=\u001b[39m\u001b[38;5;124m\"\u001b[39m\u001b[38;5;124mcsc\u001b[39m\u001b[38;5;124m\"\u001b[39m)\n\u001b[0;32m    185\u001b[0m check_y_params \u001b[38;5;241m=\u001b[39m \u001b[38;5;28mdict\u001b[39m(ensure_2d\u001b[38;5;241m=\u001b[39m\u001b[38;5;28;01mFalse\u001b[39;00m, dtype\u001b[38;5;241m=\u001b[39m\u001b[38;5;28;01mNone\u001b[39;00m)\n\u001b[1;32m--> 186\u001b[0m X, y \u001b[38;5;241m=\u001b[39m \u001b[38;5;28;43mself\u001b[39;49m\u001b[38;5;241;43m.\u001b[39;49m\u001b[43m_validate_data\u001b[49m\u001b[43m(\u001b[49m\n\u001b[0;32m    187\u001b[0m \u001b[43m    \u001b[49m\u001b[43mX\u001b[49m\u001b[43m,\u001b[49m\u001b[43m \u001b[49m\u001b[43my\u001b[49m\u001b[43m,\u001b[49m\u001b[43m \u001b[49m\u001b[43mvalidate_separately\u001b[49m\u001b[38;5;241;43m=\u001b[39;49m\u001b[43m(\u001b[49m\u001b[43mcheck_X_params\u001b[49m\u001b[43m,\u001b[49m\u001b[43m \u001b[49m\u001b[43mcheck_y_params\u001b[49m\u001b[43m)\u001b[49m\n\u001b[0;32m    188\u001b[0m \u001b[43m\u001b[49m\u001b[43m)\u001b[49m\n\u001b[0;32m    189\u001b[0m \u001b[38;5;28;01mif\u001b[39;00m issparse(X):\n\u001b[0;32m    190\u001b[0m     X\u001b[38;5;241m.\u001b[39msort_indices()\n",
            "File \u001b[1;32m~\\AppData\\Roaming\\Python\\Python38\\site-packages\\sklearn\\base.py:560\u001b[0m, in \u001b[0;36mBaseEstimator._validate_data\u001b[1;34m(self, X, y, reset, validate_separately, **check_params)\u001b[0m\n\u001b[0;32m    558\u001b[0m \u001b[38;5;28;01mif\u001b[39;00m \u001b[38;5;124m\"\u001b[39m\u001b[38;5;124mestimator\u001b[39m\u001b[38;5;124m\"\u001b[39m \u001b[38;5;129;01mnot\u001b[39;00m \u001b[38;5;129;01min\u001b[39;00m check_X_params:\n\u001b[0;32m    559\u001b[0m     check_X_params \u001b[38;5;241m=\u001b[39m {\u001b[38;5;241m*\u001b[39m\u001b[38;5;241m*\u001b[39mdefault_check_params, \u001b[38;5;241m*\u001b[39m\u001b[38;5;241m*\u001b[39mcheck_X_params}\n\u001b[1;32m--> 560\u001b[0m X \u001b[38;5;241m=\u001b[39m \u001b[43mcheck_array\u001b[49m\u001b[43m(\u001b[49m\u001b[43mX\u001b[49m\u001b[43m,\u001b[49m\u001b[43m \u001b[49m\u001b[43minput_name\u001b[49m\u001b[38;5;241;43m=\u001b[39;49m\u001b[38;5;124;43m\"\u001b[39;49m\u001b[38;5;124;43mX\u001b[39;49m\u001b[38;5;124;43m\"\u001b[39;49m\u001b[43m,\u001b[49m\u001b[43m \u001b[49m\u001b[38;5;241;43m*\u001b[39;49m\u001b[38;5;241;43m*\u001b[39;49m\u001b[43mcheck_X_params\u001b[49m\u001b[43m)\u001b[49m\n\u001b[0;32m    561\u001b[0m \u001b[38;5;28;01mif\u001b[39;00m \u001b[38;5;124m\"\u001b[39m\u001b[38;5;124mestimator\u001b[39m\u001b[38;5;124m\"\u001b[39m \u001b[38;5;129;01mnot\u001b[39;00m \u001b[38;5;129;01min\u001b[39;00m check_y_params:\n\u001b[0;32m    562\u001b[0m     check_y_params \u001b[38;5;241m=\u001b[39m {\u001b[38;5;241m*\u001b[39m\u001b[38;5;241m*\u001b[39mdefault_check_params, \u001b[38;5;241m*\u001b[39m\u001b[38;5;241m*\u001b[39mcheck_y_params}\n",
            "File \u001b[1;32m~\\AppData\\Roaming\\Python\\Python38\\site-packages\\sklearn\\utils\\validation.py:879\u001b[0m, in \u001b[0;36mcheck_array\u001b[1;34m(array, accept_sparse, accept_large_sparse, dtype, order, copy, force_all_finite, ensure_2d, allow_nd, ensure_min_samples, ensure_min_features, estimator, input_name)\u001b[0m\n\u001b[0;32m    877\u001b[0m         array \u001b[38;5;241m=\u001b[39m xp\u001b[38;5;241m.\u001b[39mastype(array, dtype, copy\u001b[38;5;241m=\u001b[39m\u001b[38;5;28;01mFalse\u001b[39;00m)\n\u001b[0;32m    878\u001b[0m     \u001b[38;5;28;01melse\u001b[39;00m:\n\u001b[1;32m--> 879\u001b[0m         array \u001b[38;5;241m=\u001b[39m \u001b[43m_asarray_with_order\u001b[49m\u001b[43m(\u001b[49m\u001b[43marray\u001b[49m\u001b[43m,\u001b[49m\u001b[43m \u001b[49m\u001b[43morder\u001b[49m\u001b[38;5;241;43m=\u001b[39;49m\u001b[43morder\u001b[49m\u001b[43m,\u001b[49m\u001b[43m \u001b[49m\u001b[43mdtype\u001b[49m\u001b[38;5;241;43m=\u001b[39;49m\u001b[43mdtype\u001b[49m\u001b[43m,\u001b[49m\u001b[43m \u001b[49m\u001b[43mxp\u001b[49m\u001b[38;5;241;43m=\u001b[39;49m\u001b[43mxp\u001b[49m\u001b[43m)\u001b[49m\n\u001b[0;32m    880\u001b[0m \u001b[38;5;28;01mexcept\u001b[39;00m ComplexWarning \u001b[38;5;28;01mas\u001b[39;00m complex_warning:\n\u001b[0;32m    881\u001b[0m     \u001b[38;5;28;01mraise\u001b[39;00m \u001b[38;5;167;01mValueError\u001b[39;00m(\n\u001b[0;32m    882\u001b[0m         \u001b[38;5;124m\"\u001b[39m\u001b[38;5;124mComplex data not supported\u001b[39m\u001b[38;5;130;01m\\n\u001b[39;00m\u001b[38;5;132;01m{}\u001b[39;00m\u001b[38;5;130;01m\\n\u001b[39;00m\u001b[38;5;124m\"\u001b[39m\u001b[38;5;241m.\u001b[39mformat(array)\n\u001b[0;32m    883\u001b[0m     ) \u001b[38;5;28;01mfrom\u001b[39;00m \u001b[38;5;21;01mcomplex_warning\u001b[39;00m\n",
            "File \u001b[1;32m~\\AppData\\Roaming\\Python\\Python38\\site-packages\\sklearn\\utils\\_array_api.py:185\u001b[0m, in \u001b[0;36m_asarray_with_order\u001b[1;34m(array, dtype, order, copy, xp)\u001b[0m\n\u001b[0;32m    182\u001b[0m     xp, _ \u001b[38;5;241m=\u001b[39m get_namespace(array)\n\u001b[0;32m    183\u001b[0m \u001b[38;5;28;01mif\u001b[39;00m xp\u001b[38;5;241m.\u001b[39m\u001b[38;5;18m__name__\u001b[39m \u001b[38;5;129;01min\u001b[39;00m {\u001b[38;5;124m\"\u001b[39m\u001b[38;5;124mnumpy\u001b[39m\u001b[38;5;124m\"\u001b[39m, \u001b[38;5;124m\"\u001b[39m\u001b[38;5;124mnumpy.array_api\u001b[39m\u001b[38;5;124m\"\u001b[39m}:\n\u001b[0;32m    184\u001b[0m     \u001b[38;5;66;03m# Use NumPy API to support order\u001b[39;00m\n\u001b[1;32m--> 185\u001b[0m     array \u001b[38;5;241m=\u001b[39m \u001b[43mnumpy\u001b[49m\u001b[38;5;241;43m.\u001b[39;49m\u001b[43masarray\u001b[49m\u001b[43m(\u001b[49m\u001b[43marray\u001b[49m\u001b[43m,\u001b[49m\u001b[43m \u001b[49m\u001b[43morder\u001b[49m\u001b[38;5;241;43m=\u001b[39;49m\u001b[43morder\u001b[49m\u001b[43m,\u001b[49m\u001b[43m \u001b[49m\u001b[43mdtype\u001b[49m\u001b[38;5;241;43m=\u001b[39;49m\u001b[43mdtype\u001b[49m\u001b[43m)\u001b[49m\n\u001b[0;32m    186\u001b[0m     \u001b[38;5;28;01mreturn\u001b[39;00m xp\u001b[38;5;241m.\u001b[39masarray(array, copy\u001b[38;5;241m=\u001b[39mcopy)\n\u001b[0;32m    187\u001b[0m \u001b[38;5;28;01melse\u001b[39;00m:\n",
            "File \u001b[1;32m~\\AppData\\Roaming\\jupyterlab-desktop\\jlab_server\\lib\\site-packages\\pandas\\core\\generic.py:2070\u001b[0m, in \u001b[0;36mNDFrame.__array__\u001b[1;34m(self, dtype)\u001b[0m\n\u001b[0;32m   2069\u001b[0m \u001b[38;5;28;01mdef\u001b[39;00m \u001b[38;5;21m__array__\u001b[39m(\u001b[38;5;28mself\u001b[39m, dtype: npt\u001b[38;5;241m.\u001b[39mDTypeLike \u001b[38;5;241m|\u001b[39m \u001b[38;5;28;01mNone\u001b[39;00m \u001b[38;5;241m=\u001b[39m \u001b[38;5;28;01mNone\u001b[39;00m) \u001b[38;5;241m-\u001b[39m\u001b[38;5;241m>\u001b[39m np\u001b[38;5;241m.\u001b[39mndarray:\n\u001b[1;32m-> 2070\u001b[0m     \u001b[38;5;28;01mreturn\u001b[39;00m \u001b[43mnp\u001b[49m\u001b[38;5;241;43m.\u001b[39;49m\u001b[43masarray\u001b[49m\u001b[43m(\u001b[49m\u001b[38;5;28;43mself\u001b[39;49m\u001b[38;5;241;43m.\u001b[39;49m\u001b[43m_values\u001b[49m\u001b[43m,\u001b[49m\u001b[43m \u001b[49m\u001b[43mdtype\u001b[49m\u001b[38;5;241;43m=\u001b[39;49m\u001b[43mdtype\u001b[49m\u001b[43m)\u001b[49m\n",
            "\u001b[1;31mValueError\u001b[0m: could not convert string to float: ''"
          ]
        }
      ],
      "source": [
        "model.fit(x_train, y_train)"
      ]
    },
    {
      "cell_type": "code",
      "execution_count": null,
      "id": "b6a47b70-56a4-4b5d-804c-07b73266b3fc",
      "metadata": {
        "id": "b6a47b70-56a4-4b5d-804c-07b73266b3fc"
      },
      "outputs": [],
      "source": [
        "y_pred = model.predict(x_test)"
      ]
    },
    {
      "cell_type": "code",
      "execution_count": null,
      "id": "b09a9b2f-f0fb-49d2-984c-902cf91c1492",
      "metadata": {
        "id": "b09a9b2f-f0fb-49d2-984c-902cf91c1492"
      },
      "outputs": [],
      "source": []
    },
    {
      "cell_type": "code",
      "execution_count": null,
      "id": "7c343833-ae75-4e6a-97f0-e917e63350e3",
      "metadata": {
        "id": "7c343833-ae75-4e6a-97f0-e917e63350e3"
      },
      "outputs": [],
      "source": [
        "# Replace empty strings with NaN\n",
        "fem_df.replace('', np.nan, inplace=True)"
      ]
    },
    {
      "cell_type": "code",
      "execution_count": null,
      "id": "b44f4419-a526-4be3-9ca9-1acb243e9014",
      "metadata": {
        "id": "b44f4419-a526-4be3-9ca9-1acb243e9014"
      },
      "outputs": [],
      "source": [
        "df_without_missing = fem_df.dropna()"
      ]
    },
    {
      "cell_type": "code",
      "execution_count": null,
      "id": "a768dfe3-795c-4aa3-a5ef-19a3a23f2625",
      "metadata": {
        "id": "a768dfe3-795c-4aa3-a5ef-19a3a23f2625",
        "outputId": "d4fe873b-e020-4da0-a68b-c53d759d0482"
      },
      "outputs": [
        {
          "ename": "ValueError",
          "evalue": "could not convert string to float: ''",
          "output_type": "error",
          "traceback": [
            "\u001b[1;31m---------------------------------------------------------------------------\u001b[0m",
            "\u001b[1;31mValueError\u001b[0m                                Traceback (most recent call last)",
            "Cell \u001b[1;32mIn[24], line 3\u001b[0m\n\u001b[0;32m      1\u001b[0m \u001b[38;5;66;03m# Convert columns to float\u001b[39;00m\n\u001b[0;32m      2\u001b[0m float_columns \u001b[38;5;241m=\u001b[39m [\u001b[38;5;124m'\u001b[39m\u001b[38;5;124mGCQ3A\u001b[39m\u001b[38;5;124m'\u001b[39m, \u001b[38;5;124m'\u001b[39m\u001b[38;5;124mGCQ3B\u001b[39m\u001b[38;5;124m'\u001b[39m, \u001b[38;5;124m'\u001b[39m\u001b[38;5;124mGCQ3C\u001b[39m\u001b[38;5;124m'\u001b[39m, \u001b[38;5;124m'\u001b[39m\u001b[38;5;124mGCQ3D\u001b[39m\u001b[38;5;124m'\u001b[39m, \u001b[38;5;124m'\u001b[39m\u001b[38;5;124mGCQ3E\u001b[39m\u001b[38;5;124m'\u001b[39m, \u001b[38;5;124m'\u001b[39m\u001b[38;5;124mGCQ3F\u001b[39m\u001b[38;5;124m'\u001b[39m, \u001b[38;5;124m'\u001b[39m\u001b[38;5;124mGCQ3G\u001b[39m\u001b[38;5;124m'\u001b[39m, \u001b[38;5;124m'\u001b[39m\u001b[38;5;124mGCQ3H\u001b[39m\u001b[38;5;124m'\u001b[39m, \u001b[38;5;124m'\u001b[39m\u001b[38;5;124mGCQ3I\u001b[39m\u001b[38;5;124m'\u001b[39m, \u001b[38;5;124m'\u001b[39m\u001b[38;5;124mGCQ3J\u001b[39m\u001b[38;5;124m'\u001b[39m, \u001b[38;5;124m'\u001b[39m\u001b[38;5;124mGCQ3K\u001b[39m\u001b[38;5;124m'\u001b[39m, \u001b[38;5;124m'\u001b[39m\u001b[38;5;124mGCQ3L\u001b[39m\u001b[38;5;124m'\u001b[39m]\n\u001b[1;32m----> 3\u001b[0m df_without_missing[float_columns] \u001b[38;5;241m=\u001b[39m \u001b[43mdf_without_missing\u001b[49m\u001b[43m[\u001b[49m\u001b[43mfloat_columns\u001b[49m\u001b[43m]\u001b[49m\u001b[38;5;241;43m.\u001b[39;49m\u001b[43mastype\u001b[49m\u001b[43m(\u001b[49m\u001b[38;5;28;43mfloat\u001b[39;49m\u001b[43m)\u001b[49m\n",
            "File \u001b[1;32m~\\AppData\\Roaming\\jupyterlab-desktop\\jlab_server\\lib\\site-packages\\pandas\\core\\generic.py:6240\u001b[0m, in \u001b[0;36mNDFrame.astype\u001b[1;34m(self, dtype, copy, errors)\u001b[0m\n\u001b[0;32m   6233\u001b[0m     results \u001b[38;5;241m=\u001b[39m [\n\u001b[0;32m   6234\u001b[0m         \u001b[38;5;28mself\u001b[39m\u001b[38;5;241m.\u001b[39miloc[:, i]\u001b[38;5;241m.\u001b[39mastype(dtype, copy\u001b[38;5;241m=\u001b[39mcopy)\n\u001b[0;32m   6235\u001b[0m         \u001b[38;5;28;01mfor\u001b[39;00m i \u001b[38;5;129;01min\u001b[39;00m \u001b[38;5;28mrange\u001b[39m(\u001b[38;5;28mlen\u001b[39m(\u001b[38;5;28mself\u001b[39m\u001b[38;5;241m.\u001b[39mcolumns))\n\u001b[0;32m   6236\u001b[0m     ]\n\u001b[0;32m   6238\u001b[0m \u001b[38;5;28;01melse\u001b[39;00m:\n\u001b[0;32m   6239\u001b[0m     \u001b[38;5;66;03m# else, only a single dtype is given\u001b[39;00m\n\u001b[1;32m-> 6240\u001b[0m     new_data \u001b[38;5;241m=\u001b[39m \u001b[38;5;28;43mself\u001b[39;49m\u001b[38;5;241;43m.\u001b[39;49m\u001b[43m_mgr\u001b[49m\u001b[38;5;241;43m.\u001b[39;49m\u001b[43mastype\u001b[49m\u001b[43m(\u001b[49m\u001b[43mdtype\u001b[49m\u001b[38;5;241;43m=\u001b[39;49m\u001b[43mdtype\u001b[49m\u001b[43m,\u001b[49m\u001b[43m \u001b[49m\u001b[43mcopy\u001b[49m\u001b[38;5;241;43m=\u001b[39;49m\u001b[43mcopy\u001b[49m\u001b[43m,\u001b[49m\u001b[43m \u001b[49m\u001b[43merrors\u001b[49m\u001b[38;5;241;43m=\u001b[39;49m\u001b[43merrors\u001b[49m\u001b[43m)\u001b[49m\n\u001b[0;32m   6241\u001b[0m     \u001b[38;5;28;01mreturn\u001b[39;00m \u001b[38;5;28mself\u001b[39m\u001b[38;5;241m.\u001b[39m_constructor(new_data)\u001b[38;5;241m.\u001b[39m__finalize__(\u001b[38;5;28mself\u001b[39m, method\u001b[38;5;241m=\u001b[39m\u001b[38;5;124m\"\u001b[39m\u001b[38;5;124mastype\u001b[39m\u001b[38;5;124m\"\u001b[39m)\n\u001b[0;32m   6243\u001b[0m \u001b[38;5;66;03m# GH 33113: handle empty frame or series\u001b[39;00m\n",
            "File \u001b[1;32m~\\AppData\\Roaming\\jupyterlab-desktop\\jlab_server\\lib\\site-packages\\pandas\\core\\internals\\managers.py:450\u001b[0m, in \u001b[0;36mBaseBlockManager.astype\u001b[1;34m(self, dtype, copy, errors)\u001b[0m\n\u001b[0;32m    449\u001b[0m \u001b[38;5;28;01mdef\u001b[39;00m \u001b[38;5;21mastype\u001b[39m(\u001b[38;5;28mself\u001b[39m: T, dtype, copy: \u001b[38;5;28mbool\u001b[39m \u001b[38;5;241m=\u001b[39m \u001b[38;5;28;01mFalse\u001b[39;00m, errors: \u001b[38;5;28mstr\u001b[39m \u001b[38;5;241m=\u001b[39m \u001b[38;5;124m\"\u001b[39m\u001b[38;5;124mraise\u001b[39m\u001b[38;5;124m\"\u001b[39m) \u001b[38;5;241m-\u001b[39m\u001b[38;5;241m>\u001b[39m T:\n\u001b[1;32m--> 450\u001b[0m     \u001b[38;5;28;01mreturn\u001b[39;00m \u001b[38;5;28;43mself\u001b[39;49m\u001b[38;5;241;43m.\u001b[39;49m\u001b[43mapply\u001b[49m\u001b[43m(\u001b[49m\u001b[38;5;124;43m\"\u001b[39;49m\u001b[38;5;124;43mastype\u001b[39;49m\u001b[38;5;124;43m\"\u001b[39;49m\u001b[43m,\u001b[49m\u001b[43m \u001b[49m\u001b[43mdtype\u001b[49m\u001b[38;5;241;43m=\u001b[39;49m\u001b[43mdtype\u001b[49m\u001b[43m,\u001b[49m\u001b[43m \u001b[49m\u001b[43mcopy\u001b[49m\u001b[38;5;241;43m=\u001b[39;49m\u001b[43mcopy\u001b[49m\u001b[43m,\u001b[49m\u001b[43m \u001b[49m\u001b[43merrors\u001b[49m\u001b[38;5;241;43m=\u001b[39;49m\u001b[43merrors\u001b[49m\u001b[43m)\u001b[49m\n",
            "File \u001b[1;32m~\\AppData\\Roaming\\jupyterlab-desktop\\jlab_server\\lib\\site-packages\\pandas\\core\\internals\\managers.py:352\u001b[0m, in \u001b[0;36mBaseBlockManager.apply\u001b[1;34m(self, f, align_keys, ignore_failures, **kwargs)\u001b[0m\n\u001b[0;32m    350\u001b[0m         applied \u001b[38;5;241m=\u001b[39m b\u001b[38;5;241m.\u001b[39mapply(f, \u001b[38;5;241m*\u001b[39m\u001b[38;5;241m*\u001b[39mkwargs)\n\u001b[0;32m    351\u001b[0m     \u001b[38;5;28;01melse\u001b[39;00m:\n\u001b[1;32m--> 352\u001b[0m         applied \u001b[38;5;241m=\u001b[39m \u001b[38;5;28;43mgetattr\u001b[39;49m\u001b[43m(\u001b[49m\u001b[43mb\u001b[49m\u001b[43m,\u001b[49m\u001b[43m \u001b[49m\u001b[43mf\u001b[49m\u001b[43m)\u001b[49m\u001b[43m(\u001b[49m\u001b[38;5;241;43m*\u001b[39;49m\u001b[38;5;241;43m*\u001b[39;49m\u001b[43mkwargs\u001b[49m\u001b[43m)\u001b[49m\n\u001b[0;32m    353\u001b[0m \u001b[38;5;28;01mexcept\u001b[39;00m (\u001b[38;5;167;01mTypeError\u001b[39;00m, \u001b[38;5;167;01mNotImplementedError\u001b[39;00m):\n\u001b[0;32m    354\u001b[0m     \u001b[38;5;28;01mif\u001b[39;00m \u001b[38;5;129;01mnot\u001b[39;00m ignore_failures:\n",
            "File \u001b[1;32m~\\AppData\\Roaming\\jupyterlab-desktop\\jlab_server\\lib\\site-packages\\pandas\\core\\internals\\blocks.py:526\u001b[0m, in \u001b[0;36mBlock.astype\u001b[1;34m(self, dtype, copy, errors)\u001b[0m\n\u001b[0;32m    508\u001b[0m \u001b[38;5;250m\u001b[39m\u001b[38;5;124;03m\"\"\"\u001b[39;00m\n\u001b[0;32m    509\u001b[0m \u001b[38;5;124;03mCoerce to the new dtype.\u001b[39;00m\n\u001b[0;32m    510\u001b[0m \n\u001b[1;32m   (...)\u001b[0m\n\u001b[0;32m    522\u001b[0m \u001b[38;5;124;03mBlock\u001b[39;00m\n\u001b[0;32m    523\u001b[0m \u001b[38;5;124;03m\"\"\"\u001b[39;00m\n\u001b[0;32m    524\u001b[0m values \u001b[38;5;241m=\u001b[39m \u001b[38;5;28mself\u001b[39m\u001b[38;5;241m.\u001b[39mvalues\n\u001b[1;32m--> 526\u001b[0m new_values \u001b[38;5;241m=\u001b[39m \u001b[43mastype_array_safe\u001b[49m\u001b[43m(\u001b[49m\u001b[43mvalues\u001b[49m\u001b[43m,\u001b[49m\u001b[43m \u001b[49m\u001b[43mdtype\u001b[49m\u001b[43m,\u001b[49m\u001b[43m \u001b[49m\u001b[43mcopy\u001b[49m\u001b[38;5;241;43m=\u001b[39;49m\u001b[43mcopy\u001b[49m\u001b[43m,\u001b[49m\u001b[43m \u001b[49m\u001b[43merrors\u001b[49m\u001b[38;5;241;43m=\u001b[39;49m\u001b[43merrors\u001b[49m\u001b[43m)\u001b[49m\n\u001b[0;32m    528\u001b[0m new_values \u001b[38;5;241m=\u001b[39m maybe_coerce_values(new_values)\n\u001b[0;32m    529\u001b[0m newb \u001b[38;5;241m=\u001b[39m \u001b[38;5;28mself\u001b[39m\u001b[38;5;241m.\u001b[39mmake_block(new_values)\n",
            "File \u001b[1;32m~\\AppData\\Roaming\\jupyterlab-desktop\\jlab_server\\lib\\site-packages\\pandas\\core\\dtypes\\astype.py:299\u001b[0m, in \u001b[0;36mastype_array_safe\u001b[1;34m(values, dtype, copy, errors)\u001b[0m\n\u001b[0;32m    296\u001b[0m     \u001b[38;5;28;01mreturn\u001b[39;00m values\u001b[38;5;241m.\u001b[39mcopy()\n\u001b[0;32m    298\u001b[0m \u001b[38;5;28;01mtry\u001b[39;00m:\n\u001b[1;32m--> 299\u001b[0m     new_values \u001b[38;5;241m=\u001b[39m \u001b[43mastype_array\u001b[49m\u001b[43m(\u001b[49m\u001b[43mvalues\u001b[49m\u001b[43m,\u001b[49m\u001b[43m \u001b[49m\u001b[43mdtype\u001b[49m\u001b[43m,\u001b[49m\u001b[43m \u001b[49m\u001b[43mcopy\u001b[49m\u001b[38;5;241;43m=\u001b[39;49m\u001b[43mcopy\u001b[49m\u001b[43m)\u001b[49m\n\u001b[0;32m    300\u001b[0m \u001b[38;5;28;01mexcept\u001b[39;00m (\u001b[38;5;167;01mValueError\u001b[39;00m, \u001b[38;5;167;01mTypeError\u001b[39;00m):\n\u001b[0;32m    301\u001b[0m     \u001b[38;5;66;03m# e.g. astype_nansafe can fail on object-dtype of strings\u001b[39;00m\n\u001b[0;32m    302\u001b[0m     \u001b[38;5;66;03m#  trying to convert to float\u001b[39;00m\n\u001b[0;32m    303\u001b[0m     \u001b[38;5;28;01mif\u001b[39;00m errors \u001b[38;5;241m==\u001b[39m \u001b[38;5;124m\"\u001b[39m\u001b[38;5;124mignore\u001b[39m\u001b[38;5;124m\"\u001b[39m:\n",
            "File \u001b[1;32m~\\AppData\\Roaming\\jupyterlab-desktop\\jlab_server\\lib\\site-packages\\pandas\\core\\dtypes\\astype.py:230\u001b[0m, in \u001b[0;36mastype_array\u001b[1;34m(values, dtype, copy)\u001b[0m\n\u001b[0;32m    227\u001b[0m     values \u001b[38;5;241m=\u001b[39m values\u001b[38;5;241m.\u001b[39mastype(dtype, copy\u001b[38;5;241m=\u001b[39mcopy)\n\u001b[0;32m    229\u001b[0m \u001b[38;5;28;01melse\u001b[39;00m:\n\u001b[1;32m--> 230\u001b[0m     values \u001b[38;5;241m=\u001b[39m \u001b[43mastype_nansafe\u001b[49m\u001b[43m(\u001b[49m\u001b[43mvalues\u001b[49m\u001b[43m,\u001b[49m\u001b[43m \u001b[49m\u001b[43mdtype\u001b[49m\u001b[43m,\u001b[49m\u001b[43m \u001b[49m\u001b[43mcopy\u001b[49m\u001b[38;5;241;43m=\u001b[39;49m\u001b[43mcopy\u001b[49m\u001b[43m)\u001b[49m\n\u001b[0;32m    232\u001b[0m \u001b[38;5;66;03m# in pandas we don't store numpy str dtypes, so convert to object\u001b[39;00m\n\u001b[0;32m    233\u001b[0m \u001b[38;5;28;01mif\u001b[39;00m \u001b[38;5;28misinstance\u001b[39m(dtype, np\u001b[38;5;241m.\u001b[39mdtype) \u001b[38;5;129;01mand\u001b[39;00m \u001b[38;5;28missubclass\u001b[39m(values\u001b[38;5;241m.\u001b[39mdtype\u001b[38;5;241m.\u001b[39mtype, \u001b[38;5;28mstr\u001b[39m):\n",
            "File \u001b[1;32m~\\AppData\\Roaming\\jupyterlab-desktop\\jlab_server\\lib\\site-packages\\pandas\\core\\dtypes\\astype.py:170\u001b[0m, in \u001b[0;36mastype_nansafe\u001b[1;34m(arr, dtype, copy, skipna)\u001b[0m\n\u001b[0;32m    166\u001b[0m     \u001b[38;5;28;01mraise\u001b[39;00m \u001b[38;5;167;01mValueError\u001b[39;00m(msg)\n\u001b[0;32m    168\u001b[0m \u001b[38;5;28;01mif\u001b[39;00m copy \u001b[38;5;129;01mor\u001b[39;00m is_object_dtype(arr\u001b[38;5;241m.\u001b[39mdtype) \u001b[38;5;129;01mor\u001b[39;00m is_object_dtype(dtype):\n\u001b[0;32m    169\u001b[0m     \u001b[38;5;66;03m# Explicit copy, or required since NumPy can't view from / to object.\u001b[39;00m\n\u001b[1;32m--> 170\u001b[0m     \u001b[38;5;28;01mreturn\u001b[39;00m \u001b[43marr\u001b[49m\u001b[38;5;241;43m.\u001b[39;49m\u001b[43mastype\u001b[49m\u001b[43m(\u001b[49m\u001b[43mdtype\u001b[49m\u001b[43m,\u001b[49m\u001b[43m \u001b[49m\u001b[43mcopy\u001b[49m\u001b[38;5;241;43m=\u001b[39;49m\u001b[38;5;28;43;01mTrue\u001b[39;49;00m\u001b[43m)\u001b[49m\n\u001b[0;32m    172\u001b[0m \u001b[38;5;28;01mreturn\u001b[39;00m arr\u001b[38;5;241m.\u001b[39mastype(dtype, copy\u001b[38;5;241m=\u001b[39mcopy)\n",
            "\u001b[1;31mValueError\u001b[0m: could not convert string to float: ''"
          ]
        }
      ],
      "source": [
        "# Convert columns to float\n",
        "float_columns = ['GCQ3A', 'GCQ3B', 'GCQ3C', 'GCQ3D', 'GCQ3E', 'GCQ3F', 'GCQ3G', 'GCQ3H', 'GCQ3I', 'GCQ3J', 'GCQ3K', 'GCQ3L']\n",
        "df_without_missing[float_columns] = df_without_missing[float_columns].astype(float)"
      ]
    },
    {
      "cell_type": "code",
      "execution_count": null,
      "id": "dce78af3-c40a-4fa0-b61e-ee5854dc31a0",
      "metadata": {
        "id": "dce78af3-c40a-4fa0-b61e-ee5854dc31a0",
        "outputId": "4c6ca1f4-4071-4ce2-aed8-f4326c7a2779"
      },
      "outputs": [
        {
          "ename": "ValueError",
          "evalue": "could not convert string to float: ''",
          "output_type": "error",
          "traceback": [
            "\u001b[1;31m---------------------------------------------------------------------------\u001b[0m",
            "\u001b[1;31mValueError\u001b[0m                                Traceback (most recent call last)",
            "Cell \u001b[1;32mIn[25], line 1\u001b[0m\n\u001b[1;32m----> 1\u001b[0m df_without_missing[float_columns] \u001b[38;5;241m=\u001b[39m \u001b[43mdf_without_missing\u001b[49m\u001b[43m[\u001b[49m\u001b[43mfloat_columns\u001b[49m\u001b[43m]\u001b[49m\u001b[38;5;241;43m.\u001b[39;49m\u001b[43mapplymap\u001b[49m\u001b[43m(\u001b[49m\u001b[38;5;28;43;01mlambda\u001b[39;49;00m\u001b[43m \u001b[49m\u001b[43mx\u001b[49m\u001b[43m:\u001b[49m\u001b[43m \u001b[49m\u001b[38;5;28;43mfloat\u001b[39;49m\u001b[43m(\u001b[49m\u001b[43mx\u001b[49m\u001b[43m)\u001b[49m\u001b[43m \u001b[49m\u001b[38;5;28;43;01mif\u001b[39;49;00m\u001b[43m \u001b[49m\u001b[43mx\u001b[49m\u001b[43m \u001b[49m\u001b[38;5;28;43;01melse\u001b[39;49;00m\u001b[43m \u001b[49m\u001b[43mnp\u001b[49m\u001b[38;5;241;43m.\u001b[39;49m\u001b[43mnan\u001b[49m\u001b[43m)\u001b[49m\n",
            "File \u001b[1;32m~\\AppData\\Roaming\\jupyterlab-desktop\\jlab_server\\lib\\site-packages\\pandas\\core\\frame.py:9650\u001b[0m, in \u001b[0;36mDataFrame.applymap\u001b[1;34m(self, func, na_action, **kwargs)\u001b[0m\n\u001b[0;32m   9647\u001b[0m         \u001b[38;5;28;01mreturn\u001b[39;00m lib\u001b[38;5;241m.\u001b[39mmap_infer(x, func, ignore_na\u001b[38;5;241m=\u001b[39mignore_na)\n\u001b[0;32m   9648\u001b[0m     \u001b[38;5;28;01mreturn\u001b[39;00m lib\u001b[38;5;241m.\u001b[39mmap_infer(x\u001b[38;5;241m.\u001b[39mastype(\u001b[38;5;28mobject\u001b[39m)\u001b[38;5;241m.\u001b[39m_values, func, ignore_na\u001b[38;5;241m=\u001b[39mignore_na)\n\u001b[1;32m-> 9650\u001b[0m \u001b[38;5;28;01mreturn\u001b[39;00m \u001b[38;5;28;43mself\u001b[39;49m\u001b[38;5;241;43m.\u001b[39;49m\u001b[43mapply\u001b[49m\u001b[43m(\u001b[49m\u001b[43minfer\u001b[49m\u001b[43m)\u001b[49m\u001b[38;5;241m.\u001b[39m__finalize__(\u001b[38;5;28mself\u001b[39m, \u001b[38;5;124m\"\u001b[39m\u001b[38;5;124mapplymap\u001b[39m\u001b[38;5;124m\"\u001b[39m)\n",
            "File \u001b[1;32m~\\AppData\\Roaming\\jupyterlab-desktop\\jlab_server\\lib\\site-packages\\pandas\\core\\frame.py:9565\u001b[0m, in \u001b[0;36mDataFrame.apply\u001b[1;34m(self, func, axis, raw, result_type, args, **kwargs)\u001b[0m\n\u001b[0;32m   9554\u001b[0m \u001b[38;5;28;01mfrom\u001b[39;00m \u001b[38;5;21;01mpandas\u001b[39;00m\u001b[38;5;21;01m.\u001b[39;00m\u001b[38;5;21;01mcore\u001b[39;00m\u001b[38;5;21;01m.\u001b[39;00m\u001b[38;5;21;01mapply\u001b[39;00m \u001b[38;5;28;01mimport\u001b[39;00m frame_apply\n\u001b[0;32m   9556\u001b[0m op \u001b[38;5;241m=\u001b[39m frame_apply(\n\u001b[0;32m   9557\u001b[0m     \u001b[38;5;28mself\u001b[39m,\n\u001b[0;32m   9558\u001b[0m     func\u001b[38;5;241m=\u001b[39mfunc,\n\u001b[1;32m   (...)\u001b[0m\n\u001b[0;32m   9563\u001b[0m     kwargs\u001b[38;5;241m=\u001b[39mkwargs,\n\u001b[0;32m   9564\u001b[0m )\n\u001b[1;32m-> 9565\u001b[0m \u001b[38;5;28;01mreturn\u001b[39;00m \u001b[43mop\u001b[49m\u001b[38;5;241;43m.\u001b[39;49m\u001b[43mapply\u001b[49m\u001b[43m(\u001b[49m\u001b[43m)\u001b[49m\u001b[38;5;241m.\u001b[39m__finalize__(\u001b[38;5;28mself\u001b[39m, method\u001b[38;5;241m=\u001b[39m\u001b[38;5;124m\"\u001b[39m\u001b[38;5;124mapply\u001b[39m\u001b[38;5;124m\"\u001b[39m)\n",
            "File \u001b[1;32m~\\AppData\\Roaming\\jupyterlab-desktop\\jlab_server\\lib\\site-packages\\pandas\\core\\apply.py:746\u001b[0m, in \u001b[0;36mFrameApply.apply\u001b[1;34m(self)\u001b[0m\n\u001b[0;32m    743\u001b[0m \u001b[38;5;28;01melif\u001b[39;00m \u001b[38;5;28mself\u001b[39m\u001b[38;5;241m.\u001b[39mraw:\n\u001b[0;32m    744\u001b[0m     \u001b[38;5;28;01mreturn\u001b[39;00m \u001b[38;5;28mself\u001b[39m\u001b[38;5;241m.\u001b[39mapply_raw()\n\u001b[1;32m--> 746\u001b[0m \u001b[38;5;28;01mreturn\u001b[39;00m \u001b[38;5;28;43mself\u001b[39;49m\u001b[38;5;241;43m.\u001b[39;49m\u001b[43mapply_standard\u001b[49m\u001b[43m(\u001b[49m\u001b[43m)\u001b[49m\n",
            "File \u001b[1;32m~\\AppData\\Roaming\\jupyterlab-desktop\\jlab_server\\lib\\site-packages\\pandas\\core\\apply.py:873\u001b[0m, in \u001b[0;36mFrameApply.apply_standard\u001b[1;34m(self)\u001b[0m\n\u001b[0;32m    872\u001b[0m \u001b[38;5;28;01mdef\u001b[39;00m \u001b[38;5;21mapply_standard\u001b[39m(\u001b[38;5;28mself\u001b[39m):\n\u001b[1;32m--> 873\u001b[0m     results, res_index \u001b[38;5;241m=\u001b[39m \u001b[38;5;28;43mself\u001b[39;49m\u001b[38;5;241;43m.\u001b[39;49m\u001b[43mapply_series_generator\u001b[49m\u001b[43m(\u001b[49m\u001b[43m)\u001b[49m\n\u001b[0;32m    875\u001b[0m     \u001b[38;5;66;03m# wrap results\u001b[39;00m\n\u001b[0;32m    876\u001b[0m     \u001b[38;5;28;01mreturn\u001b[39;00m \u001b[38;5;28mself\u001b[39m\u001b[38;5;241m.\u001b[39mwrap_results(results, res_index)\n",
            "File \u001b[1;32m~\\AppData\\Roaming\\jupyterlab-desktop\\jlab_server\\lib\\site-packages\\pandas\\core\\apply.py:889\u001b[0m, in \u001b[0;36mFrameApply.apply_series_generator\u001b[1;34m(self)\u001b[0m\n\u001b[0;32m    886\u001b[0m \u001b[38;5;28;01mwith\u001b[39;00m option_context(\u001b[38;5;124m\"\u001b[39m\u001b[38;5;124mmode.chained_assignment\u001b[39m\u001b[38;5;124m\"\u001b[39m, \u001b[38;5;28;01mNone\u001b[39;00m):\n\u001b[0;32m    887\u001b[0m     \u001b[38;5;28;01mfor\u001b[39;00m i, v \u001b[38;5;129;01min\u001b[39;00m \u001b[38;5;28menumerate\u001b[39m(series_gen):\n\u001b[0;32m    888\u001b[0m         \u001b[38;5;66;03m# ignore SettingWithCopy here in case the user mutates\u001b[39;00m\n\u001b[1;32m--> 889\u001b[0m         results[i] \u001b[38;5;241m=\u001b[39m \u001b[38;5;28;43mself\u001b[39;49m\u001b[38;5;241;43m.\u001b[39;49m\u001b[43mf\u001b[49m\u001b[43m(\u001b[49m\u001b[43mv\u001b[49m\u001b[43m)\u001b[49m\n\u001b[0;32m    890\u001b[0m         \u001b[38;5;28;01mif\u001b[39;00m \u001b[38;5;28misinstance\u001b[39m(results[i], ABCSeries):\n\u001b[0;32m    891\u001b[0m             \u001b[38;5;66;03m# If we have a view on v, we need to make a copy because\u001b[39;00m\n\u001b[0;32m    892\u001b[0m             \u001b[38;5;66;03m#  series_generator will swap out the underlying data\u001b[39;00m\n\u001b[0;32m    893\u001b[0m             results[i] \u001b[38;5;241m=\u001b[39m results[i]\u001b[38;5;241m.\u001b[39mcopy(deep\u001b[38;5;241m=\u001b[39m\u001b[38;5;28;01mFalse\u001b[39;00m)\n",
            "File \u001b[1;32m~\\AppData\\Roaming\\jupyterlab-desktop\\jlab_server\\lib\\site-packages\\pandas\\core\\frame.py:9648\u001b[0m, in \u001b[0;36mDataFrame.applymap.<locals>.infer\u001b[1;34m(x)\u001b[0m\n\u001b[0;32m   9646\u001b[0m \u001b[38;5;28;01mif\u001b[39;00m x\u001b[38;5;241m.\u001b[39mempty:\n\u001b[0;32m   9647\u001b[0m     \u001b[38;5;28;01mreturn\u001b[39;00m lib\u001b[38;5;241m.\u001b[39mmap_infer(x, func, ignore_na\u001b[38;5;241m=\u001b[39mignore_na)\n\u001b[1;32m-> 9648\u001b[0m \u001b[38;5;28;01mreturn\u001b[39;00m \u001b[43mlib\u001b[49m\u001b[38;5;241;43m.\u001b[39;49m\u001b[43mmap_infer\u001b[49m\u001b[43m(\u001b[49m\u001b[43mx\u001b[49m\u001b[38;5;241;43m.\u001b[39;49m\u001b[43mastype\u001b[49m\u001b[43m(\u001b[49m\u001b[38;5;28;43mobject\u001b[39;49m\u001b[43m)\u001b[49m\u001b[38;5;241;43m.\u001b[39;49m\u001b[43m_values\u001b[49m\u001b[43m,\u001b[49m\u001b[43m \u001b[49m\u001b[43mfunc\u001b[49m\u001b[43m,\u001b[49m\u001b[43m \u001b[49m\u001b[43mignore_na\u001b[49m\u001b[38;5;241;43m=\u001b[39;49m\u001b[43mignore_na\u001b[49m\u001b[43m)\u001b[49m\n",
            "File \u001b[1;32m~\\AppData\\Roaming\\jupyterlab-desktop\\jlab_server\\lib\\site-packages\\pandas\\_libs\\lib.pyx:2918\u001b[0m, in \u001b[0;36mpandas._libs.lib.map_infer\u001b[1;34m()\u001b[0m\n",
            "Cell \u001b[1;32mIn[25], line 1\u001b[0m, in \u001b[0;36m<lambda>\u001b[1;34m(x)\u001b[0m\n\u001b[1;32m----> 1\u001b[0m df_without_missing[float_columns] \u001b[38;5;241m=\u001b[39m df_without_missing[float_columns]\u001b[38;5;241m.\u001b[39mapplymap(\u001b[38;5;28;01mlambda\u001b[39;00m x: \u001b[38;5;28;43mfloat\u001b[39;49m\u001b[43m(\u001b[49m\u001b[43mx\u001b[49m\u001b[43m)\u001b[49m \u001b[38;5;28;01mif\u001b[39;00m x \u001b[38;5;28;01melse\u001b[39;00m np\u001b[38;5;241m.\u001b[39mnan)\n",
            "\u001b[1;31mValueError\u001b[0m: could not convert string to float: ''"
          ]
        }
      ],
      "source": [
        "df_without_missing[float_columns] = df_without_missing[float_columns].applymap(lambda x: float(x) if x else np.nan)"
      ]
    },
    {
      "cell_type": "code",
      "execution_count": null,
      "id": "df80b562-1427-4cd7-ad74-8a1f3616e8e3",
      "metadata": {
        "id": "df80b562-1427-4cd7-ad74-8a1f3616e8e3"
      },
      "outputs": [],
      "source": [
        "# Replace empty strings with NaN\n",
        "fem_df.replace('', np.nan, inplace=True)"
      ]
    },
    {
      "cell_type": "code",
      "execution_count": null,
      "id": "57afbd4a-5ffe-47ed-8b9a-295c1a6cce4e",
      "metadata": {
        "id": "57afbd4a-5ffe-47ed-8b9a-295c1a6cce4e",
        "outputId": "056b2437-1240-484e-a4ce-5d16a33f0429"
      },
      "outputs": [
        {
          "name": "stdout",
          "output_type": "stream",
          "text": [
            "   CaseNum Age SchoolYr Race GCQ3A GCQ3B GCQ3C GCQ3D GCQ3E GCQ3F  ...  \\\n",
            "40  210041  21        4    1     3     2     2     3     2     3  ...   \n",
            "41  210042  19        2    1     3     3     2     3     3     3  ...   \n",
            "42  210043  21        4    1     3     3     3     2     3     2  ...   \n",
            "43  210044  20        2    1     3     3     2     3     3        ...   \n",
            "44  210045  20        3    1     3     3     2     3     3     2  ...   \n",
            "45  210046  21        4    1     3     3     1     2     3     2  ...   \n",
            "46  210047  19        2    1     2     2     1     2     2     2  ...   \n",
            "47  210048  20        3    1     3     3     1     3     3     1  ...   \n",
            "48  210049  21        3    8     3     2     2     1     2     2  ...   \n",
            "49  210050  20        3    1     3     3     3     3     3     2  ...   \n",
            "50  210051  21        4    4     3     2     2     2     2     2  ...   \n",
            "\n",
            "   ESECONVA ESECONVB ESECONVC ESECONVD ESECONVE ESECONVF ESECONVG ESECONVH  \\\n",
            "40                                                                           \n",
            "41        4        4        3        4        3        2        1        1   \n",
            "42        2        1        1        1        2        1        1        1   \n",
            "43        3        2        2        1                 1        2        2   \n",
            "44        1        1        1        1        1        1        1        2   \n",
            "45        5        5        5        2        1        5        5        1   \n",
            "46        5        5        5        1        3        1        5        5   \n",
            "47        5        5        5        2        2        2        5        2   \n",
            "48        2        1        2        5        3        1        2        1   \n",
            "49        2        2        2        2        1        2        3        2   \n",
            "50        3        3        2        3        1        1        2        2   \n",
            "\n",
            "   ESECONVI ESECONVJ  \n",
            "40                    \n",
            "41        4        3  \n",
            "42        1        1  \n",
            "43        2        1  \n",
            "44        1        1  \n",
            "45        5        1  \n",
            "46        2        1  \n",
            "47        5        1  \n",
            "48        4        1  \n",
            "49        2        1  \n",
            "50        2        1  \n",
            "\n",
            "[11 rows x 26 columns]\n"
          ]
        }
      ],
      "source": [
        "print(fem_df.iloc[40:51])"
      ]
    },
    {
      "cell_type": "code",
      "execution_count": null,
      "id": "9fc7adcf-c48e-44a4-9e49-d44235a46dd9",
      "metadata": {
        "id": "9fc7adcf-c48e-44a4-9e49-d44235a46dd9"
      },
      "outputs": [],
      "source": [
        "#the empty strings aren't getting replaced with NaN"
      ]
    },
    {
      "cell_type": "code",
      "execution_count": null,
      "id": "8c89a371-cafe-4657-b138-3ad48d8b8faa",
      "metadata": {
        "id": "8c89a371-cafe-4657-b138-3ad48d8b8faa"
      },
      "outputs": [],
      "source": [
        "fem_df = fem_df.applymap(lambda x: x.strip() if isinstance(x, str) else x)"
      ]
    },
    {
      "cell_type": "code",
      "execution_count": null,
      "id": "0673d715-ae01-4606-92e9-70b896180ca0",
      "metadata": {
        "id": "0673d715-ae01-4606-92e9-70b896180ca0",
        "outputId": "a3b5ffaa-fc0e-4e63-c04c-c1c6b8f92664"
      },
      "outputs": [
        {
          "name": "stdout",
          "output_type": "stream",
          "text": [
            "   CaseNum Age SchoolYr Race GCQ3A GCQ3B GCQ3C GCQ3D GCQ3E GCQ3F  ...  \\\n",
            "40  210041  21        4    1     3     2     2     3     2     3  ...   \n",
            "41  210042  19        2    1     3     3     2     3     3     3  ...   \n",
            "42  210043  21        4    1     3     3     3     2     3     2  ...   \n",
            "43  210044  20        2    1     3     3     2     3     3        ...   \n",
            "44  210045  20        3    1     3     3     2     3     3     2  ...   \n",
            "45  210046  21        4    1     3     3     1     2     3     2  ...   \n",
            "46  210047  19        2    1     2     2     1     2     2     2  ...   \n",
            "47  210048  20        3    1     3     3     1     3     3     1  ...   \n",
            "48  210049  21        3    8     3     2     2     1     2     2  ...   \n",
            "49  210050  20        3    1     3     3     3     3     3     2  ...   \n",
            "50  210051  21        4    4     3     2     2     2     2     2  ...   \n",
            "\n",
            "   ESECONVA ESECONVB ESECONVC ESECONVD ESECONVE ESECONVF ESECONVG ESECONVH  \\\n",
            "40                                                                           \n",
            "41        4        4        3        4        3        2        1        1   \n",
            "42        2        1        1        1        2        1        1        1   \n",
            "43        3        2        2        1                 1        2        2   \n",
            "44        1        1        1        1        1        1        1        2   \n",
            "45        5        5        5        2        1        5        5        1   \n",
            "46        5        5        5        1        3        1        5        5   \n",
            "47        5        5        5        2        2        2        5        2   \n",
            "48        2        1        2        5        3        1        2        1   \n",
            "49        2        2        2        2        1        2        3        2   \n",
            "50        3        3        2        3        1        1        2        2   \n",
            "\n",
            "   ESECONVI ESECONVJ  \n",
            "40                    \n",
            "41        4        3  \n",
            "42        1        1  \n",
            "43        2        1  \n",
            "44        1        1  \n",
            "45        5        1  \n",
            "46        2        1  \n",
            "47        5        1  \n",
            "48        4        1  \n",
            "49        2        1  \n",
            "50        2        1  \n",
            "\n",
            "[11 rows x 26 columns]\n"
          ]
        }
      ],
      "source": [
        "print(fem_df.iloc[40:51])"
      ]
    },
    {
      "cell_type": "code",
      "execution_count": null,
      "id": "053cd762-cdc5-4d7a-a73c-7866ef4351a5",
      "metadata": {
        "id": "053cd762-cdc5-4d7a-a73c-7866ef4351a5"
      },
      "outputs": [],
      "source": [
        "fem_df.loc[40] = fem_df.loc[40].fillna(np.nan)"
      ]
    },
    {
      "cell_type": "code",
      "execution_count": null,
      "id": "5b679a5e-bb79-4882-af98-aeba361caf60",
      "metadata": {
        "id": "5b679a5e-bb79-4882-af98-aeba361caf60",
        "outputId": "5792e321-bf66-4748-e5fd-083ef9aeb0be"
      },
      "outputs": [
        {
          "name": "stdout",
          "output_type": "stream",
          "text": [
            "CaseNum     210041\n",
            "Age             21\n",
            "SchoolYr         4\n",
            "Race             1\n",
            "GCQ3A            3\n",
            "GCQ3B            2\n",
            "GCQ3C            2\n",
            "GCQ3D            3\n",
            "GCQ3E            2\n",
            "GCQ3F            3\n",
            "GCQ3G            3\n",
            "GCQ3H            3\n",
            "GCQ3I            1\n",
            "GCQ3J            2\n",
            "GCQ3K            1\n",
            "GCQ3L            1\n",
            "ESECONVA          \n",
            "ESECONVB          \n",
            "ESECONVC          \n",
            "ESECONVD          \n",
            "ESECONVE          \n",
            "ESECONVF          \n",
            "ESECONVG          \n",
            "ESECONVH          \n",
            "ESECONVI          \n",
            "ESECONVJ          \n",
            "Name: 40, dtype: object\n"
          ]
        }
      ],
      "source": [
        "print(fem_df.loc[40])"
      ]
    },
    {
      "cell_type": "code",
      "execution_count": null,
      "id": "a93dc743-23c3-42c1-b30d-6c39bfe90266",
      "metadata": {
        "id": "a93dc743-23c3-42c1-b30d-6c39bfe90266"
      },
      "outputs": [],
      "source": [
        "fem_df.loc[40] = fem_df.loc[40].replace('', np.nan)"
      ]
    },
    {
      "cell_type": "code",
      "execution_count": null,
      "id": "905dda71-fcbf-4144-99e1-ddfd03bcd094",
      "metadata": {
        "id": "905dda71-fcbf-4144-99e1-ddfd03bcd094",
        "outputId": "db886476-4817-4207-afb0-0368e4514bee"
      },
      "outputs": [
        {
          "name": "stdout",
          "output_type": "stream",
          "text": [
            "CaseNum     210041.0\n",
            "Age             21.0\n",
            "SchoolYr         4.0\n",
            "Race             1.0\n",
            "GCQ3A            3.0\n",
            "GCQ3B            2.0\n",
            "GCQ3C            2.0\n",
            "GCQ3D            3.0\n",
            "GCQ3E            2.0\n",
            "GCQ3F            3.0\n",
            "GCQ3G            3.0\n",
            "GCQ3H            3.0\n",
            "GCQ3I            1.0\n",
            "GCQ3J            2.0\n",
            "GCQ3K            1.0\n",
            "GCQ3L            1.0\n",
            "ESECONVA         NaN\n",
            "ESECONVB         NaN\n",
            "ESECONVC         NaN\n",
            "ESECONVD         NaN\n",
            "ESECONVE         NaN\n",
            "ESECONVF         NaN\n",
            "ESECONVG         NaN\n",
            "ESECONVH         NaN\n",
            "ESECONVI         NaN\n",
            "ESECONVJ         NaN\n",
            "Name: 40, dtype: object\n"
          ]
        }
      ],
      "source": [
        "print(fem_df.loc[40])"
      ]
    },
    {
      "cell_type": "code",
      "execution_count": null,
      "id": "e78ed22e-59c7-45f4-84a5-638f519acdcc",
      "metadata": {
        "id": "e78ed22e-59c7-45f4-84a5-638f519acdcc"
      },
      "outputs": [],
      "source": [
        "# NaN had shown up previously but it's not working this time.\n",
        "# But it worked now after running the 6 lines of code before it."
      ]
    },
    {
      "cell_type": "code",
      "execution_count": null,
      "id": "a437f057-a551-47f0-9cbc-efc4c5b7a0bf",
      "metadata": {
        "id": "a437f057-a551-47f0-9cbc-efc4c5b7a0bf"
      },
      "outputs": [],
      "source": [
        "fem_df.replace('', np.nan, inplace=True)"
      ]
    },
    {
      "cell_type": "code",
      "execution_count": null,
      "id": "2412d279-35cf-47e1-966a-71d7c892aea5",
      "metadata": {
        "id": "2412d279-35cf-47e1-966a-71d7c892aea5"
      },
      "outputs": [],
      "source": [
        "# Why did decimals show up?"
      ]
    },
    {
      "cell_type": "code",
      "execution_count": null,
      "id": "bdc4469b-358a-4cb0-b47a-8183bb82d04d",
      "metadata": {
        "id": "bdc4469b-358a-4cb0-b47a-8183bb82d04d",
        "outputId": "1896ced7-478c-4aff-eca7-8bc2f8778d76"
      },
      "outputs": [
        {
          "name": "stdout",
          "output_type": "stream",
          "text": [
            "     CaseNum   Age  SchoolYr  Race  GCQ3A  GCQ3B  GCQ3C  GCQ3D  GCQ3E  GCQ3F  \\\n",
            "40  210041.0  21.0       4.0   1.0    3.0    2.0    2.0    3.0    2.0    3.0   \n",
            "41  210042.0  19.0       2.0   1.0    3.0    3.0    2.0    3.0    3.0    3.0   \n",
            "42  210043.0  21.0       4.0   1.0    3.0    3.0    3.0    2.0    3.0    2.0   \n",
            "43  210044.0  20.0       2.0   1.0    3.0    3.0    2.0    3.0    3.0    NaN   \n",
            "44  210045.0  20.0       3.0   1.0    3.0    3.0    2.0    3.0    3.0    2.0   \n",
            "45  210046.0  21.0       4.0   1.0    3.0    3.0    1.0    2.0    3.0    2.0   \n",
            "46  210047.0  19.0       2.0   1.0    2.0    2.0    1.0    2.0    2.0    2.0   \n",
            "47  210048.0  20.0       3.0   1.0    3.0    3.0    1.0    3.0    3.0    1.0   \n",
            "48  210049.0  21.0       3.0   8.0    3.0    2.0    2.0    1.0    2.0    2.0   \n",
            "49  210050.0  20.0       3.0   1.0    3.0    3.0    3.0    3.0    3.0    2.0   \n",
            "50  210051.0  21.0       4.0   4.0    3.0    2.0    2.0    2.0    2.0    2.0   \n",
            "\n",
            "    ...  ESECONVA  ESECONVB  ESECONVC  ESECONVD  ESECONVE  ESECONVF  ESECONVG  \\\n",
            "40  ...       NaN       NaN       NaN       NaN       NaN       NaN       NaN   \n",
            "41  ...       4.0       4.0       3.0       4.0       3.0       2.0       1.0   \n",
            "42  ...       2.0       1.0       1.0       1.0       2.0       1.0       1.0   \n",
            "43  ...       3.0       2.0       2.0       1.0       NaN       1.0       2.0   \n",
            "44  ...       1.0       1.0       1.0       1.0       1.0       1.0       1.0   \n",
            "45  ...       5.0       5.0       5.0       2.0       1.0       5.0       5.0   \n",
            "46  ...       5.0       5.0       5.0       1.0       3.0       1.0       5.0   \n",
            "47  ...       5.0       5.0       5.0       2.0       2.0       2.0       5.0   \n",
            "48  ...       2.0       1.0       2.0       5.0       3.0       1.0       2.0   \n",
            "49  ...       2.0       2.0       2.0       2.0       1.0       2.0       3.0   \n",
            "50  ...       3.0       3.0       2.0       3.0       1.0       1.0       2.0   \n",
            "\n",
            "    ESECONVH  ESECONVI  ESECONVJ  \n",
            "40       NaN       NaN       NaN  \n",
            "41       1.0       4.0       3.0  \n",
            "42       1.0       1.0       1.0  \n",
            "43       2.0       2.0       1.0  \n",
            "44       2.0       1.0       1.0  \n",
            "45       1.0       5.0       1.0  \n",
            "46       5.0       2.0       1.0  \n",
            "47       2.0       5.0       1.0  \n",
            "48       1.0       4.0       1.0  \n",
            "49       2.0       2.0       1.0  \n",
            "50       2.0       2.0       1.0  \n",
            "\n",
            "[11 rows x 26 columns]\n"
          ]
        }
      ],
      "source": [
        "print(fem_df.loc[40:50])"
      ]
    },
    {
      "cell_type": "code",
      "execution_count": null,
      "id": "88ef53e2-aa25-4c91-9f56-72bdb78b3294",
      "metadata": {
        "id": "88ef53e2-aa25-4c91-9f56-72bdb78b3294",
        "outputId": "c4ae0213-a4c1-4a30-9f24-35929964b374"
      },
      "outputs": [
        {
          "name": "stdout",
          "output_type": "stream",
          "text": [
            "      CaseNum   Age  SchoolYr  Race  GCQ3A  GCQ3B  GCQ3C  GCQ3D  GCQ3E  GCQ3F  \\\n",
            "135   22004.0  20.0       3.0   1.0    1.0    2.0    2.0    1.0    1.0    1.0   \n",
            "136       NaN   NaN       NaN   NaN    NaN    NaN    NaN    NaN    NaN    NaN   \n",
            "137       NaN   NaN       0.0   0.0    NaN    NaN    NaN    NaN    NaN    NaN   \n",
            "138   22005.0  21.0       4.0   1.0    3.0    3.0    3.0    3.0    3.0    3.0   \n",
            "139   22006.0  18.0       1.0   1.0    2.0    2.0    3.0    3.0    2.0    2.0   \n",
            "140   22007.0  18.0       1.0   8.0    2.0    1.0    1.0    2.0    2.0    2.0   \n",
            "141   22008.0  18.0       1.0   1.0    3.0    3.0    3.0    2.0    2.0    2.0   \n",
            "142   22009.0  18.0       1.0   1.0    3.0    3.0    1.0    3.0    3.0    3.0   \n",
            "143  220010.0  18.0       1.0   1.0    2.0    2.0    3.0    3.0    2.0    2.0   \n",
            "144  220011.0  18.0       1.0   1.0    2.0    2.0    2.0    2.0    1.0    1.0   \n",
            "145  220012.0  18.0       1.0   1.0    3.0    3.0    3.0    3.0    3.0    3.0   \n",
            "\n",
            "     ...  ESECONVA  ESECONVB  ESECONVC  ESECONVD  ESECONVE  ESECONVF  \\\n",
            "135  ...       4.0       4.0       2.0       2.0       2.0       1.0   \n",
            "136  ...       NaN       NaN       NaN       NaN       NaN       NaN   \n",
            "137  ...       NaN       NaN       NaN       NaN       NaN       NaN   \n",
            "138  ...       4.0       1.0       1.0       2.0       1.0       1.0   \n",
            "139  ...       1.0       1.0       2.0       1.0       1.0       1.0   \n",
            "140  ...       1.0       2.0       1.0       1.0       1.0       1.0   \n",
            "141  ...       4.0       1.0       3.0       5.0       1.0       1.0   \n",
            "142  ...       2.0       1.0       1.0       1.0       1.0       1.0   \n",
            "143  ...       1.0       1.0       1.0       1.0       1.0       1.0   \n",
            "144  ...       5.0       2.0       2.0       2.0       2.0       2.0   \n",
            "145  ...       1.0       2.0       1.0       1.0       1.0       1.0   \n",
            "\n",
            "     ESECONVG  ESECONVH  ESECONVI  ESECONVJ  \n",
            "135       2.0       1.0       1.0       1.0  \n",
            "136       NaN       NaN       NaN       NaN  \n",
            "137       NaN       NaN       NaN       NaN  \n",
            "138       1.0       1.0       1.0       1.0  \n",
            "139       1.0       1.0       2.0       1.0  \n",
            "140       1.0       1.0       1.0       1.0  \n",
            "141       2.0       1.0       1.0       1.0  \n",
            "142       3.0       1.0       1.0       1.0  \n",
            "143       1.0       1.0       1.0       1.0  \n",
            "144       4.0       1.0       1.0       1.0  \n",
            "145       1.0       1.0       2.0       1.0  \n",
            "\n",
            "[11 rows x 26 columns]\n"
          ]
        }
      ],
      "source": [
        "print(fem_df.loc[135:145])"
      ]
    },
    {
      "cell_type": "code",
      "execution_count": null,
      "id": "c3afef1b-f0e1-48ff-bb90-44939fe5bf42",
      "metadata": {
        "id": "c3afef1b-f0e1-48ff-bb90-44939fe5bf42"
      },
      "outputs": [],
      "source": [
        "# NaN are showing up now but what's with the decimals?"
      ]
    },
    {
      "cell_type": "markdown",
      "id": "f9c4e2f7-6311-4df5-9117-018239e7956e",
      "metadata": {
        "id": "f9c4e2f7-6311-4df5-9117-018239e7956e"
      },
      "source": [
        "# Title\n",
        "## Subtitle\n",
        "\n",
        "This is a test.\n",
        "This is **boldface**\n",
        "This is _emphasize_\n"
      ]
    },
    {
      "cell_type": "code",
      "execution_count": null,
      "id": "a0c29413-4e7a-4f7b-af85-657e59f60b6d",
      "metadata": {
        "id": "a0c29413-4e7a-4f7b-af85-657e59f60b6d"
      },
      "outputs": [],
      "source": []
    },
    {
      "cell_type": "code",
      "execution_count": null,
      "id": "bd3f8861-0c32-4994-ba9b-0248028c17ad",
      "metadata": {
        "id": "bd3f8861-0c32-4994-ba9b-0248028c17ad"
      },
      "outputs": [],
      "source": [
        "# Test\n",
        "data = pd.DataFrame({'Q1': {0: 'Strongly disagree', 1: 'Agree'},\n",
        "                     'Q2': {0: 'Disagree', 1: 'Strongly agree'}})"
      ]
    },
    {
      "cell_type": "code",
      "execution_count": null,
      "id": "63f78d56-2751-4611-813e-926a7c62b6da",
      "metadata": {
        "id": "63f78d56-2751-4611-813e-926a7c62b6da",
        "colab": {
          "base_uri": "https://localhost:8080/",
          "height": 113
        },
        "outputId": "6e1b6d9a-9326-4f9d-ff07-d6e52f536669"
      },
      "outputs": [
        {
          "output_type": "execute_result",
          "data": {
            "text/plain": [
              "                  Q1              Q2\n",
              "0  Strongly disagree        Disagree\n",
              "1              Agree  Strongly agree"
            ],
            "text/html": [
              "\n",
              "  <div id=\"df-664bed48-1128-46dc-9e26-acd62ce1396a\">\n",
              "    <div class=\"colab-df-container\">\n",
              "      <div>\n",
              "<style scoped>\n",
              "    .dataframe tbody tr th:only-of-type {\n",
              "        vertical-align: middle;\n",
              "    }\n",
              "\n",
              "    .dataframe tbody tr th {\n",
              "        vertical-align: top;\n",
              "    }\n",
              "\n",
              "    .dataframe thead th {\n",
              "        text-align: right;\n",
              "    }\n",
              "</style>\n",
              "<table border=\"1\" class=\"dataframe\">\n",
              "  <thead>\n",
              "    <tr style=\"text-align: right;\">\n",
              "      <th></th>\n",
              "      <th>Q1</th>\n",
              "      <th>Q2</th>\n",
              "    </tr>\n",
              "  </thead>\n",
              "  <tbody>\n",
              "    <tr>\n",
              "      <th>0</th>\n",
              "      <td>Strongly disagree</td>\n",
              "      <td>Disagree</td>\n",
              "    </tr>\n",
              "    <tr>\n",
              "      <th>1</th>\n",
              "      <td>Agree</td>\n",
              "      <td>Strongly agree</td>\n",
              "    </tr>\n",
              "  </tbody>\n",
              "</table>\n",
              "</div>\n",
              "      <button class=\"colab-df-convert\" onclick=\"convertToInteractive('df-664bed48-1128-46dc-9e26-acd62ce1396a')\"\n",
              "              title=\"Convert this dataframe to an interactive table.\"\n",
              "              style=\"display:none;\">\n",
              "        \n",
              "  <svg xmlns=\"http://www.w3.org/2000/svg\" height=\"24px\"viewBox=\"0 0 24 24\"\n",
              "       width=\"24px\">\n",
              "    <path d=\"M0 0h24v24H0V0z\" fill=\"none\"/>\n",
              "    <path d=\"M18.56 5.44l.94 2.06.94-2.06 2.06-.94-2.06-.94-.94-2.06-.94 2.06-2.06.94zm-11 1L8.5 8.5l.94-2.06 2.06-.94-2.06-.94L8.5 2.5l-.94 2.06-2.06.94zm10 10l.94 2.06.94-2.06 2.06-.94-2.06-.94-.94-2.06-.94 2.06-2.06.94z\"/><path d=\"M17.41 7.96l-1.37-1.37c-.4-.4-.92-.59-1.43-.59-.52 0-1.04.2-1.43.59L10.3 9.45l-7.72 7.72c-.78.78-.78 2.05 0 2.83L4 21.41c.39.39.9.59 1.41.59.51 0 1.02-.2 1.41-.59l7.78-7.78 2.81-2.81c.8-.78.8-2.07 0-2.86zM5.41 20L4 18.59l7.72-7.72 1.47 1.35L5.41 20z\"/>\n",
              "  </svg>\n",
              "      </button>\n",
              "      \n",
              "  <style>\n",
              "    .colab-df-container {\n",
              "      display:flex;\n",
              "      flex-wrap:wrap;\n",
              "      gap: 12px;\n",
              "    }\n",
              "\n",
              "    .colab-df-convert {\n",
              "      background-color: #E8F0FE;\n",
              "      border: none;\n",
              "      border-radius: 50%;\n",
              "      cursor: pointer;\n",
              "      display: none;\n",
              "      fill: #1967D2;\n",
              "      height: 32px;\n",
              "      padding: 0 0 0 0;\n",
              "      width: 32px;\n",
              "    }\n",
              "\n",
              "    .colab-df-convert:hover {\n",
              "      background-color: #E2EBFA;\n",
              "      box-shadow: 0px 1px 2px rgba(60, 64, 67, 0.3), 0px 1px 3px 1px rgba(60, 64, 67, 0.15);\n",
              "      fill: #174EA6;\n",
              "    }\n",
              "\n",
              "    [theme=dark] .colab-df-convert {\n",
              "      background-color: #3B4455;\n",
              "      fill: #D2E3FC;\n",
              "    }\n",
              "\n",
              "    [theme=dark] .colab-df-convert:hover {\n",
              "      background-color: #434B5C;\n",
              "      box-shadow: 0px 1px 3px 1px rgba(0, 0, 0, 0.15);\n",
              "      filter: drop-shadow(0px 1px 2px rgba(0, 0, 0, 0.3));\n",
              "      fill: #FFFFFF;\n",
              "    }\n",
              "  </style>\n",
              "\n",
              "      <script>\n",
              "        const buttonEl =\n",
              "          document.querySelector('#df-664bed48-1128-46dc-9e26-acd62ce1396a button.colab-df-convert');\n",
              "        buttonEl.style.display =\n",
              "          google.colab.kernel.accessAllowed ? 'block' : 'none';\n",
              "\n",
              "        async function convertToInteractive(key) {\n",
              "          const element = document.querySelector('#df-664bed48-1128-46dc-9e26-acd62ce1396a');\n",
              "          const dataTable =\n",
              "            await google.colab.kernel.invokeFunction('convertToInteractive',\n",
              "                                                     [key], {});\n",
              "          if (!dataTable) return;\n",
              "\n",
              "          const docLinkHtml = 'Like what you see? Visit the ' +\n",
              "            '<a target=\"_blank\" href=https://colab.research.google.com/notebooks/data_table.ipynb>data table notebook</a>'\n",
              "            + ' to learn more about interactive tables.';\n",
              "          element.innerHTML = '';\n",
              "          dataTable['output_type'] = 'display_data';\n",
              "          await google.colab.output.renderOutput(dataTable, element);\n",
              "          const docLink = document.createElement('div');\n",
              "          docLink.innerHTML = docLinkHtml;\n",
              "          element.appendChild(docLink);\n",
              "        }\n",
              "      </script>\n",
              "    </div>\n",
              "  </div>\n",
              "  "
            ]
          },
          "metadata": {},
          "execution_count": 97
        }
      ],
      "source": [
        "data"
      ]
    },
    {
      "cell_type": "code",
      "execution_count": null,
      "id": "fc2c0616-c81e-4432-abe9-1429990ddd09",
      "metadata": {
        "id": "fc2c0616-c81e-4432-abe9-1429990ddd09"
      },
      "outputs": [],
      "source": []
    },
    {
      "cell_type": "code",
      "execution_count": null,
      "id": "b9f03f37-f605-4bdb-8c83-d0b93041c530",
      "metadata": {
        "id": "b9f03f37-f605-4bdb-8c83-d0b93041c530"
      },
      "outputs": [],
      "source": []
    },
    {
      "cell_type": "code",
      "execution_count": null,
      "id": "726f1577-6b13-480b-bfa7-fcf69252a7bf",
      "metadata": {
        "id": "726f1577-6b13-480b-bfa7-fcf69252a7bf"
      },
      "outputs": [],
      "source": []
    },
    {
      "cell_type": "code",
      "execution_count": null,
      "id": "373f114f-635a-4475-ad15-b9373d02d4c7",
      "metadata": {
        "id": "373f114f-635a-4475-ad15-b9373d02d4c7"
      },
      "outputs": [],
      "source": []
    },
    {
      "cell_type": "code",
      "execution_count": null,
      "id": "3594a2c9-5922-4df4-ae21-42c66efe03da",
      "metadata": {
        "id": "3594a2c9-5922-4df4-ae21-42c66efe03da"
      },
      "outputs": [],
      "source": []
    },
    {
      "cell_type": "code",
      "execution_count": null,
      "id": "ca8e1e45-3653-48aa-bd60-9f435267d9c6",
      "metadata": {
        "id": "ca8e1e45-3653-48aa-bd60-9f435267d9c6"
      },
      "outputs": [],
      "source": []
    },
    {
      "cell_type": "code",
      "execution_count": null,
      "id": "ea5195b5-9d99-47f9-8bc3-00ae238759ff",
      "metadata": {
        "id": "ea5195b5-9d99-47f9-8bc3-00ae238759ff"
      },
      "outputs": [],
      "source": []
    },
    {
      "cell_type": "code",
      "execution_count": null,
      "id": "1f38ed59-bf7c-4bc0-ba6f-4baa046f1972",
      "metadata": {
        "id": "1f38ed59-bf7c-4bc0-ba6f-4baa046f1972"
      },
      "outputs": [],
      "source": []
    },
    {
      "cell_type": "code",
      "execution_count": null,
      "id": "c5f902a7-0daf-4e6f-8ba7-538d8ec4148e",
      "metadata": {
        "id": "c5f902a7-0daf-4e6f-8ba7-538d8ec4148e"
      },
      "outputs": [],
      "source": []
    },
    {
      "cell_type": "code",
      "execution_count": null,
      "id": "bbfe6fbb-120c-4346-91be-2c6a606700a8",
      "metadata": {
        "id": "bbfe6fbb-120c-4346-91be-2c6a606700a8"
      },
      "outputs": [],
      "source": []
    },
    {
      "cell_type": "code",
      "execution_count": null,
      "id": "a59d8319-7520-45c3-8c3d-3becec3214c6",
      "metadata": {
        "id": "a59d8319-7520-45c3-8c3d-3becec3214c6"
      },
      "outputs": [],
      "source": []
    },
    {
      "cell_type": "code",
      "execution_count": null,
      "id": "41051c4b-9e53-4efc-b7ae-14d92277ffc7",
      "metadata": {
        "id": "41051c4b-9e53-4efc-b7ae-14d92277ffc7"
      },
      "outputs": [],
      "source": []
    },
    {
      "cell_type": "code",
      "execution_count": null,
      "id": "0ab1c3d8-c276-4e08-a572-7a8c6e6999c2",
      "metadata": {
        "id": "0ab1c3d8-c276-4e08-a572-7a8c6e6999c2"
      },
      "outputs": [],
      "source": []
    },
    {
      "cell_type": "code",
      "execution_count": null,
      "id": "b19adae6-4d78-4480-b70e-ff880c20819a",
      "metadata": {
        "id": "b19adae6-4d78-4480-b70e-ff880c20819a"
      },
      "outputs": [],
      "source": []
    },
    {
      "cell_type": "code",
      "execution_count": null,
      "id": "7b5d1170-9541-4817-9fc0-3acfd11aafc5",
      "metadata": {
        "id": "7b5d1170-9541-4817-9fc0-3acfd11aafc5"
      },
      "outputs": [],
      "source": []
    },
    {
      "cell_type": "code",
      "execution_count": null,
      "id": "d651d2d2-54a9-4d9b-9202-79368e2a3a84",
      "metadata": {
        "id": "d651d2d2-54a9-4d9b-9202-79368e2a3a84"
      },
      "outputs": [],
      "source": []
    },
    {
      "cell_type": "code",
      "execution_count": null,
      "id": "1c30c54f-14bd-40e3-9b0a-8087f4e3b46c",
      "metadata": {
        "id": "1c30c54f-14bd-40e3-9b0a-8087f4e3b46c"
      },
      "outputs": [],
      "source": []
    },
    {
      "cell_type": "code",
      "execution_count": null,
      "id": "a2c9553b-a089-441b-8ca5-712fce7b3c91",
      "metadata": {
        "id": "a2c9553b-a089-441b-8ca5-712fce7b3c91"
      },
      "outputs": [],
      "source": []
    },
    {
      "cell_type": "code",
      "execution_count": null,
      "id": "a09f2854-d6b7-45ce-9727-9dc30c1f2d01",
      "metadata": {
        "id": "a09f2854-d6b7-45ce-9727-9dc30c1f2d01"
      },
      "outputs": [],
      "source": []
    },
    {
      "cell_type": "code",
      "execution_count": null,
      "id": "7e5d662b-cd88-4ded-8498-5ca926d8af7b",
      "metadata": {
        "id": "7e5d662b-cd88-4ded-8498-5ca926d8af7b"
      },
      "outputs": [],
      "source": []
    },
    {
      "cell_type": "code",
      "execution_count": null,
      "id": "c4b04721-eae5-4ccd-8cc9-0c28830187ab",
      "metadata": {
        "id": "c4b04721-eae5-4ccd-8cc9-0c28830187ab"
      },
      "outputs": [],
      "source": []
    },
    {
      "cell_type": "code",
      "execution_count": null,
      "id": "3dbe8ed5-5cf7-45a0-bcb1-93ccaea3d1e1",
      "metadata": {
        "id": "3dbe8ed5-5cf7-45a0-bcb1-93ccaea3d1e1"
      },
      "outputs": [],
      "source": []
    },
    {
      "cell_type": "code",
      "execution_count": null,
      "id": "bbea6ba8-9765-4508-8038-3591221fd984",
      "metadata": {
        "id": "bbea6ba8-9765-4508-8038-3591221fd984"
      },
      "outputs": [],
      "source": []
    },
    {
      "cell_type": "code",
      "execution_count": null,
      "id": "da8ba48b-42ab-4df9-871f-f6bd9c3691a5",
      "metadata": {
        "id": "da8ba48b-42ab-4df9-871f-f6bd9c3691a5"
      },
      "outputs": [],
      "source": []
    },
    {
      "cell_type": "code",
      "execution_count": null,
      "id": "bc3a8770-d2a5-4651-94cb-28e7bc5cc48e",
      "metadata": {
        "id": "bc3a8770-d2a5-4651-94cb-28e7bc5cc48e"
      },
      "outputs": [],
      "source": []
    },
    {
      "cell_type": "code",
      "execution_count": null,
      "id": "5963565f-53ba-4fc9-a42f-9662f16b0d97",
      "metadata": {
        "id": "5963565f-53ba-4fc9-a42f-9662f16b0d97"
      },
      "outputs": [],
      "source": []
    },
    {
      "cell_type": "code",
      "execution_count": null,
      "id": "90241e2b-9f38-4093-b816-b59e82353355",
      "metadata": {
        "id": "90241e2b-9f38-4093-b816-b59e82353355"
      },
      "outputs": [],
      "source": []
    },
    {
      "cell_type": "code",
      "execution_count": null,
      "id": "3077c68e-326d-4c52-892e-077455ee1081",
      "metadata": {
        "id": "3077c68e-326d-4c52-892e-077455ee1081"
      },
      "outputs": [],
      "source": []
    },
    {
      "cell_type": "code",
      "execution_count": null,
      "id": "c6c570c8-5994-4030-8c27-459ab731fe03",
      "metadata": {
        "id": "c6c570c8-5994-4030-8c27-459ab731fe03"
      },
      "outputs": [],
      "source": []
    },
    {
      "cell_type": "code",
      "execution_count": null,
      "id": "511b78f9-b2b0-42b8-b2f9-b33cd7fea04a",
      "metadata": {
        "id": "511b78f9-b2b0-42b8-b2f9-b33cd7fea04a"
      },
      "outputs": [],
      "source": []
    },
    {
      "cell_type": "code",
      "execution_count": null,
      "id": "859176db-2f23-49a5-8850-702169e89770",
      "metadata": {
        "id": "859176db-2f23-49a5-8850-702169e89770"
      },
      "outputs": [],
      "source": []
    },
    {
      "cell_type": "code",
      "execution_count": null,
      "id": "43e2a072-0652-47b0-b1e0-d100228426f8",
      "metadata": {
        "id": "43e2a072-0652-47b0-b1e0-d100228426f8"
      },
      "outputs": [],
      "source": []
    },
    {
      "cell_type": "code",
      "execution_count": null,
      "id": "3e4d8fdd-a76f-4f9a-85d0-f626b9a37500",
      "metadata": {
        "id": "3e4d8fdd-a76f-4f9a-85d0-f626b9a37500"
      },
      "outputs": [],
      "source": []
    },
    {
      "cell_type": "code",
      "execution_count": null,
      "id": "5d752b6b-fdb3-440f-8b1a-1581ccae7deb",
      "metadata": {
        "id": "5d752b6b-fdb3-440f-8b1a-1581ccae7deb"
      },
      "outputs": [],
      "source": []
    },
    {
      "cell_type": "code",
      "execution_count": null,
      "id": "2ac2f9a6-21df-4172-acb5-426232777aaf",
      "metadata": {
        "id": "2ac2f9a6-21df-4172-acb5-426232777aaf"
      },
      "outputs": [],
      "source": []
    },
    {
      "cell_type": "code",
      "execution_count": null,
      "id": "681f4cbb-b7d5-46c4-b934-a705f09ef07a",
      "metadata": {
        "id": "681f4cbb-b7d5-46c4-b934-a705f09ef07a"
      },
      "outputs": [],
      "source": []
    },
    {
      "cell_type": "code",
      "execution_count": null,
      "id": "66fe3cc3-b8b2-4ae8-a945-8da5173cc90d",
      "metadata": {
        "id": "66fe3cc3-b8b2-4ae8-a945-8da5173cc90d"
      },
      "outputs": [],
      "source": []
    },
    {
      "cell_type": "code",
      "execution_count": null,
      "id": "7ecb4249-073b-4588-b381-53f16c0d6f47",
      "metadata": {
        "id": "7ecb4249-073b-4588-b381-53f16c0d6f47"
      },
      "outputs": [],
      "source": []
    },
    {
      "cell_type": "code",
      "execution_count": null,
      "id": "cafb8290-6b15-424c-93cc-c27a31010ef6",
      "metadata": {
        "id": "cafb8290-6b15-424c-93cc-c27a31010ef6"
      },
      "outputs": [],
      "source": []
    },
    {
      "cell_type": "code",
      "execution_count": null,
      "id": "5935672b-7f29-49b9-939d-22382452d1c8",
      "metadata": {
        "id": "5935672b-7f29-49b9-939d-22382452d1c8"
      },
      "outputs": [],
      "source": []
    },
    {
      "cell_type": "code",
      "execution_count": null,
      "id": "a8472b28-e3b9-4a1b-a13b-a9371964db77",
      "metadata": {
        "id": "a8472b28-e3b9-4a1b-a13b-a9371964db77"
      },
      "outputs": [],
      "source": []
    },
    {
      "cell_type": "code",
      "execution_count": null,
      "id": "b887e66e-ac1a-4442-9244-51f46526b99e",
      "metadata": {
        "id": "b887e66e-ac1a-4442-9244-51f46526b99e"
      },
      "outputs": [],
      "source": []
    },
    {
      "cell_type": "code",
      "execution_count": null,
      "id": "01f907ed-53fc-4fdf-b896-51dc058b090c",
      "metadata": {
        "id": "01f907ed-53fc-4fdf-b896-51dc058b090c"
      },
      "outputs": [],
      "source": []
    },
    {
      "cell_type": "code",
      "execution_count": null,
      "id": "baa650a3-2652-4c44-853b-f64c03c3f979",
      "metadata": {
        "id": "baa650a3-2652-4c44-853b-f64c03c3f979"
      },
      "outputs": [],
      "source": []
    },
    {
      "cell_type": "code",
      "execution_count": null,
      "id": "2e54305b-bc89-4d3e-b2b1-43ebcbd969a0",
      "metadata": {
        "id": "2e54305b-bc89-4d3e-b2b1-43ebcbd969a0"
      },
      "outputs": [],
      "source": []
    },
    {
      "cell_type": "code",
      "execution_count": null,
      "id": "0f81840a-b85b-47d2-80b3-d8e4faee867a",
      "metadata": {
        "id": "0f81840a-b85b-47d2-80b3-d8e4faee867a"
      },
      "outputs": [],
      "source": []
    },
    {
      "cell_type": "code",
      "execution_count": null,
      "id": "bfa27d10-6222-4efb-967b-c794e6b950a2",
      "metadata": {
        "id": "bfa27d10-6222-4efb-967b-c794e6b950a2"
      },
      "outputs": [],
      "source": []
    },
    {
      "cell_type": "code",
      "execution_count": null,
      "id": "87b7469b-b22c-48b3-a73a-ed2f9fb36059",
      "metadata": {
        "id": "87b7469b-b22c-48b3-a73a-ed2f9fb36059"
      },
      "outputs": [],
      "source": []
    },
    {
      "cell_type": "code",
      "execution_count": null,
      "id": "d6666296-dc87-4bc8-9628-e98ce2e9c7ee",
      "metadata": {
        "id": "d6666296-dc87-4bc8-9628-e98ce2e9c7ee"
      },
      "outputs": [],
      "source": []
    },
    {
      "cell_type": "code",
      "execution_count": null,
      "id": "83d54b69-c7a2-4663-a30b-79478241de35",
      "metadata": {
        "id": "83d54b69-c7a2-4663-a30b-79478241de35"
      },
      "outputs": [],
      "source": []
    },
    {
      "cell_type": "code",
      "execution_count": null,
      "id": "dd2156fb-15e5-4c91-822b-96f524eed14d",
      "metadata": {
        "id": "dd2156fb-15e5-4c91-822b-96f524eed14d"
      },
      "outputs": [],
      "source": []
    },
    {
      "cell_type": "code",
      "execution_count": null,
      "id": "389ad690-06c0-4d24-b12f-acfe3bf0096a",
      "metadata": {
        "id": "389ad690-06c0-4d24-b12f-acfe3bf0096a"
      },
      "outputs": [],
      "source": []
    },
    {
      "cell_type": "code",
      "execution_count": null,
      "id": "b41dd45d-c835-46d9-9031-ccb34198a3a2",
      "metadata": {
        "id": "b41dd45d-c835-46d9-9031-ccb34198a3a2"
      },
      "outputs": [],
      "source": []
    },
    {
      "cell_type": "code",
      "execution_count": null,
      "id": "8968f1ca-75b2-42b6-bb5a-b25741aa4ed7",
      "metadata": {
        "id": "8968f1ca-75b2-42b6-bb5a-b25741aa4ed7"
      },
      "outputs": [],
      "source": []
    },
    {
      "cell_type": "code",
      "execution_count": null,
      "id": "222b344f-9d63-48e0-a45e-0eea157cc50b",
      "metadata": {
        "id": "222b344f-9d63-48e0-a45e-0eea157cc50b"
      },
      "outputs": [],
      "source": []
    },
    {
      "cell_type": "code",
      "execution_count": null,
      "id": "05fa5e2c-6722-435b-a206-ad822602ff6f",
      "metadata": {
        "id": "05fa5e2c-6722-435b-a206-ad822602ff6f"
      },
      "outputs": [],
      "source": []
    },
    {
      "cell_type": "code",
      "execution_count": null,
      "id": "cd7fd41b-bea5-406e-bc6f-90f27bf3801e",
      "metadata": {
        "id": "cd7fd41b-bea5-406e-bc6f-90f27bf3801e"
      },
      "outputs": [],
      "source": []
    },
    {
      "cell_type": "code",
      "execution_count": null,
      "id": "1cc977d9-3b02-4345-bffe-0a546815605c",
      "metadata": {
        "id": "1cc977d9-3b02-4345-bffe-0a546815605c"
      },
      "outputs": [],
      "source": []
    },
    {
      "cell_type": "code",
      "execution_count": null,
      "id": "514a7acb-9762-4d19-887b-15384513e704",
      "metadata": {
        "id": "514a7acb-9762-4d19-887b-15384513e704"
      },
      "outputs": [],
      "source": []
    },
    {
      "cell_type": "code",
      "execution_count": null,
      "id": "1c92511c-a02b-4031-b2bd-9ebdd4518397",
      "metadata": {
        "id": "1c92511c-a02b-4031-b2bd-9ebdd4518397"
      },
      "outputs": [],
      "source": []
    },
    {
      "cell_type": "code",
      "execution_count": null,
      "id": "749761df-b775-4254-9451-65f704191f78",
      "metadata": {
        "id": "749761df-b775-4254-9451-65f704191f78"
      },
      "outputs": [],
      "source": []
    },
    {
      "cell_type": "code",
      "execution_count": null,
      "id": "342a07d7-2bac-4bf2-82e4-ffaeb5a3a711",
      "metadata": {
        "id": "342a07d7-2bac-4bf2-82e4-ffaeb5a3a711"
      },
      "outputs": [],
      "source": []
    },
    {
      "cell_type": "code",
      "execution_count": null,
      "id": "fdc36ba3-fb81-46ea-892e-ed77d816d8b6",
      "metadata": {
        "id": "fdc36ba3-fb81-46ea-892e-ed77d816d8b6"
      },
      "outputs": [],
      "source": []
    },
    {
      "cell_type": "code",
      "execution_count": null,
      "id": "f5f48b0f-8c37-484e-b445-f1245532e383",
      "metadata": {
        "id": "f5f48b0f-8c37-484e-b445-f1245532e383"
      },
      "outputs": [],
      "source": []
    },
    {
      "cell_type": "code",
      "execution_count": null,
      "id": "6dd10727-5ec8-4910-9e4c-2082dd2de125",
      "metadata": {
        "id": "6dd10727-5ec8-4910-9e4c-2082dd2de125"
      },
      "outputs": [],
      "source": []
    },
    {
      "cell_type": "code",
      "execution_count": null,
      "id": "570b7af4-9dbb-4e3a-bff4-9ddc1864e3e3",
      "metadata": {
        "id": "570b7af4-9dbb-4e3a-bff4-9ddc1864e3e3"
      },
      "outputs": [],
      "source": []
    },
    {
      "cell_type": "code",
      "execution_count": null,
      "id": "bcea618c-af78-4288-87ae-509277f7020e",
      "metadata": {
        "id": "bcea618c-af78-4288-87ae-509277f7020e"
      },
      "outputs": [],
      "source": []
    },
    {
      "cell_type": "code",
      "execution_count": null,
      "id": "64c86a4b-decc-4c8a-bd30-e521dd304d32",
      "metadata": {
        "id": "64c86a4b-decc-4c8a-bd30-e521dd304d32"
      },
      "outputs": [],
      "source": []
    },
    {
      "cell_type": "code",
      "execution_count": null,
      "id": "6ae2feb2-f22e-4e7f-a74a-1e7f627cb0e1",
      "metadata": {
        "id": "6ae2feb2-f22e-4e7f-a74a-1e7f627cb0e1"
      },
      "outputs": [],
      "source": []
    },
    {
      "cell_type": "code",
      "execution_count": null,
      "id": "35347fec-7394-4985-8ab2-d74320ab0fea",
      "metadata": {
        "id": "35347fec-7394-4985-8ab2-d74320ab0fea"
      },
      "outputs": [],
      "source": []
    },
    {
      "cell_type": "code",
      "execution_count": null,
      "id": "c923a70c-667d-4997-8fe0-daa03e15e977",
      "metadata": {
        "id": "c923a70c-667d-4997-8fe0-daa03e15e977"
      },
      "outputs": [],
      "source": []
    },
    {
      "cell_type": "code",
      "execution_count": null,
      "id": "a1574afc-05fa-414c-b48b-2eaabfe351a1",
      "metadata": {
        "id": "a1574afc-05fa-414c-b48b-2eaabfe351a1"
      },
      "outputs": [],
      "source": []
    },
    {
      "cell_type": "code",
      "execution_count": null,
      "id": "d4681f3c-b9ea-48e2-8002-2d1274e6caa5",
      "metadata": {
        "id": "d4681f3c-b9ea-48e2-8002-2d1274e6caa5"
      },
      "outputs": [],
      "source": []
    },
    {
      "cell_type": "code",
      "execution_count": null,
      "id": "c8bdd8e5-6ae9-4a2a-ab98-9ebd68f4dd8c",
      "metadata": {
        "id": "c8bdd8e5-6ae9-4a2a-ab98-9ebd68f4dd8c"
      },
      "outputs": [],
      "source": []
    }
  ],
  "metadata": {
    "kernelspec": {
      "display_name": "Python 3 (ipykernel)",
      "language": "python",
      "name": "python3"
    },
    "language_info": {
      "codemirror_mode": {
        "name": "ipython",
        "version": 3
      },
      "file_extension": ".py",
      "mimetype": "text/x-python",
      "name": "python",
      "nbconvert_exporter": "python",
      "pygments_lexer": "ipython3",
      "version": "3.8.15"
    },
    "colab": {
      "provenance": [],
      "include_colab_link": true
    }
  },
  "nbformat": 4,
  "nbformat_minor": 5
}